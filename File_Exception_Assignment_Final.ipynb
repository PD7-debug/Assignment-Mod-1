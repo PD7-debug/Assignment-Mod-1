{
  "cells": [
    {
      "cell_type": "markdown",
      "metadata": {
        "id": "view-in-github",
        "colab_type": "text"
      },
      "source": [
        "<a href=\"https://colab.research.google.com/github/PD7-debug/Assignment-Mod-1/blob/main/File_Exception_Assignment_Final.ipynb\" target=\"_parent\"><img src=\"https://colab.research.google.com/assets/colab-badge.svg\" alt=\"Open In Colab\"/></a>"
      ]
    },
    {
      "cell_type": "markdown",
      "source": [
        "**THEORY QUESTION**"
      ],
      "metadata": {
        "id": "TzxwyFupV6ns"
      },
      "id": "TzxwyFupV6ns"
    },
    {
      "cell_type": "markdown",
      "id": "624d4603",
      "metadata": {
        "id": "624d4603"
      },
      "source": [
        "###1. What is the difference between interpreted and compiled languages\n",
        "Compiled languages translate code to machine code before execution (e.g., C, C++), while interpreted languages (like Python) execute code line-by-line using an interpreter."
      ]
    },
    {
      "cell_type": "markdown",
      "id": "6b8b3a72",
      "metadata": {
        "id": "6b8b3a72"
      },
      "source": [
        "###2. What is exception handling in Python\n",
        "Exception handling in Python is a mechanism to handle errors gracefully during program execution using try, except, else, and finally blocks."
      ]
    },
    {
      "cell_type": "markdown",
      "id": "f51378de",
      "metadata": {
        "id": "f51378de"
      },
      "source": [
        "###3. What is the purpose of the finally block in exception handling\n",
        "The finally block contains code that is always executed, regardless of whether an exception was raised or not."
      ]
    },
    {
      "cell_type": "markdown",
      "id": "e84ce18f",
      "metadata": {
        "id": "e84ce18f"
      },
      "source": [
        "###4. What is logging in Python\n",
        "Logging is a way to track events that happen during program execution, useful for debugging and auditing."
      ]
    },
    {
      "cell_type": "markdown",
      "id": "356f6c65",
      "metadata": {
        "id": "356f6c65"
      },
      "source": [
        "###5. What is the significance of the __del__ method in Python\n",
        "__del__ is a destructor method that is called when an object is about to be destroyed."
      ]
    },
    {
      "cell_type": "markdown",
      "id": "54338e23",
      "metadata": {
        "id": "54338e23"
      },
      "source": [
        "###6. What is the difference between import and from ... import in Python\n",
        "`import` loads the whole module, while `from ... import` loads specific components."
      ]
    },
    {
      "cell_type": "markdown",
      "id": "18f30279",
      "metadata": {
        "id": "18f30279"
      },
      "source": [
        "###7. How can you handle multiple exceptions in Python\n",
        "You can use multiple `except` blocks for different exceptions or a single block with a tuple of exceptions."
      ]
    },
    {
      "cell_type": "markdown",
      "id": "ab2d1cbe",
      "metadata": {
        "id": "ab2d1cbe"
      },
      "source": [
        "###8. What is the purpose of the with statement when handling files in Python\n",
        "`with` ensures that files are properly closed after their suite finishes, even if an error occurs."
      ]
    },
    {
      "cell_type": "markdown",
      "id": "798721d9",
      "metadata": {
        "id": "798721d9"
      },
      "source": [
        "###9. What is the difference between multithreading and multiprocessing\n",
        "Multithreading runs threads within the same process; multiprocessing runs separate processes. Python’s GIL makes multiprocessing better for CPU-bound tasks."
      ]
    },
    {
      "cell_type": "markdown",
      "id": "1e390b3c",
      "metadata": {
        "id": "1e390b3c"
      },
      "source": [
        "###10. What are the advantages of using logging in a program\n",
        "Logging helps monitor, debug, and maintain applications without using print statements."
      ]
    },
    {
      "cell_type": "markdown",
      "id": "78d862fd",
      "metadata": {
        "id": "78d862fd"
      },
      "source": [
        "###11. What is memory management in Python\n",
        "Memory management in Python is handled by the Python memory manager and includes garbage collection."
      ]
    },
    {
      "cell_type": "markdown",
      "id": "75f8e67c",
      "metadata": {
        "id": "75f8e67c"
      },
      "source": [
        "###12. What are the basic steps involved in exception handling in Python\n",
        "1. try block to wrap risky code\n",
        "2. except block to catch exceptions\n",
        "3. optionally else and finally blocks"
      ]
    },
    {
      "cell_type": "markdown",
      "id": "e4430f7a",
      "metadata": {
        "id": "e4430f7a"
      },
      "source": [
        "###13. Why is memory management important in Python\n",
        "Efficient memory use avoids leaks, improves performance, and ensures program stability."
      ]
    },
    {
      "cell_type": "markdown",
      "id": "0b8b05f9",
      "metadata": {
        "id": "0b8b05f9"
      },
      "source": [
        "### 14.What is the role of try and except in exception handling\n",
        "`try` runs code that may raise an exception; `except` catches and handles the exception."
      ]
    },
    {
      "cell_type": "markdown",
      "id": "28a8f279",
      "metadata": {
        "id": "28a8f279"
      },
      "source": [
        "###15 How does Python's garbage collection system work\n",
        "Python uses reference counting and a cyclic garbage collector to manage memory."
      ]
    },
    {
      "cell_type": "markdown",
      "id": "2a6a9ab3",
      "metadata": {
        "id": "2a6a9ab3"
      },
      "source": [
        "### What is the purpose of the else block in exception handling\n",
        "`else` runs only if no exception occurs in the try block."
      ]
    },
    {
      "cell_type": "markdown",
      "id": "74b1d59c",
      "metadata": {
        "id": "74b1d59c"
      },
      "source": [
        "### 16.What are the common logging levels in Python\n",
        "DEBUG, INFO, WARNING, ERROR, and CRITICAL."
      ]
    },
    {
      "cell_type": "markdown",
      "id": "32d681ee",
      "metadata": {
        "id": "32d681ee"
      },
      "source": [
        "###17. What is the difference between os.fork() and multiprocessing in Python\n",
        "`os.fork()` is low-level and Unix-only. `multiprocessing` is cross-platform and safer."
      ]
    },
    {
      "cell_type": "markdown",
      "id": "5d04f7fa",
      "metadata": {
        "id": "5d04f7fa"
      },
      "source": [
        "### 18.What is the importance of closing a file in Python\n",
        "It ensures all data is written and system resources are freed."
      ]
    },
    {
      "cell_type": "markdown",
      "id": "63c91ba2",
      "metadata": {
        "id": "63c91ba2"
      },
      "source": [
        "###19. What is the difference between file.read() and file.readline() in Python\n",
        "`read()` reads the whole file, `readline()` reads one line at a time."
      ]
    },
    {
      "cell_type": "markdown",
      "id": "2dda9b90",
      "metadata": {
        "id": "2dda9b90"
      },
      "source": [
        "###20. What is the logging module in Python used for\n",
        "It provides a flexible framework for emitting log messages."
      ]
    },
    {
      "cell_type": "markdown",
      "id": "2d68514f",
      "metadata": {
        "id": "2d68514f"
      },
      "source": [
        "###21. What is the os module in Python used for in file handling\n",
        "It provides functions to interact with the operating system (e.g., file paths, checking file existence)."
      ]
    },
    {
      "cell_type": "markdown",
      "id": "1f20b51f",
      "metadata": {
        "id": "1f20b51f"
      },
      "source": [
        "###22. What are the challenges associated with memory management in Python\n",
        "Circular references, managing large data, and memory leaks in long-running apps."
      ]
    },
    {
      "cell_type": "markdown",
      "id": "a6dc998e",
      "metadata": {
        "id": "a6dc998e"
      },
      "source": [
        "###23. How do you raise an exception manually in Python\n",
        "Using the `raise` keyword followed by an exception."
      ]
    },
    {
      "cell_type": "markdown",
      "id": "96d40196",
      "metadata": {
        "id": "96d40196"
      },
      "source": [
        "###24. Why is it important to use multithreading in certain applications?\n",
        "Multithreading improves responsiveness and efficiency in I/O-bound tasks like networking or file access."
      ]
    },
    {
      "cell_type": "markdown",
      "source": [
        "###PRACTICAL QUESTION"
      ],
      "metadata": {
        "id": "XsypSA9lV12Z"
      },
      "id": "XsypSA9lV12Z"
    },
    {
      "cell_type": "markdown",
      "id": "70769f06",
      "metadata": {
        "id": "70769f06"
      },
      "source": [
        "### Q1. How can you open a file for writing in Python and write a string to it?"
      ]
    },
    {
      "cell_type": "code",
      "execution_count": null,
      "id": "b39a47fc",
      "metadata": {
        "id": "b39a47fc"
      },
      "outputs": [],
      "source": [
        "with open(\"example.txt\", \"w\") as file:\n",
        "    file.write(\"Hello, world!\")"
      ]
    },
    {
      "cell_type": "markdown",
      "id": "2535fc11",
      "metadata": {
        "id": "2535fc11"
      },
      "source": [
        "### Q2. Write a Python program to read the contents of a file and print each line"
      ]
    },
    {
      "cell_type": "code",
      "execution_count": 4,
      "id": "0bb1a79c",
      "metadata": {
        "colab": {
          "base_uri": "https://localhost:8080/",
          "height": 176
        },
        "id": "0bb1a79c",
        "outputId": "e7fcbe3c-41fc-467d-caef-283e34849810"
      },
      "outputs": [
        {
          "output_type": "error",
          "ename": "FileNotFoundError",
          "evalue": "[Errno 2] No such file or directory: 'example.txt'",
          "traceback": [
            "\u001b[0;31m---------------------------------------------------------------------------\u001b[0m",
            "\u001b[0;31mFileNotFoundError\u001b[0m                         Traceback (most recent call last)",
            "\u001b[0;32m/tmp/ipython-input-4-832835662.py\u001b[0m in \u001b[0;36m<cell line: 0>\u001b[0;34m()\u001b[0m\n\u001b[0;32m----> 1\u001b[0;31m \u001b[0;32mwith\u001b[0m \u001b[0mopen\u001b[0m\u001b[0;34m(\u001b[0m\u001b[0;34m\"example.txt\"\u001b[0m\u001b[0;34m,\u001b[0m \u001b[0;34m\"r\"\u001b[0m\u001b[0;34m)\u001b[0m \u001b[0;32mas\u001b[0m \u001b[0mfile\u001b[0m\u001b[0;34m:\u001b[0m\u001b[0;34m\u001b[0m\u001b[0;34m\u001b[0m\u001b[0m\n\u001b[0m\u001b[1;32m      2\u001b[0m     \u001b[0;32mfor\u001b[0m \u001b[0mline\u001b[0m \u001b[0;32min\u001b[0m \u001b[0mfile\u001b[0m\u001b[0;34m:\u001b[0m\u001b[0;34m\u001b[0m\u001b[0;34m\u001b[0m\u001b[0m\n\u001b[1;32m      3\u001b[0m         \u001b[0mprint\u001b[0m\u001b[0;34m(\u001b[0m\u001b[0mline\u001b[0m\u001b[0;34m.\u001b[0m\u001b[0mstrip\u001b[0m\u001b[0;34m(\u001b[0m\u001b[0;34m)\u001b[0m\u001b[0;34m)\u001b[0m\u001b[0;34m\u001b[0m\u001b[0;34m\u001b[0m\u001b[0m\n",
            "\u001b[0;31mFileNotFoundError\u001b[0m: [Errno 2] No such file or directory: 'example.txt'"
          ]
        }
      ],
      "source": [
        "with open(\"example.txt\", \"r\") as file:\n",
        "    for line in file:\n",
        "        print(line.strip())"
      ]
    },
    {
      "cell_type": "markdown",
      "id": "1d62f973",
      "metadata": {
        "id": "1d62f973"
      },
      "source": [
        "### Q3. How would you handle a case where the file doesn't exist while trying to open it for reading?"
      ]
    },
    {
      "cell_type": "code",
      "execution_count": 3,
      "id": "141f838a",
      "metadata": {
        "colab": {
          "base_uri": "https://localhost:8080/"
        },
        "id": "141f838a",
        "outputId": "136b38c5-c18a-42ed-b168-679390407354"
      },
      "outputs": [
        {
          "output_type": "stream",
          "name": "stdout",
          "text": [
            "File not found!\n"
          ]
        }
      ],
      "source": [
        "try:\n",
        "    with open(\"nonexistent.txt\", \"r\") as file:\n",
        "        print(file.read())\n",
        "except FileNotFoundError:\n",
        "    print(\"File not found!\")"
      ]
    },
    {
      "cell_type": "markdown",
      "id": "599eb69a",
      "metadata": {
        "id": "599eb69a"
      },
      "source": [
        "### Q4. Write a Python script that reads from one file and writes its content to another file"
      ]
    },
    {
      "cell_type": "code",
      "execution_count": 1,
      "id": "3aaf6caa",
      "metadata": {
        "colab": {
          "base_uri": "https://localhost:8080/",
          "height": 158
        },
        "id": "3aaf6caa",
        "outputId": "ecb6d691-8ae3-4a89-b6be-7dcc18ead9a2"
      },
      "outputs": [
        {
          "output_type": "error",
          "ename": "FileNotFoundError",
          "evalue": "[Errno 2] No such file or directory: 'source.txt'",
          "traceback": [
            "\u001b[0;31m---------------------------------------------------------------------------\u001b[0m",
            "\u001b[0;31mFileNotFoundError\u001b[0m                         Traceback (most recent call last)",
            "\u001b[0;32m/tmp/ipython-input-1-3293015882.py\u001b[0m in \u001b[0;36m<cell line: 0>\u001b[0;34m()\u001b[0m\n\u001b[0;32m----> 1\u001b[0;31m \u001b[0;32mwith\u001b[0m \u001b[0mopen\u001b[0m\u001b[0;34m(\u001b[0m\u001b[0;34m\"source.txt\"\u001b[0m\u001b[0;34m,\u001b[0m \u001b[0;34m\"r\"\u001b[0m\u001b[0;34m)\u001b[0m \u001b[0;32mas\u001b[0m \u001b[0msrc\u001b[0m\u001b[0;34m,\u001b[0m \u001b[0mopen\u001b[0m\u001b[0;34m(\u001b[0m\u001b[0;34m\"destination.txt\"\u001b[0m\u001b[0;34m,\u001b[0m \u001b[0;34m\"w\"\u001b[0m\u001b[0;34m)\u001b[0m \u001b[0;32mas\u001b[0m \u001b[0mdest\u001b[0m\u001b[0;34m:\u001b[0m\u001b[0;34m\u001b[0m\u001b[0;34m\u001b[0m\u001b[0m\n\u001b[0m\u001b[1;32m      2\u001b[0m     \u001b[0mdest\u001b[0m\u001b[0;34m.\u001b[0m\u001b[0mwrite\u001b[0m\u001b[0;34m(\u001b[0m\u001b[0msrc\u001b[0m\u001b[0;34m.\u001b[0m\u001b[0mread\u001b[0m\u001b[0;34m(\u001b[0m\u001b[0;34m)\u001b[0m\u001b[0;34m)\u001b[0m\u001b[0;34m\u001b[0m\u001b[0;34m\u001b[0m\u001b[0m\n",
            "\u001b[0;31mFileNotFoundError\u001b[0m: [Errno 2] No such file or directory: 'source.txt'"
          ]
        }
      ],
      "source": [
        "with open(\"source.txt\", \"r\") as src, open(\"destination.txt\", \"w\") as dest:\n",
        "    dest.write(src.read())"
      ]
    },
    {
      "cell_type": "markdown",
      "id": "f33bd1f2",
      "metadata": {
        "id": "f33bd1f2"
      },
      "source": [
        "### Q5. How would you catch and handle division by zero error in Python"
      ]
    },
    {
      "cell_type": "code",
      "execution_count": 5,
      "id": "a06bc98e",
      "metadata": {
        "colab": {
          "base_uri": "https://localhost:8080/"
        },
        "id": "a06bc98e",
        "outputId": "b4464abe-5d33-4632-aa23-8a70e039d2f2"
      },
      "outputs": [
        {
          "output_type": "stream",
          "name": "stdout",
          "text": [
            "Cannot divide by zero!\n"
          ]
        }
      ],
      "source": [
        "try:\n",
        "    result = 10 / 0\n",
        "except ZeroDivisionError:\n",
        "    print(\"Cannot divide by zero!\")"
      ]
    },
    {
      "cell_type": "markdown",
      "id": "855a4614",
      "metadata": {
        "id": "855a4614"
      },
      "source": [
        "### Q6. Write a Python program that logs an error message to a log file when a division by zero exception occurs"
      ]
    },
    {
      "cell_type": "code",
      "execution_count": 6,
      "id": "ce3abcb4",
      "metadata": {
        "colab": {
          "base_uri": "https://localhost:8080/"
        },
        "id": "ce3abcb4",
        "outputId": "cfef8934-66ed-4825-bb3e-75f452be6d94"
      },
      "outputs": [
        {
          "output_type": "stream",
          "name": "stderr",
          "text": [
            "ERROR:root:Division by zero error: division by zero\n"
          ]
        }
      ],
      "source": [
        "import logging\n",
        "\n",
        "logging.basicConfig(filename=\"app.log\", level=logging.ERROR)\n",
        "\n",
        "try:\n",
        "    result = 10 / 0\n",
        "except ZeroDivisionError as e:\n",
        "    logging.error(\"Division by zero error: %s\", e)"
      ]
    },
    {
      "cell_type": "markdown",
      "id": "2d28b367",
      "metadata": {
        "id": "2d28b367"
      },
      "source": [
        "### Q7. How do you log information at different levels (INFO, ERROR, WARNING) in Python using the logging module"
      ]
    },
    {
      "cell_type": "code",
      "execution_count": 7,
      "id": "539f4f55",
      "metadata": {
        "colab": {
          "base_uri": "https://localhost:8080/"
        },
        "id": "539f4f55",
        "outputId": "53d43ce9-2c48-4ec5-a02d-0cf35804a014"
      },
      "outputs": [
        {
          "output_type": "stream",
          "name": "stderr",
          "text": [
            "WARNING:root:This is a warning\n",
            "ERROR:root:This is an error\n"
          ]
        }
      ],
      "source": [
        "import logging\n",
        "\n",
        "logging.basicConfig(level=logging.DEBUG)\n",
        "\n",
        "logging.info(\"This is an info message\")\n",
        "logging.warning(\"This is a warning\")\n",
        "logging.error(\"This is an error\")"
      ]
    },
    {
      "cell_type": "markdown",
      "id": "f8fdd091",
      "metadata": {
        "id": "f8fdd091"
      },
      "source": [
        "### Q8. Write a program to handle a file opening error using exception handling"
      ]
    },
    {
      "cell_type": "code",
      "execution_count": 8,
      "id": "32975477",
      "metadata": {
        "colab": {
          "base_uri": "https://localhost:8080/"
        },
        "id": "32975477",
        "outputId": "e8dbbd32-130e-46b5-f238-249ce3048839"
      },
      "outputs": [
        {
          "output_type": "stream",
          "name": "stdout",
          "text": [
            "Error opening file!\n"
          ]
        }
      ],
      "source": [
        "try:\n",
        "    with open(\"data.txt\", \"r\") as file:\n",
        "        print(file.read())\n",
        "except IOError:\n",
        "    print(\"Error opening file!\")"
      ]
    },
    {
      "cell_type": "markdown",
      "id": "734e47b4",
      "metadata": {
        "id": "734e47b4"
      },
      "source": [
        "### Q9. How can you read a file line by line and store its content in a list in Python"
      ]
    },
    {
      "cell_type": "code",
      "execution_count": 9,
      "id": "4735ec33",
      "metadata": {
        "colab": {
          "base_uri": "https://localhost:8080/",
          "height": 176
        },
        "id": "4735ec33",
        "outputId": "2079b2c6-90de-4ad0-e5ad-753630520467"
      },
      "outputs": [
        {
          "output_type": "error",
          "ename": "FileNotFoundError",
          "evalue": "[Errno 2] No such file or directory: 'data.txt'",
          "traceback": [
            "\u001b[0;31m---------------------------------------------------------------------------\u001b[0m",
            "\u001b[0;31mFileNotFoundError\u001b[0m                         Traceback (most recent call last)",
            "\u001b[0;32m/tmp/ipython-input-9-120283155.py\u001b[0m in \u001b[0;36m<cell line: 0>\u001b[0;34m()\u001b[0m\n\u001b[0;32m----> 1\u001b[0;31m \u001b[0;32mwith\u001b[0m \u001b[0mopen\u001b[0m\u001b[0;34m(\u001b[0m\u001b[0;34m\"data.txt\"\u001b[0m\u001b[0;34m,\u001b[0m \u001b[0;34m\"r\"\u001b[0m\u001b[0;34m)\u001b[0m \u001b[0;32mas\u001b[0m \u001b[0mfile\u001b[0m\u001b[0;34m:\u001b[0m\u001b[0;34m\u001b[0m\u001b[0;34m\u001b[0m\u001b[0m\n\u001b[0m\u001b[1;32m      2\u001b[0m     \u001b[0mlines\u001b[0m \u001b[0;34m=\u001b[0m \u001b[0mfile\u001b[0m\u001b[0;34m.\u001b[0m\u001b[0mreadlines\u001b[0m\u001b[0;34m(\u001b[0m\u001b[0;34m)\u001b[0m\u001b[0;34m\u001b[0m\u001b[0;34m\u001b[0m\u001b[0m\n\u001b[1;32m      3\u001b[0m \u001b[0mprint\u001b[0m\u001b[0;34m(\u001b[0m\u001b[0mlines\u001b[0m\u001b[0;34m)\u001b[0m\u001b[0;34m\u001b[0m\u001b[0;34m\u001b[0m\u001b[0m\n",
            "\u001b[0;31mFileNotFoundError\u001b[0m: [Errno 2] No such file or directory: 'data.txt'"
          ]
        }
      ],
      "source": [
        "with open(\"data.txt\", \"r\") as file:\n",
        "    lines = file.readlines()\n",
        "print(lines)"
      ]
    },
    {
      "cell_type": "markdown",
      "id": "57ac05b7",
      "metadata": {
        "id": "57ac05b7"
      },
      "source": [
        "### Q10. How can you append data to an existing file in Python"
      ]
    },
    {
      "cell_type": "code",
      "execution_count": 10,
      "id": "6a208312",
      "metadata": {
        "id": "6a208312"
      },
      "outputs": [],
      "source": [
        "with open(\"example.txt\", \"a\") as file:\n",
        "    file.write(\"\\nAdditional line\")"
      ]
    },
    {
      "cell_type": "markdown",
      "id": "b9ba7b99",
      "metadata": {
        "id": "b9ba7b99"
      },
      "source": [
        "### Q11. Write a Python program that uses a try-except block to handle an error when attempting to access a dictionary key that doesn't exist"
      ]
    },
    {
      "cell_type": "code",
      "execution_count": 11,
      "id": "889bc9a1",
      "metadata": {
        "colab": {
          "base_uri": "https://localhost:8080/"
        },
        "id": "889bc9a1",
        "outputId": "2471227b-6221-4381-e240-79eac967f462"
      },
      "outputs": [
        {
          "output_type": "stream",
          "name": "stdout",
          "text": [
            "Key not found!\n"
          ]
        }
      ],
      "source": [
        "data = {\"name\": \"Alice\"}\n",
        "\n",
        "try:\n",
        "    print(data[\"age\"])\n",
        "except KeyError:\n",
        "    print(\"Key not found!\")"
      ]
    },
    {
      "cell_type": "markdown",
      "id": "f0ffe2c2",
      "metadata": {
        "id": "f0ffe2c2"
      },
      "source": [
        "### Q12. Write a program that demonstrates using multiple except blocks to handle different types of exceptions"
      ]
    },
    {
      "cell_type": "code",
      "execution_count": 12,
      "id": "873bbb31",
      "metadata": {
        "colab": {
          "base_uri": "https://localhost:8080/"
        },
        "id": "873bbb31",
        "outputId": "51ea9e18-babb-4c1d-979b-c96e7751c559"
      },
      "outputs": [
        {
          "output_type": "stream",
          "name": "stdout",
          "text": [
            "Value error occurred\n"
          ]
        }
      ],
      "source": [
        "try:\n",
        "    a = int(\"text\")\n",
        "    b = 10 / 0\n",
        "except ValueError:\n",
        "    print(\"Value error occurred\")\n",
        "except ZeroDivisionError:\n",
        "    print(\"Division by zero occurred\")"
      ]
    },
    {
      "cell_type": "markdown",
      "id": "dae75a9a",
      "metadata": {
        "id": "dae75a9a"
      },
      "source": [
        "### Q13. How would you check if a file exists before attempting to read it in Python"
      ]
    },
    {
      "cell_type": "code",
      "execution_count": 13,
      "id": "0309741c",
      "metadata": {
        "colab": {
          "base_uri": "https://localhost:8080/"
        },
        "id": "0309741c",
        "outputId": "0a0908bd-1571-4f42-bff9-924700421ef2"
      },
      "outputs": [
        {
          "output_type": "stream",
          "name": "stdout",
          "text": [
            "\n",
            "Additional line\n"
          ]
        }
      ],
      "source": [
        "import os\n",
        "\n",
        "if os.path.exists(\"example.txt\"):\n",
        "    with open(\"example.txt\", \"r\") as file:\n",
        "        print(file.read())\n",
        "else:\n",
        "    print(\"File does not exist\")"
      ]
    },
    {
      "cell_type": "markdown",
      "id": "a255cdfe",
      "metadata": {
        "id": "a255cdfe"
      },
      "source": [
        "### Q14. Write a program that uses the logging module to log both informational and error messages"
      ]
    },
    {
      "cell_type": "code",
      "execution_count": 14,
      "id": "a7d2a79e",
      "metadata": {
        "colab": {
          "base_uri": "https://localhost:8080/"
        },
        "id": "a7d2a79e",
        "outputId": "faad2f2e-7520-4f20-85fb-2314ddc381e6"
      },
      "outputs": [
        {
          "output_type": "stream",
          "name": "stderr",
          "text": [
            "ERROR:root:An error occurred: division by zero\n"
          ]
        }
      ],
      "source": [
        "import logging\n",
        "\n",
        "logging.basicConfig(level=logging.DEBUG)\n",
        "\n",
        "logging.info(\"Start of program\")\n",
        "\n",
        "try:\n",
        "    result = 10 / 0\n",
        "except ZeroDivisionError as e:\n",
        "    logging.error(\"An error occurred: %s\", e)"
      ]
    },
    {
      "cell_type": "markdown",
      "id": "2d7d9176",
      "metadata": {
        "id": "2d7d9176"
      },
      "source": [
        "### Q15. Write a Python program that prints the content of a file and handles the case when the file is empty"
      ]
    },
    {
      "cell_type": "code",
      "execution_count": 15,
      "id": "ab2034d5",
      "metadata": {
        "colab": {
          "base_uri": "https://localhost:8080/"
        },
        "id": "ab2034d5",
        "outputId": "8ca17092-1d58-42e7-c2fe-8675a09ef6df"
      },
      "outputs": [
        {
          "output_type": "stream",
          "name": "stdout",
          "text": [
            "\n",
            "Additional line\n"
          ]
        }
      ],
      "source": [
        "try:\n",
        "    with open(\"example.txt\", \"r\") as file:\n",
        "        content = file.read()\n",
        "        if not content:\n",
        "            print(\"File is empty\")\n",
        "        else:\n",
        "            print(content)\n",
        "except FileNotFoundError:\n",
        "    print(\"File not found\")"
      ]
    },
    {
      "cell_type": "markdown",
      "id": "7b4e470a",
      "metadata": {
        "id": "7b4e470a"
      },
      "source": [
        "### Q16. Demonstrate how to use memory profiling to check the memory usage of a small program"
      ]
    },
    {
      "cell_type": "code",
      "execution_count": 16,
      "id": "cf9c2ed6",
      "metadata": {
        "colab": {
          "base_uri": "https://localhost:8080/",
          "height": 383
        },
        "id": "cf9c2ed6",
        "outputId": "91961c42-02f1-41e8-af3c-71f2b02846de"
      },
      "outputs": [
        {
          "output_type": "error",
          "ename": "ModuleNotFoundError",
          "evalue": "No module named 'memory_profiler'",
          "traceback": [
            "\u001b[0;31m---------------------------------------------------------------------------\u001b[0m",
            "\u001b[0;31mModuleNotFoundError\u001b[0m                       Traceback (most recent call last)",
            "\u001b[0;32m/tmp/ipython-input-16-1927113424.py\u001b[0m in \u001b[0;36m<cell line: 0>\u001b[0;34m()\u001b[0m\n\u001b[1;32m      1\u001b[0m \u001b[0;31m# Install memory_profiler before running: pip install memory_profiler\u001b[0m\u001b[0;34m\u001b[0m\u001b[0;34m\u001b[0m\u001b[0m\n\u001b[0;32m----> 2\u001b[0;31m \u001b[0;32mfrom\u001b[0m \u001b[0mmemory_profiler\u001b[0m \u001b[0;32mimport\u001b[0m \u001b[0mprofile\u001b[0m\u001b[0;34m\u001b[0m\u001b[0;34m\u001b[0m\u001b[0m\n\u001b[0m\u001b[1;32m      3\u001b[0m \u001b[0;34m\u001b[0m\u001b[0m\n\u001b[1;32m      4\u001b[0m \u001b[0;34m@\u001b[0m\u001b[0mprofile\u001b[0m\u001b[0;34m\u001b[0m\u001b[0;34m\u001b[0m\u001b[0m\n\u001b[1;32m      5\u001b[0m \u001b[0;32mdef\u001b[0m \u001b[0mcreate_list\u001b[0m\u001b[0;34m(\u001b[0m\u001b[0;34m)\u001b[0m\u001b[0;34m:\u001b[0m\u001b[0;34m\u001b[0m\u001b[0;34m\u001b[0m\u001b[0m\n",
            "\u001b[0;31mModuleNotFoundError\u001b[0m: No module named 'memory_profiler'",
            "",
            "\u001b[0;31m---------------------------------------------------------------------------\u001b[0;32m\nNOTE: If your import is failing due to a missing package, you can\nmanually install dependencies using either !pip or !apt.\n\nTo view examples of installing some common dependencies, click the\n\"Open Examples\" button below.\n\u001b[0;31m---------------------------------------------------------------------------\u001b[0m\n"
          ],
          "errorDetails": {
            "actions": [
              {
                "action": "open_url",
                "actionText": "Open Examples",
                "url": "/notebooks/snippets/importing_libraries.ipynb"
              }
            ]
          }
        }
      ],
      "source": [
        "# Install memory_profiler before running: pip install memory_profiler\n",
        "from memory_profiler import profile\n",
        "\n",
        "@profile\n",
        "def create_list():\n",
        "    return [i for i in range(10000)]\n",
        "\n",
        "create_list()"
      ]
    },
    {
      "cell_type": "markdown",
      "id": "d792051e",
      "metadata": {
        "id": "d792051e"
      },
      "source": [
        "### Q17. Write a Python program to create and write a list of numbers to a file, one number per line"
      ]
    },
    {
      "cell_type": "code",
      "execution_count": 28,
      "id": "96df0504",
      "metadata": {
        "id": "96df0504"
      },
      "outputs": [],
      "source": [
        "numbers = [1, 2, 3, 4, 5]\n",
        "\n",
        "with open(\"numbers.txt\", \"w\") as file:\n",
        "    for number in numbers:\n",
        "        file.write(f\"{number}\\n\")"
      ]
    },
    {
      "cell_type": "markdown",
      "id": "319ca1ed",
      "metadata": {
        "id": "319ca1ed"
      },
      "source": [
        "### Q18. How would you implement a basic logging setup that logs to a file with rotation after 1MB"
      ]
    },
    {
      "cell_type": "code",
      "execution_count": 27,
      "id": "284480d2",
      "metadata": {
        "id": "284480d2"
      },
      "outputs": [],
      "source": [
        "import logging\n",
        "from logging.handlers import RotatingFileHandler\n",
        "\n",
        "handler = RotatingFileHandler(\"rotating.log\", maxBytes=1000000, backupCount=3)\n",
        "logging.basicConfig(handlers=[handler], level=logging.INFO)\n",
        "\n",
        "logging.info(\"This is a rotating log example\")"
      ]
    },
    {
      "cell_type": "markdown",
      "id": "fd486ae9",
      "metadata": {
        "id": "fd486ae9"
      },
      "source": [
        "### Q19. Write a program that handles both IndexError and KeyError using a try-except block"
      ]
    },
    {
      "cell_type": "code",
      "execution_count": 26,
      "id": "06129648",
      "metadata": {
        "colab": {
          "base_uri": "https://localhost:8080/"
        },
        "id": "06129648",
        "outputId": "26965e60-43bd-4d20-acd5-cf45974504a4"
      },
      "outputs": [
        {
          "output_type": "stream",
          "name": "stdout",
          "text": [
            "List index out of range\n"
          ]
        }
      ],
      "source": [
        "data = {\"name\": \"Alice\"}\n",
        "lst = [1, 2, 3]\n",
        "\n",
        "try:\n",
        "    print(lst[5])\n",
        "    print(data[\"age\"])\n",
        "except IndexError:\n",
        "    print(\"List index out of range\")\n",
        "except KeyError:\n",
        "    print(\"Key not found in dictionary\")"
      ]
    },
    {
      "cell_type": "markdown",
      "id": "8a01ac19",
      "metadata": {
        "id": "8a01ac19"
      },
      "source": [
        "### Q20. How would you open a file and read its contents using a context manager in Python"
      ]
    },
    {
      "cell_type": "code",
      "execution_count": 25,
      "id": "852860e5",
      "metadata": {
        "colab": {
          "base_uri": "https://localhost:8080/"
        },
        "id": "852860e5",
        "outputId": "f901a4de-bc56-4d72-b114-36b9e4145fec"
      },
      "outputs": [
        {
          "output_type": "stream",
          "name": "stdout",
          "text": [
            "\n",
            "Additional line\n"
          ]
        }
      ],
      "source": [
        "with open(\"example.txt\", \"r\") as file:\n",
        "    contents = file.read()\n",
        "    print(contents)"
      ]
    },
    {
      "cell_type": "markdown",
      "id": "4b739c3b",
      "metadata": {
        "id": "4b739c3b"
      },
      "source": [
        "### Q21. Write a Python program that reads a file and prints the number of occurrences of a specific word"
      ]
    },
    {
      "cell_type": "code",
      "execution_count": 24,
      "id": "c0c98b75",
      "metadata": {
        "colab": {
          "base_uri": "https://localhost:8080/"
        },
        "id": "c0c98b75",
        "outputId": "fe348ab5-6733-4885-b4ea-6b853d8b639e"
      },
      "outputs": [
        {
          "output_type": "stream",
          "name": "stdout",
          "text": [
            "Occurrences of 'Python': 0\n"
          ]
        }
      ],
      "source": [
        "word_to_count = \"Python\"\n",
        "count = 0\n",
        "\n",
        "with open(\"example.txt\", \"r\") as file:\n",
        "    for line in file:\n",
        "        count += line.count(word_to_count)\n",
        "\n",
        "print(f\"Occurrences of '{word_to_count}':\", count)"
      ]
    },
    {
      "cell_type": "markdown",
      "id": "58efed73",
      "metadata": {
        "id": "58efed73"
      },
      "source": [
        "### Q22. How can you check if a file is empty before attempting to read its contents"
      ]
    },
    {
      "cell_type": "code",
      "execution_count": 23,
      "id": "c300c4c5",
      "metadata": {
        "colab": {
          "base_uri": "https://localhost:8080/"
        },
        "id": "c300c4c5",
        "outputId": "76a9fd33-f179-491e-d4a3-9dde91eb8c76"
      },
      "outputs": [
        {
          "output_type": "stream",
          "name": "stdout",
          "text": [
            "\n",
            "Additional line\n"
          ]
        }
      ],
      "source": [
        "import os\n",
        "\n",
        "if os.path.exists(\"example.txt\") and os.path.getsize(\"example.txt\") > 0:\n",
        "    with open(\"example.txt\", \"r\") as file:\n",
        "        print(file.read())\n",
        "else:\n",
        "    print(\"File is empty or does not exist\")"
      ]
    },
    {
      "cell_type": "markdown",
      "id": "ea4d69f5",
      "metadata": {
        "id": "ea4d69f5"
      },
      "source": [
        "### Q23. Write a Python program that writes to a log file when an error occurs during file handling."
      ]
    },
    {
      "cell_type": "code",
      "execution_count": 22,
      "id": "9163b5da",
      "metadata": {
        "colab": {
          "base_uri": "https://localhost:8080/"
        },
        "id": "9163b5da",
        "outputId": "5f3573f5-0811-4891-9f62-c3306dbf035d"
      },
      "outputs": [
        {
          "output_type": "stream",
          "name": "stderr",
          "text": [
            "ERROR:root:File handling error: [Errno 2] No such file or directory: 'missing.txt'\n"
          ]
        }
      ],
      "source": [
        "import logging\n",
        "\n",
        "logging.basicConfig(filename=\"file_error.log\", level=logging.ERROR)\n",
        "\n",
        "try:\n",
        "    with open(\"missing.txt\", \"r\") as file:\n",
        "        data = file.read()\n",
        "except FileNotFoundError as e:\n",
        "    logging.error(\"File handling error: %s\", e)"
      ]
    },
    {
      "cell_type": "code",
      "metadata": {
        "colab": {
          "base_uri": "https://localhost:8080/"
        },
        "id": "ba7cfac3",
        "outputId": "c5c41296-c816-421e-81ba-d8e8979a7fa7"
      },
      "source": [
        "%pip install memory_profiler"
      ],
      "id": "ba7cfac3",
      "execution_count": 18,
      "outputs": [
        {
          "output_type": "stream",
          "name": "stdout",
          "text": [
            "Requirement already satisfied: memory_profiler in /usr/local/lib/python3.11/dist-packages (0.61.0)\n",
            "Requirement already satisfied: psutil in /usr/local/lib/python3.11/dist-packages (from memory_profiler) (5.9.5)\n"
          ]
        }
      ]
    }
  ],
  "metadata": {
    "colab": {
      "provenance": [],
      "include_colab_link": true
    },
    "language_info": {
      "name": "python"
    },
    "kernelspec": {
      "name": "python3",
      "display_name": "Python 3"
    }
  },
  "nbformat": 4,
  "nbformat_minor": 5
}