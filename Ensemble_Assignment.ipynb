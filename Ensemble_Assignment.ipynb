{
  "cells": [
    {
      "cell_type": "markdown",
      "metadata": {
        "id": "view-in-github",
        "colab_type": "text"
      },
      "source": [
        "<a href=\"https://colab.research.google.com/github/PD7-debug/Assignment-Mod-1/blob/main/Ensemble_Assignment.ipynb\" target=\"_parent\"><img src=\"https://colab.research.google.com/assets/colab-badge.svg\" alt=\"Open In Colab\"/></a>"
      ]
    },
    {
      "cell_type": "markdown",
      "id": "e2451774",
      "metadata": {
        "id": "e2451774"
      },
      "source": [
        "THEORY QUESTION"
      ]
    },
    {
      "cell_type": "markdown",
      "id": "d300f15b",
      "metadata": {
        "id": "d300f15b"
      },
      "source": [
        "## Q1. Can we use Bagging for regression problems?"
      ]
    },
    {
      "cell_type": "markdown",
      "id": "724fc9aa",
      "metadata": {
        "id": "724fc9aa"
      },
      "source": [
        "**Answer:** Yes, Bagging can be used for both classification and regression problems. In regression, Bagging helps to reduce variance by averaging predictions from multiple models trained on different subsets of the data."
      ]
    },
    {
      "cell_type": "markdown",
      "id": "6936f483",
      "metadata": {
        "id": "6936f483"
      },
      "source": [
        "## Q2. What is the difference between multiple model training and single model training?"
      ]
    },
    {
      "cell_type": "markdown",
      "id": "1f1c10e4",
      "metadata": {
        "id": "1f1c10e4"
      },
      "source": [
        "**Answer:** Single model training involves using one algorithm to make predictions, while multiple model training (ensemble) combines predictions from several models to improve performance and reduce overfitting."
      ]
    },
    {
      "cell_type": "markdown",
      "id": "9ed97179",
      "metadata": {
        "id": "9ed97179"
      },
      "source": [
        "## Q3. Explain the concept of feature randomness in Random Forest."
      ]
    },
    {
      "cell_type": "markdown",
      "id": "d6321bf7",
      "metadata": {
        "id": "d6321bf7"
      },
      "source": [
        "**Answer:** In Random Forest, feature randomness is introduced by selecting a random subset of features for each split in a tree. This increases diversity among trees and helps reduce overfitting."
      ]
    },
    {
      "cell_type": "markdown",
      "id": "da638b77",
      "metadata": {
        "id": "da638b77"
      },
      "source": [
        "## Q4. What is OOB (Out-of-Bag) Score?"
      ]
    },
    {
      "cell_type": "markdown",
      "id": "dc2b86f3",
      "metadata": {
        "id": "dc2b86f3"
      },
      "source": [
        "**Answer:** OOB Score is an internal validation method used in Bagging and Random Forest. Each tree is trained on a bootstrap sample, and the samples not included (out-of-bag) are used for validation."
      ]
    },
    {
      "cell_type": "markdown",
      "id": "88f4ad43",
      "metadata": {
        "id": "88f4ad43"
      },
      "source": [
        "## Q5. How can you measure the importance of features in a Random Forest model?"
      ]
    },
    {
      "cell_type": "markdown",
      "id": "cb675ddb",
      "metadata": {
        "id": "cb675ddb"
      },
      "source": [
        "**Answer:** Random Forest calculates feature importance based on how much each feature reduces the impurity across all trees. This is often computed using Gini importance or Mean Decrease in Impurity."
      ]
    },
    {
      "cell_type": "markdown",
      "id": "493d09c1",
      "metadata": {
        "id": "493d09c1"
      },
      "source": [
        "## Q6. Explain the working principle of a Bagging Classifier."
      ]
    },
    {
      "cell_type": "markdown",
      "id": "e92cfe56",
      "metadata": {
        "id": "e92cfe56"
      },
      "source": [
        "**Answer:** A Bagging Classifier builds several models (usually decision trees) on different random subsets of the training data and aggregates their predictions by voting (classification)."
      ]
    },
    {
      "cell_type": "markdown",
      "id": "d0b810f4",
      "metadata": {
        "id": "d0b810f4"
      },
      "source": [
        "## Q7. How do you evaluate a Bagging Classifier’s performance?"
      ]
    },
    {
      "cell_type": "markdown",
      "id": "1651d7d1",
      "metadata": {
        "id": "1651d7d1"
      },
      "source": [
        "**Answer:** The performance of a Bagging Classifier can be evaluated using accuracy, confusion matrix, precision, recall, F1-score, or cross-validation depending on the dataset and use case."
      ]
    },
    {
      "cell_type": "markdown",
      "id": "f3ff1cbf",
      "metadata": {
        "id": "f3ff1cbf"
      },
      "source": [
        "## Q8. How does a Bagging Regressor work?"
      ]
    },
    {
      "cell_type": "markdown",
      "id": "0910df5a",
      "metadata": {
        "id": "0910df5a"
      },
      "source": [
        "**Answer:** A Bagging Regressor works by training multiple regression models on random subsets of the data and averaging their predictions to reduce variance and improve robustness."
      ]
    },
    {
      "cell_type": "markdown",
      "id": "9405e3f3",
      "metadata": {
        "id": "9405e3f3"
      },
      "source": [
        "## Q9. What is the main advantage of ensemble techniques?"
      ]
    },
    {
      "cell_type": "markdown",
      "id": "4e6b97a9",
      "metadata": {
        "id": "4e6b97a9"
      },
      "source": [
        "**Answer:** The main advantage of ensemble techniques is improved model performance through reduced variance, bias, or improved predictions compared to single models."
      ]
    },
    {
      "cell_type": "markdown",
      "id": "9576718f",
      "metadata": {
        "id": "9576718f"
      },
      "source": [
        "## Q10. What is the main challenge of ensemble methods?"
      ]
    },
    {
      "cell_type": "markdown",
      "id": "f6e56fe4",
      "metadata": {
        "id": "f6e56fe4"
      },
      "source": [
        "**Answer:** The main challenge is increased computational cost and complexity in training, as well as the difficulty in interpreting the final ensemble model."
      ]
    },
    {
      "cell_type": "markdown",
      "id": "0270fe84",
      "metadata": {
        "id": "0270fe84"
      },
      "source": [
        "## Q11. Explain the key idea behind ensemble techniques."
      ]
    },
    {
      "cell_type": "markdown",
      "id": "40269b84",
      "metadata": {
        "id": "40269b84"
      },
      "source": [
        "**Answer:** The key idea is to combine predictions from multiple models to form a stronger overall model. This can be done by voting, averaging, or stacking."
      ]
    },
    {
      "cell_type": "markdown",
      "id": "e05444bb",
      "metadata": {
        "id": "e05444bb"
      },
      "source": [
        "## Q12. What is a Random Forest Classifier?"
      ]
    },
    {
      "cell_type": "markdown",
      "id": "076ad2a9",
      "metadata": {
        "id": "076ad2a9"
      },
      "source": [
        "**Answer:** A Random Forest Classifier is an ensemble method that builds multiple decision trees and outputs the class that is the mode of predictions from all trees."
      ]
    },
    {
      "cell_type": "markdown",
      "id": "bc52a626",
      "metadata": {
        "id": "bc52a626"
      },
      "source": [
        "## Q13. What are the main types of ensemble techniques?"
      ]
    },
    {
      "cell_type": "markdown",
      "id": "3657f07b",
      "metadata": {
        "id": "3657f07b"
      },
      "source": [
        "**Answer:** The main types include Bagging, Boosting, and Stacking. Bagging reduces variance, Boosting reduces bias, and Stacking combines multiple classifiers via a meta-model."
      ]
    },
    {
      "cell_type": "markdown",
      "id": "4b1979de",
      "metadata": {
        "id": "4b1979de"
      },
      "source": [
        "## Q14. What is ensemble learning in machine learning?"
      ]
    },
    {
      "cell_type": "markdown",
      "id": "41f63ce2",
      "metadata": {
        "id": "41f63ce2"
      },
      "source": [
        "**Answer:** Ensemble learning is a technique where multiple models are trained and combined to solve a particular machine learning problem to improve generalizability and robustness."
      ]
    },
    {
      "cell_type": "markdown",
      "id": "e575cecf",
      "metadata": {
        "id": "e575cecf"
      },
      "source": [
        "## Q15. When should we avoid using ensemble methods?"
      ]
    },
    {
      "cell_type": "markdown",
      "id": "a91a6574",
      "metadata": {
        "id": "a91a6574"
      },
      "source": [
        "**Answer:** Ensemble methods should be avoided when the base model already performs very well or when computational resources are limited."
      ]
    },
    {
      "cell_type": "markdown",
      "id": "e3239f87",
      "metadata": {
        "id": "e3239f87"
      },
      "source": [
        "## Q16. How does Bagging help in reducing overfitting?"
      ]
    },
    {
      "cell_type": "markdown",
      "id": "a9ed5bc0",
      "metadata": {
        "id": "a9ed5bc0"
      },
      "source": [
        "**Answer:** Bagging reduces overfitting by averaging multiple models trained on different bootstrap samples, reducing the variance of predictions."
      ]
    },
    {
      "cell_type": "markdown",
      "id": "31a99592",
      "metadata": {
        "id": "31a99592"
      },
      "source": [
        "## Q17. Why is Random Forest better than a single Decision Tree?"
      ]
    },
    {
      "cell_type": "markdown",
      "id": "3ccf06a9",
      "metadata": {
        "id": "3ccf06a9"
      },
      "source": [
        "**Answer:** Random Forest improves performance over a single Decision Tree by reducing overfitting through averaging and introducing randomness in feature selection."
      ]
    },
    {
      "cell_type": "markdown",
      "id": "3dc13e1a",
      "metadata": {
        "id": "3dc13e1a"
      },
      "source": [
        "## Q18. What is the role of bootstrap sampling in Bagging?"
      ]
    },
    {
      "cell_type": "markdown",
      "id": "fb14434d",
      "metadata": {
        "id": "fb14434d"
      },
      "source": [
        "**Answer:** Bootstrap sampling involves randomly selecting samples with replacement to create multiple training datasets. It ensures each model is trained on slightly different data."
      ]
    },
    {
      "cell_type": "markdown",
      "id": "e40d565d",
      "metadata": {
        "id": "e40d565d"
      },
      "source": [
        "## Q19. What are some real-world applications of ensemble techniques?"
      ]
    },
    {
      "cell_type": "markdown",
      "id": "1323b9d1",
      "metadata": {
        "id": "1323b9d1"
      },
      "source": [
        "**Answer:** Real-world applications include fraud detection, spam filtering, recommendation systems, credit scoring, and medical diagnosis."
      ]
    },
    {
      "cell_type": "markdown",
      "id": "6896fc6a",
      "metadata": {
        "id": "6896fc6a"
      },
      "source": [
        "## Q20. What is the difference between Bagging and Boosting?"
      ]
    },
    {
      "cell_type": "markdown",
      "id": "1a4e438e",
      "metadata": {
        "id": "1a4e438e"
      },
      "source": [
        "**Answer:** Bagging builds models in parallel and combines their outputs, while Boosting builds models sequentially, each trying to correct the errors of its predecessor."
      ]
    },
    {
      "cell_type": "markdown",
      "source": [
        "PRACTICAL QUESTION"
      ],
      "metadata": {
        "id": "x5HdezuokOh9"
      },
      "id": "x5HdezuokOh9"
    },
    {
      "cell_type": "markdown",
      "id": "73a37121",
      "metadata": {
        "id": "73a37121"
      },
      "source": [
        "## Q21. Train a Bagging Classifier using Decision Trees on a sample dataset and print model accuracy."
      ]
    },
    {
      "cell_type": "code",
      "execution_count": 1,
      "id": "226e2ade",
      "metadata": {
        "colab": {
          "base_uri": "https://localhost:8080/"
        },
        "id": "226e2ade",
        "outputId": "ab19b22f-df12-4894-ae26-d3ad8c868403"
      },
      "outputs": [
        {
          "output_type": "stream",
          "name": "stdout",
          "text": [
            "Accuracy: 1.0\n"
          ]
        }
      ],
      "source": [
        "from sklearn.ensemble import BaggingClassifier\n",
        "from sklearn.tree import DecisionTreeClassifier\n",
        "from sklearn.datasets import load_iris\n",
        "from sklearn.model_selection import train_test_split\n",
        "from sklearn.metrics import accuracy_score\n",
        "\n",
        "X, y = load_iris(return_X_y=True)\n",
        "X_train, X_test, y_train, y_test = train_test_split(X, y, test_size=0.3)\n",
        "model = BaggingClassifier(DecisionTreeClassifier(), n_estimators=10)\n",
        "model.fit(X_train, y_train)\n",
        "print(\"Accuracy:\", accuracy_score(y_test, model.predict(X_test)))"
      ]
    },
    {
      "cell_type": "markdown",
      "id": "a0c39335",
      "metadata": {
        "id": "a0c39335"
      },
      "source": [
        "## Q22. Train a Bagging Regressor using Decision Trees and evaluate using Mean Squared Error (MSE)."
      ]
    },
    {
      "cell_type": "code",
      "execution_count": 2,
      "id": "8543012a",
      "metadata": {
        "colab": {
          "base_uri": "https://localhost:8080/"
        },
        "id": "8543012a",
        "outputId": "0f25f010-44ed-49c1-a7de-9ca1574b2aa3"
      },
      "outputs": [
        {
          "output_type": "stream",
          "name": "stdout",
          "text": [
            "MSE: 0.2657709758285341\n"
          ]
        }
      ],
      "source": [
        "from sklearn.ensemble import BaggingRegressor\n",
        "from sklearn.tree import DecisionTreeRegressor\n",
        "from sklearn.datasets import fetch_california_housing\n",
        "from sklearn.metrics import mean_squared_error\n",
        "\n",
        "X, y = fetch_california_housing(return_X_y=True)\n",
        "X_train, X_test, y_train, y_test = train_test_split(X, y, test_size=0.2)\n",
        "model = BaggingRegressor(DecisionTreeRegressor(), n_estimators=10)\n",
        "model.fit(X_train, y_train)\n",
        "print(\"MSE:\", mean_squared_error(y_test, model.predict(X_test)))"
      ]
    },
    {
      "cell_type": "markdown",
      "id": "703ad5c1",
      "metadata": {
        "id": "703ad5c1"
      },
      "source": [
        "## Q23. Train a Random Forest Classifier on the Breast Cancer dataset and print feature importance scores."
      ]
    },
    {
      "cell_type": "code",
      "execution_count": 3,
      "id": "77af09e5",
      "metadata": {
        "colab": {
          "base_uri": "https://localhost:8080/"
        },
        "id": "77af09e5",
        "outputId": "b93e17d4-3bdf-45c3-e2df-7fb16c83fbe4"
      },
      "outputs": [
        {
          "output_type": "stream",
          "name": "stdout",
          "text": [
            "Feature Importances: [0.03108088 0.01465372 0.0689355  0.02603848 0.006971   0.0173372\n",
            " 0.02315151 0.07231959 0.00426295 0.00302916 0.02533084 0.00448961\n",
            " 0.00466304 0.03123423 0.0050654  0.00310194 0.00566557 0.00432531\n",
            " 0.0034708  0.00610022 0.08691968 0.01769111 0.16926345 0.13463523\n",
            " 0.01264723 0.02300338 0.02256598 0.15462541 0.00896514 0.00845642]\n"
          ]
        }
      ],
      "source": [
        "from sklearn.ensemble import RandomForestClassifier\n",
        "from sklearn.datasets import load_breast_cancer\n",
        "\n",
        "X, y = load_breast_cancer(return_X_y=True)\n",
        "model = RandomForestClassifier()\n",
        "model.fit(X, y)\n",
        "importances = model.feature_importances_\n",
        "print(\"Feature Importances:\", importances)"
      ]
    },
    {
      "cell_type": "markdown",
      "id": "b2028af1",
      "metadata": {
        "id": "b2028af1"
      },
      "source": [
        "## Q24. Train a Random Forest Regressor and compare its performance with a single Decision Tree."
      ]
    },
    {
      "cell_type": "code",
      "execution_count": 4,
      "id": "0cf1ef84",
      "metadata": {
        "colab": {
          "base_uri": "https://localhost:8080/"
        },
        "id": "0cf1ef84",
        "outputId": "c1f9856a-442b-4a03-988a-a85b9c1653d0"
      },
      "outputs": [
        {
          "output_type": "stream",
          "name": "stdout",
          "text": [
            "Decision Tree R^2: 0.6328795241768423\n",
            "Random Forest R^2: 0.822079323278362\n"
          ]
        }
      ],
      "source": [
        "from sklearn.ensemble import RandomForestRegressor\n",
        "\n",
        "dt = DecisionTreeRegressor()\n",
        "rf = RandomForestRegressor()\n",
        "dt.fit(X_train, y_train)\n",
        "rf.fit(X_train, y_train)\n",
        "print(\"Decision Tree R^2:\", dt.score(X_test, y_test))\n",
        "print(\"Random Forest R^2:\", rf.score(X_test, y_test))"
      ]
    },
    {
      "cell_type": "markdown",
      "id": "f487a91a",
      "metadata": {
        "id": "f487a91a"
      },
      "source": [
        "## Q25. Compute the Out-of-Bag (OOB) Score for a Random Forest Classifier."
      ]
    },
    {
      "cell_type": "code",
      "execution_count": 7,
      "id": "d821c3c7",
      "metadata": {
        "colab": {
          "base_uri": "https://localhost:8080/"
        },
        "id": "d821c3c7",
        "outputId": "b4981f85-c561-4c61-d720-ec63fe7c2951"
      },
      "outputs": [
        {
          "output_type": "stream",
          "name": "stdout",
          "text": [
            "OOB Score: 0.9533333333333334\n"
          ]
        }
      ],
      "source": [
        "from sklearn.ensemble import RandomForestClassifier\n",
        "from sklearn.datasets import load_iris\n",
        "\n",
        "# Load dataset\n",
        "X, y = load_iris(return_X_y=True)\n",
        "\n",
        "# Initialize RandomForestClassifier with oob_score=True\n",
        "rf = RandomForestClassifier(oob_score=True, n_estimators=100, random_state=42, bootstrap=True)\n",
        "\n",
        "# Fit model\n",
        "rf.fit(X, y)\n",
        "\n",
        "# Get OOB score\n",
        "oob_score = rf.oob_score_\n",
        "print(\"OOB Score:\", oob_score)\n"
      ]
    },
    {
      "cell_type": "markdown",
      "id": "1997774b",
      "metadata": {
        "id": "1997774b"
      },
      "source": [
        "## Q26. Train a Bagging Classifier using SVM as a base estimator and print accuracy."
      ]
    },
    {
      "cell_type": "code",
      "execution_count": 11,
      "id": "606f5708",
      "metadata": {
        "colab": {
          "base_uri": "https://localhost:8080/"
        },
        "id": "606f5708",
        "outputId": "6c4adfb9-6ef2-40b8-a6b6-4058bb9da881"
      },
      "outputs": [
        {
          "output_type": "stream",
          "name": "stdout",
          "text": [
            "Accuracy: 1.0\n"
          ]
        }
      ],
      "source": [
        "from sklearn.ensemble import BaggingClassifier\n",
        "from sklearn.svm import SVC\n",
        "from sklearn.datasets import load_iris\n",
        "from sklearn.model_selection import train_test_split\n",
        "from sklearn.metrics import accuracy_score\n",
        "\n",
        "# Load dataset\n",
        "X, y = load_iris(return_X_y=True)\n",
        "\n",
        "# Split data\n",
        "X_train, X_test, y_train, y_test = train_test_split(X, y, test_size=0.3, random_state=42)\n",
        "\n",
        "# Initialize BaggingClassifier with SVM as base estimator\n",
        "bagging_clf = BaggingClassifier(estimator=SVC(), n_estimators=10, random_state=42)\n",
        "\n",
        "# Fit model\n",
        "bagging_clf.fit(X_train, y_train)\n",
        "\n",
        "# Predict\n",
        "y_pred = bagging_clf.predict(X_test)\n",
        "\n",
        "# Print accuracy\n",
        "print(\"Accuracy:\", accuracy_score(y_test, y_pred))\n"
      ]
    },
    {
      "cell_type": "markdown",
      "id": "724a3071",
      "metadata": {
        "id": "724a3071"
      },
      "source": [
        "## Q27. Train a Random Forest Classifier with different numbers of trees and compare accuracy."
      ]
    },
    {
      "cell_type": "code",
      "execution_count": 12,
      "id": "8ca3d02f",
      "metadata": {
        "colab": {
          "base_uri": "https://localhost:8080/"
        },
        "id": "8ca3d02f",
        "outputId": "dbf2c33c-235d-4dff-c032-5c287393d0e6"
      },
      "outputs": [
        {
          "output_type": "stream",
          "name": "stdout",
          "text": [
            "Accuracy with 10 trees: 1.0\n",
            "Accuracy with 50 trees: 1.0\n",
            "Accuracy with 100 trees: 1.0\n"
          ]
        }
      ],
      "source": [
        "for n in [10, 50, 100]:\n",
        "    rf = RandomForestClassifier(n_estimators=n)\n",
        "    rf.fit(X_train, y_train)\n",
        "    print(f\"Accuracy with {n} trees:\", rf.score(X_test, y_test))"
      ]
    },
    {
      "cell_type": "markdown",
      "id": "a9b4a020",
      "metadata": {
        "id": "a9b4a020"
      },
      "source": [
        "## Q28. Train a Bagging Classifier using Logistic Regression as a base estimator and print AUC score."
      ]
    },
    {
      "cell_type": "code",
      "execution_count": 34,
      "id": "215aca73",
      "metadata": {
        "id": "215aca73"
      },
      "outputs": [],
      "source": []
    },
    {
      "cell_type": "markdown",
      "id": "28d4ff38",
      "metadata": {
        "id": "28d4ff38"
      },
      "source": [
        "## Q29. Train a Random Forest Regressor and analyze feature importance scores."
      ]
    },
    {
      "cell_type": "code",
      "execution_count": 14,
      "id": "80c2ec81",
      "metadata": {
        "colab": {
          "base_uri": "https://localhost:8080/"
        },
        "id": "80c2ec81",
        "outputId": "9bb8d239-4af4-4628-fd2e-e09349f929e6"
      },
      "outputs": [
        {
          "output_type": "stream",
          "name": "stdout",
          "text": [
            "Feature importances: [0.00784048 0.00945195 0.43071171 0.55199586]\n"
          ]
        }
      ],
      "source": [
        "model = RandomForestRegressor()\n",
        "model.fit(X_train, y_train)\n",
        "print(\"Feature importances:\", model.feature_importances_)"
      ]
    },
    {
      "cell_type": "markdown",
      "id": "072e39ed",
      "metadata": {
        "id": "072e39ed"
      },
      "source": [
        "## Q30. Train an ensemble model using both Bagging and Random Forest and compare accuracy."
      ]
    },
    {
      "cell_type": "code",
      "execution_count": 15,
      "id": "cc56468e",
      "metadata": {
        "colab": {
          "base_uri": "https://localhost:8080/"
        },
        "id": "cc56468e",
        "outputId": "208086ea-3e21-45ba-892b-4f83827fffca"
      },
      "outputs": [
        {
          "output_type": "stream",
          "name": "stdout",
          "text": [
            "Bagging Accuracy: 1.0\n",
            "Random Forest Accuracy: 1.0\n"
          ]
        }
      ],
      "source": [
        "bag = BaggingClassifier(DecisionTreeClassifier(), n_estimators=10)\n",
        "rf = RandomForestClassifier(n_estimators=10)\n",
        "bag.fit(X_train, y_train)\n",
        "rf.fit(X_train, y_train)\n",
        "print(\"Bagging Accuracy:\", bag.score(X_test, y_test))\n",
        "print(\"Random Forest Accuracy:\", rf.score(X_test, y_test))"
      ]
    },
    {
      "cell_type": "markdown",
      "id": "b5451ce6",
      "metadata": {
        "id": "b5451ce6"
      },
      "source": [
        "## Q31. Train a Random Forest Classifier and tune hyperparameters using GridSearchCV."
      ]
    },
    {
      "cell_type": "code",
      "execution_count": 16,
      "id": "4e8f965c",
      "metadata": {
        "colab": {
          "base_uri": "https://localhost:8080/"
        },
        "id": "4e8f965c",
        "outputId": "88e714b4-b126-4ed3-b347-5f149326647a"
      },
      "outputs": [
        {
          "output_type": "stream",
          "name": "stdout",
          "text": [
            "Best params: {'max_depth': 3, 'n_estimators': 10}\n"
          ]
        }
      ],
      "source": [
        "from sklearn.model_selection import GridSearchCV\n",
        "\n",
        "params = {'n_estimators': [10, 50], 'max_depth': [3, 5, None]}\n",
        "grid = GridSearchCV(RandomForestClassifier(), param_grid=params, cv=3)\n",
        "grid.fit(X_train, y_train)\n",
        "print(\"Best params:\", grid.best_params_)"
      ]
    },
    {
      "cell_type": "markdown",
      "id": "97c8fd96",
      "metadata": {
        "id": "97c8fd96"
      },
      "source": [
        "## Q32. Train a Bagging Regressor with different numbers of base estimators and compare performance."
      ]
    },
    {
      "cell_type": "code",
      "execution_count": 17,
      "id": "705bc0b7",
      "metadata": {
        "colab": {
          "base_uri": "https://localhost:8080/"
        },
        "id": "705bc0b7",
        "outputId": "22f1aba4-2325-48ca-a124-6500c597143c"
      },
      "outputs": [
        {
          "output_type": "stream",
          "name": "stdout",
          "text": [
            "Score with 5 estimators: 0.9923076923076923\n",
            "Score with 10 estimators: 0.9974358974358974\n",
            "Score with 50 estimators: 0.9979230769230769\n"
          ]
        }
      ],
      "source": [
        "for n in [5, 10, 50]:\n",
        "    model = BaggingRegressor(n_estimators=n)\n",
        "    model.fit(X_train, y_train)\n",
        "    print(f\"Score with {n} estimators:\", model.score(X_test, y_test))"
      ]
    },
    {
      "cell_type": "markdown",
      "id": "f9885f1a",
      "metadata": {
        "id": "f9885f1a"
      },
      "source": [
        "## Q33. Train a Random Forest Classifier and analyze misclassified samples."
      ]
    },
    {
      "cell_type": "code",
      "execution_count": 18,
      "id": "825852eb",
      "metadata": {
        "colab": {
          "base_uri": "https://localhost:8080/"
        },
        "id": "825852eb",
        "outputId": "f937c463-50a7-411a-e2aa-30dd95104938"
      },
      "outputs": [
        {
          "output_type": "stream",
          "name": "stdout",
          "text": [
            "Misclassified samples: 0\n"
          ]
        }
      ],
      "source": [
        "rf = RandomForestClassifier()\n",
        "rf.fit(X_train, y_train)\n",
        "y_pred = rf.predict(X_test)\n",
        "misclassified = (y_pred != y_test)\n",
        "print(\"Misclassified samples:\", misclassified.sum())"
      ]
    },
    {
      "cell_type": "markdown",
      "id": "990a9b0b",
      "metadata": {
        "id": "990a9b0b"
      },
      "source": [
        "## Q34. Train a Bagging Classifier and compare its performance with a single Decision Tree Classifier."
      ]
    },
    {
      "cell_type": "code",
      "execution_count": 19,
      "id": "c02ef998",
      "metadata": {
        "colab": {
          "base_uri": "https://localhost:8080/"
        },
        "id": "c02ef998",
        "outputId": "8827182b-32f9-40ec-9118-8b7f402b7b19"
      },
      "outputs": [
        {
          "output_type": "stream",
          "name": "stdout",
          "text": [
            "Single Tree Accuracy: 1.0\n",
            "Bagging Accuracy: 1.0\n"
          ]
        }
      ],
      "source": [
        "dt = DecisionTreeClassifier()\n",
        "bag = BaggingClassifier(DecisionTreeClassifier(), n_estimators=10)\n",
        "dt.fit(X_train, y_train)\n",
        "bag.fit(X_train, y_train)\n",
        "print(\"Single Tree Accuracy:\", dt.score(X_test, y_test))\n",
        "print(\"Bagging Accuracy:\", bag.score(X_test, y_test))"
      ]
    },
    {
      "cell_type": "markdown",
      "id": "70144eb1",
      "metadata": {
        "id": "70144eb1"
      },
      "source": [
        "## Q35. Train a Random Forest Classifier and visualize the confusion matrix."
      ]
    },
    {
      "cell_type": "code",
      "execution_count": 20,
      "id": "b4efa446",
      "metadata": {
        "colab": {
          "base_uri": "https://localhost:8080/",
          "height": 449
        },
        "id": "b4efa446",
        "outputId": "03d2be0c-6e89-4ffa-e7e5-f45f8f13941b"
      },
      "outputs": [
        {
          "output_type": "display_data",
          "data": {
            "text/plain": [
              "<Figure size 640x480 with 2 Axes>"
            ],
            "image/png": "[encoded data removed]"
          },
          "metadata": {}
        }
      ],
      "source": [
        "from sklearn.metrics import ConfusionMatrixDisplay\n",
        "import matplotlib.pyplot as plt\n",
        "\n",
        "rf = RandomForestClassifier()\n",
        "rf.fit(X_train, y_train)\n",
        "ConfusionMatrixDisplay.from_estimator(rf, X_test, y_test)\n",
        "plt.show()"
      ]
    },
    {
      "cell_type": "markdown",
      "id": "650a0d60",
      "metadata": {
        "id": "650a0d60"
      },
      "source": [
        "## Q36. Train a Stacking Classifier using Decision Trees, SVM, and Logistic Regression, and compare accuracy."
      ]
    },
    {
      "cell_type": "code",
      "execution_count": 21,
      "id": "c947d5e8",
      "metadata": {
        "colab": {
          "base_uri": "https://localhost:8080/"
        },
        "id": "c947d5e8",
        "outputId": "467ba4de-93e2-4fdc-d483-2251f9d1db3d"
      },
      "outputs": [
        {
          "output_type": "stream",
          "name": "stdout",
          "text": [
            "Stacking Accuracy: 1.0\n"
          ]
        }
      ],
      "source": [
        "from sklearn.ensemble import StackingClassifier\n",
        "\n",
        "stack = StackingClassifier(estimators=[('dt', DecisionTreeClassifier()),\n",
        "                                       ('svc', SVC(probability=True)),\n",
        "                                       ('lr', LogisticRegression())],\n",
        "                           final_estimator=LogisticRegression())\n",
        "stack.fit(X_train, y_train)\n",
        "print(\"Stacking Accuracy:\", stack.score(X_test, y_test))"
      ]
    },
    {
      "cell_type": "markdown",
      "id": "f2c54229",
      "metadata": {
        "id": "f2c54229"
      },
      "source": [
        "## Q37. Train a Random Forest Classifier and print the top 5 most important features."
      ]
    },
    {
      "cell_type": "code",
      "execution_count": 22,
      "id": "a8d66952",
      "metadata": {
        "colab": {
          "base_uri": "https://localhost:8080/"
        },
        "id": "a8d66952",
        "outputId": "55716383-78c4-4613-91f3-34ee285040c1"
      },
      "outputs": [
        {
          "output_type": "stream",
          "name": "stdout",
          "text": [
            "Top 5 features: [2 3 0 1]\n"
          ]
        }
      ],
      "source": [
        "rf = RandomForestClassifier()\n",
        "rf.fit(X_train, y_train)\n",
        "importances = rf.feature_importances_\n",
        "top_idx = importances.argsort()[-5:][::-1]\n",
        "print(\"Top 5 features:\", top_idx)"
      ]
    },
    {
      "cell_type": "markdown",
      "id": "3593d4e8",
      "metadata": {
        "id": "3593d4e8"
      },
      "source": [
        "## Q38. Train a Bagging Classifier and evaluate performance using Precision, Recall, and F1-score."
      ]
    },
    {
      "cell_type": "code",
      "execution_count": 23,
      "id": "37572fc8",
      "metadata": {
        "colab": {
          "base_uri": "https://localhost:8080/"
        },
        "id": "37572fc8",
        "outputId": "1089f2d7-13ed-496d-9e65-f3ff918a2717"
      },
      "outputs": [
        {
          "output_type": "stream",
          "name": "stdout",
          "text": [
            "Precision: 1.0\n",
            "Recall: 1.0\n",
            "F1-score: 1.0\n"
          ]
        }
      ],
      "source": [
        "from sklearn.metrics import precision_score, recall_score, f1_score\n",
        "\n",
        "y_pred = bag.predict(X_test)\n",
        "print(\"Precision:\", precision_score(y_test, y_pred, average='macro'))\n",
        "print(\"Recall:\", recall_score(y_test, y_pred, average='macro'))\n",
        "print(\"F1-score:\", f1_score(y_test, y_pred, average='macro'))"
      ]
    },
    {
      "cell_type": "markdown",
      "id": "1c45653f",
      "metadata": {
        "id": "1c45653f"
      },
      "source": [
        "## Q39. Train a Random Forest Classifier and analyze the effect of max_depth on accuracy."
      ]
    },
    {
      "cell_type": "code",
      "execution_count": 24,
      "id": "5dcb82c4",
      "metadata": {
        "colab": {
          "base_uri": "https://localhost:8080/"
        },
        "id": "5dcb82c4",
        "outputId": "a5b37f40-e493-4980-94de-7d036347f752"
      },
      "outputs": [
        {
          "output_type": "stream",
          "name": "stdout",
          "text": [
            "Max Depth 3: Accuracy = 1.0\n",
            "Max Depth 5: Accuracy = 1.0\n",
            "Max Depth 10: Accuracy = 1.0\n"
          ]
        }
      ],
      "source": [
        "for depth in [3, 5, 10]:\n",
        "    rf = RandomForestClassifier(max_depth=depth)\n",
        "    rf.fit(X_train, y_train)\n",
        "    print(f\"Max Depth {depth}: Accuracy = {rf.score(X_test, y_test)}\")"
      ]
    },
    {
      "cell_type": "markdown",
      "id": "4de884c3",
      "metadata": {
        "id": "4de884c3"
      },
      "source": [
        "## Q40. Train a Bagging Regressor using different base estimators (DecisionTree and KNeighbors) and compare performance."
      ]
    },
    {
      "cell_type": "code",
      "execution_count": 32,
      "id": "d4394480",
      "metadata": {
        "id": "d4394480"
      },
      "outputs": [],
      "source": []
    },
    {
      "cell_type": "markdown",
      "id": "4015908d",
      "metadata": {
        "id": "4015908d"
      },
      "source": [
        "## Q41. Train a Random Forest Classifier and evaluate its performance using ROC-AUC Score."
      ]
    },
    {
      "cell_type": "code",
      "execution_count": 26,
      "id": "9af8ef85",
      "metadata": {
        "colab": {
          "base_uri": "https://localhost:8080/",
          "height": 356
        },
        "id": "9af8ef85",
        "outputId": "904ca57d-1b19-4c12-9a16-52f477a1ec4d"
      },
      "outputs": [
        {
          "output_type": "error",
          "ename": "ValueError",
          "evalue": "multi_class must be in ('ovo', 'ovr')",
          "traceback": [
            "\u001b[0;31m---------------------------------------------------------------------------\u001b[0m",
            "\u001b[0;31mValueError\u001b[0m                                Traceback (most recent call last)",
            "\u001b[0;32m/tmp/ipython-input-26-360153087.py\u001b[0m in \u001b[0;36m<cell line: 0>\u001b[0;34m()\u001b[0m\n\u001b[1;32m      4\u001b[0m \u001b[0mrf\u001b[0m\u001b[0;34m.\u001b[0m\u001b[0mfit\u001b[0m\u001b[0;34m(\u001b[0m\u001b[0mX_train\u001b[0m\u001b[0;34m,\u001b[0m \u001b[0my_train\u001b[0m\u001b[0;34m)\u001b[0m\u001b[0;34m\u001b[0m\u001b[0;34m\u001b[0m\u001b[0m\n\u001b[1;32m      5\u001b[0m \u001b[0my_prob\u001b[0m \u001b[0;34m=\u001b[0m \u001b[0mrf\u001b[0m\u001b[0;34m.\u001b[0m\u001b[0mpredict_proba\u001b[0m\u001b[0;34m(\u001b[0m\u001b[0mX_test\u001b[0m\u001b[0;34m)\u001b[0m\u001b[0;34m\u001b[0m\u001b[0;34m\u001b[0m\u001b[0m\n\u001b[0;32m----> 6\u001b[0;31m \u001b[0mprint\u001b[0m\u001b[0;34m(\u001b[0m\u001b[0;34m\"ROC AUC:\"\u001b[0m\u001b[0;34m,\u001b[0m \u001b[0mroc_auc_score\u001b[0m\u001b[0;34m(\u001b[0m\u001b[0my_test\u001b[0m\u001b[0;34m,\u001b[0m \u001b[0my_prob\u001b[0m\u001b[0;34m[\u001b[0m\u001b[0;34m:\u001b[0m\u001b[0;34m,\u001b[0m\u001b[0;36m1\u001b[0m\u001b[0;34m]\u001b[0m\u001b[0;34m)\u001b[0m\u001b[0;34m)\u001b[0m\u001b[0;34m\u001b[0m\u001b[0;34m\u001b[0m\u001b[0m\n\u001b[0m",
            "\u001b[0;32m/usr/local/lib/python3.11/dist-packages/sklearn/utils/_param_validation.py\u001b[0m in \u001b[0;36mwrapper\u001b[0;34m(*args, **kwargs)\u001b[0m\n\u001b[1;32m    214\u001b[0m                     )\n\u001b[1;32m    215\u001b[0m                 ):\n\u001b[0;32m--> 216\u001b[0;31m                     \u001b[0;32mreturn\u001b[0m \u001b[0mfunc\u001b[0m\u001b[0;34m(\u001b[0m\u001b[0;34m*\u001b[0m\u001b[0margs\u001b[0m\u001b[0;34m,\u001b[0m \u001b[0;34m**\u001b[0m\u001b[0mkwargs\u001b[0m\u001b[0;34m)\u001b[0m\u001b[0;34m\u001b[0m\u001b[0;34m\u001b[0m\u001b[0m\n\u001b[0m\u001b[1;32m    217\u001b[0m             \u001b[0;32mexcept\u001b[0m \u001b[0mInvalidParameterError\u001b[0m \u001b[0;32mas\u001b[0m \u001b[0me\u001b[0m\u001b[0;34m:\u001b[0m\u001b[0;34m\u001b[0m\u001b[0;34m\u001b[0m\u001b[0m\n\u001b[1;32m    218\u001b[0m                 \u001b[0;31m# When the function is just a wrapper around an estimator, we allow\u001b[0m\u001b[0;34m\u001b[0m\u001b[0;34m\u001b[0m\u001b[0m\n",
            "\u001b[0;32m/usr/local/lib/python3.11/dist-packages/sklearn/metrics/_ranking.py\u001b[0m in \u001b[0;36mroc_auc_score\u001b[0;34m(y_true, y_score, average, sample_weight, max_fpr, multi_class, labels)\u001b[0m\n\u001b[1;32m    632\u001b[0m             )\n\u001b[1;32m    633\u001b[0m         \u001b[0;32mif\u001b[0m \u001b[0mmulti_class\u001b[0m \u001b[0;34m==\u001b[0m \u001b[0;34m\"raise\"\u001b[0m\u001b[0;34m:\u001b[0m\u001b[0;34m\u001b[0m\u001b[0;34m\u001b[0m\u001b[0m\n\u001b[0;32m--> 634\u001b[0;31m             \u001b[0;32mraise\u001b[0m \u001b[0mValueError\u001b[0m\u001b[0;34m(\u001b[0m\u001b[0;34m\"multi_class must be in ('ovo', 'ovr')\"\u001b[0m\u001b[0;34m)\u001b[0m\u001b[0;34m\u001b[0m\u001b[0;34m\u001b[0m\u001b[0m\n\u001b[0m\u001b[1;32m    635\u001b[0m         return _multiclass_roc_auc_score(\n\u001b[1;32m    636\u001b[0m             \u001b[0my_true\u001b[0m\u001b[0;34m,\u001b[0m \u001b[0my_score\u001b[0m\u001b[0;34m,\u001b[0m \u001b[0mlabels\u001b[0m\u001b[0;34m,\u001b[0m \u001b[0mmulti_class\u001b[0m\u001b[0;34m,\u001b[0m \u001b[0maverage\u001b[0m\u001b[0;34m,\u001b[0m \u001b[0msample_weight\u001b[0m\u001b[0;34m\u001b[0m\u001b[0;34m\u001b[0m\u001b[0m\n",
            "\u001b[0;31mValueError\u001b[0m: multi_class must be in ('ovo', 'ovr')"
          ]
        }
      ],
      "source": [
        "from sklearn.metrics import roc_auc_score\n",
        "\n",
        "rf = RandomForestClassifier()\n",
        "rf.fit(X_train, y_train)\n",
        "y_prob = rf.predict_proba(X_test)\n",
        "print(\"ROC AUC:\", roc_auc_score(y_test, y_prob[:,1]))"
      ]
    },
    {
      "cell_type": "markdown",
      "id": "6f03e7b7",
      "metadata": {
        "id": "6f03e7b7"
      },
      "source": [
        "## Q42. Train a Bagging Classifier and evaluate its performance using cross-validation."
      ]
    },
    {
      "cell_type": "code",
      "execution_count": 27,
      "id": "74eacf67",
      "metadata": {
        "colab": {
          "base_uri": "https://localhost:8080/"
        },
        "id": "74eacf67",
        "outputId": "4f9504d6-c172-4a6a-db8b-ac04b88bdd2e"
      },
      "outputs": [
        {
          "output_type": "stream",
          "name": "stdout",
          "text": [
            "CV Accuracy: 0.9600000000000002\n"
          ]
        }
      ],
      "source": [
        "from sklearn.model_selection import cross_val_score\n",
        "\n",
        "scores = cross_val_score(BaggingClassifier(), X, y, cv=5)\n",
        "print(\"CV Accuracy:\", scores.mean())"
      ]
    },
    {
      "cell_type": "markdown",
      "id": "774d7902",
      "metadata": {
        "id": "774d7902"
      },
      "source": [
        "## Q43. Train a Random Forest Classifier and plot the Precision-Recall curve."
      ]
    },
    {
      "cell_type": "code",
      "execution_count": 28,
      "id": "d55a2ba5",
      "metadata": {
        "colab": {
          "base_uri": "https://localhost:8080/",
          "height": 391
        },
        "id": "d55a2ba5",
        "outputId": "2f216be4-172d-4af6-8b6c-a985328cdff4"
      },
      "outputs": [
        {
          "output_type": "error",
          "ename": "ValueError",
          "evalue": "multiclass format is not supported",
          "traceback": [
            "\u001b[0;31m---------------------------------------------------------------------------\u001b[0m",
            "\u001b[0;31mValueError\u001b[0m                                Traceback (most recent call last)",
            "\u001b[0;32m/tmp/ipython-input-28-3735095662.py\u001b[0m in \u001b[0;36m<cell line: 0>\u001b[0;34m()\u001b[0m\n\u001b[1;32m      3\u001b[0m \u001b[0;34m\u001b[0m\u001b[0m\n\u001b[1;32m      4\u001b[0m \u001b[0my_scores\u001b[0m \u001b[0;34m=\u001b[0m \u001b[0mrf\u001b[0m\u001b[0;34m.\u001b[0m\u001b[0mpredict_proba\u001b[0m\u001b[0;34m(\u001b[0m\u001b[0mX_test\u001b[0m\u001b[0;34m)\u001b[0m\u001b[0;34m[\u001b[0m\u001b[0;34m:\u001b[0m\u001b[0;34m,\u001b[0m\u001b[0;36m1\u001b[0m\u001b[0;34m]\u001b[0m\u001b[0;34m\u001b[0m\u001b[0;34m\u001b[0m\u001b[0m\n\u001b[0;32m----> 5\u001b[0;31m \u001b[0mprecision\u001b[0m\u001b[0;34m,\u001b[0m \u001b[0mrecall\u001b[0m\u001b[0;34m,\u001b[0m \u001b[0m_\u001b[0m \u001b[0;34m=\u001b[0m \u001b[0mprecision_recall_curve\u001b[0m\u001b[0;34m(\u001b[0m\u001b[0my_test\u001b[0m\u001b[0;34m,\u001b[0m \u001b[0my_scores\u001b[0m\u001b[0;34m)\u001b[0m\u001b[0;34m\u001b[0m\u001b[0;34m\u001b[0m\u001b[0m\n\u001b[0m\u001b[1;32m      6\u001b[0m \u001b[0mplt\u001b[0m\u001b[0;34m.\u001b[0m\u001b[0mplot\u001b[0m\u001b[0;34m(\u001b[0m\u001b[0mrecall\u001b[0m\u001b[0;34m,\u001b[0m \u001b[0mprecision\u001b[0m\u001b[0;34m)\u001b[0m\u001b[0;34m\u001b[0m\u001b[0;34m\u001b[0m\u001b[0m\n\u001b[1;32m      7\u001b[0m \u001b[0mplt\u001b[0m\u001b[0;34m.\u001b[0m\u001b[0mxlabel\u001b[0m\u001b[0;34m(\u001b[0m\u001b[0;34m\"Recall\"\u001b[0m\u001b[0;34m)\u001b[0m\u001b[0;34m\u001b[0m\u001b[0;34m\u001b[0m\u001b[0m\n",
            "\u001b[0;32m/usr/local/lib/python3.11/dist-packages/sklearn/utils/_param_validation.py\u001b[0m in \u001b[0;36mwrapper\u001b[0;34m(*args, **kwargs)\u001b[0m\n\u001b[1;32m    214\u001b[0m                     )\n\u001b[1;32m    215\u001b[0m                 ):\n\u001b[0;32m--> 216\u001b[0;31m                     \u001b[0;32mreturn\u001b[0m \u001b[0mfunc\u001b[0m\u001b[0;34m(\u001b[0m\u001b[0;34m*\u001b[0m\u001b[0margs\u001b[0m\u001b[0;34m,\u001b[0m \u001b[0;34m**\u001b[0m\u001b[0mkwargs\u001b[0m\u001b[0;34m)\u001b[0m\u001b[0;34m\u001b[0m\u001b[0;34m\u001b[0m\u001b[0m\n\u001b[0m\u001b[1;32m    217\u001b[0m             \u001b[0;32mexcept\u001b[0m \u001b[0mInvalidParameterError\u001b[0m \u001b[0;32mas\u001b[0m \u001b[0me\u001b[0m\u001b[0;34m:\u001b[0m\u001b[0;34m\u001b[0m\u001b[0;34m\u001b[0m\u001b[0m\n\u001b[1;32m    218\u001b[0m                 \u001b[0;31m# When the function is just a wrapper around an estimator, we allow\u001b[0m\u001b[0;34m\u001b[0m\u001b[0;34m\u001b[0m\u001b[0m\n",
            "\u001b[0;32m/usr/local/lib/python3.11/dist-packages/sklearn/metrics/_ranking.py\u001b[0m in \u001b[0;36mprecision_recall_curve\u001b[0;34m(y_true, y_score, pos_label, sample_weight, drop_intermediate, probas_pred)\u001b[0m\n\u001b[1;32m   1003\u001b[0m         \u001b[0my_score\u001b[0m \u001b[0;34m=\u001b[0m \u001b[0mprobas_pred\u001b[0m\u001b[0;34m\u001b[0m\u001b[0;34m\u001b[0m\u001b[0m\n\u001b[1;32m   1004\u001b[0m \u001b[0;34m\u001b[0m\u001b[0m\n\u001b[0;32m-> 1005\u001b[0;31m     fps, tps, thresholds = _binary_clf_curve(\n\u001b[0m\u001b[1;32m   1006\u001b[0m         \u001b[0my_true\u001b[0m\u001b[0;34m,\u001b[0m \u001b[0my_score\u001b[0m\u001b[0;34m,\u001b[0m \u001b[0mpos_label\u001b[0m\u001b[0;34m=\u001b[0m\u001b[0mpos_label\u001b[0m\u001b[0;34m,\u001b[0m \u001b[0msample_weight\u001b[0m\u001b[0;34m=\u001b[0m\u001b[0msample_weight\u001b[0m\u001b[0;34m\u001b[0m\u001b[0;34m\u001b[0m\u001b[0m\n\u001b[1;32m   1007\u001b[0m     )\n",
            "\u001b[0;32m/usr/local/lib/python3.11/dist-packages/sklearn/metrics/_ranking.py\u001b[0m in \u001b[0;36m_binary_clf_curve\u001b[0;34m(y_true, y_score, pos_label, sample_weight)\u001b[0m\n\u001b[1;32m    816\u001b[0m     \u001b[0my_type\u001b[0m \u001b[0;34m=\u001b[0m \u001b[0mtype_of_target\u001b[0m\u001b[0;34m(\u001b[0m\u001b[0my_true\u001b[0m\u001b[0;34m,\u001b[0m \u001b[0minput_name\u001b[0m\u001b[0;34m=\u001b[0m\u001b[0;34m\"y_true\"\u001b[0m\u001b[0;34m)\u001b[0m\u001b[0;34m\u001b[0m\u001b[0;34m\u001b[0m\u001b[0m\n\u001b[1;32m    817\u001b[0m     \u001b[0;32mif\u001b[0m \u001b[0;32mnot\u001b[0m \u001b[0;34m(\u001b[0m\u001b[0my_type\u001b[0m \u001b[0;34m==\u001b[0m \u001b[0;34m\"binary\"\u001b[0m \u001b[0;32mor\u001b[0m \u001b[0;34m(\u001b[0m\u001b[0my_type\u001b[0m \u001b[0;34m==\u001b[0m \u001b[0;34m\"multiclass\"\u001b[0m \u001b[0;32mand\u001b[0m \u001b[0mpos_label\u001b[0m \u001b[0;32mis\u001b[0m \u001b[0;32mnot\u001b[0m \u001b[0;32mNone\u001b[0m\u001b[0;34m)\u001b[0m\u001b[0;34m)\u001b[0m\u001b[0;34m:\u001b[0m\u001b[0;34m\u001b[0m\u001b[0;34m\u001b[0m\u001b[0m\n\u001b[0;32m--> 818\u001b[0;31m         \u001b[0;32mraise\u001b[0m \u001b[0mValueError\u001b[0m\u001b[0;34m(\u001b[0m\u001b[0;34m\"{0} format is not supported\"\u001b[0m\u001b[0;34m.\u001b[0m\u001b[0mformat\u001b[0m\u001b[0;34m(\u001b[0m\u001b[0my_type\u001b[0m\u001b[0;34m)\u001b[0m\u001b[0;34m)\u001b[0m\u001b[0;34m\u001b[0m\u001b[0;34m\u001b[0m\u001b[0m\n\u001b[0m\u001b[1;32m    819\u001b[0m \u001b[0;34m\u001b[0m\u001b[0m\n\u001b[1;32m    820\u001b[0m     \u001b[0mcheck_consistent_length\u001b[0m\u001b[0;34m(\u001b[0m\u001b[0my_true\u001b[0m\u001b[0;34m,\u001b[0m \u001b[0my_score\u001b[0m\u001b[0;34m,\u001b[0m \u001b[0msample_weight\u001b[0m\u001b[0;34m)\u001b[0m\u001b[0;34m\u001b[0m\u001b[0;34m\u001b[0m\u001b[0m\n",
            "\u001b[0;31mValueError\u001b[0m: multiclass format is not supported"
          ]
        }
      ],
      "source": [
        "from sklearn.metrics import precision_recall_curve\n",
        "import matplotlib.pyplot as plt\n",
        "\n",
        "y_scores = rf.predict_proba(X_test)[:,1]\n",
        "precision, recall, _ = precision_recall_curve(y_test, y_scores)\n",
        "plt.plot(recall, precision)\n",
        "plt.xlabel(\"Recall\")\n",
        "plt.ylabel(\"Precision\")\n",
        "plt.title(\"Precision-Recall Curve\")\n",
        "plt.grid(True)\n",
        "plt.show()"
      ]
    },
    {
      "cell_type": "markdown",
      "id": "dee5c542",
      "metadata": {
        "id": "dee5c542"
      },
      "source": [
        "## Q44. Train a Stacking Classifier with Random Forest and Logistic Regression and compare accuracy."
      ]
    },
    {
      "cell_type": "code",
      "execution_count": 29,
      "id": "ca7f87b4",
      "metadata": {
        "colab": {
          "base_uri": "https://localhost:8080/"
        },
        "id": "ca7f87b4",
        "outputId": "0b95fc9d-e295-459b-e80a-359d45d27eeb"
      },
      "outputs": [
        {
          "output_type": "stream",
          "name": "stdout",
          "text": [
            "Stacking Accuracy: 1.0\n"
          ]
        }
      ],
      "source": [
        "stack = StackingClassifier(estimators=[('rf', RandomForestClassifier()),\n",
        "                                             ('lr', LogisticRegression())],\n",
        "                                 final_estimator=LogisticRegression())\n",
        "stack.fit(X_train, y_train)\n",
        "print(\"Stacking Accuracy:\", stack.score(X_test, y_test))"
      ]
    },
    {
      "cell_type": "markdown",
      "id": "1ef3c3d1",
      "metadata": {
        "id": "1ef3c3d1"
      },
      "source": [
        "## Q45. Train a Bagging Regressor with different levels of bootstrap samples and compare performance."
      ]
    },
    {
      "cell_type": "code",
      "execution_count": 30,
      "id": "6016b80b",
      "metadata": {
        "colab": {
          "base_uri": "https://localhost:8080/"
        },
        "id": "6016b80b",
        "outputId": "4b100a41-88a9-4a7c-d482-a39a547299c3"
      },
      "outputs": [
        {
          "output_type": "stream",
          "name": "stdout",
          "text": [
            "Bootstrap=True: Score = 0.9990384615384615\n",
            "Bootstrap=False: Score = 1.0\n"
          ]
        }
      ],
      "source": [
        "for b in [True, False]:\n",
        "    model = BaggingRegressor(bootstrap=b)\n",
        "    model.fit(X_train, y_train)\n",
        "    print(f\"Bootstrap={b}: Score = {model.score(X_test, y_test)}\")"
      ]
    }
  ],
  "metadata": {
    "colab": {
      "provenance": [],
      "include_colab_link": true
    },
    "language_info": {
      "name": "python"
    },
    "kernelspec": {
      "name": "python3",
      "display_name": "Python 3"
    }
  },
  "nbformat": 4,
  "nbformat_minor": 5
}