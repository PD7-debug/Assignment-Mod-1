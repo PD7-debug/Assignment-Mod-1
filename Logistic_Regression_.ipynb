{
  "cells": [
    {
      "cell_type": "markdown",
      "metadata": {
        "id": "view-in-github",
        "colab_type": "text"
      },
      "source": [
        "<a href=\"https://colab.research.google.com/github/PD7-debug/Assignment-Mod-1/blob/main/Logistic_Regression_.ipynb\" target=\"_parent\"><img src=\"https://colab.research.google.com/assets/colab-badge.svg\" alt=\"Open In Colab\"/></a>"
      ]
    },
    {
      "cell_type": "markdown",
      "id": "73a22782",
      "metadata": {
        "id": "73a22782"
      },
      "source": [
        "# Theory Question"
      ]
    },
    {
      "cell_type": "markdown",
      "id": "4a820053",
      "metadata": {
        "id": "4a820053"
      },
      "source": [
        "### Theory Question 1: What is Logistic Regression, and how does it differ from Linear Regression"
      ]
    },
    {
      "cell_type": "markdown",
      "id": "4dab60dc",
      "metadata": {
        "id": "4dab60dc"
      },
      "source": [
        "Logistic Regression is a classification algorithm used to assign observations to a discrete set of classes. Unlike Linear Regression which outputs continuous values, Logistic Regression outputs probabilities using the Sigmoid function, making it ideal for binary and multiclass classification."
      ]
    },
    {
      "cell_type": "markdown",
      "id": "db043ac3",
      "metadata": {
        "id": "db043ac3"
      },
      "source": [
        "### Theory Question 2: What is the mathematical equation of Logistic Regression"
      ]
    },
    {
      "cell_type": "markdown",
      "id": "d9a29b04",
      "metadata": {
        "id": "d9a29b04"
      },
      "source": [
        "The mathematical equation of Logistic Regression is:\n",
        "\n",
        "\\[\n",
        "P(y=1|x) = \\sigma(w^T x + b) = \\frac{1}{1 + e^{-(w^T x + b)}}\n",
        "\\]\n",
        "\n",
        "where \\( \\sigma \\) is the sigmoid function."
      ]
    },
    {
      "cell_type": "markdown",
      "id": "417a5880",
      "metadata": {
        "id": "417a5880"
      },
      "source": [
        "### Theory Question 3: Why do we use the Sigmoid function in Logistic Regression"
      ]
    },
    {
      "cell_type": "markdown",
      "id": "16c26f9f",
      "metadata": {
        "id": "16c26f9f"
      },
      "source": [
        "The Sigmoid function maps any real value into the (0, 1) interval, making it useful for modeling probabilities in classification problems."
      ]
    },
    {
      "cell_type": "markdown",
      "id": "2257d8d8",
      "metadata": {
        "id": "2257d8d8"
      },
      "source": [
        "### Theory Question 4: What is the cost function of Logistic Regression"
      ]
    },
    {
      "cell_type": "markdown",
      "id": "9dc4240f",
      "metadata": {
        "id": "9dc4240f"
      },
      "source": [
        "The cost function for Logistic Regression is log loss (binary cross-entropy), which measures the performance of a classification model whose output is a probability value between 0 and 1."
      ]
    },
    {
      "cell_type": "markdown",
      "id": "964b7ead",
      "metadata": {
        "id": "964b7ead"
      },
      "source": [
        "### Theory Question 5: What is Regularization in Logistic Regression? Why is it needed"
      ]
    },
    {
      "cell_type": "markdown",
      "id": "2e179fae",
      "metadata": {
        "id": "2e179fae"
      },
      "source": [
        "Regularization is used to prevent overfitting by adding a penalty term to the loss function. It helps to keep the model simple and reduces variance."
      ]
    },
    {
      "cell_type": "markdown",
      "id": "8de5df87",
      "metadata": {
        "id": "8de5df87"
      },
      "source": [
        "### Theory Question 6: Explain the difference between Lasso, Ridge, and Elastic Net regression"
      ]
    },
    {
      "cell_type": "markdown",
      "id": "657f1021",
      "metadata": {
        "id": "657f1021"
      },
      "source": [
        "Lasso (L1) removes features by setting coefficients to zero. Ridge (L2) shrinks coefficients without setting them to zero. Elastic Net combines both L1 and L2 penalties."
      ]
    },
    {
      "cell_type": "markdown",
      "id": "d83976f3",
      "metadata": {
        "id": "d83976f3"
      },
      "source": [
        "### Theory Question 7: When should we use Elastic Net instead of Lasso or Ridge"
      ]
    },
    {
      "cell_type": "markdown",
      "id": "ff24690c",
      "metadata": {
        "id": "ff24690c"
      },
      "source": [
        "Elastic Net is useful when there are multiple correlated features. It combines benefits of both L1 and L2 regularization."
      ]
    },
    {
      "cell_type": "markdown",
      "id": "4ad041a9",
      "metadata": {
        "id": "4ad041a9"
      },
      "source": [
        "### Theory Question 8: What is the impact of the regularization parameter (λ) in Logistic Regression"
      ]
    },
    {
      "cell_type": "markdown",
      "id": "86545249",
      "metadata": {
        "id": "86545249"
      },
      "source": [
        "The regularization parameter \\( \\lambda \\) controls the strength of the penalty. Higher values increase regularization, which can reduce overfitting but may also underfit the data."
      ]
    },
    {
      "cell_type": "markdown",
      "id": "6f1c6e5b",
      "metadata": {
        "id": "6f1c6e5b"
      },
      "source": [
        "### Theory Question 9: What are the key assumptions of Logistic Regression"
      ]
    },
    {
      "cell_type": "markdown",
      "id": "98abb46a",
      "metadata": {
        "id": "98abb46a"
      },
      "source": [
        "Key assumptions include: no multicollinearity, linear relationship between independent variables and log odds, and a large sample size."
      ]
    },
    {
      "cell_type": "markdown",
      "id": "edeef8e5",
      "metadata": {
        "id": "edeef8e5"
      },
      "source": [
        "### Theory Question 10: What are some alternatives to Logistic Regression for classification tasks"
      ]
    },
    {
      "cell_type": "markdown",
      "id": "90549e49",
      "metadata": {
        "id": "90549e49"
      },
      "source": [
        "Alternatives include Decision Trees, Random Forests, Support Vector Machines, Naive Bayes, and Neural Networks."
      ]
    },
    {
      "cell_type": "markdown",
      "id": "ca7b3655",
      "metadata": {
        "id": "ca7b3655"
      },
      "source": [
        "### Theory Question 11: What are Classification Evaluation Metrics"
      ]
    },
    {
      "cell_type": "markdown",
      "id": "c8e1e1f6",
      "metadata": {
        "id": "c8e1e1f6"
      },
      "source": [
        "Common metrics: Accuracy, Precision, Recall, F1-score, ROC-AUC, Confusion Matrix."
      ]
    },
    {
      "cell_type": "markdown",
      "id": "350e1550",
      "metadata": {
        "id": "350e1550"
      },
      "source": [
        "### Theory Question 12: How does class imbalance affect Logistic Regression"
      ]
    },
    {
      "cell_type": "markdown",
      "id": "a2c83298",
      "metadata": {
        "id": "a2c83298"
      },
      "source": [
        "Class imbalance can bias the model toward the majority class. Solutions include resampling techniques and using class weights."
      ]
    },
    {
      "cell_type": "markdown",
      "id": "3598355a",
      "metadata": {
        "id": "3598355a"
      },
      "source": [
        "### Theory Question 13: What is Hyperparameter Tuning in Logistic Regression"
      ]
    },
    {
      "cell_type": "markdown",
      "id": "40680a55",
      "metadata": {
        "id": "40680a55"
      },
      "source": [
        "Hyperparameter Tuning adjusts model parameters (like C, solver) to improve performance using methods such as GridSearchCV and RandomizedSearchCV."
      ]
    },
    {
      "cell_type": "markdown",
      "id": "0115e533",
      "metadata": {
        "id": "0115e533"
      },
      "source": [
        "### Theory Question 14: What are different solvers in Logistic Regression? Which one should be used"
      ]
    },
    {
      "cell_type": "markdown",
      "id": "61737478",
      "metadata": {
        "id": "61737478"
      },
      "source": [
        "Solvers include: liblinear (small datasets), saga (supports all penalties), lbfgs (multiclass). Choice depends on dataset size and penalty type."
      ]
    },
    {
      "cell_type": "markdown",
      "id": "97fc34bf",
      "metadata": {
        "id": "97fc34bf"
      },
      "source": [
        "### Theory Question 15: How is Logistic Regression extended for multiclass classification"
      ]
    },
    {
      "cell_type": "markdown",
      "id": "b07d9f1c",
      "metadata": {
        "id": "b07d9f1c"
      },
      "source": [
        "Multiclass classification can be handled using One-vs-Rest (OvR) or multinomial (softmax) strategies."
      ]
    },
    {
      "cell_type": "markdown",
      "id": "1bbe2e5f",
      "metadata": {
        "id": "1bbe2e5f"
      },
      "source": [
        "### Theory Question 16: What are the advantages and disadvantages of Logistic Regression"
      ]
    },
    {
      "cell_type": "markdown",
      "id": "c16cd013",
      "metadata": {
        "id": "c16cd013"
      },
      "source": [
        "Advantages: simple, fast, interpretable. Disadvantages: limited to linear decision boundaries, sensitive to outliers."
      ]
    },
    {
      "cell_type": "markdown",
      "id": "eb8fc8c5",
      "metadata": {
        "id": "eb8fc8c5"
      },
      "source": [
        "### Theory Question 17: What are some use cases of Logistic Regression"
      ]
    },
    {
      "cell_type": "markdown",
      "id": "b3e43d2c",
      "metadata": {
        "id": "b3e43d2c"
      },
      "source": [
        "Use cases: spam detection, credit scoring, disease diagnosis, customer churn prediction."
      ]
    },
    {
      "cell_type": "markdown",
      "id": "86aaac0e",
      "metadata": {
        "id": "86aaac0e"
      },
      "source": [
        "### Theory Question 18: What is the difference between Softmax Regression and Logistic Regression"
      ]
    },
    {
      "cell_type": "markdown",
      "id": "88388d0d",
      "metadata": {
        "id": "88388d0d"
      },
      "source": [
        "Softmax Regression generalizes Logistic Regression to multiclass problems using the softmax function instead of sigmoid."
      ]
    },
    {
      "cell_type": "markdown",
      "id": "394c82c9",
      "metadata": {
        "id": "394c82c9"
      },
      "source": [
        "### Theory Question 19: How do we choose between One-vs-Rest (OvR) and Softmax for multiclass classification"
      ]
    },
    {
      "cell_type": "markdown",
      "id": "70ba32d2",
      "metadata": {
        "id": "70ba32d2"
      },
      "source": [
        "OvR is simpler and faster. Softmax is more accurate for mutually exclusive classes and larger datasets."
      ]
    },
    {
      "cell_type": "markdown",
      "id": "3f610dcd",
      "metadata": {
        "id": "3f610dcd"
      },
      "source": [
        "### Theory Question 20: How do we interpret coefficients in Logistic Regression?"
      ]
    },
    {
      "cell_type": "markdown",
      "id": "af4761a7",
      "metadata": {
        "id": "af4761a7"
      },
      "source": [
        "Each coefficient represents the change in log-odds of the outcome for a one-unit increase in the predictor variable."
      ]
    },
    {
      "cell_type": "markdown",
      "source": [
        "# Practical Question"
      ],
      "metadata": {
        "id": "BrzwUUIvBmn-"
      },
      "id": "BrzwUUIvBmn-"
    },
    {
      "cell_type": "markdown",
      "id": "122e46b1",
      "metadata": {
        "id": "122e46b1"
      },
      "source": [
        "### Practical Question 1: Write a Python program that loads a dataset, splits it into training and testing sets, applies Logistic Regression, and prints the model accuracy"
      ]
    },
    {
      "cell_type": "code",
      "execution_count": 1,
      "id": "4d64c4cf",
      "metadata": {
        "colab": {
          "base_uri": "https://localhost:8080/"
        },
        "id": "4d64c4cf",
        "outputId": "e11bb49d-64b9-4627-c6c0-b472e51dc4b0"
      },
      "outputs": [
        {
          "output_type": "stream",
          "name": "stdout",
          "text": [
            "Accuracy: 1.0\n"
          ]
        }
      ],
      "source": [
        "from sklearn.datasets import load_iris\n",
        "from sklearn.linear_model import LogisticRegression\n",
        "from sklearn.model_selection import train_test_split\n",
        "from sklearn.metrics import accuracy_score\n",
        "\n",
        "X, y = load_iris(return_X_y=True)\n",
        "X_train, X_test, y_train, y_test = train_test_split(X, y, test_size=0.2, random_state=42)\n",
        "\n",
        "model = LogisticRegression(max_iter=200)\n",
        "model.fit(X_train, y_train)\n",
        "y_pred = model.predict(X_test)\n",
        "print(\"Accuracy:\", accuracy_score(y_test, y_pred))"
      ]
    },
    {
      "cell_type": "markdown",
      "id": "27cda582",
      "metadata": {
        "id": "27cda582"
      },
      "source": [
        "### Practical Question 2: Write a Python program to apply L1 regularization (Lasso) on a dataset using LogisticRegression(penalty='l1') and print the model accuracy"
      ]
    },
    {
      "cell_type": "code",
      "execution_count": 2,
      "id": "2bfc8915",
      "metadata": {
        "colab": {
          "base_uri": "https://localhost:8080/"
        },
        "id": "2bfc8915",
        "outputId": "cd1ad9f5-9fc2-4543-c10e-c9cf9b4ab1c0"
      },
      "outputs": [
        {
          "output_type": "stream",
          "name": "stdout",
          "text": [
            "Accuracy: 1.0\n"
          ]
        }
      ],
      "source": [
        "from sklearn.linear_model import LogisticRegression\n",
        "model = LogisticRegression(penalty='l1', solver='liblinear', max_iter=200)\n",
        "model.fit(X_train, y_train)\n",
        "print(\"Accuracy:\", model.score(X_test, y_test))"
      ]
    },
    {
      "cell_type": "markdown",
      "id": "369646f0",
      "metadata": {
        "id": "369646f0"
      },
      "source": [
        "### Practical Question 3: Write a Python program to train Logistic Regression with L2 regularization (Ridge) using LogisticRegression(penalty='l2'). Print model accuracy and coefficients"
      ]
    },
    {
      "cell_type": "code",
      "execution_count": 3,
      "id": "963c9f3b",
      "metadata": {
        "colab": {
          "base_uri": "https://localhost:8080/"
        },
        "id": "963c9f3b",
        "outputId": "ede3fdcd-e24e-4a63-8544-bd857105f10e"
      },
      "outputs": [
        {
          "output_type": "stream",
          "name": "stdout",
          "text": [
            "Accuracy: 1.0\n",
            "Coefficients: [[ 0.3711229   1.409712   -2.15210117 -0.95474179]\n",
            " [ 0.49400451 -1.58897112  0.43717015 -1.11187838]\n",
            " [-1.55895271 -1.58893375  2.39874554  2.15556209]]\n"
          ]
        }
      ],
      "source": [
        "model = LogisticRegression(penalty='l2', solver='liblinear', max_iter=200)\n",
        "model.fit(X_train, y_train)\n",
        "print(\"Accuracy:\", model.score(X_test, y_test))\n",
        "print(\"Coefficients:\", model.coef_)"
      ]
    },
    {
      "cell_type": "markdown",
      "id": "a2ee13e0",
      "metadata": {
        "id": "a2ee13e0"
      },
      "source": [
        "### Practical Question 4: Write a Python program to train Logistic Regression with Elastic Net Regularization (penalty='elasticnet')"
      ]
    },
    {
      "cell_type": "code",
      "execution_count": 4,
      "id": "528d74b2",
      "metadata": {
        "colab": {
          "base_uri": "https://localhost:8080/"
        },
        "id": "528d74b2",
        "outputId": "c457a040-3ccc-4bfc-e814-47a35633db9b"
      },
      "outputs": [
        {
          "output_type": "stream",
          "name": "stdout",
          "text": [
            "Accuracy: 1.0\n"
          ]
        },
        {
          "output_type": "stream",
          "name": "stderr",
          "text": [
            "/usr/local/lib/python3.11/dist-packages/sklearn/linear_model/_sag.py:348: ConvergenceWarning: The max_iter was reached which means the coef_ did not converge\n",
            "  warnings.warn(\n"
          ]
        }
      ],
      "source": [
        "model = LogisticRegression(penalty='elasticnet', solver='saga', l1_ratio=0.5, max_iter=200)\n",
        "model.fit(X_train, y_train)\n",
        "print(\"Accuracy:\", model.score(X_test, y_test))"
      ]
    },
    {
      "cell_type": "markdown",
      "id": "4e45acca",
      "metadata": {
        "id": "4e45acca"
      },
      "source": [
        "### Practical Question 5: Write a Python program to train a Logistic Regression model for multiclass classification using multi_class='ovr'"
      ]
    },
    {
      "cell_type": "code",
      "execution_count": 5,
      "id": "cc32e366",
      "metadata": {
        "colab": {
          "base_uri": "https://localhost:8080/"
        },
        "id": "cc32e366",
        "outputId": "8ef48cdf-0c8c-41b5-c21d-dad405d3b013"
      },
      "outputs": [
        {
          "output_type": "stream",
          "name": "stderr",
          "text": [
            "/usr/local/lib/python3.11/dist-packages/sklearn/linear_model/_logistic.py:1256: FutureWarning: 'multi_class' was deprecated in version 1.5 and will be removed in 1.7. Use OneVsRestClassifier(LogisticRegression(..)) instead. Leave it to its default value to avoid this warning.\n",
            "  warnings.warn(\n"
          ]
        },
        {
          "output_type": "stream",
          "name": "stdout",
          "text": [
            "Accuracy: 0.9666666666666667\n"
          ]
        }
      ],
      "source": [
        "model = LogisticRegression(multi_class='ovr', max_iter=200)\n",
        "model.fit(X_train, y_train)\n",
        "print(\"Accuracy:\", model.score(X_test, y_test))"
      ]
    },
    {
      "cell_type": "markdown",
      "id": "56ce2d85",
      "metadata": {
        "id": "56ce2d85"
      },
      "source": [
        "### Practical Question 6: Write a Python program to apply GridSearchCV to tune the hyperparameters (C and penalty) of Logistic Regression. Print the best parameters and accuracy"
      ]
    },
    {
      "cell_type": "code",
      "execution_count": 6,
      "id": "ff4f12d1",
      "metadata": {
        "colab": {
          "base_uri": "https://localhost:8080/"
        },
        "id": "ff4f12d1",
        "outputId": "5b095066-ad36-4333-95a0-4d142949befd"
      },
      "outputs": [
        {
          "output_type": "stream",
          "name": "stdout",
          "text": [
            "Best Params: {'C': 1, 'penalty': 'l1', 'solver': 'liblinear'}\n",
            "Best Accuracy: 0.9500000000000001\n"
          ]
        }
      ],
      "source": [
        "from sklearn.model_selection import GridSearchCV\n",
        "param_grid = {'C': [0.1, 1, 10], 'penalty': ['l1', 'l2'], 'solver': ['liblinear']}\n",
        "grid = GridSearchCV(LogisticRegression(max_iter=200), param_grid, cv=3)\n",
        "grid.fit(X_train, y_train)\n",
        "print(\"Best Params:\", grid.best_params_)\n",
        "print(\"Best Accuracy:\", grid.best_score_)"
      ]
    },
    {
      "cell_type": "markdown",
      "id": "74fa2810",
      "metadata": {
        "id": "74fa2810"
      },
      "source": [
        "### Practical Question 7: Write a Python program to evaluate Logistic Regression using Stratified K-Fold Cross-Validation. Print the average accuracy"
      ]
    },
    {
      "cell_type": "code",
      "execution_count": 7,
      "id": "e9858da4",
      "metadata": {
        "colab": {
          "base_uri": "https://localhost:8080/"
        },
        "id": "e9858da4",
        "outputId": "761ee421-a526-4f2a-c03f-f10a70cd4ed6"
      },
      "outputs": [
        {
          "output_type": "stream",
          "name": "stdout",
          "text": [
            "Average Accuracy: 0.9733333333333334\n"
          ]
        }
      ],
      "source": [
        "from sklearn.model_selection import StratifiedKFold, cross_val_score\n",
        "cv = StratifiedKFold(n_splits=5)\n",
        "model = LogisticRegression(max_iter=200)\n",
        "scores = cross_val_score(model, X, y, cv=cv)\n",
        "print(\"Average Accuracy:\", scores.mean())"
      ]
    },
    {
      "cell_type": "markdown",
      "id": "1fdc7e5c",
      "metadata": {
        "id": "1fdc7e5c"
      },
      "source": [
        "### Practical Question 8: Write a Python program to load a dataset from a CSV file, apply Logistic Regression, and evaluate its accuracy."
      ]
    },
    {
      "cell_type": "code",
      "execution_count": 8,
      "id": "dceb936f",
      "metadata": {
        "id": "dceb936f"
      },
      "outputs": [],
      "source": [
        "# Load a CSV dataset (you must provide your own CSV file with target column)\n",
        "# import pandas as pd\n",
        "# df = pd.read_csv('your_dataset.csv')\n",
        "# X = df.drop('target', axis=1)\n",
        "# y = df['target']\n",
        "# model = LogisticRegression(max_iter=200)\n",
        "# model.fit(X, y)\n",
        "# print(\"Accuracy:\", model.score(X, y))"
      ]
    },
    {
      "cell_type": "markdown",
      "id": "b1d4454a",
      "metadata": {
        "id": "b1d4454a"
      },
      "source": [
        "### Practical Question 9: Write a Python program to apply RandomizedSearchCV for tuning hyperparameters (C, penalty, solver) in Logistic Regression. Print the best parameters and accuracy"
      ]
    },
    {
      "cell_type": "code",
      "execution_count": 9,
      "id": "696dfdce",
      "metadata": {
        "colab": {
          "base_uri": "https://localhost:8080/"
        },
        "id": "696dfdce",
        "outputId": "c375698a-e8e7-4455-84aa-e331fb3ecbe9"
      },
      "outputs": [
        {
          "output_type": "stream",
          "name": "stdout",
          "text": [
            "Best Params: {'solver': 'liblinear', 'penalty': 'l1', 'C': 1}\n",
            "Best Accuracy: 0.9500000000000001\n"
          ]
        }
      ],
      "source": [
        "from sklearn.model_selection import RandomizedSearchCV\n",
        "param_dist = {'C': [0.1, 1, 10], 'penalty': ['l1', 'l2'], 'solver': ['liblinear']}\n",
        "rand = RandomizedSearchCV(LogisticRegression(max_iter=200), param_distributions=param_dist, n_iter=5, cv=3)\n",
        "rand.fit(X_train, y_train)\n",
        "print(\"Best Params:\", rand.best_params_)\n",
        "print(\"Best Accuracy:\", rand.best_score_)"
      ]
    },
    {
      "cell_type": "markdown",
      "id": "70b27098",
      "metadata": {
        "id": "70b27098"
      },
      "source": [
        "### Practical Question 10: Write a Python program to implement One-vs-One (OvO) Multiclass Logistic Regression and print accuracy"
      ]
    },
    {
      "cell_type": "code",
      "execution_count": 10,
      "id": "0b79646d",
      "metadata": {
        "colab": {
          "base_uri": "https://localhost:8080/"
        },
        "id": "0b79646d",
        "outputId": "51f4be88-f281-4615-fc61-0c8719e208b1"
      },
      "outputs": [
        {
          "output_type": "stream",
          "name": "stdout",
          "text": [
            "Accuracy: 1.0\n"
          ]
        }
      ],
      "source": [
        "from sklearn.multiclass import OneVsOneClassifier\n",
        "ovo = OneVsOneClassifier(LogisticRegression(max_iter=200))\n",
        "ovo.fit(X_train, y_train)\n",
        "print(\"Accuracy:\", ovo.score(X_test, y_test))"
      ]
    },
    {
      "cell_type": "markdown",
      "id": "f6d3a376",
      "metadata": {
        "id": "f6d3a376"
      },
      "source": [
        "### Practical Question 11: Write a Python program to train a Logistic Regression model and visualize the confusion matrix for binary classification"
      ]
    },
    {
      "cell_type": "code",
      "execution_count": 11,
      "id": "510dc367",
      "metadata": {
        "colab": {
          "base_uri": "https://localhost:8080/",
          "height": 608
        },
        "id": "510dc367",
        "outputId": "c2fb756c-3040-43fa-d96e-28a705a518ff"
      },
      "outputs": [
        {
          "output_type": "error",
          "ename": "NameError",
          "evalue": "name 'plt' is not defined",
          "traceback": [
            "\u001b[0;31m---------------------------------------------------------------------------\u001b[0m",
            "\u001b[0;31mNameError\u001b[0m                                 Traceback (most recent call last)",
            "\u001b[0;32m/tmp/ipython-input-11-1492772994.py\u001b[0m in \u001b[0;36m<cell line: 0>\u001b[0;34m()\u001b[0m\n\u001b[1;32m      4\u001b[0m \u001b[0my_pred\u001b[0m \u001b[0;34m=\u001b[0m \u001b[0mmodel\u001b[0m\u001b[0;34m.\u001b[0m\u001b[0mpredict\u001b[0m\u001b[0;34m(\u001b[0m\u001b[0mX_test\u001b[0m\u001b[0;34m)\u001b[0m\u001b[0;34m\u001b[0m\u001b[0;34m\u001b[0m\u001b[0m\n\u001b[1;32m      5\u001b[0m \u001b[0mConfusionMatrixDisplay\u001b[0m\u001b[0;34m.\u001b[0m\u001b[0mfrom_predictions\u001b[0m\u001b[0;34m(\u001b[0m\u001b[0my_test\u001b[0m\u001b[0;34m,\u001b[0m \u001b[0my_pred\u001b[0m\u001b[0;34m)\u001b[0m\u001b[0;34m\u001b[0m\u001b[0;34m\u001b[0m\u001b[0m\n\u001b[0;32m----> 6\u001b[0;31m \u001b[0mplt\u001b[0m\u001b[0;34m.\u001b[0m\u001b[0mshow\u001b[0m\u001b[0;34m(\u001b[0m\u001b[0;34m)\u001b[0m\u001b[0;34m\u001b[0m\u001b[0;34m\u001b[0m\u001b[0m\n\u001b[0m",
            "\u001b[0;31mNameError\u001b[0m: name 'plt' is not defined"
          ]
        },
        {
          "output_type": "display_data",
          "data": {
            "text/plain": [
              "<Figure size 640x480 with 2 Axes>"
            ],
            "image/png": "[encoded data removed]"
          },
          "metadata": {}
        }
      ],
      "source": [
        "from sklearn.metrics import ConfusionMatrixDisplay\n",
        "model = LogisticRegression(max_iter=200)\n",
        "model.fit(X_train, y_train)\n",
        "y_pred = model.predict(X_test)\n",
        "ConfusionMatrixDisplay.from_predictions(y_test, y_pred)\n",
        "plt.show()"
      ]
    },
    {
      "cell_type": "markdown",
      "id": "8c792c36",
      "metadata": {
        "id": "8c792c36"
      },
      "source": [
        "### Practical Question 12: Write a Python program to train a Logistic Regression model and evaluate its performance using Precision, Recall, and F1-Score"
      ]
    },
    {
      "cell_type": "code",
      "execution_count": 17,
      "id": "64690956",
      "metadata": {
        "colab": {
          "base_uri": "https://localhost:8080/"
        },
        "id": "64690956",
        "outputId": "b5005970-1c0f-4218-f033-e0aa98432c2a"
      },
      "outputs": [
        {
          "output_type": "stream",
          "name": "stdout",
          "text": [
            "Precision: 0.9459\n",
            "Recall: 0.9859\n",
            "F1-Score: 0.9655\n",
            "\n",
            "Classification Report:\n",
            "              precision    recall  f1-score   support\n",
            "\n",
            "   malignant       0.97      0.91      0.94        43\n",
            "      benign       0.95      0.99      0.97        71\n",
            "\n",
            "    accuracy                           0.96       114\n",
            "   macro avg       0.96      0.95      0.95       114\n",
            "weighted avg       0.96      0.96      0.96       114\n",
            "\n"
          ]
        }
      ],
      "source": [
        "import numpy as np\n",
        "import pandas as pd\n",
        "from sklearn.datasets import load_breast_cancer\n",
        "from sklearn.model_selection import train_test_split\n",
        "from sklearn.linear_model import LogisticRegression\n",
        "from sklearn.metrics import precision_score, recall_score, f1_score, classification_report\n",
        "\n",
        "# Load dataset\n",
        "data = load_breast_cancer()\n",
        "X = data.data\n",
        "y = data.target\n",
        "\n",
        "# Split dataset into train and test sets\n",
        "X_train, X_test, y_train, y_test = train_test_split(X, y, test_size=0.2, random_state=42)\n",
        "\n",
        "# Initialize and train Logistic Regression model\n",
        "model = LogisticRegression(max_iter=10000)\n",
        "model.fit(X_train, y_train)\n",
        "\n",
        "# Predict on test set\n",
        "y_pred = model.predict(X_test)\n",
        "\n",
        "# Calculate evaluation metrics\n",
        "precision = precision_score(y_test, y_pred)\n",
        "recall = recall_score(y_test, y_pred)\n",
        "f1 = f1_score(y_test, y_pred)\n",
        "\n",
        "# Print evaluation results\n",
        "print(\"Precision: {:.4f}\".format(precision))\n",
        "print(\"Recall: {:.4f}\".format(recall))\n",
        "print(\"F1-Score: {:.4f}\".format(f1))\n",
        "print(\"\\nClassification Report:\")\n",
        "print(classification_report(y_test, y_pred, target_names=data.target_names))\n"
      ]
    },
    {
      "cell_type": "markdown",
      "id": "a75c8839",
      "metadata": {
        "id": "a75c8839"
      },
      "source": [
        "### Practical Question 13: Write a Python program to train a Logistic Regression model on imbalanced data and apply class weights to improve model performance"
      ]
    },
    {
      "cell_type": "code",
      "execution_count": 18,
      "id": "ce176b4c",
      "metadata": {
        "colab": {
          "base_uri": "https://localhost:8080/"
        },
        "id": "ce176b4c",
        "outputId": "e6f2790c-e476-4ef4-f249-fe5ce1a956d3"
      },
      "outputs": [
        {
          "output_type": "stream",
          "name": "stdout",
          "text": [
            "Accuracy: 0.9736842105263158\n"
          ]
        },
        {
          "output_type": "stream",
          "name": "stderr",
          "text": [
            "/usr/local/lib/python3.11/dist-packages/sklearn/linear_model/_logistic.py:465: ConvergenceWarning: lbfgs failed to converge (status=1):\n",
            "STOP: TOTAL NO. OF ITERATIONS REACHED LIMIT.\n",
            "\n",
            "Increase the number of iterations (max_iter) or scale the data as shown in:\n",
            "    https://scikit-learn.org/stable/modules/preprocessing.html\n",
            "Please also refer to the documentation for alternative solver options:\n",
            "    https://scikit-learn.org/stable/modules/linear_model.html#logistic-regression\n",
            "  n_iter_i = _check_optimize_result(\n"
          ]
        }
      ],
      "source": [
        "model = LogisticRegression(class_weight='balanced', max_iter=200)\n",
        "model.fit(X_train, y_train)\n",
        "print(\"Accuracy:\", model.score(X_test, y_test))"
      ]
    },
    {
      "cell_type": "markdown",
      "id": "121252e0",
      "metadata": {
        "id": "121252e0"
      },
      "source": [
        "### Practical Question 14: Write a Python program to train Logistic Regression on the Titanic dataset, handle missing values, and evaluate performance"
      ]
    },
    {
      "cell_type": "code",
      "execution_count": 19,
      "id": "d43c451f",
      "metadata": {
        "id": "d43c451f"
      },
      "outputs": [],
      "source": [
        "# Load and clean Titanic dataset example\n",
        "# import seaborn as sns\n",
        "# df = sns.load_dataset(\"titanic\").dropna(subset=[\"age\", \"fare\", \"embarked\", \"sex\", \"survived\"])\n",
        "# X = pd.get_dummies(df[[\"age\", \"fare\", \"embarked\", \"sex\"]], drop_first=True)\n",
        "# y = df[\"survived\"]\n",
        "# model = LogisticRegression(max_iter=200)\n",
        "# model.fit(X, y)\n",
        "# print(\"Accuracy:\", model.score(X, y))"
      ]
    },
    {
      "cell_type": "markdown",
      "id": "9f92c982",
      "metadata": {
        "id": "9f92c982"
      },
      "source": [
        "### Practical Question 15: Write a Python program to apply feature scaling (Standardization) before training a Logistic Regression model. Evaluate its accuracy and compare results with and without scaling"
      ]
    },
    {
      "cell_type": "code",
      "execution_count": 21,
      "id": "d2298666",
      "metadata": {
        "colab": {
          "base_uri": "https://localhost:8080/"
        },
        "id": "d2298666",
        "outputId": "90a11196-8699-4b1f-8e84-2792aeb5ca4b"
      },
      "outputs": [
        {
          "output_type": "stream",
          "name": "stdout",
          "text": [
            "Accuracy WITHOUT Scaling: 0.9561\n",
            "Accuracy WITH Scaling:    0.9737\n",
            "\n",
            "✅ Feature scaling improved the model's performance.\n"
          ]
        }
      ],
      "source": [
        "import numpy as np\n",
        "from sklearn.datasets import load_breast_cancer\n",
        "from sklearn.model_selection import train_test_split\n",
        "from sklearn.linear_model import LogisticRegression\n",
        "from sklearn.preprocessing import StandardScaler\n",
        "from sklearn.metrics import accuracy_score\n",
        "\n",
        "# Load the Breast Cancer dataset\n",
        "data = load_breast_cancer()\n",
        "X = data.data\n",
        "y = data.target\n",
        "\n",
        "# Split into training and test sets\n",
        "X_train, X_test, y_train, y_test = train_test_split(X, y, test_size=0.2, random_state=42)\n",
        "\n",
        "# -------------------------------\n",
        "# Model WITHOUT Feature Scaling\n",
        "# -------------------------------\n",
        "model_no_scaling = LogisticRegression(max_iter=10000)\n",
        "model_no_scaling.fit(X_train, y_train)\n",
        "y_pred_no_scaling = model_no_scaling.predict(X_test)\n",
        "accuracy_no_scaling = accuracy_score(y_test, y_pred_no_scaling)\n",
        "\n",
        "# -------------------------------\n",
        "# Model WITH Feature Scaling\n",
        "# -------------------------------\n",
        "scaler = StandardScaler()\n",
        "X_train_scaled = scaler.fit_transform(X_train)\n",
        "X_test_scaled = scaler.transform(X_test)\n",
        "\n",
        "model_with_scaling = LogisticRegression(max_iter=10000)\n",
        "model_with_scaling.fit(X_train_scaled, y_train)\n",
        "y_pred_scaled = model_with_scaling.predict(X_test_scaled)\n",
        "accuracy_with_scaling = accuracy_score(y_test, y_pred_scaled)\n",
        "\n",
        "# -------------------------------\n",
        "# Print and Compare Results\n",
        "# -------------------------------\n",
        "print(\"Accuracy WITHOUT Scaling: {:.4f}\".format(accuracy_no_scaling))\n",
        "print(\"Accuracy WITH Scaling:    {:.4f}\".format(accuracy_with_scaling))\n",
        "\n",
        "if accuracy_with_scaling > accuracy_no_scaling:\n",
        "    print(\"\\n✅ Feature scaling improved the model's performance.\")\n",
        "elif accuracy_with_scaling < accuracy_no_scaling:\n",
        "    print(\"\\n⚠️  Feature scaling decreased the model's performance.\")\n",
        "else:\n",
        "    print(\"\\n➖ Feature scaling had no effect on accuracy.\")\n"
      ]
    },
    {
      "cell_type": "markdown",
      "id": "7e738757",
      "metadata": {
        "id": "7e738757"
      },
      "source": [
        "### Practical Question 16: Write a Python program to train Logistic Regression and evaluate its performance using ROC-AUC score"
      ]
    },
    {
      "cell_type": "code",
      "execution_count": 23,
      "id": "96b5866f",
      "metadata": {
        "colab": {
          "base_uri": "https://localhost:8080/",
          "height": 489
        },
        "id": "96b5866f",
        "outputId": "a536bba7-77dc-49a7-8c7e-ebf5514279c6"
      },
      "outputs": [
        {
          "output_type": "stream",
          "name": "stdout",
          "text": [
            "ROC-AUC Score: 0.9977\n"
          ]
        },
        {
          "output_type": "display_data",
          "data": {
            "text/plain": [
              "<Figure size 640x480 with 1 Axes>"
            ],
            "image/png": "[encoded data removed]"
          },
          "metadata": {}
        }
      ],
      "source": [
        "import numpy as np\n",
        "from sklearn.datasets import load_breast_cancer\n",
        "from sklearn.model_selection import train_test_split\n",
        "from sklearn.linear_model import LogisticRegression\n",
        "from sklearn.metrics import roc_auc_score, roc_curve\n",
        "import matplotlib.pyplot as plt\n",
        "\n",
        "# Load dataset\n",
        "data = load_breast_cancer()\n",
        "X = data.data\n",
        "y = data.target\n",
        "\n",
        "# Split data\n",
        "X_train, X_test, y_train, y_test = train_test_split(X, y, test_size=0.2, random_state=42)\n",
        "\n",
        "# Train Logistic Regression\n",
        "model = LogisticRegression(max_iter=10000)\n",
        "model.fit(X_train, y_train)\n",
        "\n",
        "# Predict probabilities\n",
        "y_probs = model.predict_proba(X_test)[:, 1]  # Probability for class 1\n",
        "\n",
        "# Compute ROC-AUC score\n",
        "roc_auc = roc_auc_score(y_test, y_probs)\n",
        "print(\"ROC-AUC Score: {:.4f}\".format(roc_auc))\n",
        "\n",
        "# Plot ROC Curve\n",
        "fpr, tpr, thresholds = roc_curve(y_test, y_probs)\n",
        "plt.figure()\n",
        "plt.plot(fpr, tpr, label=f'Logistic Regression (AUC = {roc_auc:.4f})')\n",
        "plt.plot([0, 1], [0, 1], 'k--')  # Diagonal line\n",
        "plt.xlabel('False Positive Rate')\n",
        "plt.ylabel('True Positive Rate')\n",
        "plt.title('ROC Curve')\n",
        "plt.legend(loc='lower right')\n",
        "plt.grid(True)\n",
        "plt.show()\n"
      ]
    },
    {
      "cell_type": "markdown",
      "id": "b0f8dad7",
      "metadata": {
        "id": "b0f8dad7"
      },
      "source": [
        "### Practical Question 17: Write a Python program to train Logistic Regression using a custom learning rate (C=0.5) and evaluate accuracy"
      ]
    },
    {
      "cell_type": "code",
      "execution_count": 24,
      "id": "e8ebc652",
      "metadata": {
        "colab": {
          "base_uri": "https://localhost:8080/"
        },
        "id": "e8ebc652",
        "outputId": "4ac64f9b-d7e3-43a9-c47a-4bc8d3affd7b"
      },
      "outputs": [
        {
          "output_type": "stream",
          "name": "stdout",
          "text": [
            "Accuracy: 0.956140350877193\n"
          ]
        },
        {
          "output_type": "stream",
          "name": "stderr",
          "text": [
            "/usr/local/lib/python3.11/dist-packages/sklearn/linear_model/_logistic.py:465: ConvergenceWarning: lbfgs failed to converge (status=1):\n",
            "STOP: TOTAL NO. OF ITERATIONS REACHED LIMIT.\n",
            "\n",
            "Increase the number of iterations (max_iter) or scale the data as shown in:\n",
            "    https://scikit-learn.org/stable/modules/preprocessing.html\n",
            "Please also refer to the documentation for alternative solver options:\n",
            "    https://scikit-learn.org/stable/modules/linear_model.html#logistic-regression\n",
            "  n_iter_i = _check_optimize_result(\n"
          ]
        }
      ],
      "source": [
        "model = LogisticRegression(C=0.5, max_iter=200)\n",
        "model.fit(X_train, y_train)\n",
        "print(\"Accuracy:\", model.score(X_test, y_test))"
      ]
    },
    {
      "cell_type": "markdown",
      "id": "952ba5f2",
      "metadata": {
        "id": "952ba5f2"
      },
      "source": [
        "### Practical Question 18: Write a Python program to train Logistic Regression and identify important features based on model coefficients"
      ]
    },
    {
      "cell_type": "code",
      "execution_count": 25,
      "id": "4bf23e77",
      "metadata": {
        "colab": {
          "base_uri": "https://localhost:8080/"
        },
        "id": "4bf23e77",
        "outputId": "306ee862-e8cc-4d5d-85c8-2437e8c4ca50"
      },
      "outputs": [
        {
          "output_type": "stream",
          "name": "stdout",
          "text": [
            "Feature importances: [1.58841348e+00 1.16202972e-01 2.47742610e-02 1.80519145e-03\n",
            " 8.31406235e-02 3.04061549e-01 4.43816724e-01 2.12097101e-01\n",
            " 1.23056053e-01 2.14490127e-02 4.34276250e-03 9.99695482e-01\n",
            " 1.07224495e-01 7.10501258e-02 8.49013516e-03 3.24251339e-02\n",
            " 5.96696323e-02 2.49328247e-02 2.65263542e-02 9.03002404e-04\n",
            " 1.26293325e+00 3.38071268e-01 1.01247476e-01 2.45390750e-02\n",
            " 1.51380958e-01 9.06409966e-01 1.15215747e+00 3.87552526e-01\n",
            " 4.26300186e-01 8.72083428e-02]\n"
          ]
        }
      ],
      "source": [
        "importance = np.abs(model.coef_).sum(axis=0)\n",
        "print(\"Feature importances:\", importance)"
      ]
    },
    {
      "cell_type": "markdown",
      "id": "83c62e68",
      "metadata": {
        "id": "83c62e68"
      },
      "source": [
        "### Practical Question 19: Write a Python program to train Logistic Regression and evaluate its performance using Cohen’s Kappa Score"
      ]
    },
    {
      "cell_type": "code",
      "execution_count": 27,
      "id": "13f366ac",
      "metadata": {
        "colab": {
          "base_uri": "https://localhost:8080/"
        },
        "id": "13f366ac",
        "outputId": "93a11ff5-4cff-41d3-b413-e80244d1b9fd"
      },
      "outputs": [
        {
          "output_type": "stream",
          "name": "stdout",
          "text": [
            "Cohen’s Kappa Score: 0.9053\n",
            "\n",
            "Classification Report:\n",
            "              precision    recall  f1-score   support\n",
            "\n",
            "   malignant       0.97      0.91      0.94        43\n",
            "      benign       0.95      0.99      0.97        71\n",
            "\n",
            "    accuracy                           0.96       114\n",
            "   macro avg       0.96      0.95      0.95       114\n",
            "weighted avg       0.96      0.96      0.96       114\n",
            "\n"
          ]
        }
      ],
      "source": [
        "from sklearn.datasets import load_breast_cancer\n",
        "from sklearn.model_selection import train_test_split\n",
        "from sklearn.linear_model import LogisticRegression\n",
        "from sklearn.metrics import cohen_kappa_score, classification_report\n",
        "\n",
        "# Load the dataset\n",
        "data = load_breast_cancer()\n",
        "X = data.data\n",
        "y = data.target\n",
        "\n",
        "# Split the data into training and testing sets\n",
        "X_train, X_test, y_train, y_test = train_test_split(X, y, test_size=0.2, random_state=42)\n",
        "\n",
        "# Train the Logistic Regression model\n",
        "model = LogisticRegression(max_iter=10000)\n",
        "model.fit(X_train, y_train)\n",
        "\n",
        "# Predict labels on the test set\n",
        "y_pred = model.predict(X_test)\n",
        "\n",
        "# Calculate Cohen's Kappa Score\n",
        "kappa = cohen_kappa_score(y_test, y_pred)\n",
        "print(\"Cohen’s Kappa Score: {:.4f}\".format(kappa))\n",
        "\n",
        "# Optional: Print a classification report for reference\n",
        "print(\"\\nClassification Report:\")\n",
        "print(classification_report(y_test, y_pred, target_names=data.target_names))\n"
      ]
    },
    {
      "cell_type": "markdown",
      "id": "618fca54",
      "metadata": {
        "id": "618fca54"
      },
      "source": [
        "### Practical Question 20: Write a Python program to train Logistic Regression and visualize the Precision-Recall Curve for binary classification"
      ]
    },
    {
      "cell_type": "code",
      "execution_count": 29,
      "id": "6d81f43f",
      "metadata": {
        "colab": {
          "base_uri": "https://localhost:8080/",
          "height": 472
        },
        "id": "6d81f43f",
        "outputId": "8e54d210-ee92-47cd-e65a-c0fbf6fe1ba3"
      },
      "outputs": [
        {
          "output_type": "display_data",
          "data": {
            "text/plain": [
              "<Figure size 640x480 with 1 Axes>"
            ],
            "image/png": "[encoded data removed]"
          },
          "metadata": {}
        }
      ],
      "source": [
        "import matplotlib.pyplot as plt\n",
        "from sklearn.datasets import load_breast_cancer\n",
        "from sklearn.model_selection import train_test_split\n",
        "from sklearn.linear_model import LogisticRegression\n",
        "from sklearn.metrics import precision_recall_curve, average_precision_score\n",
        "\n",
        "# Load dataset\n",
        "data = load_breast_cancer()\n",
        "X = data.data\n",
        "y = data.target\n",
        "\n",
        "# Split into training and testing sets\n",
        "X_train, X_test, y_train, y_test = train_test_split(X, y, test_size=0.2, random_state=42)\n",
        "\n",
        "# Train Logistic Regression model\n",
        "model = LogisticRegression(max_iter=10000)\n",
        "model.fit(X_train, y_train)\n",
        "\n",
        "# Predict probabilities for the positive class\n",
        "y_probs = model.predict_proba(X_test)[:, 1]\n",
        "\n",
        "# Calculate precision and recall\n",
        "precision, recall, thresholds = precision_recall_curve(y_test, y_probs)\n",
        "average_precision = average_precision_score(y_test, y_probs)\n",
        "\n",
        "# Plot the Precision-Recall curve\n",
        "plt.figure()\n",
        "plt.plot(recall, precision, label=f'AP = {average_precision:.4f}')\n",
        "plt.xlabel('Recall')\n",
        "plt.ylabel('Precision')\n",
        "plt.title('Precision-Recall Curve')\n",
        "plt.legend(loc='lower left')\n",
        "plt.grid(True)\n",
        "plt.show()\n"
      ]
    },
    {
      "cell_type": "markdown",
      "id": "25ef5816",
      "metadata": {
        "id": "25ef5816"
      },
      "source": [
        "### Practical Question 21: Write a Python program to train Logistic Regression with different solvers (liblinear, saga, lbfgs) and compare their accuracy"
      ]
    },
    {
      "cell_type": "code",
      "execution_count": 30,
      "id": "bed660f4",
      "metadata": {
        "colab": {
          "base_uri": "https://localhost:8080/"
        },
        "id": "bed660f4",
        "outputId": "93292eec-c9f3-4427-a70e-986a38020ffc"
      },
      "outputs": [
        {
          "output_type": "stream",
          "name": "stdout",
          "text": [
            "liblinear Accuracy: 0.956140350877193\n",
            "saga Accuracy: 0.9473684210526315\n",
            "lbfgs Accuracy: 0.956140350877193\n"
          ]
        },
        {
          "output_type": "stream",
          "name": "stderr",
          "text": [
            "/usr/local/lib/python3.11/dist-packages/sklearn/linear_model/_sag.py:348: ConvergenceWarning: The max_iter was reached which means the coef_ did not converge\n",
            "  warnings.warn(\n",
            "/usr/local/lib/python3.11/dist-packages/sklearn/linear_model/_logistic.py:465: ConvergenceWarning: lbfgs failed to converge (status=1):\n",
            "STOP: TOTAL NO. OF ITERATIONS REACHED LIMIT.\n",
            "\n",
            "Increase the number of iterations (max_iter) or scale the data as shown in:\n",
            "    https://scikit-learn.org/stable/modules/preprocessing.html\n",
            "Please also refer to the documentation for alternative solver options:\n",
            "    https://scikit-learn.org/stable/modules/linear_model.html#logistic-regression\n",
            "  n_iter_i = _check_optimize_result(\n"
          ]
        }
      ],
      "source": [
        "for solver in ['liblinear', 'saga', 'lbfgs']:\n",
        "    model = LogisticRegression(solver=solver, max_iter=200)\n",
        "    model.fit(X_train, y_train)\n",
        "    print(f\"{solver} Accuracy:\", model.score(X_test, y_test))"
      ]
    },
    {
      "cell_type": "markdown",
      "id": "9e5aed92",
      "metadata": {
        "id": "9e5aed92"
      },
      "source": [
        "### Practical Question 22: Write a Python program to train Logistic Regression and evaluate its performance using Matthews Correlation Coefficient (MCC)"
      ]
    },
    {
      "cell_type": "code",
      "execution_count": 32,
      "id": "975feb94",
      "metadata": {
        "colab": {
          "base_uri": "https://localhost:8080/"
        },
        "id": "975feb94",
        "outputId": "fd34c62f-07ca-4327-d2b8-ca532f129e89"
      },
      "outputs": [
        {
          "output_type": "stream",
          "name": "stdout",
          "text": [
            "Matthews Correlation Coefficient (MCC): 0.9068\n",
            "\n",
            "Classification Report:\n",
            "              precision    recall  f1-score   support\n",
            "\n",
            "   malignant       0.97      0.91      0.94        43\n",
            "      benign       0.95      0.99      0.97        71\n",
            "\n",
            "    accuracy                           0.96       114\n",
            "   macro avg       0.96      0.95      0.95       114\n",
            "weighted avg       0.96      0.96      0.96       114\n",
            "\n"
          ]
        }
      ],
      "source": [
        "from sklearn.datasets import load_breast_cancer\n",
        "from sklearn.model_selection import train_test_split\n",
        "from sklearn.linear_model import LogisticRegression\n",
        "from sklearn.metrics import matthews_corrcoef, classification_report\n",
        "\n",
        "# Load the Breast Cancer dataset\n",
        "data = load_breast_cancer()\n",
        "X = data.data\n",
        "y = data.target\n",
        "\n",
        "# Split into training and test sets\n",
        "X_train, X_test, y_train, y_test = train_test_split(X, y, test_size=0.2, random_state=42)\n",
        "\n",
        "# Train a Logistic Regression model\n",
        "model = LogisticRegression(max_iter=10000)\n",
        "model.fit(X_train, y_train)\n",
        "\n",
        "# Predict labels for test set\n",
        "y_pred = model.predict(X_test)\n",
        "\n",
        "# Calculate Matthews Correlation Coefficient (MCC)\n",
        "mcc = matthews_corrcoef(y_test, y_pred)\n",
        "print(\"Matthews Correlation Coefficient (MCC): {:.4f}\".format(mcc))\n",
        "\n",
        "# Optional: Detailed performance report\n",
        "print(\"\\nClassification Report:\")\n",
        "print(classification_report(y_test, y_pred, target_names=data.target_names))\n"
      ]
    },
    {
      "cell_type": "markdown",
      "id": "a68a6d91",
      "metadata": {
        "id": "a68a6d91"
      },
      "source": [
        "### Practical Question 23: Write a Python program to train Logistic Regression on both raw and standardized data. Compare their accuracy to see the impact of feature scaling"
      ]
    },
    {
      "cell_type": "code",
      "execution_count": 34,
      "id": "d5f1989b",
      "metadata": {
        "colab": {
          "base_uri": "https://localhost:8080/"
        },
        "id": "d5f1989b",
        "outputId": "a1e7d14c-2487-4f5e-9a43-7bd22c237f13"
      },
      "outputs": [
        {
          "output_type": "stream",
          "name": "stdout",
          "text": [
            "Accuracy on RAW Data:          0.9561\n",
            "Accuracy on STANDARDIZED Data: 0.9737\n",
            "\n",
            "✅ Feature scaling improved accuracy.\n"
          ]
        }
      ],
      "source": [
        "from sklearn.datasets import load_breast_cancer\n",
        "from sklearn.model_selection import train_test_split\n",
        "from sklearn.linear_model import LogisticRegression\n",
        "from sklearn.preprocessing import StandardScaler\n",
        "from sklearn.metrics import accuracy_score\n",
        "\n",
        "# Load dataset\n",
        "data = load_breast_cancer()\n",
        "X = data.data\n",
        "y = data.target\n",
        "\n",
        "# Split data into train and test sets\n",
        "X_train, X_test, y_train, y_test = train_test_split(X, y, test_size=0.2, random_state=42)\n",
        "\n",
        "# -------------------------\n",
        "# Logistic Regression on RAW data\n",
        "# -------------------------\n",
        "model_raw = LogisticRegression(max_iter=10000)\n",
        "model_raw.fit(X_train, y_train)\n",
        "y_pred_raw = model_raw.predict(X_test)\n",
        "accuracy_raw = accuracy_score(y_test, y_pred_raw)\n",
        "\n",
        "# -------------------------\n",
        "# Logistic Regression on STANDARDIZED data\n",
        "# -------------------------\n",
        "scaler = StandardScaler()\n",
        "X_train_scaled = scaler.fit_transform(X_train)\n",
        "X_test_scaled = scaler.transform(X_test)\n",
        "\n",
        "model_scaled = LogisticRegression(max_iter=10000)\n",
        "model_scaled.fit(X_train_scaled, y_train)\n",
        "y_pred_scaled = model_scaled.predict(X_test_scaled)\n",
        "accuracy_scaled = accuracy_score(y_test, y_pred_scaled)\n",
        "\n",
        "# -------------------------\n",
        "# Comparison\n",
        "# -------------------------\n",
        "print(\"Accuracy on RAW Data:          {:.4f}\".format(accuracy_raw))\n",
        "print(\"Accuracy on STANDARDIZED Data: {:.4f}\".format(accuracy_scaled))\n",
        "\n",
        "if accuracy_scaled > accuracy_raw:\n",
        "    print(\"\\n✅ Feature scaling improved accuracy.\")\n",
        "elif accuracy_scaled < accuracy_raw:\n",
        "    print(\"\\n⚠️  Feature scaling reduced accuracy.\")\n",
        "else:\n",
        "    print(\"\\n➖ Feature scaling had no effect on accuracy.\")\n"
      ]
    },
    {
      "cell_type": "markdown",
      "id": "6f8dadb1",
      "metadata": {
        "id": "6f8dadb1"
      },
      "source": [
        "### Practical Question 24: Write a Python program to train Logistic Regression and find the optimal C (regularization strength) using cross-validation"
      ]
    },
    {
      "cell_type": "code",
      "execution_count": 36,
      "id": "a0a8e861",
      "metadata": {
        "colab": {
          "base_uri": "https://localhost:8080/"
        },
        "id": "a0a8e861",
        "outputId": "e4b48f14-d54c-4f7d-faf9-e53f9364f55c"
      },
      "outputs": [
        {
          "output_type": "stream",
          "name": "stdout",
          "text": [
            "Best C value: 2.7826\n",
            "Test Set Accuracy: 0.9737\n",
            "\n",
            "Classification Report:\n",
            "              precision    recall  f1-score   support\n",
            "\n",
            "           0       0.98      0.95      0.96        43\n",
            "           1       0.97      0.99      0.98        71\n",
            "\n",
            "    accuracy                           0.97       114\n",
            "   macro avg       0.97      0.97      0.97       114\n",
            "weighted avg       0.97      0.97      0.97       114\n",
            "\n"
          ]
        }
      ],
      "source": [
        "import numpy as np\n",
        "from sklearn.datasets import load_breast_cancer\n",
        "from sklearn.model_selection import train_test_split, GridSearchCV\n",
        "from sklearn.linear_model import LogisticRegression\n",
        "from sklearn.preprocessing import StandardScaler\n",
        "from sklearn.pipeline import Pipeline\n",
        "from sklearn.metrics import classification_report, accuracy_score\n",
        "\n",
        "# Load dataset\n",
        "data = load_breast_cancer()\n",
        "X = data.data\n",
        "y = data.target\n",
        "\n",
        "# Split dataset\n",
        "X_train, X_test, y_train, y_test = train_test_split(X, y, test_size=0.2, random_state=42)\n",
        "\n",
        "# Pipeline: StandardScaler + Logistic Regression\n",
        "pipeline = Pipeline([\n",
        "    ('scaler', StandardScaler()),\n",
        "    ('logreg', LogisticRegression(max_iter=10000))\n",
        "])\n",
        "\n",
        "# Define a grid of C values to try\n",
        "param_grid = {\n",
        "    'logreg__C': np.logspace(-4, 4, 10)  # Try values from 1e-4 to 1e4\n",
        "}\n",
        "\n",
        "# GridSearchCV for hyperparameter tuning\n",
        "grid_search = GridSearchCV(pipeline, param_grid, cv=5, scoring='accuracy')\n",
        "grid_search.fit(X_train, y_train)\n",
        "\n",
        "# Best model and its performance\n",
        "best_model = grid_search.best_estimator_\n",
        "y_pred = best_model.predict(X_test)\n",
        "accuracy = accuracy_score(y_test, y_pred)\n",
        "\n",
        "# Output results\n",
        "print(\"Best C value: {:.4f}\".format(grid_search.best_params_['logreg__C']))\n",
        "print(\"Test Set Accuracy: {:.4f}\".format(accuracy))\n",
        "print(\"\\nClassification Report:\")\n",
        "print(classification_report(y_test, y_pred))\n"
      ]
    },
    {
      "cell_type": "markdown",
      "id": "80281824",
      "metadata": {
        "id": "80281824"
      },
      "source": [
        "### Practical Question 25: Write a Python program to train Logistic Regression, save the trained model using joblib, and load it again to make predictions."
      ]
    },
    {
      "cell_type": "code",
      "execution_count": 37,
      "id": "94e8e829",
      "metadata": {
        "colab": {
          "base_uri": "https://localhost:8080/"
        },
        "id": "94e8e829",
        "outputId": "85c8ce46-2cef-45e3-a9cc-06ea036ccc07"
      },
      "outputs": [
        {
          "output_type": "stream",
          "name": "stdout",
          "text": [
            "✅ Model saved as 'logistic_model.joblib'\n",
            "✅ Model loaded successfully.\n",
            "\n",
            "🔍 Accuracy on test set using loaded model: 0.9737\n"
          ]
        }
      ],
      "source": [
        "import joblib\n",
        "from sklearn.datasets import load_breast_cancer\n",
        "from sklearn.model_selection import train_test_split\n",
        "from sklearn.linear_model import LogisticRegression\n",
        "from sklearn.preprocessing import StandardScaler\n",
        "from sklearn.pipeline import Pipeline\n",
        "from sklearn.metrics import accuracy_score\n",
        "\n",
        "# Load dataset\n",
        "data = load_breast_cancer()\n",
        "X = data.data\n",
        "y = data.target\n",
        "\n",
        "# Split dataset\n",
        "X_train, X_test, y_train, y_test = train_test_split(X, y, test_size=0.2, random_state=42)\n",
        "\n",
        "# Create a pipeline with scaling and logistic regression\n",
        "pipeline = Pipeline([\n",
        "    ('scaler', StandardScaler()),\n",
        "    ('logreg', LogisticRegression(max_iter=10000))\n",
        "])\n",
        "\n",
        "# Train the model\n",
        "pipeline.fit(X_train, y_train)\n",
        "\n",
        "# Save the trained pipeline\n",
        "joblib.dump(pipeline, 'logistic_model.joblib')\n",
        "print(\"✅ Model saved as 'logistic_model.joblib'\")\n",
        "\n",
        "# Load the model\n",
        "loaded_model = joblib.load('logistic_model.joblib')\n",
        "print(\"✅ Model loaded successfully.\")\n",
        "\n",
        "# Make predictions\n",
        "y_pred = loaded_model.predict(X_test)\n",
        "accuracy = accuracy_score(y_test, y_pred)\n",
        "\n",
        "# Output results\n",
        "print(f\"\\n🔍 Accuracy on test set using loaded model: {accuracy:.4f}\")\n"
      ]
    }
  ],
  "metadata": {
    "colab": {
      "provenance": [],
      "include_colab_link": true
    },
    "language_info": {
      "name": "python"
    },
    "kernelspec": {
      "name": "python3",
      "display_name": "Python 3"
    }
  },
  "nbformat": 4,
  "nbformat_minor": 5
}