{
  "cells": [
    {
      "cell_type": "markdown",
      "metadata": {
        "id": "view-in-github",
        "colab_type": "text"
      },
      "source": [
        "<a href=\"https://colab.research.google.com/github/PD7-debug/Assignment-Mod-1/blob/main/Regression_Metrics_Assignment_Complete.ipynb\" target=\"_parent\"><img src=\"https://colab.research.google.com/assets/colab-badge.svg\" alt=\"Open In Colab\"/></a>"
      ]
    },
    {
      "cell_type": "markdown",
      "id": "bb782fbe",
      "metadata": {
        "id": "bb782fbe"
      },
      "source": [
        "### 1.What does R-squared represent in a regression model\n",
        "R-squared indicates the proportion of variance in the dependent variable that is predictable from the independent variables. It ranges from 0 to 1."
      ]
    },
    {
      "cell_type": "markdown",
      "id": "e7d9aa84",
      "metadata": {
        "id": "e7d9aa84"
      },
      "source": [
        "###2. What are the assumptions of linear regression\n",
        "- Linearity\n",
        "- Independence of errors\n",
        "- Homoscedasticity\n",
        "- Normality of residuals\n",
        "- No multicollinearity"
      ]
    },
    {
      "cell_type": "markdown",
      "id": "d463ed35",
      "metadata": {
        "id": "d463ed35"
      },
      "source": [
        "###3. What is the difference between R-squared and Adjusted R-squared\n",
        "Adjusted R-squared adjusts the R-squared value based on the number of predictors, penalizing excessive variables that don’t improve the model."
      ]
    },
    {
      "cell_type": "markdown",
      "id": "f2dee776",
      "metadata": {
        "id": "f2dee776"
      },
      "source": [
        "###4. Why do we use Mean Squared Error (MSE)\n",
        "MSE measures the average of the squares of the errors. It penalizes larger errors more and is useful for optimization."
      ]
    },
    {
      "cell_type": "markdown",
      "id": "3e929c5d",
      "metadata": {
        "id": "3e929c5d"
      },
      "source": [
        "### 5.What does an Adjusted R-squared value of 0.85 indicate\n",
        "It means 85% of the variability in the dependent variable is explained by the model, adjusted for the number of predictors used."
      ]
    },
    {
      "cell_type": "markdown",
      "id": "ef23fd3c",
      "metadata": {
        "id": "ef23fd3c"
      },
      "source": [
        "###6. How do we check for normality of residuals in linear regression\n",
        "By using histograms, Q-Q plots, or statistical tests like Shapiro-Wilk or Kolmogorov-Smirnov."
      ]
    },
    {
      "cell_type": "markdown",
      "id": "0aea3652",
      "metadata": {
        "id": "0aea3652"
      },
      "source": [
        "###7. What is multicollinearity, and how does it impact regression\n",
        "Multicollinearity occurs when independent variables are highly correlated. It can inflate standard errors and make coefficients unreliable."
      ]
    },
    {
      "cell_type": "markdown",
      "id": "e1c80232",
      "metadata": {
        "id": "e1c80232"
      },
      "source": [
        "###8. What is Mean Absolute Error (MAE)\n",
        "MAE is the average of the absolute differences between predicted and actual values. It treats all errors equally."
      ]
    },
    {
      "cell_type": "markdown",
      "id": "6211559a",
      "metadata": {
        "id": "6211559a"
      },
      "source": [
        "###9. What are the benefits of using an ML pipeline\n",
        "Pipelines streamline the workflow, reduce errors, and allow consistent preprocessing, training, and evaluation."
      ]
    },
    {
      "cell_type": "markdown",
      "id": "e223fb0d",
      "metadata": {
        "id": "e223fb0d"
      },
      "source": [
        "###10. Why is RMSE considered more interpretable than MSE\n",
        "RMSE has the same units as the dependent variable, making it easier to understand than MSE."
      ]
    },
    {
      "cell_type": "markdown",
      "id": "0c9cbd03",
      "metadata": {
        "id": "0c9cbd03"
      },
      "source": [
        "### 11.What is pickling in Python, and how is it useful in ML\n",
        "Pickling serializes Python objects to a file. It's used to save trained models for future use."
      ]
    },
    {
      "cell_type": "markdown",
      "id": "11d95a60",
      "metadata": {
        "id": "11d95a60"
      },
      "source": [
        "###12. What does a high R-squared value mean\n",
        "A high R-squared means that the model explains a large portion of the variance in the target variable."
      ]
    },
    {
      "cell_type": "markdown",
      "id": "39aa6c9f",
      "metadata": {
        "id": "39aa6c9f"
      },
      "source": [
        "###13. What happens if linear regression assumptions are violated\n",
        "Violations can lead to biased estimates, unreliable predictions, and incorrect conclusions."
      ]
    },
    {
      "cell_type": "markdown",
      "id": "13a8d843",
      "metadata": {
        "id": "13a8d843"
      },
      "source": [
        "###14. How can we address multicollinearity in regression\n",
        "- Remove correlated predictors\n",
        "- Use dimensionality reduction (e.g., PCA)\n",
        "- Apply regularization (Ridge/Lasso)"
      ]
    },
    {
      "cell_type": "markdown",
      "id": "a4fa19b3",
      "metadata": {
        "id": "a4fa19b3"
      },
      "source": [
        "###15. How can feature selection improve model performance in regression analysis\n",
        "It reduces overfitting, improves model interpretability, and may enhance predictive accuracy."
      ]
    },
    {
      "cell_type": "markdown",
      "id": "d1079ca1",
      "metadata": {
        "id": "d1079ca1"
      },
      "source": [
        "###16. How is Adjusted R-squared calculated\n",
        "Adjusted R² = 1 - [(1 - R²) * (n - 1) / (n - p - 1)], where p = number of predictors, n = observations."
      ]
    },
    {
      "cell_type": "markdown",
      "id": "56df8827",
      "metadata": {
        "id": "56df8827"
      },
      "source": [
        "### 17.Why is MSE sensitive to outliers\n",
        "MSE squares the error terms, so large errors (outliers) have a disproportionately high impact."
      ]
    },
    {
      "cell_type": "markdown",
      "id": "e5398986",
      "metadata": {
        "id": "e5398986"
      },
      "source": [
        "###18. What is the role of homoscedasticity in linear regression\n",
        "Homoscedasticity ensures that residuals have constant variance. If violated, it affects the reliability of coefficient estimates."
      ]
    },
    {
      "cell_type": "markdown",
      "id": "a55a899c",
      "metadata": {
        "id": "a55a899c"
      },
      "source": [
        "###19. What is Root Mean Squared Error (RMSE)\n",
        "RMSE is the square root of the average squared differences between predicted and observed values."
      ]
    },
    {
      "cell_type": "markdown",
      "id": "5d75775e",
      "metadata": {
        "id": "5d75775e"
      },
      "source": [
        "###20. Why is pickling considered risky\n",
        "Pickling can execute arbitrary code, which may be a security risk when loading files from untrusted sources."
      ]
    },
    {
      "cell_type": "markdown",
      "id": "40e87d6c",
      "metadata": {
        "id": "40e87d6c"
      },
      "source": [
        "###21. What alternatives exist to pickling for saving ML models\n",
        "- `joblib`\n",
        "- `ONNX`\n",
        "- `PMML`\n",
        "- Exporting via frameworks like TensorFlow SavedModel"
      ]
    },
    {
      "cell_type": "markdown",
      "id": "830177ed",
      "metadata": {
        "id": "830177ed"
      },
      "source": [
        "###22. What is heteroscedasticity, and why is it a problem\n",
        "Heteroscedasticity refers to unequal variance in residuals. It violates regression assumptions and leads to inefficient estimates."
      ]
    },
    {
      "cell_type": "markdown",
      "id": "22a16be5",
      "metadata": {
        "id": "22a16be5"
      },
      "source": [
        "###23. How can interaction terms enhance a regression model's predictive power?\n",
        "They capture the combined effect of two or more variables, allowing the model to detect more complex relationships."
      ]
    },
    {
      "cell_type": "markdown",
      "id": "4c9290c4",
      "metadata": {
        "id": "4c9290c4"
      },
      "source": [
        "### Practical Q1. Write a Python program to generate synthetic regression data using sklearn's make_regression."
      ]
    },
    {
      "cell_type": "code",
      "execution_count": 1,
      "id": "044b871e",
      "metadata": {
        "colab": {
          "base_uri": "https://localhost:8080/",
          "height": 472
        },
        "id": "044b871e",
        "outputId": "b18bb783-de53-429d-9394-23bcd16f5772"
      },
      "outputs": [
        {
          "output_type": "display_data",
          "data": {
            "text/plain": [
              "<Figure size 640x480 with 1 Axes>"
            ],
            "image/png": "[encoded data removed]"
          },
          "metadata": {}
        }
      ],
      "source": [
        "from sklearn.datasets import make_regression\n",
        "import matplotlib.pyplot as plt\n",
        "\n",
        "X, y = make_regression(n_samples=100, n_features=1, noise=10, random_state=42)\n",
        "plt.scatter(X, y)\n",
        "plt.title(\"Synthetic Regression Data\")\n",
        "plt.xlabel(\"Feature\")\n",
        "plt.ylabel(\"Target\")\n",
        "plt.grid()\n",
        "plt.show()"
      ]
    },
    {
      "cell_type": "markdown",
      "id": "fe23d99e",
      "metadata": {
        "id": "fe23d99e"
      },
      "source": [
        "### Practical Q2. Perform simple linear regression using sklearn on synthetic data."
      ]
    },
    {
      "cell_type": "code",
      "execution_count": 2,
      "id": "0c4e7c28",
      "metadata": {
        "colab": {
          "base_uri": "https://localhost:8080/"
        },
        "id": "0c4e7c28",
        "outputId": "cc51f375-5cae-47aa-eb24-2ad290682d9c"
      },
      "outputs": [
        {
          "output_type": "stream",
          "name": "stdout",
          "text": [
            "Coefficient: [44.43716999]\n",
            "Intercept: 1.1651153205269726\n"
          ]
        }
      ],
      "source": [
        "from sklearn.linear_model import LinearRegression\n",
        "\n",
        "model = LinearRegression()\n",
        "model.fit(X, y)\n",
        "print(\"Coefficient:\", model.coef_)\n",
        "print(\"Intercept:\", model.intercept_)"
      ]
    },
    {
      "cell_type": "markdown",
      "id": "afb67a99",
      "metadata": {
        "id": "afb67a99"
      },
      "source": [
        "### Practical Q3. Visualize the fitted linear regression line with matplotlib."
      ]
    },
    {
      "cell_type": "code",
      "execution_count": 3,
      "id": "da60b803",
      "metadata": {
        "colab": {
          "base_uri": "https://localhost:8080/",
          "height": 472
        },
        "id": "da60b803",
        "outputId": "bfcab50f-707a-4786-f794-98511846ec91"
      },
      "outputs": [
        {
          "output_type": "display_data",
          "data": {
            "text/plain": [
              "<Figure size 640x480 with 1 Axes>"
            ],
            "image/png": "[encoded data removed]"
          },
          "metadata": {}
        }
      ],
      "source": [
        "y_pred = model.predict(X)\n",
        "plt.scatter(X, y, label=\"Actual\")\n",
        "plt.plot(X, y_pred, color=\"red\", label=\"Regression Line\")\n",
        "plt.legend()\n",
        "plt.title(\"Linear Regression Fit\")\n",
        "plt.xlabel(\"Feature\")\n",
        "plt.ylabel(\"Target\")\n",
        "plt.grid()\n",
        "plt.show()"
      ]
    },
    {
      "cell_type": "markdown",
      "id": "afa5333f",
      "metadata": {
        "id": "afa5333f"
      },
      "source": [
        "### Practical Q4. Calculate R-squared, MAE, MSE, and RMSE for the model."
      ]
    },
    {
      "cell_type": "code",
      "execution_count": 12,
      "id": "ac727f24",
      "metadata": {
        "colab": {
          "base_uri": "https://localhost:8080/"
        },
        "id": "ac727f24",
        "outputId": "9c30e2ab-5a9c-49f0-a8c7-4b32763d8fe6"
      },
      "outputs": [
        {
          "output_type": "stream",
          "name": "stdout",
          "text": [
            "R-squared: 0.9538252459635717\n",
            "MAE: 7.104493131413916\n",
            "MSE: 78.054250421239\n",
            "RMSE: 8.834831657775887\n"
          ]
        }
      ],
      "source": [
        "from sklearn.metrics import r2_score, mean_absolute_error, mean_squared_error\n",
        "import numpy as np\n",
        "\n",
        "r2 = r2_score(y, y_pred)\n",
        "mae = mean_absolute_error(y, y_pred)\n",
        "mse = mean_squared_error(y, y_pred)\n",
        "rmse = np.sqrt(mse)\n",
        "\n",
        "print(\"R-squared:\", r2)\n",
        "print(\"MAE:\", mae)\n",
        "print(\"MSE:\", mse)\n",
        "print(\"RMSE:\", rmse)"
      ]
    },
    {
      "cell_type": "markdown",
      "id": "d62545ed",
      "metadata": {
        "id": "d62545ed"
      },
      "source": [
        "### Practical Q5. Split the data into train and test sets, then fit a model and evaluate performance."
      ]
    },
    {
      "cell_type": "code",
      "execution_count": 13,
      "id": "1261a912",
      "metadata": {
        "colab": {
          "base_uri": "https://localhost:8080/"
        },
        "id": "1261a912",
        "outputId": "93f06f34-0fa8-421c-b0ba-c0ad50a6135b"
      },
      "outputs": [
        {
          "output_type": "stream",
          "name": "stdout",
          "text": [
            "Test RMSE: 10.207949183448665\n"
          ]
        }
      ],
      "source": [
        "from sklearn.model_selection import train_test_split\n",
        "\n",
        "X_train, X_test, y_train, y_test = train_test_split(X, y, test_size=0.2, random_state=42)\n",
        "model = LinearRegression()\n",
        "model.fit(X_train, y_train)\n",
        "y_test_pred = model.predict(X_test)\n",
        "\n",
        "print(\"Test RMSE:\", np.sqrt(mean_squared_error(y_test, y_test_pred)))"
      ]
    },
    {
      "cell_type": "markdown",
      "id": "0d5ea21f",
      "metadata": {
        "id": "0d5ea21f"
      },
      "source": [
        "### Practical Q6. Perform polynomial regression using sklearn's PolynomialFeatures."
      ]
    },
    {
      "cell_type": "code",
      "execution_count": 14,
      "id": "d81901fb",
      "metadata": {
        "colab": {
          "base_uri": "https://localhost:8080/"
        },
        "id": "d81901fb",
        "outputId": "ee42b777-b6be-4a23-b04a-c898bf294fd9"
      },
      "outputs": [
        {
          "output_type": "stream",
          "name": "stdout",
          "text": [
            "Polynomial Regression RMSE: 10.268139842544361\n"
          ]
        }
      ],
      "source": [
        "from sklearn.preprocessing import PolynomialFeatures\n",
        "from sklearn.pipeline import make_pipeline\n",
        "\n",
        "poly_model = make_pipeline(PolynomialFeatures(degree=2), LinearRegression())\n",
        "poly_model.fit(X_train, y_train)\n",
        "y_poly_pred = poly_model.predict(X_test)\n",
        "\n",
        "print(\"Polynomial Regression RMSE:\", np.sqrt(mean_squared_error(y_test, y_poly_pred)))"
      ]
    },
    {
      "cell_type": "markdown",
      "id": "7d512fd7",
      "metadata": {
        "id": "7d512fd7"
      },
      "source": [
        "### Practical Q7. Visualize polynomial regression curve with test data."
      ]
    },
    {
      "cell_type": "code",
      "execution_count": 15,
      "id": "ba6672f6",
      "metadata": {
        "colab": {
          "base_uri": "https://localhost:8080/",
          "height": 452
        },
        "id": "ba6672f6",
        "outputId": "7b890b5b-efb7-400d-9375-f10cbadc76c3"
      },
      "outputs": [
        {
          "output_type": "display_data",
          "data": {
            "text/plain": [
              "<Figure size 640x480 with 1 Axes>"
            ],
            "image/png": "[encoded data removed]"
          },
          "metadata": {}
        }
      ],
      "source": [
        "plt.scatter(X_test, y_test, label=\"Actual\")\n",
        "plt.scatter(X_test, y_poly_pred, color=\"red\", label=\"Predicted\")\n",
        "plt.title(\"Polynomial Regression Fit\")\n",
        "plt.legend()\n",
        "plt.grid()\n",
        "plt.show()"
      ]
    },
    {
      "cell_type": "markdown",
      "id": "85cbfcce",
      "metadata": {
        "id": "85cbfcce"
      },
      "source": [
        "### Practical Q8. Use LabelEncoder and OneHotEncoder to handle categorical data."
      ]
    },
    {
      "cell_type": "code",
      "execution_count": 17,
      "id": "9ea1af38",
      "metadata": {
        "colab": {
          "base_uri": "https://localhost:8080/",
          "height": 211
        },
        "id": "9ea1af38",
        "outputId": "c39a7ae8-4cec-4ea3-ea0c-30151b84d7f9"
      },
      "outputs": [
        {
          "output_type": "error",
          "ename": "TypeError",
          "evalue": "OneHotEncoder.__init__() got an unexpected keyword argument 'sparse'",
          "traceback": [
            "\u001b[0;31m---------------------------------------------------------------------------\u001b[0m",
            "\u001b[0;31mTypeError\u001b[0m                                 Traceback (most recent call last)",
            "\u001b[0;32m/tmp/ipython-input-17-1988535660.py\u001b[0m in \u001b[0;36m<cell line: 0>\u001b[0;34m()\u001b[0m\n\u001b[1;32m     10\u001b[0m \u001b[0mdata\u001b[0m\u001b[0;34m[\u001b[0m\u001b[0;34m\"Color_Label\"\u001b[0m\u001b[0;34m]\u001b[0m \u001b[0;34m=\u001b[0m \u001b[0mlabel_encoder\u001b[0m\u001b[0;34m.\u001b[0m\u001b[0mfit_transform\u001b[0m\u001b[0;34m(\u001b[0m\u001b[0mdata\u001b[0m\u001b[0;34m[\u001b[0m\u001b[0;34m\"Color\"\u001b[0m\u001b[0;34m]\u001b[0m\u001b[0;34m)\u001b[0m\u001b[0;34m\u001b[0m\u001b[0;34m\u001b[0m\u001b[0m\n\u001b[1;32m     11\u001b[0m \u001b[0;34m\u001b[0m\u001b[0m\n\u001b[0;32m---> 12\u001b[0;31m \u001b[0monehot\u001b[0m \u001b[0;34m=\u001b[0m \u001b[0mOneHotEncoder\u001b[0m\u001b[0;34m(\u001b[0m\u001b[0msparse\u001b[0m\u001b[0;34m=\u001b[0m\u001b[0;32mFalse\u001b[0m\u001b[0;34m)\u001b[0m\u001b[0;34m\u001b[0m\u001b[0;34m\u001b[0m\u001b[0m\n\u001b[0m\u001b[1;32m     13\u001b[0m \u001b[0mencoded\u001b[0m \u001b[0;34m=\u001b[0m \u001b[0monehot\u001b[0m\u001b[0;34m.\u001b[0m\u001b[0mfit_transform\u001b[0m\u001b[0;34m(\u001b[0m\u001b[0mdata\u001b[0m\u001b[0;34m[\u001b[0m\u001b[0;34m[\u001b[0m\u001b[0;34m\"Color_Label\"\u001b[0m\u001b[0;34m]\u001b[0m\u001b[0;34m]\u001b[0m\u001b[0;34m)\u001b[0m\u001b[0;34m\u001b[0m\u001b[0;34m\u001b[0m\u001b[0m\n\u001b[1;32m     14\u001b[0m \u001b[0mprint\u001b[0m\u001b[0;34m(\u001b[0m\u001b[0mencoded\u001b[0m\u001b[0;34m)\u001b[0m\u001b[0;34m\u001b[0m\u001b[0;34m\u001b[0m\u001b[0m\n",
            "\u001b[0;31mTypeError\u001b[0m: OneHotEncoder.__init__() got an unexpected keyword argument 'sparse'"
          ]
        }
      ],
      "source": [
        "import pandas as pd\n",
        "from sklearn.preprocessing import OneHotEncoder, LabelEncoder\n",
        "\n",
        "data = pd.DataFrame({\n",
        "    \"Color\": [\"Red\", \"Blue\", \"Green\", \"Blue\", \"Red\"],\n",
        "    \"Value\": [1, 2, 3, 4, 5]\n",
        "})\n",
        "\n",
        "label_encoder = LabelEncoder()\n",
        "data[\"Color_Label\"] = label_encoder.fit_transform(data[\"Color\"])\n",
        "\n",
        "onehot = OneHotEncoder(sparse=False)\n",
        "encoded = onehot.fit_transform(data[[\"Color_Label\"]])\n",
        "print(encoded)"
      ]
    },
    {
      "cell_type": "markdown",
      "id": "98edb2bc",
      "metadata": {
        "id": "98edb2bc"
      },
      "source": [
        "### Practical Q9. Use sklearn Pipeline for regression including preprocessing."
      ]
    },
    {
      "cell_type": "code",
      "execution_count": 18,
      "id": "1a476824",
      "metadata": {
        "colab": {
          "base_uri": "https://localhost:8080/"
        },
        "id": "1a476824",
        "outputId": "ff939610-3f56-452b-8184-baf3dc7dc47b"
      },
      "outputs": [
        {
          "output_type": "stream",
          "name": "stdout",
          "text": [
            "Pipeline RMSE: 10.20794918344866\n"
          ]
        }
      ],
      "source": [
        "from sklearn.pipeline import Pipeline\n",
        "from sklearn.preprocessing import StandardScaler\n",
        "\n",
        "pipeline = Pipeline([\n",
        "    (\"scaler\", StandardScaler()),\n",
        "    (\"regressor\", LinearRegression())\n",
        "])\n",
        "\n",
        "pipeline.fit(X_train, y_train)\n",
        "y_pipe_pred = pipeline.predict(X_test)\n",
        "print(\"Pipeline RMSE:\", np.sqrt(mean_squared_error(y_test, y_pipe_pred)))"
      ]
    },
    {
      "cell_type": "markdown",
      "id": "ae12e580",
      "metadata": {
        "id": "ae12e580"
      },
      "source": [
        "### Practical Q10. Calculate VIF (Variance Inflation Factor) to detect multicollinearity."
      ]
    },
    {
      "cell_type": "code",
      "execution_count": 19,
      "id": "19afc52c",
      "metadata": {
        "colab": {
          "base_uri": "https://localhost:8080/"
        },
        "id": "19afc52c",
        "outputId": "f2428bdd-9c7b-45d7-dfc5-a88cd9884164"
      },
      "outputs": [
        {
          "output_type": "stream",
          "name": "stdout",
          "text": [
            "  Feature  VIF\n",
            "0      X1  inf\n",
            "1      X2  inf\n",
            "2      X3  inf\n"
          ]
        },
        {
          "output_type": "stream",
          "name": "stderr",
          "text": [
            "/usr/local/lib/python3.11/dist-packages/statsmodels/stats/outliers_influence.py:197: RuntimeWarning: divide by zero encountered in scalar divide\n",
            "  vif = 1. / (1. - r_squared_i)\n"
          ]
        }
      ],
      "source": [
        "from statsmodels.stats.outliers_influence import variance_inflation_factor\n",
        "import pandas as pd\n",
        "import numpy as np\n",
        "\n",
        "# Simulate some multicollinear data\n",
        "X_mc = np.random.rand(100, 3)\n",
        "X_mc[:, 2] = X_mc[:, 0] + X_mc[:, 1]  # create collinearity\n",
        "\n",
        "df = pd.DataFrame(X_mc, columns=[\"X1\", \"X2\", \"X3\"])\n",
        "vif_data = pd.DataFrame()\n",
        "vif_data[\"Feature\"] = df.columns\n",
        "vif_data[\"VIF\"] = [variance_inflation_factor(df.values, i) for i in range(df.shape[1])]\n",
        "print(vif_data)"
      ]
    },
    {
      "cell_type": "markdown",
      "id": "7148e6b6",
      "metadata": {
        "id": "7148e6b6"
      },
      "source": [
        "### Practical Q11. Save and load a model using pickle."
      ]
    },
    {
      "cell_type": "code",
      "execution_count": 20,
      "id": "6e092ec8",
      "metadata": {
        "colab": {
          "base_uri": "https://localhost:8080/"
        },
        "id": "6e092ec8",
        "outputId": "64f64cdc-676c-4c4d-99fb-e011eb20f7ea"
      },
      "outputs": [
        {
          "output_type": "stream",
          "name": "stdout",
          "text": [
            "Loaded model coefficients: [44.24418216]\n"
          ]
        }
      ],
      "source": [
        "import pickle\n",
        "\n",
        "with open(\"model.pkl\", \"wb\") as f:\n",
        "    pickle.dump(model, f)\n",
        "\n",
        "with open(\"model.pkl\", \"rb\") as f:\n",
        "    loaded_model = pickle.load(f)\n",
        "\n",
        "print(\"Loaded model coefficients:\", loaded_model.coef_)"
      ]
    },
    {
      "cell_type": "markdown",
      "id": "61a70e22",
      "metadata": {
        "id": "61a70e22"
      },
      "source": [
        "### Practical Q12. Save and load a model using joblib."
      ]
    },
    {
      "cell_type": "code",
      "execution_count": 21,
      "id": "9bd39f1b",
      "metadata": {
        "colab": {
          "base_uri": "https://localhost:8080/"
        },
        "id": "9bd39f1b",
        "outputId": "466190d6-8087-4187-ffb6-df90dcfc3ee6"
      },
      "outputs": [
        {
          "output_type": "stream",
          "name": "stdout",
          "text": [
            "Joblib model coefficients: [44.24418216]\n"
          ]
        }
      ],
      "source": [
        "import joblib\n",
        "\n",
        "joblib.dump(model, \"model_joblib.pkl\")\n",
        "loaded_joblib_model = joblib.load(\"model_joblib.pkl\")\n",
        "\n",
        "print(\"Joblib model coefficients:\", loaded_joblib_model.coef_)"
      ]
    },
    {
      "cell_type": "markdown",
      "id": "09147005",
      "metadata": {
        "id": "09147005"
      },
      "source": [
        "### Practical Q13. Compare MAE, MSE, RMSE between linear and polynomial regression."
      ]
    },
    {
      "cell_type": "code",
      "execution_count": 22,
      "id": "83571e4b",
      "metadata": {
        "colab": {
          "base_uri": "https://localhost:8080/"
        },
        "id": "83571e4b",
        "outputId": "05d64cdb-f330-4581-f239-0d5fb97e6c9d"
      },
      "outputs": [
        {
          "output_type": "stream",
          "name": "stdout",
          "text": [
            "Linear -> MAE: 8.42, MSE: 104.20, RMSE: 10.21\n",
            "Polynomial -> MAE: 8.41, MSE: 105.43, RMSE: 10.27\n"
          ]
        }
      ],
      "source": [
        "def evaluate_model(y_true, y_pred, label):\n",
        "    print(f\"{label} -> MAE: {mean_absolute_error(y_true, y_pred):.2f}, \"\n",
        "          f\"MSE: {mean_squared_error(y_true, y_pred):.2f}, \"\n",
        "          f\"RMSE: {np.sqrt(mean_squared_error(y_true, y_pred)):.2f}\")\n",
        "\n",
        "evaluate_model(y_test, y_test_pred, \"Linear\")\n",
        "evaluate_model(y_test, y_poly_pred, \"Polynomial\")"
      ]
    },
    {
      "cell_type": "markdown",
      "id": "1b3dd103",
      "metadata": {
        "id": "1b3dd103"
      },
      "source": [
        "### Practical Q14. Use cross_val_score to evaluate regression model using cross-validation."
      ]
    },
    {
      "cell_type": "code",
      "execution_count": 23,
      "id": "a5569946",
      "metadata": {
        "colab": {
          "base_uri": "https://localhost:8080/"
        },
        "id": "a5569946",
        "outputId": "ab69ce33-2063-40bd-e2c2-767d2a882abe"
      },
      "outputs": [
        {
          "output_type": "stream",
          "name": "stdout",
          "text": [
            "Cross-validated RMSE: [10.11477258  9.21993924 10.78991527  7.63902385  6.66790317]\n",
            "Mean RMSE: 8.886310822657979\n"
          ]
        }
      ],
      "source": [
        "from sklearn.model_selection import cross_val_score\n",
        "\n",
        "scores = cross_val_score(model, X, y, scoring='neg_mean_squared_error', cv=5)\n",
        "rmse_scores = np.sqrt(-scores)\n",
        "print(\"Cross-validated RMSE:\", rmse_scores)\n",
        "print(\"Mean RMSE:\", rmse_scores.mean())"
      ]
    },
    {
      "cell_type": "markdown",
      "id": "e29be69e",
      "metadata": {
        "id": "e29be69e"
      },
      "source": [
        "### Practical Q15. Plot residuals of a regression model to assess performance."
      ]
    },
    {
      "cell_type": "code",
      "execution_count": 24,
      "id": "032b6f46",
      "metadata": {
        "colab": {
          "base_uri": "https://localhost:8080/",
          "height": 472
        },
        "id": "032b6f46",
        "outputId": "27d4e8da-70d5-4ef0-9389-b9af0e8a6873"
      },
      "outputs": [
        {
          "output_type": "display_data",
          "data": {
            "text/plain": [
              "<Figure size 640x480 with 1 Axes>"
            ],
            "image/png": "[encoded data removed]"
          },
          "metadata": {}
        }
      ],
      "source": [
        "residuals = y_test - y_test_pred\n",
        "plt.scatter(y_test_pred, residuals)\n",
        "plt.axhline(y=0, color='red', linestyle='--')\n",
        "plt.title(\"Residual Plot\")\n",
        "plt.xlabel(\"Predicted\")\n",
        "plt.ylabel(\"Residual\")\n",
        "plt.grid()\n",
        "plt.show()"
      ]
    },
    {
      "cell_type": "markdown",
      "id": "fc0996c2",
      "metadata": {
        "id": "fc0996c2"
      },
      "source": [
        "### Practical Q16. Use sklearn's metrics to print full regression evaluation report."
      ]
    },
    {
      "cell_type": "code",
      "execution_count": 25,
      "id": "292890f1",
      "metadata": {
        "colab": {
          "base_uri": "https://localhost:8080/"
        },
        "id": "292890f1",
        "outputId": "ec15b27e-84c8-4446-80e4-d2f996343006"
      },
      "outputs": [
        {
          "output_type": "stream",
          "name": "stdout",
          "text": [
            "MAE: 8.416659922209051\n",
            "MSE: 104.20222653187027\n",
            "RMSE: 10.207949183448665\n",
            "MAPE: 0.7039070815763073\n"
          ]
        }
      ],
      "source": [
        "from sklearn.metrics import mean_absolute_percentage_error\n",
        "\n",
        "print(\"MAE:\", mean_absolute_error(y_test, y_test_pred))\n",
        "print(\"MSE:\", mean_squared_error(y_test, y_test_pred))\n",
        "print(\"RMSE:\", np.sqrt(mean_squared_error(y_test, y_test_pred)))\n",
        "print(\"MAPE:\", mean_absolute_percentage_error(y_test, y_test_pred))"
      ]
    },
    {
      "cell_type": "markdown",
      "id": "49297f5b",
      "metadata": {
        "id": "49297f5b"
      },
      "source": [
        "### Practical Q17. Perform ridge regression on synthetic data and report performance."
      ]
    },
    {
      "cell_type": "code",
      "execution_count": 26,
      "id": "bf3abcfa",
      "metadata": {
        "colab": {
          "base_uri": "https://localhost:8080/"
        },
        "id": "bf3abcfa",
        "outputId": "04083f2a-7d07-4407-b845-df4a199972af"
      },
      "outputs": [
        {
          "output_type": "stream",
          "name": "stdout",
          "text": [
            "Ridge RMSE: 10.285234214219978\n"
          ]
        }
      ],
      "source": [
        "from sklearn.linear_model import Ridge\n",
        "\n",
        "ridge = Ridge(alpha=1.0)\n",
        "ridge.fit(X_train, y_train)\n",
        "y_ridge_pred = ridge.predict(X_test)\n",
        "\n",
        "print(\"Ridge RMSE:\", np.sqrt(mean_squared_error(y_test, y_ridge_pred)))"
      ]
    },
    {
      "cell_type": "markdown",
      "id": "ebe6d954",
      "metadata": {
        "id": "ebe6d954"
      },
      "source": [
        "### Practical Q18. Perform lasso regression on synthetic data and report performance."
      ]
    },
    {
      "cell_type": "code",
      "execution_count": 27,
      "id": "94de0733",
      "metadata": {
        "colab": {
          "base_uri": "https://localhost:8080/"
        },
        "id": "94de0733",
        "outputId": "4f4fb806-4019-44b1-8937-60f4e42ee97a"
      },
      "outputs": [
        {
          "output_type": "stream",
          "name": "stdout",
          "text": [
            "Lasso RMSE: 10.219531239614039\n"
          ]
        }
      ],
      "source": [
        "from sklearn.linear_model import Lasso\n",
        "\n",
        "lasso = Lasso(alpha=0.1)\n",
        "lasso.fit(X_train, y_train)\n",
        "y_lasso_pred = lasso.predict(X_test)\n",
        "\n",
        "print(\"Lasso RMSE:\", np.sqrt(mean_squared_error(y_test, y_lasso_pred)))"
      ]
    },
    {
      "cell_type": "markdown",
      "id": "820f0f69",
      "metadata": {
        "id": "820f0f69"
      },
      "source": [
        "### Practical Q19. Compare linear, ridge, and lasso regression performance."
      ]
    },
    {
      "cell_type": "code",
      "execution_count": 28,
      "id": "03c3d627",
      "metadata": {
        "colab": {
          "base_uri": "https://localhost:8080/"
        },
        "id": "03c3d627",
        "outputId": "c957b1bc-6ba7-4c76-abab-cf1c1e38fa82"
      },
      "outputs": [
        {
          "output_type": "stream",
          "name": "stdout",
          "text": [
            "Linear -> MAE: 8.42, MSE: 104.20, RMSE: 10.21\n",
            "Ridge -> MAE: 8.45, MSE: 105.79, RMSE: 10.29\n",
            "Lasso -> MAE: 8.42, MSE: 104.44, RMSE: 10.22\n"
          ]
        }
      ],
      "source": [
        "evaluate_model(y_test, y_test_pred, \"Linear\")\n",
        "evaluate_model(y_test, y_ridge_pred, \"Ridge\")\n",
        "evaluate_model(y_test, y_lasso_pred, \"Lasso\")"
      ]
    },
    {
      "cell_type": "markdown",
      "id": "708a1efc",
      "metadata": {
        "id": "708a1efc"
      },
      "source": [
        "### Practical Q20. Demonstrate overfitting by comparing training vs testing error in polynomial regression."
      ]
    },
    {
      "cell_type": "code",
      "execution_count": 29,
      "id": "4a4c2f02",
      "metadata": {
        "colab": {
          "base_uri": "https://localhost:8080/"
        },
        "id": "4a4c2f02",
        "outputId": "6b2d0b3c-aa3e-4baf-9479-523583e6bdb2"
      },
      "outputs": [
        {
          "output_type": "stream",
          "name": "stdout",
          "text": [
            "Train RMSE: 8.532504627901188\n",
            "Test RMSE: 10.268139842544361\n"
          ]
        }
      ],
      "source": [
        "y_poly_train = poly_model.predict(X_train)\n",
        "train_rmse = np.sqrt(mean_squared_error(y_train, y_poly_train))\n",
        "test_rmse = np.sqrt(mean_squared_error(y_test, y_poly_pred))\n",
        "\n",
        "print(\"Train RMSE:\", train_rmse)\n",
        "print(\"Test RMSE:\", test_rmse)"
      ]
    },
    {
      "cell_type": "markdown",
      "id": "bec54f06",
      "metadata": {
        "id": "bec54f06"
      },
      "source": [
        "### Practical Q21. Plot predicted vs actual values for regression model."
      ]
    },
    {
      "cell_type": "code",
      "execution_count": 30,
      "id": "1e88ad65",
      "metadata": {
        "colab": {
          "base_uri": "https://localhost:8080/",
          "height": 472
        },
        "id": "1e88ad65",
        "outputId": "c89b5e17-554b-4f2c-b759-dc3ec6c3fe1d"
      },
      "outputs": [
        {
          "output_type": "display_data",
          "data": {
            "text/plain": [
              "<Figure size 640x480 with 1 Axes>"
            ],
            "image/png": "[encoded data removed]"
          },
          "metadata": {}
        }
      ],
      "source": [
        "plt.scatter(y_test, y_test_pred)\n",
        "plt.plot([min(y_test), max(y_test)], [min(y_test), max(y_test)], 'r--')\n",
        "plt.xlabel(\"Actual\")\n",
        "plt.ylabel(\"Predicted\")\n",
        "plt.title(\"Actual vs Predicted\")\n",
        "plt.grid()\n",
        "plt.show()"
      ]
    },
    {
      "cell_type": "markdown",
      "id": "6435c6b2",
      "metadata": {
        "id": "6435c6b2"
      },
      "source": [
        "### Practical Q22. Use statsmodels to fit an OLS regression and get detailed summary."
      ]
    },
    {
      "cell_type": "code",
      "execution_count": 31,
      "id": "ea83beaf",
      "metadata": {
        "colab": {
          "base_uri": "https://localhost:8080/"
        },
        "id": "ea83beaf",
        "outputId": "530468bf-29b3-4edd-bc4c-57d4b7af01ac"
      },
      "outputs": [
        {
          "output_type": "stream",
          "name": "stdout",
          "text": [
            "                            OLS Regression Results                            \n",
            "==============================================================================\n",
            "Dep. Variable:                      y   R-squared:                       0.954\n",
            "Model:                            OLS   Adj. R-squared:                  0.953\n",
            "Method:                 Least Squares   F-statistic:                     2024.\n",
            "Date:                Sat, 19 Jul 2025   Prob (F-statistic):           2.96e-67\n",
            "Time:                        13:01:10   Log-Likelihood:                -359.76\n",
            "No. Observations:                 100   AIC:                             723.5\n",
            "Df Residuals:                      98   BIC:                             728.7\n",
            "Df Model:                           1                                         \n",
            "Covariance Type:            nonrobust                                         \n",
            "==============================================================================\n",
            "                 coef    std err          t      P>|t|      [0.025      0.975]\n",
            "------------------------------------------------------------------------------\n",
            "const          1.1651      0.898      1.297      0.198      -0.618       2.948\n",
            "x1            44.4372      0.988     44.993      0.000      42.477      46.397\n",
            "==============================================================================\n",
            "Omnibus:                        0.052   Durbin-Watson:                   1.868\n",
            "Prob(Omnibus):                  0.974   Jarque-Bera (JB):                0.080\n",
            "Skew:                           0.048   Prob(JB):                        0.961\n",
            "Kurtosis:                       2.900   Cond. No.                         1.16\n",
            "==============================================================================\n",
            "\n",
            "Notes:\n",
            "[1] Standard Errors assume that the covariance matrix of the errors is correctly specified.\n"
          ]
        }
      ],
      "source": [
        "import statsmodels.api as sm\n",
        "\n",
        "X_const = sm.add_constant(X)\n",
        "ols_model = sm.OLS(y, X_const).fit()\n",
        "print(ols_model.summary())"
      ]
    },
    {
      "cell_type": "markdown",
      "id": "890ec49c",
      "metadata": {
        "id": "890ec49c"
      },
      "source": [
        "### Practical Q23. Visualize regression coefficients using bar plot."
      ]
    },
    {
      "cell_type": "code",
      "execution_count": 32,
      "id": "a8fd3cce",
      "metadata": {
        "colab": {
          "base_uri": "https://localhost:8080/",
          "height": 472
        },
        "id": "a8fd3cce",
        "outputId": "0913010a-57d8-407b-9480-7548d822ffab"
      },
      "outputs": [
        {
          "output_type": "display_data",
          "data": {
            "text/plain": [
              "<Figure size 640x480 with 1 Axes>"
            ],
            "image/png": "[encoded data removed]"
          },
          "metadata": {}
        }
      ],
      "source": [
        "coefs = model.coef_.flatten()\n",
        "plt.bar(range(len(coefs)), coefs)\n",
        "plt.title(\"Regression Coefficients\")\n",
        "plt.xlabel(\"Feature Index\")\n",
        "plt.ylabel(\"Coefficient\")\n",
        "plt.grid()\n",
        "plt.show()"
      ]
    },
    {
      "cell_type": "markdown",
      "id": "d810d5a3",
      "metadata": {
        "id": "d810d5a3"
      },
      "source": [
        "### Practical Q24. Perform polynomial regression of degree 3 and compare with degree 2."
      ]
    },
    {
      "cell_type": "code",
      "execution_count": 33,
      "id": "a8052757",
      "metadata": {
        "colab": {
          "base_uri": "https://localhost:8080/"
        },
        "id": "a8052757",
        "outputId": "dae40baf-72e9-4d58-ce81-e9d80ba13f77"
      },
      "outputs": [
        {
          "output_type": "stream",
          "name": "stdout",
          "text": [
            "Poly Degree 3 RMSE: 10.275718089935458\n"
          ]
        }
      ],
      "source": [
        "poly3_model = make_pipeline(PolynomialFeatures(degree=3), LinearRegression())\n",
        "poly3_model.fit(X_train, y_train)\n",
        "y_poly3_pred = poly3_model.predict(X_test)\n",
        "\n",
        "print(\"Poly Degree 3 RMSE:\", np.sqrt(mean_squared_error(y_test, y_poly3_pred)))"
      ]
    },
    {
      "cell_type": "markdown",
      "id": "a733cb87",
      "metadata": {
        "id": "a733cb87"
      },
      "source": [
        "### Practical Q25. Demonstrate inverse relationship between bias and variance in linear vs polynomial models."
      ]
    },
    {
      "cell_type": "code",
      "execution_count": 34,
      "id": "3a4b501e",
      "metadata": {
        "colab": {
          "base_uri": "https://localhost:8080/"
        },
        "id": "3a4b501e",
        "outputId": "76bd6f34-c870-4ce9-ff26-d30bd8636a97"
      },
      "outputs": [
        {
          "output_type": "stream",
          "name": "stdout",
          "text": [
            "Linear Test RMSE: 10.207949183448665\n",
            "Poly Degree 3 Test RMSE: 10.275718089935458\n"
          ]
        }
      ],
      "source": [
        "print(\"Linear Test RMSE:\", np.sqrt(mean_squared_error(y_test, y_test_pred)))\n",
        "print(\"Poly Degree 3 Test RMSE:\", np.sqrt(mean_squared_error(y_test, y_poly3_pred)))"
      ]
    }
  ],
  "metadata": {
    "colab": {
      "provenance": [],
      "include_colab_link": true
    },
    "language_info": {
      "name": "python"
    },
    "kernelspec": {
      "name": "python3",
      "display_name": "Python 3"
    }
  },
  "nbformat": 4,
  "nbformat_minor": 5
}