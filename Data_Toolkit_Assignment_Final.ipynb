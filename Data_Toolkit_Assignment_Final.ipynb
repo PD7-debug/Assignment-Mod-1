{
  "cells": [
    {
      "cell_type": "markdown",
      "metadata": {
        "id": "view-in-github",
        "colab_type": "text"
      },
      "source": [
        "<a href=\"https://colab.research.google.com/github/PD7-debug/Assignment-Mod-1/blob/main/Data_Toolkit_Assignment_Final.ipynb\" target=\"_parent\"><img src=\"https://colab.research.google.com/assets/colab-badge.svg\" alt=\"Open In Colab\"/></a>"
      ]
    },
    {
      "cell_type": "markdown",
      "source": [
        "THEORY QUESTION"
      ],
      "metadata": {
        "id": "kJKHMZ_NZAii"
      },
      "id": "kJKHMZ_NZAii"
    },
    {
      "cell_type": "markdown",
      "id": "f1cfa084",
      "metadata": {
        "id": "f1cfa084"
      },
      "source": [
        "###1. What is NumPy, and why is it widely used in Python\n",
        "NumPy is a library for numerical computing in Python. It provides support for arrays, matrices, and vectorized operations, and is widely used for scientific computing due to its speed and efficiency."
      ]
    },
    {
      "cell_type": "markdown",
      "id": "758bf3c6",
      "metadata": {
        "id": "758bf3c6"
      },
      "source": [
        "### 2.How does broadcasting work in NumPy\n",
        "Broadcasting allows NumPy to perform arithmetic operations on arrays of different shapes, expanding smaller arrays to match the shape of larger ones."
      ]
    },
    {
      "cell_type": "markdown",
      "id": "0069d4ab",
      "metadata": {
        "id": "0069d4ab"
      },
      "source": [
        "###3. What is a Pandas DataFrame\n",
        "A DataFrame is a 2D labeled data structure in Pandas with columns of potentially different types, similar to a spreadsheet or SQL table."
      ]
    },
    {
      "cell_type": "markdown",
      "id": "464f2480",
      "metadata": {
        "id": "464f2480"
      },
      "source": [
        "### 4.Explain the use of the groupby() method in Pandas\n",
        "`groupby()` is used to group data based on one or more columns, and then apply aggregation functions like sum, mean, or count to each group."
      ]
    },
    {
      "cell_type": "markdown",
      "id": "d75a7c5f",
      "metadata": {
        "id": "d75a7c5f"
      },
      "source": [
        "###5. Why is Seaborn preferred for statistical visualizations\n",
        "Seaborn provides a high-level interface for drawing attractive and informative statistical graphics. It integrates well with Pandas and simplifies complex visualizations."
      ]
    },
    {
      "cell_type": "markdown",
      "id": "1c2e2f87",
      "metadata": {
        "id": "1c2e2f87"
      },
      "source": [
        "###6. What are the differences between NumPy arrays and Python lists\n",
        "NumPy arrays are more memory efficient, support vectorized operations, and are faster than Python lists for numerical computations."
      ]
    },
    {
      "cell_type": "markdown",
      "id": "1f97bf7e",
      "metadata": {
        "id": "1f97bf7e"
      },
      "source": [
        "###7. What is a heatmap, and when should it be used\n",
        "A heatmap is a data visualization that shows values in a matrix as colors. It is used for showing correlations or patterns in data."
      ]
    },
    {
      "cell_type": "markdown",
      "id": "d3d69d48",
      "metadata": {
        "id": "d3d69d48"
      },
      "source": [
        "###8. What does the term “vectorized operation” mean in NumPy\n",
        "Vectorized operations allow element-wise operations on entire arrays without the need for explicit loops, making code more efficient and concise."
      ]
    },
    {
      "cell_type": "markdown",
      "id": "4ff2b7af",
      "metadata": {
        "id": "4ff2b7af"
      },
      "source": [
        "###9. How does Matplotlib differ from Plotly\n",
        "Matplotlib is a static plotting library, while Plotly supports interactive plots. Plotly is better suited for web and dashboard applications."
      ]
    },
    {
      "cell_type": "markdown",
      "id": "54ecc524",
      "metadata": {
        "id": "54ecc524"
      },
      "source": [
        "### 10.What is the significance of hierarchical indexing in Pandas\n",
        "Hierarchical indexing allows for multiple (two or more) index levels on a DataFrame or Series, enabling more complex data structures and operations."
      ]
    },
    {
      "cell_type": "markdown",
      "id": "f341bf2e",
      "metadata": {
        "id": "f341bf2e"
      },
      "source": [
        "###11. What is the role of Seaborn’s pairplot() function\n",
        "`pairplot()` visualizes pairwise relationships in a dataset, making it easy to identify trends and correlations."
      ]
    },
    {
      "cell_type": "markdown",
      "id": "6dca6abc",
      "metadata": {
        "id": "6dca6abc"
      },
      "source": [
        "###12. What is the purpose of the describe() function in Pandas\n",
        "`describe()` generates descriptive statistics of DataFrame columns, such as count, mean, std, min, and max."
      ]
    },
    {
      "cell_type": "markdown",
      "id": "dd0de2e8",
      "metadata": {
        "id": "dd0de2e8"
      },
      "source": [
        "###13. Why is handling missing data important in Pandas\n",
        "Handling missing data ensures that analysis results are accurate and prevents errors during computations or visualizations."
      ]
    },
    {
      "cell_type": "markdown",
      "id": "95ed49de",
      "metadata": {
        "id": "95ed49de"
      },
      "source": [
        "###14. What are the benefits of using Plotly for data visualization\n",
        "Plotly supports interactive charts, real-time updates, and integration with web applications, making it ideal for dashboards and presentations."
      ]
    },
    {
      "cell_type": "markdown",
      "id": "deca305a",
      "metadata": {
        "id": "deca305a"
      },
      "source": [
        "###15. How does NumPy handle multidimensional arrays\n",
        "NumPy uses the ndarray object, which can be n-dimensional. It provides functions for reshaping, indexing, and manipulating these arrays."
      ]
    },
    {
      "cell_type": "markdown",
      "id": "5d28abc5",
      "metadata": {
        "id": "5d28abc5"
      },
      "source": [
        "###16. What is the role of Bokeh in data visualization\n",
        "Bokeh is a Python library for interactive visualizations in the browser, especially useful for building dashboards and web apps."
      ]
    },
    {
      "cell_type": "markdown",
      "id": "96c8fb79",
      "metadata": {
        "id": "96c8fb79"
      },
      "source": [
        "###17. Explain the difference between apply() and map() in Pandas\n",
        "`apply()` can be used on DataFrames and Series to apply functions row- or column-wise. `map()` is used only on Series for element-wise transformations."
      ]
    },
    {
      "cell_type": "markdown",
      "id": "b51be342",
      "metadata": {
        "id": "b51be342"
      },
      "source": [
        "###18. What are some advanced features of NumPy\n",
        "Advanced features include broadcasting, linear algebra functions, Fourier transforms, masked arrays, and random number generation."
      ]
    },
    {
      "cell_type": "markdown",
      "id": "d51e401f",
      "metadata": {
        "id": "d51e401f"
      },
      "source": [
        "###19. How does Pandas simplify time series analysis\n",
        "Pandas provides datetime indexing, resampling, shifting, rolling windows, and built-in date operations for handling time series data."
      ]
    },
    {
      "cell_type": "markdown",
      "id": "ff65f739",
      "metadata": {
        "id": "ff65f739"
      },
      "source": [
        "###20. What is the role of a pivot table in Pandas\n",
        "Pivot tables summarize data by grouping and aggregating it based on row and column headers."
      ]
    },
    {
      "cell_type": "markdown",
      "id": "681bdb33",
      "metadata": {
        "id": "681bdb33"
      },
      "source": [
        "###21. Why is NumPy’s array slicing faster than Python’s list slicing\n",
        "NumPy arrays are stored in contiguous blocks of memory and use optimized C functions, making slicing faster than native Python lists."
      ]
    },
    {
      "cell_type": "markdown",
      "id": "1ec67323",
      "metadata": {
        "id": "1ec67323"
      },
      "source": [
        "###22. What are some common use cases for Seaborn?\n",
        "Seaborn is commonly used for plotting distributions, relationships (scatter plots, pairplots), and categorical data (box plots, violin plots)."
      ]
    },
    {
      "cell_type": "markdown",
      "source": [
        "PRACTICAL QUESTION"
      ],
      "metadata": {
        "id": "EbIBIWvUZhjh"
      },
      "id": "EbIBIWvUZhjh"
    },
    {
      "cell_type": "markdown",
      "id": "8fc00255",
      "metadata": {
        "id": "8fc00255"
      },
      "source": [
        "### Q1. How do you create a 2D NumPy array and calculate the sum of each row"
      ]
    },
    {
      "cell_type": "code",
      "execution_count": 2,
      "id": "61c4a7bc",
      "metadata": {
        "colab": {
          "base_uri": "https://localhost:8080/"
        },
        "id": "61c4a7bc",
        "outputId": "faf544d7-4bcf-4f5f-b0cf-030cecbc8c75"
      },
      "outputs": [
        {
          "output_type": "stream",
          "name": "stdout",
          "text": [
            "Row sums: [ 6 15]\n"
          ]
        }
      ],
      "source": [
        "import numpy as np\n",
        "\n",
        "arr = np.array([[1, 2, 3], [4, 5, 6]])\n",
        "row_sum = np.sum(arr, axis=1)\n",
        "print(\"Row sums:\", row_sum)"
      ]
    },
    {
      "cell_type": "markdown",
      "id": "9319b28c",
      "metadata": {
        "id": "9319b28c"
      },
      "source": [
        "### Q2. Write a Pandas script to find the mean of a specific column in a DataFrame"
      ]
    },
    {
      "cell_type": "code",
      "execution_count": 1,
      "id": "66a3409f",
      "metadata": {
        "colab": {
          "base_uri": "https://localhost:8080/"
        },
        "id": "66a3409f",
        "outputId": "c7c4e382-33d6-4b7e-9ff4-d31e563a345c"
      },
      "outputs": [
        {
          "output_type": "stream",
          "name": "stdout",
          "text": [
            "Mean score: 90.0\n"
          ]
        }
      ],
      "source": [
        "import pandas as pd\n",
        "\n",
        "data = {'Name': ['Alice', 'Bob', 'Charlie'], 'Score': [85, 90, 95]}\n",
        "df = pd.DataFrame(data)\n",
        "mean_score = df['Score'].mean()\n",
        "print(\"Mean score:\", mean_score)"
      ]
    },
    {
      "cell_type": "markdown",
      "id": "07302893",
      "metadata": {
        "id": "07302893"
      },
      "source": [
        "### Q3. Create a scatter plot using Matplotlib"
      ]
    },
    {
      "cell_type": "code",
      "execution_count": 3,
      "id": "846861b8",
      "metadata": {
        "colab": {
          "base_uri": "https://localhost:8080/",
          "height": 472
        },
        "id": "846861b8",
        "outputId": "b7f1ee28-ae4c-4bf5-d8ec-ae94f7f158d2"
      },
      "outputs": [
        {
          "output_type": "display_data",
          "data": {
            "text/plain": [
              "<Figure size 640x480 with 1 Axes>"
            ],
            "image/png": "[encoded data removed]"
          },
          "metadata": {}
        }
      ],
      "source": [
        "import matplotlib.pyplot as plt\n",
        "\n",
        "x = [1, 2, 3, 4]\n",
        "y = [10, 20, 25, 30]\n",
        "plt.scatter(x, y)\n",
        "plt.title(\"Scatter Plot\")\n",
        "plt.xlabel(\"X-axis\")\n",
        "plt.ylabel(\"Y-axis\")\n",
        "plt.show()"
      ]
    },
    {
      "cell_type": "markdown",
      "id": "076e24ad",
      "metadata": {
        "id": "076e24ad"
      },
      "source": [
        "### Q4. How do you calculate the correlation matrix using Seaborn and visualize it with a heatmap"
      ]
    },
    {
      "cell_type": "code",
      "execution_count": 4,
      "id": "508a1948",
      "metadata": {
        "colab": {
          "base_uri": "https://localhost:8080/",
          "height": 452
        },
        "id": "508a1948",
        "outputId": "e90900ee-e16a-41b2-8788-06751a46f8b5"
      },
      "outputs": [
        {
          "output_type": "display_data",
          "data": {
            "text/plain": [
              "<Figure size 640x480 with 2 Axes>"
            ],
            "image/png": "[encoded data removed]"
          },
          "metadata": {}
        }
      ],
      "source": [
        "import seaborn as sns\n",
        "import pandas as pd\n",
        "import numpy as np\n",
        "import matplotlib.pyplot as plt\n",
        "\n",
        "data = np.random.rand(5, 3)\n",
        "df = pd.DataFrame(data, columns=[\"A\", \"B\", \"C\"])\n",
        "corr = df.corr()\n",
        "\n",
        "sns.heatmap(corr, annot=True, cmap=\"coolwarm\")\n",
        "plt.title(\"Correlation Heatmap\")\n",
        "plt.show()"
      ]
    },
    {
      "cell_type": "markdown",
      "id": "c7392d5f",
      "metadata": {
        "id": "c7392d5f"
      },
      "source": [
        "### Q5. Generate a bar plot using Plotly"
      ]
    },
    {
      "cell_type": "code",
      "execution_count": 5,
      "id": "32c0aac9",
      "metadata": {
        "colab": {
          "base_uri": "https://localhost:8080/",
          "height": 542
        },
        "id": "32c0aac9",
        "outputId": "8e37dae6-0381-4cb1-c5df-5004272e75a9"
      },
      "outputs": [
        {
          "output_type": "display_data",
          "data": {
            "text/html": [
              "<html>\n",
              "<head><meta charset=\"utf-8\" /></head>\n",
              "<body>\n",
              "    <div>            <script src=\"https://cdnjs.cloudflare.com/ajax/libs/mathjax/2.7.5/MathJax.js?config=TeX-AMS-MML_SVG\"></script><script type=\"text/javascript\">if (window.MathJax && window.MathJax.Hub && window.MathJax.Hub.Config) {window.MathJax.Hub.Config({SVG: {font: \"STIX-Web\"}});}</script>                <script type=\"text/javascript\">window.PlotlyConfig = {MathJaxConfig: 'local'};</script>\n",
              "        <script charset=\"utf-8\" src=\"https://cdn.plot.ly/plotly-2.35.2.min.js\"></script>                <div id=\"3e11a083-014b-4078-9885-e8b6e622fcaa\" class=\"plotly-graph-div\" style=\"height:525px; width:100%;\"></div>            <script type=\"text/javascript\">                                    window.PLOTLYENV=window.PLOTLYENV || {};                                    if (document.getElementById(\"3e11a083-014b-4078-9885-e8b6e622fcaa\")) {                    Plotly.newPlot(                        \"3e11a083-014b-4078-9885-e8b6e622fcaa\",                        [{\"x\":[\"A\",\"B\",\"C\"],\"y\":[4,7,2],\"type\":\"bar\"}],                        {\"template\":{\"data\":{\"histogram2dcontour\":[{\"type\":\"histogram2dcontour\",\"colorbar\":{\"outlinewidth\":0,\"ticks\":\"\"},\"colorscale\":[[0.0,\"#0d0887\"],[0.1111111111111111,\"#46039f\"],[0.2222222222222222,\"#7201a8\"],[0.3333333333333333,\"#9c179e\"],[0.4444444444444444,\"#bd3786\"],[0.5555555555555556,\"#d8576b\"],[0.6666666666666666,\"#ed7953\"],[0.7777777777777778,\"#fb9f3a\"],[0.8888888888888888,\"#fdca26\"],[1.0,\"#f0f921\"]]}],\"choropleth\":[{\"type\":\"choropleth\",\"colorbar\":{\"outlinewidth\":0,\"ticks\":\"\"}}],\"histogram2d\":[{\"type\":\"histogram2d\",\"colorbar\":{\"outlinewidth\":0,\"ticks\":\"\"},\"colorscale\":[[0.0,\"#0d0887\"],[0.1111111111111111,\"#46039f\"],[0.2222222222222222,\"#7201a8\"],[0.3333333333333333,\"#9c179e\"],[0.4444444444444444,\"#bd3786\"],[0.5555555555555556,\"#d8576b\"],[0.6666666666666666,\"#ed7953\"],[0.7777777777777778,\"#fb9f3a\"],[0.8888888888888888,\"#fdca26\"],[1.0,\"#f0f921\"]]}],\"heatmap\":[{\"type\":\"heatmap\",\"colorbar\":{\"outlinewidth\":0,\"ticks\":\"\"},\"colorscale\":[[0.0,\"#0d0887\"],[0.1111111111111111,\"#46039f\"],[0.2222222222222222,\"#7201a8\"],[0.3333333333333333,\"#9c179e\"],[0.4444444444444444,\"#bd3786\"],[0.5555555555555556,\"#d8576b\"],[0.6666666666666666,\"#ed7953\"],[0.7777777777777778,\"#fb9f3a\"],[0.8888888888888888,\"#fdca26\"],[1.0,\"#f0f921\"]]}],\"heatmapgl\":[{\"type\":\"heatmapgl\",\"colorbar\":{\"outlinewidth\":0,\"ticks\":\"\"},\"colorscale\":[[0.0,\"#0d0887\"],[0.1111111111111111,\"#46039f\"],[0.2222222222222222,\"#7201a8\"],[0.3333333333333333,\"#9c179e\"],[0.4444444444444444,\"#bd3786\"],[0.5555555555555556,\"#d8576b\"],[0.6666666666666666,\"#ed7953\"],[0.7777777777777778,\"#fb9f3a\"],[0.8888888888888888,\"#fdca26\"],[1.0,\"#f0f921\"]]}],\"contourcarpet\":[{\"type\":\"contourcarpet\",\"colorbar\":{\"outlinewidth\":0,\"ticks\":\"\"}}],\"contour\":[{\"type\":\"contour\",\"colorbar\":{\"outlinewidth\":0,\"ticks\":\"\"},\"colorscale\":[[0.0,\"#0d0887\"],[0.1111111111111111,\"#46039f\"],[0.2222222222222222,\"#7201a8\"],[0.3333333333333333,\"#9c179e\"],[0.4444444444444444,\"#bd3786\"],[0.5555555555555556,\"#d8576b\"],[0.6666666666666666,\"#ed7953\"],[0.7777777777777778,\"#fb9f3a\"],[0.8888888888888888,\"#fdca26\"],[1.0,\"#f0f921\"]]}],\"surface\":[{\"type\":\"surface\",\"colorbar\":{\"outlinewidth\":0,\"ticks\":\"\"},\"colorscale\":[[0.0,\"#0d0887\"],[0.1111111111111111,\"#46039f\"],[0.2222222222222222,\"#7201a8\"],[0.3333333333333333,\"#9c179e\"],[0.4444444444444444,\"#bd3786\"],[0.5555555555555556,\"#d8576b\"],[0.6666666666666666,\"#ed7953\"],[0.7777777777777778,\"#fb9f3a\"],[0.8888888888888888,\"#fdca26\"],[1.0,\"#f0f921\"]]}],\"mesh3d\":[{\"type\":\"mesh3d\",\"colorbar\":{\"outlinewidth\":0,\"ticks\":\"\"}}],\"scatter\":[{\"fillpattern\":{\"fillmode\":\"overlay\",\"size\":10,\"solidity\":0.2},\"type\":\"scatter\"}],\"parcoords\":[{\"type\":\"parcoords\",\"line\":{\"colorbar\":{\"outlinewidth\":0,\"ticks\":\"\"}}}],\"scatterpolargl\":[{\"type\":\"scatterpolargl\",\"marker\":{\"colorbar\":{\"outlinewidth\":0,\"ticks\":\"\"}}}],\"bar\":[{\"error_x\":{\"color\":\"#2a3f5f\"},\"error_y\":{\"color\":\"#2a3f5f\"},\"marker\":{\"line\":{\"color\":\"#E5ECF6\",\"width\":0.5},\"pattern\":{\"fillmode\":\"overlay\",\"size\":10,\"solidity\":0.2}},\"type\":\"bar\"}],\"scattergeo\":[{\"type\":\"scattergeo\",\"marker\":{\"colorbar\":{\"outlinewidth\":0,\"ticks\":\"\"}}}],\"scatterpolar\":[{\"type\":\"scatterpolar\",\"marker\":{\"colorbar\":{\"outlinewidth\":0,\"ticks\":\"\"}}}],\"histogram\":[{\"marker\":{\"pattern\":{\"fillmode\":\"overlay\",\"size\":10,\"solidity\":0.2}},\"type\":\"histogram\"}],\"scattergl\":[{\"type\":\"scattergl\",\"marker\":{\"colorbar\":{\"outlinewidth\":0,\"ticks\":\"\"}}}],\"scatter3d\":[{\"type\":\"scatter3d\",\"line\":{\"colorbar\":{\"outlinewidth\":0,\"ticks\":\"\"}},\"marker\":{\"colorbar\":{\"outlinewidth\":0,\"ticks\":\"\"}}}],\"scattermapbox\":[{\"type\":\"scattermapbox\",\"marker\":{\"colorbar\":{\"outlinewidth\":0,\"ticks\":\"\"}}}],\"scatterternary\":[{\"type\":\"scatterternary\",\"marker\":{\"colorbar\":{\"outlinewidth\":0,\"ticks\":\"\"}}}],\"scattercarpet\":[{\"type\":\"scattercarpet\",\"marker\":{\"colorbar\":{\"outlinewidth\":0,\"ticks\":\"\"}}}],\"carpet\":[{\"aaxis\":{\"endlinecolor\":\"#2a3f5f\",\"gridcolor\":\"white\",\"linecolor\":\"white\",\"minorgridcolor\":\"white\",\"startlinecolor\":\"#2a3f5f\"},\"baxis\":{\"endlinecolor\":\"#2a3f5f\",\"gridcolor\":\"white\",\"linecolor\":\"white\",\"minorgridcolor\":\"white\",\"startlinecolor\":\"#2a3f5f\"},\"type\":\"carpet\"}],\"table\":[{\"cells\":{\"fill\":{\"color\":\"#EBF0F8\"},\"line\":{\"color\":\"white\"}},\"header\":{\"fill\":{\"color\":\"#C8D4E3\"},\"line\":{\"color\":\"white\"}},\"type\":\"table\"}],\"barpolar\":[{\"marker\":{\"line\":{\"color\":\"#E5ECF6\",\"width\":0.5},\"pattern\":{\"fillmode\":\"overlay\",\"size\":10,\"solidity\":0.2}},\"type\":\"barpolar\"}],\"pie\":[{\"automargin\":true,\"type\":\"pie\"}]},\"layout\":{\"autotypenumbers\":\"strict\",\"colorway\":[\"#636efa\",\"#EF553B\",\"#00cc96\",\"#ab63fa\",\"#FFA15A\",\"#19d3f3\",\"#FF6692\",\"#B6E880\",\"#FF97FF\",\"#FECB52\"],\"font\":{\"color\":\"#2a3f5f\"},\"hovermode\":\"closest\",\"hoverlabel\":{\"align\":\"left\"},\"paper_bgcolor\":\"white\",\"plot_bgcolor\":\"#E5ECF6\",\"polar\":{\"bgcolor\":\"#E5ECF6\",\"angularaxis\":{\"gridcolor\":\"white\",\"linecolor\":\"white\",\"ticks\":\"\"},\"radialaxis\":{\"gridcolor\":\"white\",\"linecolor\":\"white\",\"ticks\":\"\"}},\"ternary\":{\"bgcolor\":\"#E5ECF6\",\"aaxis\":{\"gridcolor\":\"white\",\"linecolor\":\"white\",\"ticks\":\"\"},\"baxis\":{\"gridcolor\":\"white\",\"linecolor\":\"white\",\"ticks\":\"\"},\"caxis\":{\"gridcolor\":\"white\",\"linecolor\":\"white\",\"ticks\":\"\"}},\"coloraxis\":{\"colorbar\":{\"outlinewidth\":0,\"ticks\":\"\"}},\"colorscale\":{\"sequential\":[[0.0,\"#0d0887\"],[0.1111111111111111,\"#46039f\"],[0.2222222222222222,\"#7201a8\"],[0.3333333333333333,\"#9c179e\"],[0.4444444444444444,\"#bd3786\"],[0.5555555555555556,\"#d8576b\"],[0.6666666666666666,\"#ed7953\"],[0.7777777777777778,\"#fb9f3a\"],[0.8888888888888888,\"#fdca26\"],[1.0,\"#f0f921\"]],\"sequentialminus\":[[0.0,\"#0d0887\"],[0.1111111111111111,\"#46039f\"],[0.2222222222222222,\"#7201a8\"],[0.3333333333333333,\"#9c179e\"],[0.4444444444444444,\"#bd3786\"],[0.5555555555555556,\"#d8576b\"],[0.6666666666666666,\"#ed7953\"],[0.7777777777777778,\"#fb9f3a\"],[0.8888888888888888,\"#fdca26\"],[1.0,\"#f0f921\"]],\"diverging\":[[0,\"#8e0152\"],[0.1,\"#c51b7d\"],[0.2,\"#de77ae\"],[0.3,\"#f1b6da\"],[0.4,\"#fde0ef\"],[0.5,\"#f7f7f7\"],[0.6,\"#e6f5d0\"],[0.7,\"#b8e186\"],[0.8,\"#7fbc41\"],[0.9,\"#4d9221\"],[1,\"#276419\"]]},\"xaxis\":{\"gridcolor\":\"white\",\"linecolor\":\"white\",\"ticks\":\"\",\"title\":{\"standoff\":15},\"zerolinecolor\":\"white\",\"automargin\":true,\"zerolinewidth\":2},\"yaxis\":{\"gridcolor\":\"white\",\"linecolor\":\"white\",\"ticks\":\"\",\"title\":{\"standoff\":15},\"zerolinecolor\":\"white\",\"automargin\":true,\"zerolinewidth\":2},\"scene\":{\"xaxis\":{\"backgroundcolor\":\"#E5ECF6\",\"gridcolor\":\"white\",\"linecolor\":\"white\",\"showbackground\":true,\"ticks\":\"\",\"zerolinecolor\":\"white\",\"gridwidth\":2},\"yaxis\":{\"backgroundcolor\":\"#E5ECF6\",\"gridcolor\":\"white\",\"linecolor\":\"white\",\"showbackground\":true,\"ticks\":\"\",\"zerolinecolor\":\"white\",\"gridwidth\":2},\"zaxis\":{\"backgroundcolor\":\"#E5ECF6\",\"gridcolor\":\"white\",\"linecolor\":\"white\",\"showbackground\":true,\"ticks\":\"\",\"zerolinecolor\":\"white\",\"gridwidth\":2}},\"shapedefaults\":{\"line\":{\"color\":\"#2a3f5f\"}},\"annotationdefaults\":{\"arrowcolor\":\"#2a3f5f\",\"arrowhead\":0,\"arrowwidth\":1},\"geo\":{\"bgcolor\":\"white\",\"landcolor\":\"#E5ECF6\",\"subunitcolor\":\"white\",\"showland\":true,\"showlakes\":true,\"lakecolor\":\"white\"},\"title\":{\"x\":0.05},\"mapbox\":{\"style\":\"light\"}}}},                        {\"responsive\": true}                    ).then(function(){\n",
              "                            \n",
              "var gd = document.getElementById('3e11a083-014b-4078-9885-e8b6e622fcaa');\n",
              "var x = new MutationObserver(function (mutations, observer) {{\n",
              "        var display = window.getComputedStyle(gd).display;\n",
              "        if (!display || display === 'none') {{\n",
              "            console.log([gd, 'removed!']);\n",
              "            Plotly.purge(gd);\n",
              "            observer.disconnect();\n",
              "        }}\n",
              "}});\n",
              "\n",
              "// Listen for the removal of the full notebook cells\n",
              "var notebookContainer = gd.closest('#notebook-container');\n",
              "if (notebookContainer) {{\n",
              "    x.observe(notebookContainer, {childList: true});\n",
              "}}\n",
              "\n",
              "// Listen for the clearing of the current output cell\n",
              "var outputEl = gd.closest('.output');\n",
              "if (outputEl) {{\n",
              "    x.observe(outputEl, {childList: true});\n",
              "}}\n",
              "\n",
              "                        })                };                            </script>        </div>\n",
              "</body>\n",
              "</html>"
            ]
          },
          "metadata": {}
        }
      ],
      "source": [
        "import plotly.graph_objects as go\n",
        "\n",
        "fig = go.Figure([go.Bar(x=['A', 'B', 'C'], y=[4, 7, 2])])\n",
        "fig.show()"
      ]
    },
    {
      "cell_type": "markdown",
      "id": "c8633021",
      "metadata": {
        "id": "c8633021"
      },
      "source": [
        "### Q6. Create a DataFrame and add a new column based on an existing column"
      ]
    },
    {
      "cell_type": "code",
      "execution_count": 8,
      "id": "7301612d",
      "metadata": {
        "colab": {
          "base_uri": "https://localhost:8080/"
        },
        "id": "7301612d",
        "outputId": "d03df940-da24-409b-ef4c-e04e8a5dd262"
      },
      "outputs": [
        {
          "output_type": "stream",
          "name": "stdout",
          "text": [
            "   Score Grade\n",
            "0     80     B\n",
            "1     85     B\n",
            "2     90     A\n"
          ]
        }
      ],
      "source": [
        "import pandas as pd\n",
        "\n",
        "df = pd.DataFrame({'Score': [80, 85, 90]})\n",
        "df['Grade'] = ['B' if x < 90 else 'A' for x in df['Score']]\n",
        "print(df)"
      ]
    },
    {
      "cell_type": "markdown",
      "id": "f1202c79",
      "metadata": {
        "id": "f1202c79"
      },
      "source": [
        "### Q7. Write a program to perform element-wise multiplication of two NumPy arrays"
      ]
    },
    {
      "cell_type": "code",
      "execution_count": 7,
      "id": "8e592c7d",
      "metadata": {
        "colab": {
          "base_uri": "https://localhost:8080/"
        },
        "id": "8e592c7d",
        "outputId": "9780bf70-9a64-4be2-83ce-67b37d57fa1a"
      },
      "outputs": [
        {
          "output_type": "stream",
          "name": "stdout",
          "text": [
            "Element-wise product: [ 4 10 18]\n"
          ]
        }
      ],
      "source": [
        "import numpy as np\n",
        "\n",
        "a = np.array([1, 2, 3])\n",
        "b = np.array([4, 5, 6])\n",
        "product = a * b\n",
        "print(\"Element-wise product:\", product)"
      ]
    },
    {
      "cell_type": "markdown",
      "id": "d9a28e4a",
      "metadata": {
        "id": "d9a28e4a"
      },
      "source": [
        "### Q8. Create a line plot with multiple lines using Matplotlib"
      ]
    },
    {
      "cell_type": "code",
      "execution_count": 9,
      "id": "a4462280",
      "metadata": {
        "colab": {
          "base_uri": "https://localhost:8080/",
          "height": 452
        },
        "id": "a4462280",
        "outputId": "c6080053-e3c4-4c19-fc3d-de4927d6bc75"
      },
      "outputs": [
        {
          "output_type": "display_data",
          "data": {
            "text/plain": [
              "<Figure size 640x480 with 1 Axes>"
            ],
            "image/png": "[encoded data removed]"
          },
          "metadata": {}
        }
      ],
      "source": [
        "import matplotlib.pyplot as plt\n",
        "\n",
        "x = [1, 2, 3, 4]\n",
        "y1 = [1, 4, 9, 16]\n",
        "y2 = [2, 5, 10, 17]\n",
        "\n",
        "plt.plot(x, y1, label=\"Line 1\")\n",
        "plt.plot(x, y2, label=\"Line 2\")\n",
        "plt.legend()\n",
        "plt.title(\"Multiple Line Plot\")\n",
        "plt.show()"
      ]
    },
    {
      "cell_type": "markdown",
      "id": "cf9b7c82",
      "metadata": {
        "id": "cf9b7c82"
      },
      "source": [
        "### Q9. Generate a Pandas DataFrame and filter rows where a column value is greater than a threshold"
      ]
    },
    {
      "cell_type": "code",
      "execution_count": 10,
      "id": "1c3a394f",
      "metadata": {
        "colab": {
          "base_uri": "https://localhost:8080/"
        },
        "id": "1c3a394f",
        "outputId": "5eb6a380-403c-4d16-c478-4c1ba2222f1d"
      },
      "outputs": [
        {
          "output_type": "stream",
          "name": "stdout",
          "text": [
            "    Name  Age\n",
            "0  Alice   25\n",
            "1    Bob   30\n"
          ]
        }
      ],
      "source": [
        "import pandas as pd\n",
        "\n",
        "df = pd.DataFrame({'Name': ['Alice', 'Bob', 'Charlie'], 'Age': [25, 30, 22]})\n",
        "filtered_df = df[df['Age'] > 23]\n",
        "print(filtered_df)"
      ]
    },
    {
      "cell_type": "markdown",
      "id": "da17458b",
      "metadata": {
        "id": "da17458b"
      },
      "source": [
        "### Q10. Create a histogram using Seaborn to visualize a distribution"
      ]
    },
    {
      "cell_type": "code",
      "execution_count": 11,
      "id": "a86b3a80",
      "metadata": {
        "colab": {
          "base_uri": "https://localhost:8080/",
          "height": 452
        },
        "id": "a86b3a80",
        "outputId": "58583598-1cb7-4e4a-c320-65d125d281e3"
      },
      "outputs": [
        {
          "output_type": "display_data",
          "data": {
            "text/plain": [
              "<Figure size 640x480 with 1 Axes>"
            ],
            "image/png": "[encoded data removed]"
          },
          "metadata": {}
        }
      ],
      "source": [
        "import seaborn as sns\n",
        "import matplotlib.pyplot as plt\n",
        "\n",
        "data = [20, 21, 21, 23, 24, 24, 24, 25, 26, 26, 27, 28]\n",
        "sns.histplot(data, bins=5, kde=True)\n",
        "plt.title(\"Distribution Histogram\")\n",
        "plt.show()"
      ]
    },
    {
      "cell_type": "markdown",
      "id": "0e68d56f",
      "metadata": {
        "id": "0e68d56f"
      },
      "source": [
        "### Q11. Perform matrix multiplication using NumPy"
      ]
    },
    {
      "cell_type": "code",
      "execution_count": 12,
      "id": "d17da4d0",
      "metadata": {
        "colab": {
          "base_uri": "https://localhost:8080/"
        },
        "id": "d17da4d0",
        "outputId": "9c766ea1-56c7-4910-eba8-badb531a1654"
      },
      "outputs": [
        {
          "output_type": "stream",
          "name": "stdout",
          "text": [
            "Matrix product:\n",
            " [[19 22]\n",
            " [43 50]]\n"
          ]
        }
      ],
      "source": [
        "import numpy as np\n",
        "\n",
        "A = np.array([[1, 2], [3, 4]])\n",
        "B = np.array([[5, 6], [7, 8]])\n",
        "result = np.dot(A, B)\n",
        "print(\"Matrix product:\\n\", result)"
      ]
    },
    {
      "cell_type": "markdown",
      "id": "911019b5",
      "metadata": {
        "id": "911019b5"
      },
      "source": [
        "### Q12. Use Pandas to load a CSV file and display its first 5 rows"
      ]
    },
    {
      "cell_type": "code",
      "execution_count": 13,
      "id": "09f82ec0",
      "metadata": {
        "colab": {
          "base_uri": "https://localhost:8080/"
        },
        "id": "09f82ec0",
        "outputId": "3301e61a-8563-4669-ce8f-ee84dac2f633"
      },
      "outputs": [
        {
          "output_type": "stream",
          "name": "stdout",
          "text": [
            "  Name  Score\n",
            "0    A     88\n",
            "1    B     92\n"
          ]
        }
      ],
      "source": [
        "import pandas as pd\n",
        "\n",
        "# df = pd.read_csv(\"your_file.csv\")\n",
        "# print(df.head())\n",
        "\n",
        "# Since no actual file is loaded, we simulate:\n",
        "df = pd.DataFrame({'Name': ['A', 'B'], 'Score': [88, 92]})\n",
        "print(df.head())"
      ]
    },
    {
      "cell_type": "markdown",
      "id": "cc12c564",
      "metadata": {
        "id": "cc12c564"
      },
      "source": [
        "### Q13. Create a 3D scatter plot using Plotly."
      ]
    },
    {
      "cell_type": "code",
      "execution_count": 15,
      "id": "720bf268",
      "metadata": {
        "colab": {
          "base_uri": "https://localhost:8080/",
          "height": 542
        },
        "id": "720bf268",
        "outputId": "f3032174-117e-499e-cefe-823236855018"
      },
      "outputs": [
        {
          "output_type": "display_data",
          "data": {
            "text/html": [
              "<html>\n",
              "<head><meta charset=\"utf-8\" /></head>\n",
              "<body>\n",
              "    <div>            <script src=\"https://cdnjs.cloudflare.com/ajax/libs/mathjax/2.7.5/MathJax.js?config=TeX-AMS-MML_SVG\"></script><script type=\"text/javascript\">if (window.MathJax && window.MathJax.Hub && window.MathJax.Hub.Config) {window.MathJax.Hub.Config({SVG: {font: \"STIX-Web\"}});}</script>                <script type=\"text/javascript\">window.PlotlyConfig = {MathJaxConfig: 'local'};</script>\n",
              "        <script charset=\"utf-8\" src=\"https://cdn.plot.ly/plotly-2.35.2.min.js\"></script>                <div id=\"de4f1baf-6a2b-4baa-b1b1-03a105a2a06d\" class=\"plotly-graph-div\" style=\"height:525px; width:100%;\"></div>            <script type=\"text/javascript\">                                    window.PLOTLYENV=window.PLOTLYENV || {};                                    if (document.getElementById(\"de4f1baf-6a2b-4baa-b1b1-03a105a2a06d\")) {                    Plotly.newPlot(                        \"de4f1baf-6a2b-4baa-b1b1-03a105a2a06d\",                        [{\"hovertemplate\":\"x=%{x}\\u003cbr\\u003ey=%{y}\\u003cbr\\u003ez=%{z}\\u003cextra\\u003e\\u003c\\u002fextra\\u003e\",\"legendgroup\":\"\",\"marker\":{\"color\":\"#636efa\",\"symbol\":\"circle\"},\"mode\":\"markers\",\"name\":\"\",\"scene\":\"scene\",\"showlegend\":false,\"x\":[1,2,3,4],\"y\":[10,15,13,17],\"z\":[5,6,7,8],\"type\":\"scatter3d\"}],                        {\"template\":{\"data\":{\"histogram2dcontour\":[{\"type\":\"histogram2dcontour\",\"colorbar\":{\"outlinewidth\":0,\"ticks\":\"\"},\"colorscale\":[[0.0,\"#0d0887\"],[0.1111111111111111,\"#46039f\"],[0.2222222222222222,\"#7201a8\"],[0.3333333333333333,\"#9c179e\"],[0.4444444444444444,\"#bd3786\"],[0.5555555555555556,\"#d8576b\"],[0.6666666666666666,\"#ed7953\"],[0.7777777777777778,\"#fb9f3a\"],[0.8888888888888888,\"#fdca26\"],[1.0,\"#f0f921\"]]}],\"choropleth\":[{\"type\":\"choropleth\",\"colorbar\":{\"outlinewidth\":0,\"ticks\":\"\"}}],\"histogram2d\":[{\"type\":\"histogram2d\",\"colorbar\":{\"outlinewidth\":0,\"ticks\":\"\"},\"colorscale\":[[0.0,\"#0d0887\"],[0.1111111111111111,\"#46039f\"],[0.2222222222222222,\"#7201a8\"],[0.3333333333333333,\"#9c179e\"],[0.4444444444444444,\"#bd3786\"],[0.5555555555555556,\"#d8576b\"],[0.6666666666666666,\"#ed7953\"],[0.7777777777777778,\"#fb9f3a\"],[0.8888888888888888,\"#fdca26\"],[1.0,\"#f0f921\"]]}],\"heatmap\":[{\"type\":\"heatmap\",\"colorbar\":{\"outlinewidth\":0,\"ticks\":\"\"},\"colorscale\":[[0.0,\"#0d0887\"],[0.1111111111111111,\"#46039f\"],[0.2222222222222222,\"#7201a8\"],[0.3333333333333333,\"#9c179e\"],[0.4444444444444444,\"#bd3786\"],[0.5555555555555556,\"#d8576b\"],[0.6666666666666666,\"#ed7953\"],[0.7777777777777778,\"#fb9f3a\"],[0.8888888888888888,\"#fdca26\"],[1.0,\"#f0f921\"]]}],\"heatmapgl\":[{\"type\":\"heatmapgl\",\"colorbar\":{\"outlinewidth\":0,\"ticks\":\"\"},\"colorscale\":[[0.0,\"#0d0887\"],[0.1111111111111111,\"#46039f\"],[0.2222222222222222,\"#7201a8\"],[0.3333333333333333,\"#9c179e\"],[0.4444444444444444,\"#bd3786\"],[0.5555555555555556,\"#d8576b\"],[0.6666666666666666,\"#ed7953\"],[0.7777777777777778,\"#fb9f3a\"],[0.8888888888888888,\"#fdca26\"],[1.0,\"#f0f921\"]]}],\"contourcarpet\":[{\"type\":\"contourcarpet\",\"colorbar\":{\"outlinewidth\":0,\"ticks\":\"\"}}],\"contour\":[{\"type\":\"contour\",\"colorbar\":{\"outlinewidth\":0,\"ticks\":\"\"},\"colorscale\":[[0.0,\"#0d0887\"],[0.1111111111111111,\"#46039f\"],[0.2222222222222222,\"#7201a8\"],[0.3333333333333333,\"#9c179e\"],[0.4444444444444444,\"#bd3786\"],[0.5555555555555556,\"#d8576b\"],[0.6666666666666666,\"#ed7953\"],[0.7777777777777778,\"#fb9f3a\"],[0.8888888888888888,\"#fdca26\"],[1.0,\"#f0f921\"]]}],\"surface\":[{\"type\":\"surface\",\"colorbar\":{\"outlinewidth\":0,\"ticks\":\"\"},\"colorscale\":[[0.0,\"#0d0887\"],[0.1111111111111111,\"#46039f\"],[0.2222222222222222,\"#7201a8\"],[0.3333333333333333,\"#9c179e\"],[0.4444444444444444,\"#bd3786\"],[0.5555555555555556,\"#d8576b\"],[0.6666666666666666,\"#ed7953\"],[0.7777777777777778,\"#fb9f3a\"],[0.8888888888888888,\"#fdca26\"],[1.0,\"#f0f921\"]]}],\"mesh3d\":[{\"type\":\"mesh3d\",\"colorbar\":{\"outlinewidth\":0,\"ticks\":\"\"}}],\"scatter\":[{\"fillpattern\":{\"fillmode\":\"overlay\",\"size\":10,\"solidity\":0.2},\"type\":\"scatter\"}],\"parcoords\":[{\"type\":\"parcoords\",\"line\":{\"colorbar\":{\"outlinewidth\":0,\"ticks\":\"\"}}}],\"scatterpolargl\":[{\"type\":\"scatterpolargl\",\"marker\":{\"colorbar\":{\"outlinewidth\":0,\"ticks\":\"\"}}}],\"bar\":[{\"error_x\":{\"color\":\"#2a3f5f\"},\"error_y\":{\"color\":\"#2a3f5f\"},\"marker\":{\"line\":{\"color\":\"#E5ECF6\",\"width\":0.5},\"pattern\":{\"fillmode\":\"overlay\",\"size\":10,\"solidity\":0.2}},\"type\":\"bar\"}],\"scattergeo\":[{\"type\":\"scattergeo\",\"marker\":{\"colorbar\":{\"outlinewidth\":0,\"ticks\":\"\"}}}],\"scatterpolar\":[{\"type\":\"scatterpolar\",\"marker\":{\"colorbar\":{\"outlinewidth\":0,\"ticks\":\"\"}}}],\"histogram\":[{\"marker\":{\"pattern\":{\"fillmode\":\"overlay\",\"size\":10,\"solidity\":0.2}},\"type\":\"histogram\"}],\"scattergl\":[{\"type\":\"scattergl\",\"marker\":{\"colorbar\":{\"outlinewidth\":0,\"ticks\":\"\"}}}],\"scatter3d\":[{\"type\":\"scatter3d\",\"line\":{\"colorbar\":{\"outlinewidth\":0,\"ticks\":\"\"}},\"marker\":{\"colorbar\":{\"outlinewidth\":0,\"ticks\":\"\"}}}],\"scattermapbox\":[{\"type\":\"scattermapbox\",\"marker\":{\"colorbar\":{\"outlinewidth\":0,\"ticks\":\"\"}}}],\"scatterternary\":[{\"type\":\"scatterternary\",\"marker\":{\"colorbar\":{\"outlinewidth\":0,\"ticks\":\"\"}}}],\"scattercarpet\":[{\"type\":\"scattercarpet\",\"marker\":{\"colorbar\":{\"outlinewidth\":0,\"ticks\":\"\"}}}],\"carpet\":[{\"aaxis\":{\"endlinecolor\":\"#2a3f5f\",\"gridcolor\":\"white\",\"linecolor\":\"white\",\"minorgridcolor\":\"white\",\"startlinecolor\":\"#2a3f5f\"},\"baxis\":{\"endlinecolor\":\"#2a3f5f\",\"gridcolor\":\"white\",\"linecolor\":\"white\",\"minorgridcolor\":\"white\",\"startlinecolor\":\"#2a3f5f\"},\"type\":\"carpet\"}],\"table\":[{\"cells\":{\"fill\":{\"color\":\"#EBF0F8\"},\"line\":{\"color\":\"white\"}},\"header\":{\"fill\":{\"color\":\"#C8D4E3\"},\"line\":{\"color\":\"white\"}},\"type\":\"table\"}],\"barpolar\":[{\"marker\":{\"line\":{\"color\":\"#E5ECF6\",\"width\":0.5},\"pattern\":{\"fillmode\":\"overlay\",\"size\":10,\"solidity\":0.2}},\"type\":\"barpolar\"}],\"pie\":[{\"automargin\":true,\"type\":\"pie\"}]},\"layout\":{\"autotypenumbers\":\"strict\",\"colorway\":[\"#636efa\",\"#EF553B\",\"#00cc96\",\"#ab63fa\",\"#FFA15A\",\"#19d3f3\",\"#FF6692\",\"#B6E880\",\"#FF97FF\",\"#FECB52\"],\"font\":{\"color\":\"#2a3f5f\"},\"hovermode\":\"closest\",\"hoverlabel\":{\"align\":\"left\"},\"paper_bgcolor\":\"white\",\"plot_bgcolor\":\"#E5ECF6\",\"polar\":{\"bgcolor\":\"#E5ECF6\",\"angularaxis\":{\"gridcolor\":\"white\",\"linecolor\":\"white\",\"ticks\":\"\"},\"radialaxis\":{\"gridcolor\":\"white\",\"linecolor\":\"white\",\"ticks\":\"\"}},\"ternary\":{\"bgcolor\":\"#E5ECF6\",\"aaxis\":{\"gridcolor\":\"white\",\"linecolor\":\"white\",\"ticks\":\"\"},\"baxis\":{\"gridcolor\":\"white\",\"linecolor\":\"white\",\"ticks\":\"\"},\"caxis\":{\"gridcolor\":\"white\",\"linecolor\":\"white\",\"ticks\":\"\"}},\"coloraxis\":{\"colorbar\":{\"outlinewidth\":0,\"ticks\":\"\"}},\"colorscale\":{\"sequential\":[[0.0,\"#0d0887\"],[0.1111111111111111,\"#46039f\"],[0.2222222222222222,\"#7201a8\"],[0.3333333333333333,\"#9c179e\"],[0.4444444444444444,\"#bd3786\"],[0.5555555555555556,\"#d8576b\"],[0.6666666666666666,\"#ed7953\"],[0.7777777777777778,\"#fb9f3a\"],[0.8888888888888888,\"#fdca26\"],[1.0,\"#f0f921\"]],\"sequentialminus\":[[0.0,\"#0d0887\"],[0.1111111111111111,\"#46039f\"],[0.2222222222222222,\"#7201a8\"],[0.3333333333333333,\"#9c179e\"],[0.4444444444444444,\"#bd3786\"],[0.5555555555555556,\"#d8576b\"],[0.6666666666666666,\"#ed7953\"],[0.7777777777777778,\"#fb9f3a\"],[0.8888888888888888,\"#fdca26\"],[1.0,\"#f0f921\"]],\"diverging\":[[0,\"#8e0152\"],[0.1,\"#c51b7d\"],[0.2,\"#de77ae\"],[0.3,\"#f1b6da\"],[0.4,\"#fde0ef\"],[0.5,\"#f7f7f7\"],[0.6,\"#e6f5d0\"],[0.7,\"#b8e186\"],[0.8,\"#7fbc41\"],[0.9,\"#4d9221\"],[1,\"#276419\"]]},\"xaxis\":{\"gridcolor\":\"white\",\"linecolor\":\"white\",\"ticks\":\"\",\"title\":{\"standoff\":15},\"zerolinecolor\":\"white\",\"automargin\":true,\"zerolinewidth\":2},\"yaxis\":{\"gridcolor\":\"white\",\"linecolor\":\"white\",\"ticks\":\"\",\"title\":{\"standoff\":15},\"zerolinecolor\":\"white\",\"automargin\":true,\"zerolinewidth\":2},\"scene\":{\"xaxis\":{\"backgroundcolor\":\"#E5ECF6\",\"gridcolor\":\"white\",\"linecolor\":\"white\",\"showbackground\":true,\"ticks\":\"\",\"zerolinecolor\":\"white\",\"gridwidth\":2},\"yaxis\":{\"backgroundcolor\":\"#E5ECF6\",\"gridcolor\":\"white\",\"linecolor\":\"white\",\"showbackground\":true,\"ticks\":\"\",\"zerolinecolor\":\"white\",\"gridwidth\":2},\"zaxis\":{\"backgroundcolor\":\"#E5ECF6\",\"gridcolor\":\"white\",\"linecolor\":\"white\",\"showbackground\":true,\"ticks\":\"\",\"zerolinecolor\":\"white\",\"gridwidth\":2}},\"shapedefaults\":{\"line\":{\"color\":\"#2a3f5f\"}},\"annotationdefaults\":{\"arrowcolor\":\"#2a3f5f\",\"arrowhead\":0,\"arrowwidth\":1},\"geo\":{\"bgcolor\":\"white\",\"landcolor\":\"#E5ECF6\",\"subunitcolor\":\"white\",\"showland\":true,\"showlakes\":true,\"lakecolor\":\"white\"},\"title\":{\"x\":0.05},\"mapbox\":{\"style\":\"light\"}}},\"scene\":{\"domain\":{\"x\":[0.0,1.0],\"y\":[0.0,1.0]},\"xaxis\":{\"title\":{\"text\":\"x\"}},\"yaxis\":{\"title\":{\"text\":\"y\"}},\"zaxis\":{\"title\":{\"text\":\"z\"}}},\"legend\":{\"tracegroupgap\":0},\"margin\":{\"t\":60}},                        {\"responsive\": true}                    ).then(function(){\n",
              "                            \n",
              "var gd = document.getElementById('de4f1baf-6a2b-4baa-b1b1-03a105a2a06d');\n",
              "var x = new MutationObserver(function (mutations, observer) {{\n",
              "        var display = window.getComputedStyle(gd).display;\n",
              "        if (!display || display === 'none') {{\n",
              "            console.log([gd, 'removed!']);\n",
              "            Plotly.purge(gd);\n",
              "            observer.disconnect();\n",
              "        }}\n",
              "}});\n",
              "\n",
              "// Listen for the removal of the full notebook cells\n",
              "var notebookContainer = gd.closest('#notebook-container');\n",
              "if (notebookContainer) {{\n",
              "    x.observe(notebookContainer, {childList: true});\n",
              "}}\n",
              "\n",
              "// Listen for the clearing of the current output cell\n",
              "var outputEl = gd.closest('.output');\n",
              "if (outputEl) {{\n",
              "    x.observe(outputEl, {childList: true});\n",
              "}}\n",
              "\n",
              "                        })                };                            </script>        </div>\n",
              "</body>\n",
              "</html>"
            ]
          },
          "metadata": {}
        }
      ],
      "source": [
        "import plotly.express as px\n",
        "import pandas as pd\n",
        "\n",
        "df = pd.DataFrame({\n",
        "    \"x\": [1, 2, 3, 4],\n",
        "    \"y\": [10, 15, 13, 17],\n",
        "    \"z\": [5, 6, 7, 8]\n",
        "})\n",
        "\n",
        "fig = px.scatter_3d(df, x='x', y='y', z='z')\n",
        "fig.show()"
      ]
    }
  ],
  "metadata": {
    "colab": {
      "provenance": [],
      "include_colab_link": true
    },
    "language_info": {
      "name": "python"
    },
    "kernelspec": {
      "name": "python3",
      "display_name": "Python 3"
    }
  },
  "nbformat": 4,
  "nbformat_minor": 5
}