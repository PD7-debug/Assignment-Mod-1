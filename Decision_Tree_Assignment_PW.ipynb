{
  "cells": [
    {
      "cell_type": "markdown",
      "metadata": {
        "id": "view-in-github",
        "colab_type": "text"
      },
      "source": [
        "<a href=\"https://colab.research.google.com/github/PD7-debug/Assignment-Mod-1/blob/main/Decision_Tree_Assignment_PW.ipynb\" target=\"_parent\"><img src=\"https://colab.research.google.com/assets/colab-badge.svg\" alt=\"Open In Colab\"/></a>"
      ]
    },
    {
      "cell_type": "markdown",
      "id": "8d77c772",
      "metadata": {
        "id": "8d77c772"
      },
      "source": [
        "### Q1. What is a Decision Tree, and how does it work?\n",
        "\n",
        "A Decision Tree is a flowchart-like structure used for classification and regression tasks. It splits the dataset into branches based on feature values and makes predictions at the leaf nodes."
      ]
    },
    {
      "cell_type": "markdown",
      "id": "f3472e61",
      "metadata": {
        "id": "f3472e61"
      },
      "source": [
        "### Q2. What are impurity measures in Decision Trees?\n",
        "\n",
        "Common impurity measures in Decision Trees are Gini Impurity and Entropy. They measure the disorder in a dataset and help determine the best feature to split."
      ]
    },
    {
      "cell_type": "markdown",
      "id": "2e7756f3",
      "metadata": {
        "id": "2e7756f3"
      },
      "source": [
        "### Q3. What is the mathematical formula for Gini Impurity?\n",
        "\n",
        "Gini Impurity formula: Gini = 1 - Σ(pᵢ²), where pᵢ is the probability of class i."
      ]
    },
    {
      "cell_type": "markdown",
      "id": "6c4aad58",
      "metadata": {
        "id": "6c4aad58"
      },
      "source": [
        "### Q4. What is the mathematical formula for Entropy?\n",
        "\n",
        "Entropy formula: Entropy = -Σ(pᵢ * log₂(pᵢ)), where pᵢ is the probability of class i."
      ]
    },
    {
      "cell_type": "markdown",
      "id": "441b881f",
      "metadata": {
        "id": "441b881f"
      },
      "source": [
        "### Q5. What is Information Gain, and how is it used in Decision Trees?\n",
        "\n",
        "Information Gain is the reduction in impurity (Entropy or Gini) caused by a split. It helps select the best feature to split the data."
      ]
    },
    {
      "cell_type": "markdown",
      "id": "acbe6b49",
      "metadata": {
        "id": "acbe6b49"
      },
      "source": [
        "### Q6. What is the difference between Gini Impurity and Entropy?\n",
        "\n",
        "Gini is computationally simpler and often faster. Entropy is based on information theory. Both measure impurity but may choose different splits."
      ]
    },
    {
      "cell_type": "markdown",
      "id": "ef4352d4",
      "metadata": {
        "id": "ef4352d4"
      },
      "source": [
        "### Q7. What is the mathematical explanation behind Decision Trees?\n",
        "\n",
        "A Decision Tree works by evaluating splits that reduce impurity the most. It continues until stopping criteria are met (e.g., depth or purity)."
      ]
    },
    {
      "cell_type": "markdown",
      "id": "8491131f",
      "metadata": {
        "id": "8491131f"
      },
      "source": [
        "### Q8. What is Pre-Pruning in Decision Trees?\n",
        "\n",
        "Pre-Pruning stops the tree growth early using constraints like max_depth, min_samples_split, etc., to avoid overfitting."
      ]
    },
    {
      "cell_type": "markdown",
      "id": "f31b2ad4",
      "metadata": {
        "id": "f31b2ad4"
      },
      "source": [
        "### Q9. What is Post-Pruning in Decision Trees?\n",
        "\n",
        "Post-Pruning involves growing a full tree and then cutting back branches that do not improve generalization, using validation data or metrics."
      ]
    },
    {
      "cell_type": "markdown",
      "id": "6743bfda",
      "metadata": {
        "id": "6743bfda"
      },
      "source": [
        "### Q10. What is the difference between Pre-Pruning and Post-Pruning?\n",
        "\n",
        "Pre-Pruning halts tree building before completion, while Post-Pruning trims it after building the full tree."
      ]
    },
    {
      "cell_type": "markdown",
      "id": "7d18257d",
      "metadata": {
        "id": "7d18257d"
      },
      "source": [
        "### Q11. What is a Decision Tree Regressor?\n",
        "\n",
        "A Decision Tree Regressor predicts continuous numerical values by splitting the data to minimize variance (MSE) at each node."
      ]
    },
    {
      "cell_type": "markdown",
      "id": "9b5b95e1",
      "metadata": {
        "id": "9b5b95e1"
      },
      "source": [
        "### Q12. What are the advantages and disadvantages of Decision Trees?\n",
        "\n",
        "**Advantages**: easy to interpret, no need for feature scaling, handles both numerical and categorical data. **Disadvantages**: overfitting, unstable, biased toward features with more levels."
      ]
    },
    {
      "cell_type": "markdown",
      "id": "e1f76633",
      "metadata": {
        "id": "e1f76633"
      },
      "source": [
        "### Q13. How does a Decision Tree handle missing values?\n",
        "\n",
        "Decision Trees can handle missing values using surrogate splits or assigning the most frequent class from training splits."
      ]
    },
    {
      "cell_type": "markdown",
      "id": "26adff80",
      "metadata": {
        "id": "26adff80"
      },
      "source": [
        "### Q14. How does a Decision Tree handle categorical features?\n",
        "\n",
        "Decision Trees handle categorical features by splitting on individual values or groups. Some implementations (like sklearn) require encoding."
      ]
    },
    {
      "cell_type": "markdown",
      "id": "0530a6c4",
      "metadata": {
        "id": "0530a6c4"
      },
      "source": [
        "### Q15. What are some real-world applications of Decision Trees?\n",
        "\n",
        "Real-world applications include fraud detection, loan approval, disease diagnosis, churn prediction, and recommendation systems."
      ]
    },
    {
      "cell_type": "markdown",
      "id": "06154c8c",
      "metadata": {
        "id": "06154c8c"
      },
      "source": [
        "### Practical Q16. Write a Python program to train a Decision Tree Classifier on the Iris dataset and print the model accuracy."
      ]
    },
    {
      "cell_type": "code",
      "execution_count": 1,
      "id": "fb0fa58a",
      "metadata": {
        "colab": {
          "base_uri": "https://localhost:8080/"
        },
        "id": "fb0fa58a",
        "outputId": "6329526a-d2a6-40a4-e0aa-096d818c50c9"
      },
      "outputs": [
        {
          "output_type": "stream",
          "name": "stdout",
          "text": [
            "Accuracy: 1.0\n"
          ]
        }
      ],
      "source": [
        "from sklearn.datasets import load_iris\n",
        "from sklearn.tree import DecisionTreeClassifier\n",
        "\n",
        "iris = load_iris()\n",
        "X, y = iris.data, iris.target\n",
        "clf = DecisionTreeClassifier()\n",
        "clf.fit(X, y)\n",
        "print(\"Accuracy:\", clf.score(X, y))"
      ]
    },
    {
      "cell_type": "markdown",
      "id": "c7682948",
      "metadata": {
        "id": "c7682948"
      },
      "source": [
        "### Practical Q17. Write a Python program to train a Decision Tree Classifier using Gini Impurity as the criterion and print the feature importances."
      ]
    },
    {
      "cell_type": "code",
      "execution_count": 2,
      "id": "88c10a2f",
      "metadata": {
        "colab": {
          "base_uri": "https://localhost:8080/"
        },
        "id": "88c10a2f",
        "outputId": "df935b61-0e20-4f9a-a556-80804a436113"
      },
      "outputs": [
        {
          "output_type": "stream",
          "name": "stdout",
          "text": [
            "Gini Feature Importances: [0.01333333 0.         0.56405596 0.42261071]\n"
          ]
        }
      ],
      "source": [
        "clf_gini = DecisionTreeClassifier(criterion='gini')\n",
        "clf_gini.fit(X, y)\n",
        "print(\"Gini Feature Importances:\", clf_gini.feature_importances_)"
      ]
    },
    {
      "cell_type": "markdown",
      "id": "275510bf",
      "metadata": {
        "id": "275510bf"
      },
      "source": [
        "### Practical Q18. Write a Python program to train a Decision Tree Classifier using Entropy as the splitting criterion and print the model accuracy."
      ]
    },
    {
      "cell_type": "code",
      "execution_count": 3,
      "id": "c092d919",
      "metadata": {
        "colab": {
          "base_uri": "https://localhost:8080/"
        },
        "id": "c092d919",
        "outputId": "364e7bab-e124-4f3a-bbfc-ec112b9d25e7"
      },
      "outputs": [
        {
          "output_type": "stream",
          "name": "stdout",
          "text": [
            "Entropy Accuracy: 1.0\n"
          ]
        }
      ],
      "source": [
        "clf_entropy = DecisionTreeClassifier(criterion='entropy')\n",
        "clf_entropy.fit(X, y)\n",
        "print(\"Entropy Accuracy:\", clf_entropy.score(X, y))"
      ]
    },
    {
      "cell_type": "markdown",
      "id": "a475c1c5",
      "metadata": {
        "id": "a475c1c5"
      },
      "source": [
        "### Practical Q19. Write a Python program to train a Decision Tree Regressor on a housing dataset and evaluate using Mean Squared Error (MSE)."
      ]
    },
    {
      "cell_type": "code",
      "execution_count": 4,
      "id": "b0714fd9",
      "metadata": {
        "colab": {
          "base_uri": "https://localhost:8080/"
        },
        "id": "b0714fd9",
        "outputId": "ed34288a-92b6-4343-9e61-53a6e76c86bc"
      },
      "outputs": [
        {
          "output_type": "stream",
          "name": "stdout",
          "text": [
            "MSE: 9.555001274479309e-32\n"
          ]
        }
      ],
      "source": [
        "from sklearn.datasets import fetch_california_housing\n",
        "from sklearn.tree import DecisionTreeRegressor\n",
        "from sklearn.metrics import mean_squared_error\n",
        "\n",
        "data = fetch_california_housing()\n",
        "X, y = data.data, data.target\n",
        "\n",
        "reg = DecisionTreeRegressor()\n",
        "reg.fit(X, y)\n",
        "y_pred = reg.predict(X)\n",
        "print(\"MSE:\", mean_squared_error(y, y_pred))"
      ]
    },
    {
      "cell_type": "markdown",
      "id": "a1b0d513",
      "metadata": {
        "id": "a1b0d513"
      },
      "source": [
        "### Practical Q20. Write a Python program to train a Decision Tree Classifier and visualize the tree using graphviz."
      ]
    },
    {
      "cell_type": "code",
      "execution_count": 5,
      "id": "f108738d",
      "metadata": {
        "colab": {
          "base_uri": "https://localhost:8080/"
        },
        "id": "f108738d",
        "outputId": "97a691cd-14d9-4608-ad3a-5e56d8d36774"
      },
      "outputs": [
        {
          "output_type": "stream",
          "name": "stdout",
          "text": [
            "DOT file saved as iris_tree.dot\n"
          ]
        }
      ],
      "source": [
        "from sklearn.tree import export_graphviz\n",
        "export_graphviz(clf, out_file=\"iris_tree.dot\", feature_names=iris.feature_names,\n",
        "                class_names=iris.target_names, filled=True)\n",
        "print(\"DOT file saved as iris_tree.dot\")"
      ]
    },
    {
      "cell_type": "markdown",
      "id": "46672a68",
      "metadata": {
        "id": "46672a68"
      },
      "source": [
        "### Practical Q21. Write a Python program to train a Decision Tree Classifier with a maximum depth of 3 and compare its accuracy with a fully grown tree."
      ]
    },
    {
      "cell_type": "code",
      "execution_count": 16,
      "id": "3f238895",
      "metadata": {
        "colab": {
          "base_uri": "https://localhost:8080/"
        },
        "id": "3f238895",
        "outputId": "d93b7701-cd5e-48d4-df4f-c4d9bca0fe55"
      },
      "outputs": [
        {
          "output_type": "stream",
          "name": "stdout",
          "text": [
            "Accuracy with max_depth=3: 1.0\n",
            "Accuracy with fully grown tree: 1.0\n"
          ]
        }
      ],
      "source": [
        "from sklearn.datasets import load_iris\n",
        "from sklearn.tree import DecisionTreeClassifier\n",
        "from sklearn.model_selection import train_test_split\n",
        "from sklearn.metrics import accuracy_score\n",
        "\n",
        "# Load the Iris dataset\n",
        "iris = load_iris()\n",
        "X, y = iris.data, iris.target\n",
        "\n",
        "# Split the dataset into training and testing sets\n",
        "X_train, X_test, y_train, y_test = train_test_split(X, y, test_size=0.3, random_state=42)\n",
        "\n",
        "# Train Decision Tree with max_depth=3\n",
        "tree_limited = DecisionTreeClassifier(max_depth=3, random_state=42)\n",
        "tree_limited.fit(X_train, y_train)\n",
        "\n",
        "# Train fully grown Decision Tree (no max depth)\n",
        "tree_full = DecisionTreeClassifier(random_state=42)\n",
        "tree_full.fit(X_train, y_train)\n",
        "\n",
        "# Predict and evaluate accuracy\n",
        "y_pred_limited = tree_limited.predict(X_test)\n",
        "y_pred_full = tree_full.predict(X_test)\n",
        "\n",
        "accuracy_limited = accuracy_score(y_test, y_pred_limited)\n",
        "accuracy_full = accuracy_score(y_test, y_pred_full)\n",
        "\n",
        "print(\"Accuracy with max_depth=3:\", accuracy_limited)\n",
        "print(\"Accuracy with fully grown tree:\", accuracy_full)\n"
      ]
    },
    {
      "cell_type": "markdown",
      "id": "a81a6b9f",
      "metadata": {
        "id": "a81a6b9f"
      },
      "source": [
        "### Practical Q22. Write a Python program to train a Decision Tree Classifier using min_samples_split=5 and compare its accuracy with a default tree."
      ]
    },
    {
      "cell_type": "code",
      "execution_count": 17,
      "id": "a357c9ba",
      "metadata": {
        "colab": {
          "base_uri": "https://localhost:8080/"
        },
        "id": "a357c9ba",
        "outputId": "9408ad86-f2f8-426c-c7b4-ccccbcec60bb"
      },
      "outputs": [
        {
          "output_type": "stream",
          "name": "stdout",
          "text": [
            "Default Split Accuracy: 1.0\n",
            "min_samples_split=5 Accuracy: 0.9866666666666667\n"
          ]
        }
      ],
      "source": [
        "clf_default = DecisionTreeClassifier()\n",
        "clf_custom = DecisionTreeClassifier(min_samples_split=5)\n",
        "clf_default.fit(X, y)\n",
        "clf_custom.fit(X, y)\n",
        "print(\"Default Split Accuracy:\", clf_default.score(X, y))\n",
        "print(\"min_samples_split=5 Accuracy:\", clf_custom.score(X, y))"
      ]
    },
    {
      "cell_type": "markdown",
      "id": "bd0bbc63",
      "metadata": {
        "id": "bd0bbc63"
      },
      "source": [
        "### Practical Q23. Write a Python program to apply feature scaling before training a Decision Tree Classifier and compare its accuracy with unscaled data."
      ]
    },
    {
      "cell_type": "code",
      "execution_count": 18,
      "id": "a348a001",
      "metadata": {
        "colab": {
          "base_uri": "https://localhost:8080/"
        },
        "id": "a348a001",
        "outputId": "6623abf1-3262-4ff9-ac5d-793742000d51"
      },
      "outputs": [
        {
          "output_type": "stream",
          "name": "stdout",
          "text": [
            "Scaled Accuracy: 1.0\n",
            "Unscaled Accuracy: 1.0\n"
          ]
        }
      ],
      "source": [
        "from sklearn.preprocessing import StandardScaler\n",
        "from sklearn.model_selection import train_test_split\n",
        "\n",
        "X_train, X_test, y_train, y_test = train_test_split(X, y, random_state=42)\n",
        "scaler = StandardScaler()\n",
        "X_train_scaled = scaler.fit_transform(X_train)\n",
        "X_test_scaled = scaler.transform(X_test)\n",
        "\n",
        "clf_scaled = DecisionTreeClassifier()\n",
        "clf_scaled.fit(X_train_scaled, y_train)\n",
        "clf_unscaled = DecisionTreeClassifier()\n",
        "clf_unscaled.fit(X_train, y_train)\n",
        "\n",
        "print(\"Scaled Accuracy:\", clf_scaled.score(X_test_scaled, y_test))\n",
        "print(\"Unscaled Accuracy:\", clf_unscaled.score(X_test, y_test))"
      ]
    },
    {
      "cell_type": "markdown",
      "id": "5295dba2",
      "metadata": {
        "id": "5295dba2"
      },
      "source": [
        "### Practical Q24. Write a Python program to train a Decision Tree Classifier using One-vs-Rest (OvR) strategy for multiclass classification."
      ]
    },
    {
      "cell_type": "code",
      "execution_count": 19,
      "id": "9570ef2c",
      "metadata": {
        "colab": {
          "base_uri": "https://localhost:8080/"
        },
        "id": "9570ef2c",
        "outputId": "480036ad-79e9-4468-a48d-0c42adada3b8"
      },
      "outputs": [
        {
          "output_type": "stream",
          "name": "stdout",
          "text": [
            "OvR Accuracy: 1.0\n"
          ]
        }
      ],
      "source": [
        "from sklearn.multiclass import OneVsRestClassifier\n",
        "\n",
        "ovr_model = OneVsRestClassifier(DecisionTreeClassifier())\n",
        "ovr_model.fit(X, y)\n",
        "print(\"OvR Accuracy:\", ovr_model.score(X, y))"
      ]
    },
    {
      "cell_type": "markdown",
      "id": "d2656f16",
      "metadata": {
        "id": "d2656f16"
      },
      "source": [
        "### Practical Q25. Write a Python program to train a Decision Tree Classifier and display the feature importance scores."
      ]
    },
    {
      "cell_type": "code",
      "execution_count": 12,
      "id": "d786449f",
      "metadata": {
        "colab": {
          "base_uri": "https://localhost:8080/"
        },
        "id": "d786449f",
        "outputId": "239fd4a6-d58b-4475-d230-f878b4dbb4ee"
      },
      "outputs": [
        {
          "output_type": "stream",
          "name": "stdout",
          "text": [
            "Feature Importances: [0.         0.01333333 0.06405596 0.92261071]\n"
          ]
        }
      ],
      "source": [
        "print(\"Feature Importances:\", clf.feature_importances_)"
      ]
    },
    {
      "cell_type": "markdown",
      "id": "be4b3b96",
      "metadata": {
        "id": "be4b3b96"
      },
      "source": [
        "### Practical Q26. Write a Python program to train a Decision Tree Regressor with max_depth=5 and compare its performance with an unrestricted tree."
      ]
    },
    {
      "cell_type": "code",
      "execution_count": 13,
      "id": "d94ea496",
      "metadata": {
        "colab": {
          "base_uri": "https://localhost:8080/"
        },
        "id": "d94ea496",
        "outputId": "85ffd3bd-f614-48a2-d830-a23044fcdf9e"
      },
      "outputs": [
        {
          "output_type": "stream",
          "name": "stdout",
          "text": [
            "MSE (max_depth=5): 0.4905640694739824\n",
            "MSE (Unrestricted): 1.0548721407025157e-31\n"
          ]
        }
      ],
      "source": [
        "reg_restricted = DecisionTreeRegressor(max_depth=5)\n",
        "reg_unrestricted = DecisionTreeRegressor()\n",
        "\n",
        "reg_restricted.fit(X, y)\n",
        "reg_unrestricted.fit(X, y)\n",
        "\n",
        "from sklearn.metrics import mean_squared_error\n",
        "print(\"MSE (max_depth=5):\", mean_squared_error(y, reg_restricted.predict(X)))\n",
        "print(\"MSE (Unrestricted):\", mean_squared_error(y, reg_unrestricted.predict(X)))"
      ]
    },
    {
      "cell_type": "markdown",
      "id": "d921cc94",
      "metadata": {
        "id": "d921cc94"
      },
      "source": [
        "### Practical Q27. Write a Python program to train a Decision Tree Classifier, apply Cost Complexity Pruning (CCP), and visualize its effect on accuracy."
      ]
    },
    {
      "cell_type": "code",
      "execution_count": 20,
      "id": "f794158c",
      "metadata": {
        "colab": {
          "base_uri": "https://localhost:8080/",
          "height": 472
        },
        "id": "f794158c",
        "outputId": "41b70d2c-ecb7-43e1-f73d-43b2d60c360d"
      },
      "outputs": [
        {
          "output_type": "display_data",
          "data": {
            "text/plain": [
              "<Figure size 640x480 with 1 Axes>"
            ],
            "image/png": "[encoded data removed]"
          },
          "metadata": {}
        }
      ],
      "source": [
        "path = clf.cost_complexity_pruning_path(X, y)\n",
        "ccp_alphas = path.ccp_alphas\n",
        "\n",
        "import matplotlib.pyplot as plt\n",
        "train_scores = []\n",
        "for ccp_alpha in ccp_alphas:\n",
        "    clf_ccp = DecisionTreeClassifier(ccp_alpha=ccp_alpha)\n",
        "    clf_ccp.fit(X, y)\n",
        "    train_scores.append(clf_ccp.score(X, y))\n",
        "\n",
        "plt.plot(ccp_alphas, train_scores, marker='o')\n",
        "plt.xlabel(\"ccp_alpha\")\n",
        "plt.ylabel(\"Accuracy\")\n",
        "plt.title(\"Cost Complexity Pruning\")\n",
        "plt.grid()\n",
        "plt.show()"
      ]
    },
    {
      "cell_type": "markdown",
      "id": "a9acb492",
      "metadata": {
        "id": "a9acb492"
      },
      "source": [
        "### Practical Q28. Write a Python program to train a Decision Tree Classifier and evaluate its performance using Precision, Recall, and F1-Score."
      ]
    },
    {
      "cell_type": "code",
      "execution_count": 21,
      "id": "8103dfc4",
      "metadata": {
        "colab": {
          "base_uri": "https://localhost:8080/"
        },
        "id": "8103dfc4",
        "outputId": "6ffc12cc-18de-416a-fdba-a68cbde786c8"
      },
      "outputs": [
        {
          "output_type": "stream",
          "name": "stdout",
          "text": [
            "Precision: 1.0\n",
            "Recall: 1.0\n",
            "F1-Score: 1.0\n"
          ]
        }
      ],
      "source": [
        "from sklearn.metrics import precision_score, recall_score, f1_score\n",
        "\n",
        "y_pred = clf.predict(X)\n",
        "print(\"Precision:\", precision_score(y, y_pred, average='macro'))\n",
        "print(\"Recall:\", recall_score(y, y_pred, average='macro'))\n",
        "print(\"F1-Score:\", f1_score(y, y_pred, average='macro'))"
      ]
    },
    {
      "cell_type": "markdown",
      "id": "e1e47927",
      "metadata": {
        "id": "e1e47927"
      },
      "source": [
        "### Practical Q29. Write a Python program to train a Decision Tree Classifier and visualize the confusion matrix using seaborn."
      ]
    },
    {
      "cell_type": "code",
      "execution_count": 22,
      "id": "90f132df",
      "metadata": {
        "colab": {
          "base_uri": "https://localhost:8080/",
          "height": 472
        },
        "id": "90f132df",
        "outputId": "c85e3350-42a4-4526-e924-6a6c62080e40"
      },
      "outputs": [
        {
          "output_type": "display_data",
          "data": {
            "text/plain": [
              "<Figure size 640x480 with 2 Axes>"
            ],
            "image/png": "[encoded data removed]"
          },
          "metadata": {}
        }
      ],
      "source": [
        "from sklearn.metrics import confusion_matrix\n",
        "import seaborn as sns\n",
        "\n",
        "cm = confusion_matrix(y, y_pred)\n",
        "sns.heatmap(cm, annot=True, fmt='d', cmap='Blues')\n",
        "plt.xlabel(\"Predicted\")\n",
        "plt.ylabel(\"Actual\")\n",
        "plt.title(\"Confusion Matrix\")\n",
        "plt.show()"
      ]
    },
    {
      "cell_type": "markdown",
      "id": "ab94ab47",
      "metadata": {
        "id": "ab94ab47"
      },
      "source": [
        "### Practical Q30. Write a Python program to train a Decision Tree Classifier and use GridSearchCV to find the optimal values for max_depth and min_samples_split."
      ]
    },
    {
      "cell_type": "code",
      "execution_count": 23,
      "id": "5c53357b",
      "metadata": {
        "colab": {
          "base_uri": "https://localhost:8080/"
        },
        "id": "5c53357b",
        "outputId": "3bcab04a-4663-49ff-f384-7ee1de50eb74"
      },
      "outputs": [
        {
          "output_type": "stream",
          "name": "stdout",
          "text": [
            "Best Params: {'max_depth': 3, 'min_samples_split': 6}\n"
          ]
        }
      ],
      "source": [
        "from sklearn.model_selection import GridSearchCV\n",
        "\n",
        "param_grid = {'max_depth': [2, 3, 5], 'min_samples_split': [2, 4, 6]}\n",
        "grid = GridSearchCV(DecisionTreeClassifier(), param_grid, cv=5)\n",
        "grid.fit(X, y)\n",
        "print(\"Best Params:\", grid.best_params_)"
      ]
    }
  ],
  "metadata": {
    "colab": {
      "provenance": [],
      "include_colab_link": true
    },
    "language_info": {
      "name": "python"
    },
    "kernelspec": {
      "name": "python3",
      "display_name": "Python 3"
    }
  },
  "nbformat": 4,
  "nbformat_minor": 5
}