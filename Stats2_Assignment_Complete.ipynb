{
  "cells": [
    {
      "cell_type": "markdown",
      "metadata": {
        "id": "view-in-github",
        "colab_type": "text"
      },
      "source": [
        "<a href=\"https://colab.research.google.com/github/PD7-debug/Assignment-Mod-1/blob/main/Stats2_Assignment_Complete.ipynb\" target=\"_parent\"><img src=\"https://colab.research.google.com/assets/colab-badge.svg\" alt=\"Open In Colab\"/></a>"
      ]
    },
    {
      "cell_type": "markdown",
      "source": [
        "THEORY QUESTION"
      ],
      "metadata": {
        "id": "i7IodXnzp2-Y"
      },
      "id": "i7IodXnzp2-Y"
    },
    {
      "cell_type": "markdown",
      "id": "48b65b36",
      "metadata": {
        "id": "48b65b36"
      },
      "source": [
        "### 1.What is hypothesis testing in statistics\n",
        "Hypothesis testing is a method used to decide whether there's enough statistical evidence in a sample to infer a condition for the entire population."
      ]
    },
    {
      "cell_type": "markdown",
      "id": "35e0e75f",
      "metadata": {
        "id": "35e0e75f"
      },
      "source": [
        "### 2.What is the null hypothesis, and how does it differ from the alternative hypothesis\n",
        "The null hypothesis (H0) assumes no effect or no difference, while the alternative hypothesis (H1) suggests there is an effect or difference."
      ]
    },
    {
      "cell_type": "markdown",
      "id": "621832df",
      "metadata": {
        "id": "621832df"
      },
      "source": [
        "###3. What is the significance level in hypothesis testing, and why is it important\n",
        "The significance level (alpha) is the probability of rejecting the null hypothesis when it is true, often set at 0.05 (5%)."
      ]
    },
    {
      "cell_type": "markdown",
      "id": "134fc999",
      "metadata": {
        "id": "134fc999"
      },
      "source": [
        "### 3.What does a P-value represent in hypothesis testing\n",
        "The P-value is the probability of obtaining test results at least as extreme as the observed data, assuming the null hypothesis is true."
      ]
    },
    {
      "cell_type": "markdown",
      "id": "85fd15f7",
      "metadata": {
        "id": "85fd15f7"
      },
      "source": [
        "###4. How do you interpret the P-value in hypothesis testing\n",
        "If the P-value is less than the significance level (e.g., 0.05), we reject the null hypothesis; otherwise, we fail to reject it."
      ]
    },
    {
      "cell_type": "markdown",
      "id": "c6881b72",
      "metadata": {
        "id": "c6881b72"
      },
      "source": [
        "###5. What are Type 1 and Type 2 errors in hypothesis testing\n",
        "Type 1 Error: Rejecting a true null hypothesis (false positive).\n",
        "Type 2 Error: Failing to reject a false null hypothesis (false negative)."
      ]
    },
    {
      "cell_type": "markdown",
      "id": "bda2ddb7",
      "metadata": {
        "id": "bda2ddb7"
      },
      "source": [
        "###6. What is the difference between a one-tailed and a two-tailed test in hypothesis testing\n",
        "A one-tailed test looks for an effect in one direction, while a two-tailed test checks both directions."
      ]
    },
    {
      "cell_type": "markdown",
      "id": "d45a4d82",
      "metadata": {
        "id": "d45a4d82"
      },
      "source": [
        "### 7.What is the Z-test, and when is it used in hypothesis testing\n",
        "The Z-test is used when the population variance is known and the sample size is large (n > 30). It compares sample and population means."
      ]
    },
    {
      "cell_type": "markdown",
      "id": "16c058dc",
      "metadata": {
        "id": "16c058dc"
      },
      "source": [
        "###8. How do you calculate the Z-score, and what does it represent in hypothesis testing\n",
        "Z = (sample_mean - population_mean) / (population_std / sqrt(n)).\n",
        "It represents how many standard deviations the sample mean is from the population mean."
      ]
    },
    {
      "cell_type": "markdown",
      "id": "88f5610b",
      "metadata": {
        "id": "88f5610b"
      },
      "source": [
        "###9. What is the T-distribution, and when should it be used instead of the normal distribution\n",
        "The T-distribution is used when the population standard deviation is unknown and sample size is small. It's similar to the normal distribution but with heavier tails."
      ]
    },
    {
      "cell_type": "markdown",
      "id": "85097bec",
      "metadata": {
        "id": "85097bec"
      },
      "source": [
        "###10. What is the difference between a Z-test and a T-test\n",
        "Z-test is used when the population standard deviation is known, T-test is used when it is unknown and estimated from the sample."
      ]
    },
    {
      "cell_type": "markdown",
      "id": "5d2137ee",
      "metadata": {
        "id": "5d2137ee"
      },
      "source": [
        "### 11.What is the T-test, and how is it used in hypothesis testing\n",
        "T-test compares means of groups to determine if they are significantly different. It can be one-sample, two-sample, or paired."
      ]
    },
    {
      "cell_type": "markdown",
      "id": "34d52d5c",
      "metadata": {
        "id": "34d52d5c"
      },
      "source": [
        "### 12.What is the relationship between Z-test and T-test in hypothesis testing\n",
        "Both are used to compare sample means, but T-test accounts for additional uncertainty in small samples."
      ]
    },
    {
      "cell_type": "markdown",
      "id": "4ec5a35c",
      "metadata": {
        "id": "4ec5a35c"
      },
      "source": [
        "###13. What is a confidence interval, and how is it used to interpret statistical results\n",
        "A confidence interval gives a range of values that likely contains the population parameter. Wider intervals indicate more uncertainty."
      ]
    },
    {
      "cell_type": "markdown",
      "id": "c18b5ac3",
      "metadata": {
        "id": "c18b5ac3"
      },
      "source": [
        "###14. What is the margin of error, and how does it affect the confidence interval\n",
        "Margin of error is the range above and below the sample estimate in a confidence interval. Larger margins mean less precision."
      ]
    },
    {
      "cell_type": "markdown",
      "id": "fad56481",
      "metadata": {
        "id": "fad56481"
      },
      "source": [
        "###15. How is Bayes' Theorem used in statistics, and what is its significance\n",
        "Bayes' Theorem updates the probability of a hypothesis based on new evidence. It's used in diagnostics, spam filtering, etc."
      ]
    },
    {
      "cell_type": "markdown",
      "id": "50ce3a5d",
      "metadata": {
        "id": "50ce3a5d"
      },
      "source": [
        "###16. What is the Chi-square distribution, and when is it used\n",
        "Chi-square distribution is used in categorical data analysis, such as tests of independence and goodness-of-fit."
      ]
    },
    {
      "cell_type": "markdown",
      "id": "73ec5c31",
      "metadata": {
        "id": "73ec5c31"
      },
      "source": [
        "###17. What is the Chi-square goodness of fit test, and how is it applied\n",
        "It checks whether observed frequencies match expected frequencies. Applied by comparing observed and expected counts using Chi-square statistic."
      ]
    },
    {
      "cell_type": "markdown",
      "id": "a499b3ec",
      "metadata": {
        "id": "a499b3ec"
      },
      "source": [
        "###18. What is the F-distribution, and when is it used in hypothesis testing\n",
        "F-distribution compares variances between groups and is used in ANOVA and F-tests."
      ]
    },
    {
      "cell_type": "markdown",
      "id": "2f44722f",
      "metadata": {
        "id": "2f44722f"
      },
      "source": [
        "### 19.What is an ANOVA test, and what are its assumptions\n",
        "ANOVA (Analysis of Variance) tests whether means of 3+ groups are equal. Assumptions: independence, normality, equal variance."
      ]
    },
    {
      "cell_type": "markdown",
      "id": "3cd48d86",
      "metadata": {
        "id": "3cd48d86"
      },
      "source": [
        "###20. What are the different types of ANOVA tests\n",
        "- One-way ANOVA: tests one independent variable\n",
        "- Two-way ANOVA: tests two independent variables and their interaction."
      ]
    },
    {
      "cell_type": "markdown",
      "id": "b3678e38",
      "metadata": {
        "id": "b3678e38"
      },
      "source": [
        "###21. What is the F-test, and how does it relate to hypothesis testing?\n",
        "F-test compares variances between two or more groups. It’s used in ANOVA and regression to test model significance."
      ]
    },
    {
      "cell_type": "markdown",
      "source": [
        "PRACTICAL QUESTION"
      ],
      "metadata": {
        "id": "tIQDf1zapyu3"
      },
      "id": "tIQDf1zapyu3"
    },
    {
      "cell_type": "markdown",
      "id": "11786c72",
      "metadata": {
        "id": "11786c72"
      },
      "source": [
        "### Practical Q1. Write a Python program to perform a Z-test for comparing a sample mean to a known population mean and interpret the results"
      ]
    },
    {
      "cell_type": "code",
      "execution_count": 1,
      "id": "3cce6244",
      "metadata": {
        "colab": {
          "base_uri": "https://localhost:8080/"
        },
        "id": "3cce6244",
        "outputId": "a345328d-83cc-4680-d399-9b86d1715eb4"
      },
      "outputs": [
        {
          "output_type": "stream",
          "name": "stdout",
          "text": [
            "Z-test result: z = 0.0 , p-value = 1.0\n"
          ]
        }
      ],
      "source": [
        "from scipy import stats\n",
        "import numpy as np\n",
        "\n",
        "sample = [25, 30, 28, 27, 29, 31, 26]\n",
        "pop_mean = 28\n",
        "z_score, p_value = stats.ttest_1samp(sample, pop_mean)\n",
        "print(\"Z-test result: z =\", z_score, \", p-value =\", p_value)"
      ]
    },
    {
      "cell_type": "markdown",
      "id": "3feb5a5f",
      "metadata": {
        "id": "3feb5a5f"
      },
      "source": [
        "### Practical Q2. Simulate random data to perform hypothesis testing and calculate the corresponding P-value using Python"
      ]
    },
    {
      "cell_type": "code",
      "execution_count": 2,
      "id": "1f620dbf",
      "metadata": {
        "colab": {
          "base_uri": "https://localhost:8080/"
        },
        "id": "1f620dbf",
        "outputId": "01ed6d5e-c249-4ef6-b6f0-3768a33933ec"
      },
      "outputs": [
        {
          "output_type": "stream",
          "name": "stdout",
          "text": [
            "T-statistic: -1.0123780647824896\n",
            "P-value: 0.31382522588119494\n"
          ]
        }
      ],
      "source": [
        "import numpy as np\n",
        "from scipy.stats import ttest_1samp\n",
        "\n",
        "data = np.random.normal(loc=50, scale=10, size=100)\n",
        "t_stat, p_val = ttest_1samp(data, 52)\n",
        "print(\"T-statistic:\", t_stat)\n",
        "print(\"P-value:\", p_val)"
      ]
    },
    {
      "cell_type": "markdown",
      "id": "89807db1",
      "metadata": {
        "id": "89807db1"
      },
      "source": [
        "### Practical Q3. Implement a one-sample Z-test using Python to compare the sample mean with the population mean"
      ]
    },
    {
      "cell_type": "code",
      "execution_count": 3,
      "id": "cf4cbc6b",
      "metadata": {
        "colab": {
          "base_uri": "https://localhost:8080/"
        },
        "id": "cf4cbc6b",
        "outputId": "cdd63642-bd13-4ae2-c184-4da511deed7b"
      },
      "outputs": [
        {
          "output_type": "stream",
          "name": "stdout",
          "text": [
            "Z-score: 1.118033988749895\n",
            "P-value: 0.2635524772829727\n"
          ]
        }
      ],
      "source": [
        "import numpy as np\n",
        "from scipy.stats import norm\n",
        "\n",
        "data = [45, 50, 55, 60, 65]\n",
        "sample_mean = np.mean(data)\n",
        "pop_mean = 50\n",
        "pop_std = 10\n",
        "n = len(data)\n",
        "\n",
        "z = (sample_mean - pop_mean) / (pop_std / np.sqrt(n))\n",
        "p = 2 * (1 - norm.cdf(abs(z)))\n",
        "print(\"Z-score:\", z)\n",
        "print(\"P-value:\", p)"
      ]
    },
    {
      "cell_type": "markdown",
      "id": "4fedb4b0",
      "metadata": {
        "id": "4fedb4b0"
      },
      "source": [
        "### Practical Q4. Perform a two-tailed Z-test using Python and visualize the decision region on a plot"
      ]
    },
    {
      "cell_type": "code",
      "execution_count": 4,
      "id": "3eba2fa7",
      "metadata": {
        "colab": {
          "base_uri": "https://localhost:8080/",
          "height": 472
        },
        "id": "3eba2fa7",
        "outputId": "fe67b2e5-16f8-4f9f-8b3f-ef40f0c6cde0"
      },
      "outputs": [
        {
          "output_type": "display_data",
          "data": {
            "text/plain": [
              "<Figure size 640x480 with 1 Axes>"
            ],
            "image/png": "[encoded data removed]"
          },
          "metadata": {}
        }
      ],
      "source": [
        "import numpy as np\n",
        "import matplotlib.pyplot as plt\n",
        "from scipy.stats import norm\n",
        "\n",
        "mu = 0\n",
        "sigma = 1\n",
        "x = np.linspace(-4, 4, 1000)\n",
        "y = norm.pdf(x, mu, sigma)\n",
        "\n",
        "plt.plot(x, y)\n",
        "plt.fill_between(x, y, where=(x < -1.96) | (x > 1.96), color='red', alpha=0.5)\n",
        "plt.title(\"Two-tailed Z-test decision region (alpha = 0.05)\")\n",
        "plt.xlabel(\"Z-score\")\n",
        "plt.ylabel(\"Probability Density\")\n",
        "plt.grid()\n",
        "plt.show()"
      ]
    },
    {
      "cell_type": "markdown",
      "id": "17fe9ce6",
      "metadata": {
        "id": "17fe9ce6"
      },
      "source": [
        "### Practical Q5. Create a Python function that calculates and visualizes Type 1 and Type 2 errors during hypothesis testing"
      ]
    },
    {
      "cell_type": "code",
      "execution_count": 5,
      "id": "76141178",
      "metadata": {
        "colab": {
          "base_uri": "https://localhost:8080/",
          "height": 452
        },
        "id": "76141178",
        "outputId": "9e401560-81bc-4910-be21-ee56e9af56fc"
      },
      "outputs": [
        {
          "output_type": "display_data",
          "data": {
            "text/plain": [
              "<Figure size 640x480 with 1 Axes>"
            ],
            "image/png": "[encoded data removed]"
          },
          "metadata": {}
        }
      ],
      "source": [
        "import matplotlib.pyplot as plt\n",
        "import numpy as np\n",
        "from scipy.stats import norm\n",
        "\n",
        "def plot_errors():\n",
        "    x = np.linspace(-4, 8, 1000)\n",
        "    null = norm.pdf(x, 0, 1)\n",
        "    alt = norm.pdf(x, 3, 1)\n",
        "\n",
        "    plt.plot(x, null, label=\"H0\")\n",
        "    plt.plot(x, alt, label=\"H1\")\n",
        "    plt.fill_between(x, null, where=(x > 1.96), color='red', alpha=0.5, label=\"Type I Error\")\n",
        "    plt.fill_between(x, alt, where=(x < 1.96), color='blue', alpha=0.3, label=\"Type II Error\")\n",
        "    plt.legend()\n",
        "    plt.title(\"Type I and Type II Errors\")\n",
        "    plt.grid()\n",
        "    plt.show()\n",
        "\n",
        "plot_errors()"
      ]
    },
    {
      "cell_type": "markdown",
      "id": "4c9ff2f9",
      "metadata": {
        "id": "4c9ff2f9"
      },
      "source": [
        "### Practical Q6. Write a Python program to perform an independent T-test and interpret the results"
      ]
    },
    {
      "cell_type": "code",
      "execution_count": 6,
      "id": "999d5dde",
      "metadata": {
        "colab": {
          "base_uri": "https://localhost:8080/"
        },
        "id": "999d5dde",
        "outputId": "4ec722b8-314d-47e5-dfaf-9b2452dfb414"
      },
      "outputs": [
        {
          "output_type": "stream",
          "name": "stdout",
          "text": [
            "Independent T-test:\n",
            "T-statistic: -10.782539491916403\n",
            "P-value: 4.823368635276552e-06\n"
          ]
        }
      ],
      "source": [
        "from scipy.stats import ttest_ind\n",
        "\n",
        "group1 = [23, 21, 19, 22, 20]\n",
        "group2 = [30, 29, 31, 32, 30]\n",
        "t_stat, p_val = ttest_ind(group1, group2)\n",
        "print(\"Independent T-test:\")\n",
        "print(\"T-statistic:\", t_stat)\n",
        "print(\"P-value:\", p_val)"
      ]
    },
    {
      "cell_type": "markdown",
      "id": "c0ebc36c",
      "metadata": {
        "id": "c0ebc36c"
      },
      "source": [
        "### Practical Q7. Perform a paired sample T-test using Python and visualize the comparison results"
      ]
    },
    {
      "cell_type": "code",
      "execution_count": 7,
      "id": "497349d6",
      "metadata": {
        "colab": {
          "base_uri": "https://localhost:8080/",
          "height": 559
        },
        "id": "497349d6",
        "outputId": "cac79091-53cd-4775-bf95-0f8de655d932"
      },
      "outputs": [
        {
          "output_type": "stream",
          "name": "stderr",
          "text": [
            "/usr/local/lib/python3.11/dist-packages/scipy/stats/_axis_nan_policy.py:430: RuntimeWarning: Precision loss occurred in moment calculation due to catastrophic cancellation. This occurs when the data are nearly identical. Results may be unreliable.\n",
            "  return hypotest_fun_in(*args, **kwds)\n"
          ]
        },
        {
          "output_type": "stream",
          "name": "stdout",
          "text": [
            "Paired T-test:\n",
            "T-statistic: -inf\n",
            "P-value: 0.0\n"
          ]
        },
        {
          "output_type": "display_data",
          "data": {
            "text/plain": [
              "<Figure size 640x480 with 1 Axes>"
            ],
            "image/png": "[encoded data removed]"
          },
          "metadata": {}
        }
      ],
      "source": [
        "from scipy.stats import ttest_rel\n",
        "import matplotlib.pyplot as plt\n",
        "\n",
        "before = [20, 22, 21, 20, 23]\n",
        "after = [25, 27, 26, 25, 28]\n",
        "t_stat, p_val = ttest_rel(before, after)\n",
        "print(\"Paired T-test:\")\n",
        "print(\"T-statistic:\", t_stat)\n",
        "print(\"P-value:\", p_val)\n",
        "\n",
        "plt.plot(before, label='Before')\n",
        "plt.plot(after, label='After')\n",
        "plt.title(\"Before vs After\")\n",
        "plt.legend()\n",
        "plt.show()"
      ]
    },
    {
      "cell_type": "markdown",
      "id": "7ce4cae0",
      "metadata": {
        "id": "7ce4cae0"
      },
      "source": [
        "### Practical Q8. Simulate data and perform both Z-test and T-test, then compare the results using Python"
      ]
    },
    {
      "cell_type": "code",
      "execution_count": 8,
      "id": "d490c264",
      "metadata": {
        "colab": {
          "base_uri": "https://localhost:8080/"
        },
        "id": "d490c264",
        "outputId": "d5b234ea-f883-4eb3-c300-b1510fb6d2b7"
      },
      "outputs": [
        {
          "output_type": "stream",
          "name": "stdout",
          "text": [
            "Z-test: Z = -2.470857468301227 P = 0.013478952951988088\n",
            "T-test: T = -2.46383755283983 P = 0.017303081700557235\n"
          ]
        }
      ],
      "source": [
        "import numpy as np\n",
        "from scipy.stats import ttest_1samp, norm\n",
        "\n",
        "data = np.random.normal(100, 15, size=50)\n",
        "sample_mean = np.mean(data)\n",
        "pop_mean = 105\n",
        "pop_std = 15\n",
        "\n",
        "# Z-test\n",
        "z = (sample_mean - pop_mean) / (pop_std / np.sqrt(len(data)))\n",
        "z_p = 2 * (1 - norm.cdf(abs(z)))\n",
        "\n",
        "# T-test\n",
        "t_stat, t_p = ttest_1samp(data, pop_mean)\n",
        "\n",
        "print(\"Z-test: Z =\", z, \"P =\", z_p)\n",
        "print(\"T-test: T =\", t_stat, \"P =\", t_p)"
      ]
    },
    {
      "cell_type": "markdown",
      "id": "a85c8368",
      "metadata": {
        "id": "a85c8368"
      },
      "source": [
        "### Practical Q9. Write a Python function to calculate the confidence interval for a sample mean and explain its significance."
      ]
    },
    {
      "cell_type": "code",
      "execution_count": 9,
      "id": "90ffebfe",
      "metadata": {
        "colab": {
          "base_uri": "https://localhost:8080/"
        },
        "id": "90ffebfe",
        "outputId": "7b634603-e9cc-4acf-cb38-ffc844b31b6a"
      },
      "outputs": [
        {
          "output_type": "stream",
          "name": "stdout",
          "text": [
            "Confidence Interval: (np.float64(10.073513677044879), np.float64(17.92648632295512))\n"
          ]
        }
      ],
      "source": [
        "from scipy.stats import t\n",
        "import numpy as np\n",
        "\n",
        "def confidence_interval(data, confidence=0.95):\n",
        "    n = len(data)\n",
        "    mean = np.mean(data)\n",
        "    std_err = np.std(data, ddof=1) / np.sqrt(n)\n",
        "    h = std_err * t.ppf((1 + confidence) / 2., n-1)\n",
        "    return mean - h, mean + h\n",
        "\n",
        "sample = [10, 12, 14, 16, 18]\n",
        "ci = confidence_interval(sample)\n",
        "print(\"Confidence Interval:\", ci)"
      ]
    },
    {
      "cell_type": "markdown",
      "id": "fd879088",
      "metadata": {
        "id": "fd879088"
      },
      "source": [
        "### Practical Q10. Write a Python program to calculate the margin of error for a given confidence level using sample data"
      ]
    },
    {
      "cell_type": "code",
      "execution_count": 10,
      "id": "4e46eb3c",
      "metadata": {
        "colab": {
          "base_uri": "https://localhost:8080/"
        },
        "id": "4e46eb3c",
        "outputId": "6b23defb-057a-4442-931f-dc8acca3d89e"
      },
      "outputs": [
        {
          "output_type": "stream",
          "name": "stdout",
          "text": [
            "Margin of Error: 6.929519121748388\n"
          ]
        }
      ],
      "source": [
        "import numpy as np\n",
        "from scipy.stats import norm\n",
        "\n",
        "def margin_of_error(data, confidence=0.95):\n",
        "    n = len(data)\n",
        "    mean = np.mean(data)\n",
        "    std_dev = np.std(data, ddof=1)\n",
        "    z = norm.ppf((1 + confidence) / 2)\n",
        "    moe = z * (std_dev / np.sqrt(n))\n",
        "    return moe\n",
        "\n",
        "sample_data = [55, 60, 65, 70, 75]\n",
        "print(\"Margin of Error:\", margin_of_error(sample_data))"
      ]
    },
    {
      "cell_type": "markdown",
      "id": "61d0d074",
      "metadata": {
        "id": "61d0d074"
      },
      "source": [
        "### Practical Q12. Implement a Bayesian inference method using Bayes' Theorem in Python and explain the process"
      ]
    },
    {
      "cell_type": "code",
      "execution_count": 11,
      "id": "4de2a9da",
      "metadata": {
        "colab": {
          "base_uri": "https://localhost:8080/"
        },
        "id": "4de2a9da",
        "outputId": "915a14d4-657f-4ebb-d6d2-a39f3bbb631a"
      },
      "outputs": [
        {
          "output_type": "stream",
          "name": "stdout",
          "text": [
            "Posterior probability: 0.16666666666666669\n"
          ]
        }
      ],
      "source": [
        "def bayes_theorem(prior_A, prior_B, likelihood_A, likelihood_B):\n",
        "    numerator = likelihood_A * prior_A\n",
        "    denominator = likelihood_A * prior_A + likelihood_B * prior_B\n",
        "    return numerator / denominator\n",
        "\n",
        "# Example: Disease test\n",
        "P_D = 0.01      # prior: person has disease\n",
        "P_notD = 0.99   # prior: person does not have disease\n",
        "P_pos_D = 0.99  # likelihood: test is positive given disease\n",
        "P_pos_notD = 0.05  # likelihood: false positive\n",
        "\n",
        "posterior = bayes_theorem(P_D, P_notD, P_pos_D, P_pos_notD)\n",
        "print(\"Posterior probability:\", posterior)"
      ]
    },
    {
      "cell_type": "markdown",
      "id": "feed6851",
      "metadata": {
        "id": "feed6851"
      },
      "source": [
        "### Practical Q13. Perform a Chi-square test for independence between two categorical variables in Python"
      ]
    },
    {
      "cell_type": "code",
      "execution_count": 12,
      "id": "737c028c",
      "metadata": {
        "colab": {
          "base_uri": "https://localhost:8080/"
        },
        "id": "737c028c",
        "outputId": "28e53f54-6d61-4dac-fb23-8ed378e31db3"
      },
      "outputs": [
        {
          "output_type": "stream",
          "name": "stdout",
          "text": [
            "Chi-square: 0.0\n",
            "P-value: 1.0\n"
          ]
        }
      ],
      "source": [
        "import pandas as pd\n",
        "from scipy.stats import chi2_contingency\n",
        "\n",
        "data = [[10, 20], [20, 40]]\n",
        "chi2, p, dof, expected = chi2_contingency(data)\n",
        "print(\"Chi-square:\", chi2)\n",
        "print(\"P-value:\", p)"
      ]
    },
    {
      "cell_type": "markdown",
      "id": "1b3e91b0",
      "metadata": {
        "id": "1b3e91b0"
      },
      "source": [
        "### Practical Q14. Write a Python program to calculate the expected frequencies for a Chi-square test based on observed data"
      ]
    },
    {
      "cell_type": "code",
      "execution_count": 13,
      "id": "3178ddd7",
      "metadata": {
        "colab": {
          "base_uri": "https://localhost:8080/"
        },
        "id": "3178ddd7",
        "outputId": "c5a0e851-f088-4127-c4c9-3583d7edfb51"
      },
      "outputs": [
        {
          "output_type": "stream",
          "name": "stdout",
          "text": [
            "Expected Frequencies:\n",
            " [[20. 20.]\n",
            " [30. 30.]]\n"
          ]
        }
      ],
      "source": [
        "from scipy.stats import chi2_contingency\n",
        "\n",
        "observed = [[30, 10], [20, 40]]\n",
        "chi2, p, dof, expected = chi2_contingency(observed)\n",
        "print(\"Expected Frequencies:\\n\", expected)"
      ]
    },
    {
      "cell_type": "markdown",
      "id": "d7fc07e0",
      "metadata": {
        "id": "d7fc07e0"
      },
      "source": [
        "### Practical Q15. Perform a goodness-of-fit test using Python to compare the observed data to an expected distribution"
      ]
    },
    {
      "cell_type": "code",
      "execution_count": 14,
      "id": "8c3f6163",
      "metadata": {
        "colab": {
          "base_uri": "https://localhost:8080/"
        },
        "id": "8c3f6163",
        "outputId": "01bf808b-023b-463a-e0cf-1338dffa041a"
      },
      "outputs": [
        {
          "output_type": "stream",
          "name": "stdout",
          "text": [
            "Chi-square Statistic: 2.0\n",
            "P-value: 0.36787944117144245\n"
          ]
        }
      ],
      "source": [
        "from scipy.stats import chisquare\n",
        "\n",
        "observed = [20, 30, 50]\n",
        "expected = [25, 25, 50]\n",
        "chi2_stat, p_val = chisquare(f_obs=observed, f_exp=expected)\n",
        "print(\"Chi-square Statistic:\", chi2_stat)\n",
        "print(\"P-value:\", p_val)"
      ]
    },
    {
      "cell_type": "markdown",
      "id": "e8d7e3a0",
      "metadata": {
        "id": "e8d7e3a0"
      },
      "source": [
        "### Practical Q16. Create a Python script to simulate and visualize the Chi-square distribution and discuss its characteristics"
      ]
    },
    {
      "cell_type": "code",
      "execution_count": 15,
      "id": "22d7a94b",
      "metadata": {
        "colab": {
          "base_uri": "https://localhost:8080/",
          "height": 472
        },
        "id": "22d7a94b",
        "outputId": "6a7819f0-5035-4fb4-c100-4aad7ac1a18a"
      },
      "outputs": [
        {
          "output_type": "display_data",
          "data": {
            "text/plain": [
              "<Figure size 640x480 with 1 Axes>"
            ],
            "image/png": "[encoded data removed]"
          },
          "metadata": {}
        }
      ],
      "source": [
        "import numpy as np\n",
        "import matplotlib.pyplot as plt\n",
        "from scipy.stats import chi2\n",
        "\n",
        "x = np.linspace(0, 20, 500)\n",
        "df = 5\n",
        "y = chi2.pdf(x, df)\n",
        "\n",
        "plt.plot(x, y)\n",
        "plt.title(\"Chi-square Distribution (df=5)\")\n",
        "plt.xlabel(\"Value\")\n",
        "plt.ylabel(\"Probability Density\")\n",
        "plt.grid()\n",
        "plt.show()"
      ]
    },
    {
      "cell_type": "markdown",
      "id": "a4a524c7",
      "metadata": {
        "id": "a4a524c7"
      },
      "source": [
        "### Practical Q17. Implement an F-test using Python to compare the variances of two random samples"
      ]
    },
    {
      "cell_type": "code",
      "execution_count": 16,
      "id": "45175713",
      "metadata": {
        "colab": {
          "base_uri": "https://localhost:8080/"
        },
        "id": "45175713",
        "outputId": "0c44bc56-2929-41d5-b7cf-ac6d323f0754"
      },
      "outputs": [
        {
          "output_type": "stream",
          "name": "stdout",
          "text": [
            "F-statistic: 2.3695102066783584\n",
            "P-value: 1.2356740521246579e-05\n"
          ]
        }
      ],
      "source": [
        "import numpy as np\n",
        "from scipy.stats import f\n",
        "\n",
        "group1 = np.random.normal(10, 2, 100)\n",
        "group2 = np.random.normal(10, 3, 100)\n",
        "\n",
        "var1 = np.var(group1, ddof=1)\n",
        "var2 = np.var(group2, ddof=1)\n",
        "f_stat = var1 / var2 if var1 > var2 else var2 / var1\n",
        "df1, df2 = 99, 99\n",
        "p_value = 1 - f.cdf(f_stat, df1, df2)\n",
        "\n",
        "print(\"F-statistic:\", f_stat)\n",
        "print(\"P-value:\", p_value)"
      ]
    },
    {
      "cell_type": "markdown",
      "id": "d700a4d0",
      "metadata": {
        "id": "d700a4d0"
      },
      "source": [
        "### Practical Q18. Write a Python program to perform an ANOVA test to compare means between multiple groups and interpret the results"
      ]
    },
    {
      "cell_type": "code",
      "execution_count": 17,
      "id": "7295b7db",
      "metadata": {
        "colab": {
          "base_uri": "https://localhost:8080/"
        },
        "id": "7295b7db",
        "outputId": "8ee9b72f-2896-40fe-ebc1-73e53ef0915e"
      },
      "outputs": [
        {
          "output_type": "stream",
          "name": "stdout",
          "text": [
            "ANOVA F-statistic: 48.8\n",
            "P-value: 1.4763314494112804e-05\n"
          ]
        }
      ],
      "source": [
        "from scipy.stats import f_oneway\n",
        "\n",
        "group1 = [20, 22, 23, 21]\n",
        "group2 = [30, 31, 29, 32]\n",
        "group3 = [25, 27, 26, 24]\n",
        "\n",
        "f_stat, p_val = f_oneway(group1, group2, group3)\n",
        "print(\"ANOVA F-statistic:\", f_stat)\n",
        "print(\"P-value:\", p_val)"
      ]
    },
    {
      "cell_type": "markdown",
      "id": "508e4288",
      "metadata": {
        "id": "508e4288"
      },
      "source": [
        "### Practical Q19. Perform a one-way ANOVA test using Python to compare the means of different groups and plot the results"
      ]
    },
    {
      "cell_type": "code",
      "execution_count": 18,
      "id": "2c7e678b",
      "metadata": {
        "colab": {
          "base_uri": "https://localhost:8080/",
          "height": 472
        },
        "id": "2c7e678b",
        "outputId": "a7e964ea-e62a-4ec5-c9f3-5d584b9c9888"
      },
      "outputs": [
        {
          "output_type": "display_data",
          "data": {
            "text/plain": [
              "<Figure size 640x480 with 1 Axes>"
            ],
            "image/png": "[encoded data removed]"
          },
          "metadata": {}
        }
      ],
      "source": [
        "import matplotlib.pyplot as plt\n",
        "import seaborn as sns\n",
        "import pandas as pd\n",
        "\n",
        "df = pd.DataFrame({\n",
        "    \"value\": [20, 22, 21, 30, 32, 31, 25, 24, 26],\n",
        "    \"group\": [\"A\"]*3 + [\"B\"]*3 + [\"C\"]*3\n",
        "})\n",
        "\n",
        "sns.boxplot(x=\"group\", y=\"value\", data=df)\n",
        "plt.title(\"One-way ANOVA Boxplot\")\n",
        "plt.show()"
      ]
    },
    {
      "cell_type": "markdown",
      "id": "6f77ca22",
      "metadata": {
        "id": "6f77ca22"
      },
      "source": [
        "### Practical Q20. Write a Python function to check the assumptions (normality, independence, and equal variance) for ANOVA"
      ]
    },
    {
      "cell_type": "code",
      "execution_count": 19,
      "id": "b000d477",
      "metadata": {
        "colab": {
          "base_uri": "https://localhost:8080/"
        },
        "id": "b000d477",
        "outputId": "9ba28048-a399-4872-f7aa-e7bf90283678"
      },
      "outputs": [
        {
          "output_type": "stream",
          "name": "stdout",
          "text": [
            "Normality test: ShapiroResult(statistic=np.float64(1.0), pvalue=np.float64(1.0))\n",
            "Normality test: ShapiroResult(statistic=np.float64(0.9642857142857142), pvalue=np.float64(0.6368868450289689))\n",
            "Normality test: ShapiroResult(statistic=np.float64(1.0), pvalue=np.float64(1.0))\n",
            "Equal variance test: LeveneResult(statistic=np.float64(0.19999999999999998), pvalue=np.float64(0.823974609375))\n"
          ]
        }
      ],
      "source": [
        "import scipy.stats as stats\n",
        "\n",
        "def check_anova_assumptions(data_groups):\n",
        "    for group in data_groups:\n",
        "        print(\"Normality test:\", stats.shapiro(group))\n",
        "    print(\"Equal variance test:\", stats.levene(*data_groups))\n",
        "\n",
        "# Example groups\n",
        "g1 = [20, 21, 19]\n",
        "g2 = [30, 32, 29]\n",
        "g3 = [25, 27, 26]\n",
        "check_anova_assumptions([g1, g2, g3])"
      ]
    },
    {
      "cell_type": "markdown",
      "id": "3d1f35a2",
      "metadata": {
        "id": "3d1f35a2"
      },
      "source": [
        "### Practical Q21. Perform a two-way ANOVA test using Python to study the interaction between two factors and visualize the results"
      ]
    },
    {
      "cell_type": "code",
      "execution_count": 20,
      "id": "256babcd",
      "metadata": {
        "colab": {
          "base_uri": "https://localhost:8080/"
        },
        "id": "256babcd",
        "outputId": "92b76354-4609-499d-c129-c6f802627e23"
      },
      "outputs": [
        {
          "output_type": "stream",
          "name": "stdout",
          "text": [
            "                      sum_sq   df         F    PR(>F)\n",
            "C(gender)             36.125  1.0  0.676815  0.456901\n",
            "C(method)              1.125  1.0  0.021077  0.891590\n",
            "C(gender):C(method)    0.125  1.0  0.002342  0.963723\n",
            "Residual             213.500  4.0       NaN       NaN\n"
          ]
        }
      ],
      "source": [
        "import statsmodels.api as sm\n",
        "from statsmodels.formula.api import ols\n",
        "import pandas as pd\n",
        "\n",
        "df = pd.DataFrame({\n",
        "    \"score\": [90, 85, 88, 92, 75, 78, 85, 80],\n",
        "    \"gender\": [\"M\", \"M\", \"F\", \"F\", \"M\", \"M\", \"F\", \"F\"],\n",
        "    \"method\": [\"A\", \"B\", \"A\", \"B\", \"A\", \"B\", \"A\", \"B\"]\n",
        "})\n",
        "\n",
        "model = ols('score ~ C(gender) + C(method) + C(gender):C(method)', data=df).fit()\n",
        "anova_table = sm.stats.anova_lm(model, typ=2)\n",
        "print(anova_table)"
      ]
    },
    {
      "cell_type": "markdown",
      "id": "3072289a",
      "metadata": {
        "id": "3072289a"
      },
      "source": [
        "### Practical Q22. Write a Python program to visualize the F-distribution and discuss its use in hypothesis testing"
      ]
    },
    {
      "cell_type": "code",
      "execution_count": 21,
      "id": "383212c7",
      "metadata": {
        "colab": {
          "base_uri": "https://localhost:8080/",
          "height": 472
        },
        "id": "383212c7",
        "outputId": "f439394e-81da-4706-ae29-701cc76ebc8d"
      },
      "outputs": [
        {
          "output_type": "display_data",
          "data": {
            "text/plain": [
              "<Figure size 640x480 with 1 Axes>"
            ],
            "image/png": "[encoded data removed]"
          },
          "metadata": {}
        }
      ],
      "source": [
        "import numpy as np\n",
        "import matplotlib.pyplot as plt\n",
        "from scipy.stats import f\n",
        "\n",
        "x = np.linspace(0, 5, 500)\n",
        "dfn, dfd = 5, 20\n",
        "y = f.pdf(x, dfn, dfd)\n",
        "\n",
        "plt.plot(x, y)\n",
        "plt.title(\"F-distribution\")\n",
        "plt.xlabel(\"F value\")\n",
        "plt.ylabel(\"Probability Density\")\n",
        "plt.grid()\n",
        "plt.show()"
      ]
    },
    {
      "cell_type": "markdown",
      "id": "b2181d9e",
      "metadata": {
        "id": "b2181d9e"
      },
      "source": [
        "### Practical Q23. Perform a one-way ANOVA test in Python and visualize the results with boxplots to compare group means"
      ]
    },
    {
      "cell_type": "code",
      "execution_count": 22,
      "id": "f29420d9",
      "metadata": {
        "colab": {
          "base_uri": "https://localhost:8080/",
          "height": 507
        },
        "id": "f29420d9",
        "outputId": "ef1a3ee1-e280-4ece-c2f1-3c2a9a8ee96f"
      },
      "outputs": [
        {
          "output_type": "display_data",
          "data": {
            "text/plain": [
              "<Figure size 640x480 with 1 Axes>"
            ],
            "image/png": "[encoded data removed]"
          },
          "metadata": {}
        },
        {
          "output_type": "stream",
          "name": "stdout",
          "text": [
            "F-statistic: 91.00000000000045\n",
            "P-value: 3.2507247912311826e-05\n"
          ]
        }
      ],
      "source": [
        "import pandas as pd\n",
        "import seaborn as sns\n",
        "import matplotlib.pyplot as plt\n",
        "from scipy.stats import f_oneway\n",
        "\n",
        "df = pd.DataFrame({\n",
        "    \"group\": [\"A\", \"A\", \"A\", \"B\", \"B\", \"B\", \"C\", \"C\", \"C\"],\n",
        "    \"value\": [20, 21, 19, 30, 32, 31, 25, 26, 24]\n",
        "})\n",
        "\n",
        "sns.boxplot(x=\"group\", y=\"value\", data=df)\n",
        "plt.title(\"Boxplot for One-Way ANOVA\")\n",
        "plt.show()\n",
        "\n",
        "f_stat, p_val = f_oneway(\n",
        "    df[df.group == \"A\"].value,\n",
        "    df[df.group == \"B\"].value,\n",
        "    df[df.group == \"C\"].value\n",
        ")\n",
        "print(\"F-statistic:\", f_stat)\n",
        "print(\"P-value:\", p_val)"
      ]
    },
    {
      "cell_type": "markdown",
      "id": "60e655f8",
      "metadata": {
        "id": "60e655f8"
      },
      "source": [
        "### Practical Q24. Simulate random data from a normal distribution, then perform hypothesis testing to evaluate the means"
      ]
    },
    {
      "cell_type": "code",
      "execution_count": 23,
      "id": "dab88598",
      "metadata": {
        "colab": {
          "base_uri": "https://localhost:8080/"
        },
        "id": "dab88598",
        "outputId": "372ac607-58cb-4322-a9a3-061f4f5a462f"
      },
      "outputs": [
        {
          "output_type": "stream",
          "name": "stdout",
          "text": [
            "T-statistic: 0.11771851963669193\n",
            "P-value: 0.9065291968415663\n"
          ]
        }
      ],
      "source": [
        "import numpy as np\n",
        "from scipy.stats import ttest_1samp\n",
        "\n",
        "data = np.random.normal(100, 15, size=100)\n",
        "t_stat, p_val = ttest_1samp(data, 100)\n",
        "print(\"T-statistic:\", t_stat)\n",
        "print(\"P-value:\", p_val)"
      ]
    },
    {
      "cell_type": "markdown",
      "id": "7cb63e02",
      "metadata": {
        "id": "7cb63e02"
      },
      "source": [
        "### Practical Q25. Perform a hypothesis test for population variance using a Chi-square distribution and interpret the results"
      ]
    },
    {
      "cell_type": "code",
      "execution_count": 24,
      "id": "7b793e50",
      "metadata": {
        "colab": {
          "base_uri": "https://localhost:8080/"
        },
        "id": "7b793e50",
        "outputId": "f798e4a7-6309-460d-f50a-70561af409e5"
      },
      "outputs": [
        {
          "output_type": "stream",
          "name": "stdout",
          "text": [
            "Chi-square stat: 2.5\n",
            "P-value: 0.6446357929354278\n"
          ]
        }
      ],
      "source": [
        "import numpy as np\n",
        "from scipy.stats import chi2\n",
        "\n",
        "sample = [10, 12, 9, 11, 13]\n",
        "n = len(sample)\n",
        "s2 = np.var(sample, ddof=1)\n",
        "sigma2 = 4  # assumed population variance\n",
        "\n",
        "chi2_stat = (n - 1) * s2 / sigma2\n",
        "p = 1 - chi2.cdf(chi2_stat, n - 1)\n",
        "print(\"Chi-square stat:\", chi2_stat)\n",
        "print(\"P-value:\", p)"
      ]
    },
    {
      "cell_type": "markdown",
      "id": "a54c38f4",
      "metadata": {
        "id": "a54c38f4"
      },
      "source": [
        "### Practical Q26. Write a Python script to perform a Z-test for comparing proportions between two datasets or groups"
      ]
    },
    {
      "cell_type": "code",
      "execution_count": 25,
      "id": "2a258c48",
      "metadata": {
        "colab": {
          "base_uri": "https://localhost:8080/"
        },
        "id": "2a258c48",
        "outputId": "8d02a14c-cdd4-4ff8-cac5-10e2ac744633"
      },
      "outputs": [
        {
          "output_type": "stream",
          "name": "stdout",
          "text": [
            "Z-statistic: 1.6427266128719296\n",
            "P-value: 0.10043950997963545\n"
          ]
        }
      ],
      "source": [
        "from statsmodels.stats.proportion import proportions_ztest\n",
        "\n",
        "success = [45, 30]\n",
        "nobs = [100, 90]\n",
        "z_stat, p_val = proportions_ztest(success, nobs)\n",
        "print(\"Z-statistic:\", z_stat)\n",
        "print(\"P-value:\", p_val)"
      ]
    },
    {
      "cell_type": "markdown",
      "id": "27dbc96d",
      "metadata": {
        "id": "27dbc96d"
      },
      "source": [
        "### Practical Q27. Implement an F-test for comparing the variances of two datasets, then interpret and visualize the results"
      ]
    },
    {
      "cell_type": "code",
      "execution_count": 26,
      "id": "2c881f6c",
      "metadata": {
        "colab": {
          "base_uri": "https://localhost:8080/"
        },
        "id": "2c881f6c",
        "outputId": "dfab0eed-eff6-40b1-bf22-74bfd5a4009c"
      },
      "outputs": [
        {
          "output_type": "stream",
          "name": "stdout",
          "text": [
            "F-statistic: 0.43925020973867407\n",
            "P-value: 0.9999717726192393\n"
          ]
        }
      ],
      "source": [
        "import numpy as np\n",
        "import matplotlib.pyplot as plt\n",
        "from scipy.stats import f\n",
        "\n",
        "a = np.random.normal(0, 2, 100)\n",
        "b = np.random.normal(0, 3, 100)\n",
        "\n",
        "f_stat = np.var(a, ddof=1) / np.var(b, ddof=1)\n",
        "df1, df2 = len(a)-1, len(b)-1\n",
        "p_val = 1 - f.cdf(f_stat, df1, df2)\n",
        "\n",
        "print(\"F-statistic:\", f_stat)\n",
        "print(\"P-value:\", p_val)"
      ]
    },
    {
      "cell_type": "markdown",
      "id": "2a089ae7",
      "metadata": {
        "id": "2a089ae7"
      },
      "source": [
        "### Practical Q27. Perform a Chi-square test for goodness of fit with simulated data and analyze the results."
      ]
    },
    {
      "cell_type": "code",
      "execution_count": 28,
      "id": "40091c8a",
      "metadata": {
        "colab": {
          "base_uri": "https://localhost:8080/",
          "height": 391
        },
        "id": "40091c8a",
        "outputId": "141081b1-a43c-4b89-ad8f-dac631c39ece"
      },
      "outputs": [
        {
          "output_type": "error",
          "ename": "ValueError",
          "evalue": "For each axis slice, the sum of the observed frequencies must agree with the sum of the expected frequencies to a relative tolerance of 1.4901161193847656e-08, but the percent differences are:\n0.010101010101010102",
          "traceback": [
            "\u001b[0;31m---------------------------------------------------------------------------\u001b[0m",
            "\u001b[0;31mValueError\u001b[0m                                Traceback (most recent call last)",
            "\u001b[0;32m/tmp/ipython-input-28-4290599246.py\u001b[0m in \u001b[0;36m<cell line: 0>\u001b[0;34m()\u001b[0m\n\u001b[1;32m      3\u001b[0m \u001b[0mobserved\u001b[0m \u001b[0;34m=\u001b[0m \u001b[0;34m[\u001b[0m\u001b[0;36m50\u001b[0m\u001b[0;34m,\u001b[0m \u001b[0;36m30\u001b[0m\u001b[0;34m,\u001b[0m \u001b[0;36m20\u001b[0m\u001b[0;34m]\u001b[0m\u001b[0;34m\u001b[0m\u001b[0;34m\u001b[0m\u001b[0m\n\u001b[1;32m      4\u001b[0m \u001b[0mexpected\u001b[0m \u001b[0;34m=\u001b[0m \u001b[0;34m[\u001b[0m\u001b[0;36m33\u001b[0m\u001b[0;34m,\u001b[0m \u001b[0;36m33\u001b[0m\u001b[0;34m,\u001b[0m \u001b[0;36m33\u001b[0m\u001b[0;34m]\u001b[0m\u001b[0;34m\u001b[0m\u001b[0;34m\u001b[0m\u001b[0m\n\u001b[0;32m----> 5\u001b[0;31m \u001b[0mchi2_stat\u001b[0m\u001b[0;34m,\u001b[0m \u001b[0mp_val\u001b[0m \u001b[0;34m=\u001b[0m \u001b[0mchisquare\u001b[0m\u001b[0;34m(\u001b[0m\u001b[0mf_obs\u001b[0m\u001b[0;34m=\u001b[0m\u001b[0mobserved\u001b[0m\u001b[0;34m,\u001b[0m \u001b[0mf_exp\u001b[0m\u001b[0;34m=\u001b[0m\u001b[0mexpected\u001b[0m\u001b[0;34m)\u001b[0m\u001b[0;34m\u001b[0m\u001b[0;34m\u001b[0m\u001b[0m\n\u001b[0m\u001b[1;32m      6\u001b[0m \u001b[0mprint\u001b[0m\u001b[0;34m(\u001b[0m\u001b[0;34m\"Chi-square statistic:\"\u001b[0m\u001b[0;34m,\u001b[0m \u001b[0mchi2_stat\u001b[0m\u001b[0;34m)\u001b[0m\u001b[0;34m\u001b[0m\u001b[0;34m\u001b[0m\u001b[0m\n\u001b[1;32m      7\u001b[0m \u001b[0mprint\u001b[0m\u001b[0;34m(\u001b[0m\u001b[0;34m\"P-value:\"\u001b[0m\u001b[0;34m,\u001b[0m \u001b[0mp_val\u001b[0m\u001b[0;34m)\u001b[0m\u001b[0;34m\u001b[0m\u001b[0;34m\u001b[0m\u001b[0m\n",
            "\u001b[0;32m/usr/local/lib/python3.11/dist-packages/scipy/stats/_stats_py.py\u001b[0m in \u001b[0;36mchisquare\u001b[0;34m(f_obs, f_exp, ddof, axis, sum_check)\u001b[0m\n\u001b[1;32m   7504\u001b[0m     \u001b[0mFor\u001b[0m \u001b[0ma\u001b[0m \u001b[0mmore\u001b[0m \u001b[0mdetailed\u001b[0m \u001b[0mexample\u001b[0m\u001b[0;34m,\u001b[0m \u001b[0msee\u001b[0m \u001b[0;34m:\u001b[0m\u001b[0mref\u001b[0m\u001b[0;34m:\u001b[0m\u001b[0;31m`\u001b[0m\u001b[0mhypothesis_chisquare\u001b[0m\u001b[0;31m`\u001b[0m\u001b[0;34m.\u001b[0m\u001b[0;34m\u001b[0m\u001b[0;34m\u001b[0m\u001b[0m\n\u001b[1;32m   7505\u001b[0m     \"\"\"  # noqa: E501\n\u001b[0;32m-> 7506\u001b[0;31m     return _power_divergence(f_obs, f_exp=f_exp, ddof=ddof, axis=axis,\n\u001b[0m\u001b[1;32m   7507\u001b[0m                              lambda_=\"pearson\", sum_check=sum_check)\n\u001b[1;32m   7508\u001b[0m \u001b[0;34m\u001b[0m\u001b[0m\n",
            "\u001b[0;32m/usr/local/lib/python3.11/dist-packages/scipy/stats/_stats_py.py\u001b[0m in \u001b[0;36m_power_divergence\u001b[0;34m(f_obs, f_exp, ddof, axis, lambda_, sum_check)\u001b[0m\n\u001b[1;32m   7320\u001b[0m                        \u001b[0;34mf\"of {rtol}, but the percent differences are:\\n\"\u001b[0m\u001b[0;34m\u001b[0m\u001b[0;34m\u001b[0m\u001b[0m\n\u001b[1;32m   7321\u001b[0m                        f\"{relative_diff}\")\n\u001b[0;32m-> 7322\u001b[0;31m                 \u001b[0;32mraise\u001b[0m \u001b[0mValueError\u001b[0m\u001b[0;34m(\u001b[0m\u001b[0mmsg\u001b[0m\u001b[0;34m)\u001b[0m\u001b[0;34m\u001b[0m\u001b[0;34m\u001b[0m\u001b[0m\n\u001b[0m\u001b[1;32m   7323\u001b[0m \u001b[0;34m\u001b[0m\u001b[0m\n\u001b[1;32m   7324\u001b[0m     \u001b[0;32melse\u001b[0m\u001b[0;34m:\u001b[0m\u001b[0;34m\u001b[0m\u001b[0;34m\u001b[0m\u001b[0m\n",
            "\u001b[0;31mValueError\u001b[0m: For each axis slice, the sum of the observed frequencies must agree with the sum of the expected frequencies to a relative tolerance of 1.4901161193847656e-08, but the percent differences are:\n0.010101010101010102"
          ]
        }
      ],
      "source": [
        "from scipy.stats import chisquare\n",
        "\n",
        "observed = [50, 30, 20]\n",
        "expected = [33, 33, 33]\n",
        "chi2_stat, p_val = chisquare(f_obs=observed, f_exp=expected)\n",
        "print(\"Chi-square statistic:\", chi2_stat)\n",
        "print(\"P-value:\", p_val)"
      ]
    }
  ],
  "metadata": {
    "colab": {
      "provenance": [],
      "include_colab_link": true
    },
    "language_info": {
      "name": "python"
    },
    "kernelspec": {
      "name": "python3",
      "display_name": "Python 3"
    }
  },
  "nbformat": 4,
  "nbformat_minor": 5
}