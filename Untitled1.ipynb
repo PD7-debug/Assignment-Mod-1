{
  "nbformat": 4,
  "nbformat_minor": 0,
  "metadata": {
    "colab": {
      "provenance": []
    },
    "kernelspec": {
      "name": "python3",
      "display_name": "Python 3"
    },
    "language_info": {
      "name": "python"
    }
  },
  "cells": [
    {
      "cell_type": "code",
      "execution_count": 2,
      "metadata": {
        "colab": {
          "base_uri": "https://localhost:8080/"
        },
        "id": "9sGgOUhblDqa",
        "outputId": "9e1d3a93-5b1f-4f96-fab4-37892e848857"
      },
      "outputs": [
        {
          "output_type": "stream",
          "name": "stdout",
          "text": [
            "Hello, World\n"
          ]
        }
      ],
      "source": [
        "# 1.Write a Python program to print \"Hello, World!?\n",
        "print('Hello, World')"
      ]
    },
    {
      "cell_type": "code",
      "source": [
        "# 2.Write a Python program that displays your name and age?\n",
        "name = input('Enter your name')\n",
        "age = int(input('enter your age'))"
      ],
      "metadata": {
        "colab": {
          "base_uri": "https://localhost:8080/"
        },
        "id": "MlfnRxBqlXQ1",
        "outputId": "18ab1b6f-cb07-4136-d4b4-a8c9d46470a1"
      },
      "execution_count": 4,
      "outputs": [
        {
          "name": "stdout",
          "output_type": "stream",
          "text": [
            "Enter your name Pranay Domke\n",
            "enter your age 24\n"
          ]
        }
      ]
    },
    {
      "cell_type": "code",
      "source": [
        "# 3.Write code to print all the pre-defined keywords in Python using the keyword library?\n",
        "help('keywords')"
      ],
      "metadata": {
        "colab": {
          "base_uri": "https://localhost:8080/"
        },
        "id": "yb1iLPSnmUqH",
        "outputId": "12715264-f80c-4a06-aef6-13a03c706293"
      },
      "execution_count": 5,
      "outputs": [
        {
          "output_type": "stream",
          "name": "stdout",
          "text": [
            "\n",
            "Here is a list of the Python keywords.  Enter any keyword to get more help.\n",
            "\n",
            "False               class               from                or\n",
            "None                continue            global              pass\n",
            "True                def                 if                  raise\n",
            "and                 del                 import              return\n",
            "as                  elif                in                  try\n",
            "assert              else                is                  while\n",
            "async               except              lambda              with\n",
            "await               finally             nonlocal            yield\n",
            "break               for                 not                 \n",
            "\n"
          ]
        }
      ]
    },
    {
      "cell_type": "code",
      "source": [
        "# 4.Write a program that checks if a given word is a Python keyword?\n",
        "import keyword\n",
        "\n",
        "# Input from the user\n",
        "word = input(\"Enter a word to check if it is a Python keyword: \")\n",
        "\n",
        "# Check if the word is a keyword\n",
        "if keyword.iskeyword(word):\n",
        "    print(f\"'{word}' is a Python keyword.\")\n",
        "else:\n",
        "    print(f\"'{word}' is NOT a Python keyword.\")"
      ],
      "metadata": {
        "colab": {
          "base_uri": "https://localhost:8080/"
        },
        "id": "f9AJHR0LnGbg",
        "outputId": "77062cb5-8a98-4b6c-8746-dbae7e9c15d5"
      },
      "execution_count": 8,
      "outputs": [
        {
          "output_type": "stream",
          "name": "stdout",
          "text": [
            "Enter a word to check if it is a Python keyword: if\n",
            "'if' is a Python keyword.\n"
          ]
        }
      ]
    },
    {
      "cell_type": "code",
      "source": [
        "# 5.Create a list and tuple in Python, and demonstrate how attempting to change an element works differently for each\n",
        "N/A"
      ],
      "metadata": {
        "id": "H0udaJ6jnhle"
      },
      "execution_count": 9,
      "outputs": []
    },
    {
      "cell_type": "code",
      "source": [
        "# 6.Write a function to demonstrate the behavior of mutable and immutable arguments\n",
        "N/A"
      ],
      "metadata": {
        "id": "CKw9VVuwpNNa"
      },
      "execution_count": 10,
      "outputs": []
    },
    {
      "cell_type": "code",
      "source": [
        "# 7.Write a function to demonstrate the behavior of mutable and immutable arguments?\n",
        "N/A"
      ],
      "metadata": {
        "id": "w_kXWbFdplJH"
      },
      "execution_count": 11,
      "outputs": []
    },
    {
      "cell_type": "code",
      "source": [
        "# 8.Write a program to demonstrate the use of logical operators.\n",
        "# Input values\n",
        "x = int(input(\"Enter a number\"))\n",
        "y = int(input(\"Enter a number\"))\n",
        "\n",
        "# Logical AND\n",
        "if x > 0 and y > 0:\n",
        "    print(\"Both x and y are positive numbers.\")\n",
        "\n",
        "# Logical OR\n",
        "if x > 0 or y > 0:\n",
        "    print(\"At least one of x or y is a positive number.\")\n",
        "\n"
      ],
      "metadata": {
        "colab": {
          "base_uri": "https://localhost:8080/"
        },
        "id": "wpDvvM5MpoSP",
        "outputId": "e70732a1-5ee7-4a5d-f95b-d5fcba35998b"
      },
      "execution_count": 12,
      "outputs": [
        {
          "output_type": "stream",
          "name": "stdout",
          "text": [
            "Enter a number5\n",
            "Enter a number10\n",
            "Both x and y are positive numbers.\n",
            "At least one of x or y is a positive number.\n"
          ]
        }
      ]
    },
    {
      "cell_type": "code",
      "source": [
        "# 9.Write a Python program to convert user input from string to integer, float, and boolean types?\n",
        "\n",
        "# string to integer\n",
        "a = \"2\"\n",
        "b = 3\n",
        "int(a) + b"
      ],
      "metadata": {
        "colab": {
          "base_uri": "https://localhost:8080/"
        },
        "id": "A9OuXQ3Hq9zl",
        "outputId": "637bcd52-299f-4083-90de-5cfd5d89490c"
      },
      "execution_count": 13,
      "outputs": [
        {
          "output_type": "execute_result",
          "data": {
            "text/plain": [
              "5"
            ]
          },
          "metadata": {},
          "execution_count": 13
        }
      ]
    },
    {
      "cell_type": "code",
      "source": [
        "#String to float\n",
        "a = \"2.3\"\n",
        "b = float(a)\n",
        "type (b)"
      ],
      "metadata": {
        "colab": {
          "base_uri": "https://localhost:8080/"
        },
        "id": "QhGUUXzDriFb",
        "outputId": "bba30c3f-48b9-45e2-ea1e-ab76b0226041"
      },
      "execution_count": 15,
      "outputs": [
        {
          "output_type": "execute_result",
          "data": {
            "text/plain": [
              "float"
            ]
          },
          "metadata": {},
          "execution_count": 15
        }
      ]
    },
    {
      "cell_type": "code",
      "source": [
        "# String to Boolean\n",
        "a = \"True\"\n",
        "b = bool(a)\n",
        "type(b)"
      ],
      "metadata": {
        "colab": {
          "base_uri": "https://localhost:8080/"
        },
        "id": "Fuogj2PYr0sT",
        "outputId": "de7f10e0-6b8e-429c-fc1c-fe643570c679"
      },
      "execution_count": 16,
      "outputs": [
        {
          "output_type": "execute_result",
          "data": {
            "text/plain": [
              "bool"
            ]
          },
          "metadata": {},
          "execution_count": 16
        }
      ]
    },
    {
      "cell_type": "code",
      "source": [
        "# 10. Write code to demonstrate type casting with list elements.\n",
        "# List of strings representing numbers\n",
        "str_list = [\"1\", \"2\", \"3\", \"4\"]\n",
        "\n",
        "# Convert each string element to an integer\n",
        "int_list = [int(element) for element in str_list]\n",
        "\n",
        "# Print both lists\n",
        "print(\"Original list (strings):\", str_list)\n",
        "print(\"Type-casted list (integers):\", int_list)"
      ],
      "metadata": {
        "colab": {
          "base_uri": "https://localhost:8080/"
        },
        "id": "X8887fNOsQPz",
        "outputId": "d5fd55b8-c458-408e-e02a-e6a316f2be77"
      },
      "execution_count": 17,
      "outputs": [
        {
          "output_type": "stream",
          "name": "stdout",
          "text": [
            "Original list (strings): ['1', '2', '3', '4']\n",
            "Type-casted list (integers): [1, 2, 3, 4]\n"
          ]
        }
      ]
    },
    {
      "cell_type": "code",
      "source": [
        "# 11.Write a program that checks if a number is positive, negative, or zero.\n",
        "\n",
        "num = float(input(\"Enter a number: \"))\n",
        "\n",
        "if num > 0:\n",
        "    print(\"The number is positive.\")\n",
        "elif num < 0:\n",
        "    print(\"The number is negative.\")\n",
        "else:\n",
        "    print(\"The number is zero.\")\n"
      ],
      "metadata": {
        "colab": {
          "base_uri": "https://localhost:8080/"
        },
        "id": "lJ95bflTskyd",
        "outputId": "1ec34017-9848-4fa2-f2de-c2806b6f4c81"
      },
      "execution_count": 18,
      "outputs": [
        {
          "output_type": "stream",
          "name": "stdout",
          "text": [
            "Enter a number: 5\n",
            "The number is positive.\n"
          ]
        }
      ]
    },
    {
      "cell_type": "code",
      "source": [
        "# 12.Write a for loop to print numbers from 1 to 10\n",
        "\n",
        "for num in range(1, 11):\n",
        "    print(num)\n"
      ],
      "metadata": {
        "colab": {
          "base_uri": "https://localhost:8080/"
        },
        "id": "WaZXkrBns2HP",
        "outputId": "f66d4bb2-bf06-4e6d-f2c4-75c15b0c319f"
      },
      "execution_count": 22,
      "outputs": [
        {
          "output_type": "stream",
          "name": "stdout",
          "text": [
            "1\n",
            "2\n",
            "3\n",
            "4\n",
            "5\n",
            "6\n",
            "7\n",
            "8\n",
            "9\n",
            "10\n"
          ]
        }
      ]
    },
    {
      "cell_type": "code",
      "source": [
        "# 13.Write a Python program to find the sum of all even numbers between 1 and 50\n",
        "# Initialize sum\n",
        "even_sum = 0\n",
        "\n",
        "# Loop through numbers from 1 to 50\n",
        "for num in range(1, 51):\n",
        "    if num % 2 == 0:  # Check if the number is even\n",
        "        even_sum += num\n",
        "\n",
        "# Print the result\n",
        "print(\"The sum of all even numbers between 1 and 50 is:\", even_sum)\n"
      ],
      "metadata": {
        "colab": {
          "base_uri": "https://localhost:8080/"
        },
        "id": "qECyG2-9tiLD",
        "outputId": "fcb2de9a-3abe-4a3d-f20e-a9478c197d93"
      },
      "execution_count": 23,
      "outputs": [
        {
          "output_type": "stream",
          "name": "stdout",
          "text": [
            "The sum of all even numbers between 1 and 50 is: 650\n"
          ]
        }
      ]
    },
    {
      "cell_type": "code",
      "source": [
        "# 14. Write a program to reverse a string using a while loop.\n",
        "N/A"
      ],
      "metadata": {
        "id": "5BnMwQpQtmXp"
      },
      "execution_count": 21,
      "outputs": []
    },
    {
      "cell_type": "code",
      "source": [
        "# 15.  Write a Python program to calculate the factorial of a number provided by the user using a while loop.\n",
        "N/A"
      ],
      "metadata": {
        "id": "kPaHTsiLtwZY"
      },
      "execution_count": null,
      "outputs": []
    }
  ]
}