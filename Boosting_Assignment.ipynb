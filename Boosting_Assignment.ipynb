{
  "cells": [
    {
      "cell_type": "markdown",
      "metadata": {
        "id": "view-in-github",
        "colab_type": "text"
      },
      "source": [
        "<a href=\"https://colab.research.google.com/github/PD7-debug/Assignment-Mod-1/blob/main/Boosting_Assignment.ipynb\" target=\"_parent\"><img src=\"https://colab.research.google.com/assets/colab-badge.svg\" alt=\"Open In Colab\"/></a>"
      ]
    },
    {
      "cell_type": "markdown",
      "id": "316320b4",
      "metadata": {
        "id": "316320b4"
      },
      "source": [
        "#Theory Question"
      ]
    },
    {
      "cell_type": "markdown",
      "id": "d05aa1a8",
      "metadata": {
        "id": "d05aa1a8"
      },
      "source": [
        "## Q1. What is Boosting in Machine Learning?"
      ]
    },
    {
      "cell_type": "markdown",
      "id": "a71dc316",
      "metadata": {
        "id": "a71dc316"
      },
      "source": [
        "**Answer:** Boosting is an ensemble technique that combines multiple weak learners in sequence to create a strong learner. Each model learns from the errors of the previous one to improve performance."
      ]
    },
    {
      "cell_type": "markdown",
      "id": "e47bd667",
      "metadata": {
        "id": "e47bd667"
      },
      "source": [
        "## Q2. How does Boosting differ from Bagging?"
      ]
    },
    {
      "cell_type": "markdown",
      "id": "d7372e54",
      "metadata": {
        "id": "d7372e54"
      },
      "source": [
        "**Answer:** Bagging builds models independently in parallel and averages their results to reduce variance. Boosting builds models sequentially, where each model focuses on correcting errors of its predecessor, reducing bias."
      ]
    },
    {
      "cell_type": "markdown",
      "id": "811767ab",
      "metadata": {
        "id": "811767ab"
      },
      "source": [
        "## Q3. What is the key idea behind AdaBoost?"
      ]
    },
    {
      "cell_type": "markdown",
      "id": "8e7ccd0a",
      "metadata": {
        "id": "8e7ccd0a"
      },
      "source": [
        "**Answer:** AdaBoost focuses on misclassified instances by increasing their weights in subsequent iterations, allowing the next model to focus more on difficult cases."
      ]
    },
    {
      "cell_type": "markdown",
      "id": "2976a977",
      "metadata": {
        "id": "2976a977"
      },
      "source": [
        "## Q4. Explain the working of AdaBoost with an example."
      ]
    },
    {
      "cell_type": "markdown",
      "id": "f8cce321",
      "metadata": {
        "id": "f8cce321"
      },
      "source": [
        "**Answer:** AdaBoost starts by assigning equal weights to all instances. After each iteration, it increases the weights of misclassified points and decreases weights for correct ones. The final model combines all weak learners using their accuracy."
      ]
    },
    {
      "cell_type": "markdown",
      "id": "9b1ff265",
      "metadata": {
        "id": "9b1ff265"
      },
      "source": [
        "## Q5. What is Gradient Boosting, and how is it different from AdaBoost?"
      ]
    },
    {
      "cell_type": "markdown",
      "id": "8180bae5",
      "metadata": {
        "id": "8180bae5"
      },
      "source": [
        "**Answer:** Gradient Boosting builds models sequentially like AdaBoost but minimizes a loss function using gradient descent. It builds trees that predict the residuals of previous trees."
      ]
    },
    {
      "cell_type": "markdown",
      "id": "c0818ea0",
      "metadata": {
        "id": "c0818ea0"
      },
      "source": [
        "## Q6. What is the loss function in Gradient Boosting?"
      ]
    },
    {
      "cell_type": "markdown",
      "id": "dc2dbb81",
      "metadata": {
        "id": "dc2dbb81"
      },
      "source": [
        "**Answer:** The most common loss function in Gradient Boosting is Mean Squared Error for regression and Log Loss for classification. It can be customized depending on the problem."
      ]
    },
    {
      "cell_type": "markdown",
      "id": "1b5576e4",
      "metadata": {
        "id": "1b5576e4"
      },
      "source": [
        "## Q7. How does XGBoost improve over traditional Gradient Boosting?"
      ]
    },
    {
      "cell_type": "markdown",
      "id": "786ec3a5",
      "metadata": {
        "id": "786ec3a5"
      },
      "source": [
        "**Answer:** XGBoost improves Gradient Boosting with regularization, parallel processing, tree pruning, and handling missing values efficiently. It is faster and more accurate for many tasks."
      ]
    },
    {
      "cell_type": "markdown",
      "id": "c9cbca67",
      "metadata": {
        "id": "c9cbca67"
      },
      "source": [
        "## Q8. What is the difference between XGBoost and CatBoost?"
      ]
    },
    {
      "cell_type": "markdown",
      "id": "7a1e9071",
      "metadata": {
        "id": "7a1e9071"
      },
      "source": [
        "**Answer:** XGBoost is optimized for speed and performance using numerical features. CatBoost is specifically optimized for categorical features and handles them without preprocessing."
      ]
    },
    {
      "cell_type": "markdown",
      "id": "d726c202",
      "metadata": {
        "id": "d726c202"
      },
      "source": [
        "## Q9. What are some real-world applications of Boosting techniques?"
      ]
    },
    {
      "cell_type": "markdown",
      "id": "1549227f",
      "metadata": {
        "id": "1549227f"
      },
      "source": [
        "**Answer:** Boosting is used in fraud detection, churn prediction, recommendation systems, and high-accuracy tasks like search engines and medical diagnosis."
      ]
    },
    {
      "cell_type": "markdown",
      "id": "05712dd9",
      "metadata": {
        "id": "05712dd9"
      },
      "source": [
        "## Q10. How does regularization help in XGBoost?"
      ]
    },
    {
      "cell_type": "markdown",
      "id": "c1a74be0",
      "metadata": {
        "id": "c1a74be0"
      },
      "source": [
        "**Answer:** Regularization in XGBoost (via L1 and L2 penalties) helps reduce overfitting by penalizing model complexity, making it generalize better to new data."
      ]
    },
    {
      "cell_type": "markdown",
      "id": "f7648dfc",
      "metadata": {
        "id": "f7648dfc"
      },
      "source": [
        "## Q11. What are some hyperparameters to tune in Gradient Boosting models?"
      ]
    },
    {
      "cell_type": "markdown",
      "id": "05fcfa52",
      "metadata": {
        "id": "05fcfa52"
      },
      "source": [
        "**Answer:** Important hyperparameters include learning rate, number of estimators, max depth, subsample, min samples split, and regularization terms like alpha and lambda."
      ]
    },
    {
      "cell_type": "markdown",
      "id": "39c8aabb",
      "metadata": {
        "id": "39c8aabb"
      },
      "source": [
        "## Q12. What is the concept of Feature Importance in Boosting?"
      ]
    },
    {
      "cell_type": "markdown",
      "id": "8610a848",
      "metadata": {
        "id": "8610a848"
      },
      "source": [
        "**Answer:** Feature Importance in Boosting shows how valuable each feature is in making predictions, often derived from how frequently a feature is used for splits in trees."
      ]
    },
    {
      "cell_type": "markdown",
      "id": "5c6dc291",
      "metadata": {
        "id": "5c6dc291"
      },
      "source": [
        "## Q13. Why is CatBoost efficient for categorical data?"
      ]
    },
    {
      "cell_type": "markdown",
      "id": "b3934def",
      "metadata": {
        "id": "b3934def"
      },
      "source": [
        "**Answer:** CatBoost handles categorical features internally using efficient encoding, reducing the need for preprocessing and improving performance on mixed-type data."
      ]
    },
    {
      "cell_type": "markdown",
      "source": [
        "#Practical Question"
      ],
      "metadata": {
        "id": "opev71uQmaaz"
      },
      "id": "opev71uQmaaz"
    },
    {
      "cell_type": "markdown",
      "id": "90bc98b3",
      "metadata": {
        "id": "90bc98b3"
      },
      "source": [
        "## Q14. Train an AdaBoost Classifier on a sample dataset and print model accuracy."
      ]
    },
    {
      "cell_type": "code",
      "execution_count": 1,
      "id": "a38e9d16",
      "metadata": {
        "colab": {
          "base_uri": "https://localhost:8080/"
        },
        "id": "a38e9d16",
        "outputId": "5a9ca43d-877e-4fa1-c5c7-bf33317dadd1"
      },
      "outputs": [
        {
          "output_type": "stream",
          "name": "stdout",
          "text": [
            "Accuracy: 0.9555555555555556\n"
          ]
        }
      ],
      "source": [
        "from sklearn.ensemble import AdaBoostClassifier\n",
        "from sklearn.datasets import load_iris\n",
        "from sklearn.model_selection import train_test_split\n",
        "from sklearn.metrics import accuracy_score\n",
        "\n",
        "X, y = load_iris(return_X_y=True)\n",
        "X_train, X_test, y_train, y_test = train_test_split(X, y, test_size=0.3)\n",
        "model = AdaBoostClassifier(n_estimators=50)\n",
        "model.fit(X_train, y_train)\n",
        "print(\"Accuracy:\", accuracy_score(y_test, model.predict(X_test)))"
      ]
    },
    {
      "cell_type": "markdown",
      "id": "f0653d65",
      "metadata": {
        "id": "f0653d65"
      },
      "source": [
        "## Q15. Train an AdaBoost Regressor and evaluate performance using Mean Absolute Error (MAE)."
      ]
    },
    {
      "cell_type": "code",
      "execution_count": 2,
      "id": "4fe87ce4",
      "metadata": {
        "colab": {
          "base_uri": "https://localhost:8080/"
        },
        "id": "4fe87ce4",
        "outputId": "7fcecff4-1623-4a1a-a86b-d17a4b80928b"
      },
      "outputs": [
        {
          "output_type": "stream",
          "name": "stdout",
          "text": [
            "MAE: 0.7241581305314803\n"
          ]
        }
      ],
      "source": [
        "from sklearn.ensemble import AdaBoostRegressor\n",
        "from sklearn.datasets import fetch_california_housing\n",
        "from sklearn.metrics import mean_absolute_error\n",
        "\n",
        "X, y = fetch_california_housing(return_X_y=True)\n",
        "X_train, X_test, y_train, y_test = train_test_split(X, y, test_size=0.2)\n",
        "model = AdaBoostRegressor(n_estimators=50)\n",
        "model.fit(X_train, y_train)\n",
        "print(\"MAE:\", mean_absolute_error(y_test, model.predict(X_test)))"
      ]
    },
    {
      "cell_type": "markdown",
      "id": "2f73e2eb",
      "metadata": {
        "id": "2f73e2eb"
      },
      "source": [
        "## Q16. Train a Gradient Boosting Classifier on the Breast Cancer dataset and print feature importance."
      ]
    },
    {
      "cell_type": "code",
      "execution_count": 3,
      "id": "65d43871",
      "metadata": {
        "colab": {
          "base_uri": "https://localhost:8080/"
        },
        "id": "65d43871",
        "outputId": "8b082799-6c27-4128-92a5-b16730fe03dc"
      },
      "outputs": [
        {
          "output_type": "stream",
          "name": "stdout",
          "text": [
            "Feature Importances: [3.98359923e-05 2.52145450e-02 5.05740127e-04 6.30181590e-04\n",
            " 2.06049210e-05 1.62449926e-03 3.16535247e-04 1.30818329e-01\n",
            " 3.62833217e-04 5.22412972e-04 2.99182350e-03 3.41513597e-03\n",
            " 2.75505385e-03 8.32678414e-03 7.52146659e-04 6.03174677e-03\n",
            " 3.76891855e-03 4.43732157e-03 2.13692944e-03 1.00627171e-03\n",
            " 4.39993781e-01 3.78438396e-02 1.52025854e-01 2.99704198e-02\n",
            " 7.19503257e-03 1.43297714e-03 1.31960606e-02 1.20624496e-01\n",
            " 1.76102752e-03 2.78862549e-04]\n"
          ]
        }
      ],
      "source": [
        "from sklearn.ensemble import GradientBoostingClassifier\n",
        "from sklearn.datasets import load_breast_cancer\n",
        "\n",
        "X, y = load_breast_cancer(return_X_y=True)\n",
        "model = GradientBoostingClassifier()\n",
        "model.fit(X, y)\n",
        "print(\"Feature Importances:\", model.feature_importances_)"
      ]
    },
    {
      "cell_type": "markdown",
      "id": "aebbc665",
      "metadata": {
        "id": "aebbc665"
      },
      "source": [
        "## Q17. Train a Gradient Boosting Regressor and evaluate using R-Squared Score."
      ]
    },
    {
      "cell_type": "code",
      "execution_count": 4,
      "id": "36aca4ce",
      "metadata": {
        "colab": {
          "base_uri": "https://localhost:8080/"
        },
        "id": "36aca4ce",
        "outputId": "25e72b1c-fb61-4087-a83c-c37c9c6c6cca"
      },
      "outputs": [
        {
          "output_type": "stream",
          "name": "stdout",
          "text": [
            "R2 Score: 0.7881673686795221\n"
          ]
        }
      ],
      "source": [
        "from sklearn.ensemble import GradientBoostingRegressor\n",
        "from sklearn.metrics import r2_score\n",
        "\n",
        "model = GradientBoostingRegressor()\n",
        "model.fit(X_train, y_train)\n",
        "print(\"R2 Score:\", r2_score(y_test, model.predict(X_test)))"
      ]
    },
    {
      "cell_type": "markdown",
      "id": "0753ba29",
      "metadata": {
        "id": "0753ba29"
      },
      "source": [
        "## Q18. Train an XGBoost Classifier on a dataset and compare accuracy with Gradient Boosting."
      ]
    },
    {
      "cell_type": "code",
      "execution_count": 6,
      "id": "43049f19",
      "metadata": {
        "colab": {
          "base_uri": "https://localhost:8080/"
        },
        "id": "43049f19",
        "outputId": "1d728d11-8d4a-4ee1-fc5c-c67faf3838f8"
      },
      "outputs": [
        {
          "output_type": "stream",
          "name": "stderr",
          "text": [
            "/usr/local/lib/python3.11/dist-packages/xgboost/core.py:158: UserWarning: [05:28:41] WARNING: /workspace/src/learner.cc:740: \n",
            "Parameters: { \"use_label_encoder\" } are not used.\n",
            "\n",
            "  warnings.warn(smsg, UserWarning)\n"
          ]
        },
        {
          "output_type": "stream",
          "name": "stdout",
          "text": [
            "Gradient Boosting Accuracy: 0.9561\n",
            "XGBoost Accuracy: 0.9561\n"
          ]
        }
      ],
      "source": [
        "from sklearn.datasets import load_breast_cancer\n",
        "from sklearn.model_selection import train_test_split\n",
        "from sklearn.ensemble import GradientBoostingClassifier\n",
        "from xgboost import XGBClassifier\n",
        "from sklearn.metrics import accuracy_score\n",
        "\n",
        "# Load dataset\n",
        "data = load_breast_cancer()\n",
        "X, y = data.data, data.target\n",
        "\n",
        "# Split dataset\n",
        "X_train, X_test, y_train, y_test = train_test_split(X, y, test_size=0.2, random_state=42)\n",
        "\n",
        "# Train Gradient Boosting Classifier\n",
        "gb_model = GradientBoostingClassifier()\n",
        "gb_model.fit(X_train, y_train)\n",
        "gb_preds = gb_model.predict(X_test)\n",
        "gb_accuracy = accuracy_score(y_test, gb_preds)\n",
        "\n",
        "# Train XGBoost Classifier\n",
        "xgb_model = XGBClassifier(use_label_encoder=False, eval_metric='logloss')\n",
        "xgb_model.fit(X_train, y_train)\n",
        "xgb_preds = xgb_model.predict(X_test)\n",
        "xgb_accuracy = accuracy_score(y_test, xgb_preds)\n",
        "\n",
        "# Compare Accuracy\n",
        "print(f\"Gradient Boosting Accuracy: {gb_accuracy:.4f}\")\n",
        "print(f\"XGBoost Accuracy: {xgb_accuracy:.4f}\")\n"
      ]
    },
    {
      "cell_type": "markdown",
      "id": "e41e611c",
      "metadata": {
        "id": "e41e611c"
      },
      "source": [
        "## Q19. Train a CatBoost Classifier and evaluate using F1-Score."
      ]
    },
    {
      "cell_type": "code",
      "execution_count": 7,
      "id": "f55a6267",
      "metadata": {
        "colab": {
          "base_uri": "https://localhost:8080/",
          "height": 383
        },
        "id": "f55a6267",
        "outputId": "b8aa09bd-dd6f-44cb-c79e-d7dfd6dc59d8"
      },
      "outputs": [
        {
          "output_type": "error",
          "ename": "ModuleNotFoundError",
          "evalue": "No module named 'catboost'",
          "traceback": [
            "\u001b[0;31m---------------------------------------------------------------------------\u001b[0m",
            "\u001b[0;31mModuleNotFoundError\u001b[0m                       Traceback (most recent call last)",
            "\u001b[0;32m/tmp/ipython-input-7-3600234437.py\u001b[0m in \u001b[0;36m<cell line: 0>\u001b[0;34m()\u001b[0m\n\u001b[0;32m----> 1\u001b[0;31m \u001b[0;32mfrom\u001b[0m \u001b[0mcatboost\u001b[0m \u001b[0;32mimport\u001b[0m \u001b[0mCatBoostClassifier\u001b[0m\u001b[0;34m\u001b[0m\u001b[0;34m\u001b[0m\u001b[0m\n\u001b[0m\u001b[1;32m      2\u001b[0m \u001b[0;32mfrom\u001b[0m \u001b[0msklearn\u001b[0m\u001b[0;34m.\u001b[0m\u001b[0mmetrics\u001b[0m \u001b[0;32mimport\u001b[0m \u001b[0mf1_score\u001b[0m\u001b[0;34m\u001b[0m\u001b[0;34m\u001b[0m\u001b[0m\n\u001b[1;32m      3\u001b[0m \u001b[0;34m\u001b[0m\u001b[0m\n\u001b[1;32m      4\u001b[0m \u001b[0mcat\u001b[0m \u001b[0;34m=\u001b[0m \u001b[0mCatBoostClassifier\u001b[0m\u001b[0;34m(\u001b[0m\u001b[0mverbose\u001b[0m\u001b[0;34m=\u001b[0m\u001b[0;36m0\u001b[0m\u001b[0;34m)\u001b[0m\u001b[0;34m\u001b[0m\u001b[0;34m\u001b[0m\u001b[0m\n\u001b[1;32m      5\u001b[0m \u001b[0mcat\u001b[0m\u001b[0;34m.\u001b[0m\u001b[0mfit\u001b[0m\u001b[0;34m(\u001b[0m\u001b[0mX_train\u001b[0m\u001b[0;34m,\u001b[0m \u001b[0my_train\u001b[0m\u001b[0;34m)\u001b[0m\u001b[0;34m\u001b[0m\u001b[0;34m\u001b[0m\u001b[0m\n",
            "\u001b[0;31mModuleNotFoundError\u001b[0m: No module named 'catboost'",
            "",
            "\u001b[0;31m---------------------------------------------------------------------------\u001b[0;32m\nNOTE: If your import is failing due to a missing package, you can\nmanually install dependencies using either !pip or !apt.\n\nTo view examples of installing some common dependencies, click the\n\"Open Examples\" button below.\n\u001b[0;31m---------------------------------------------------------------------------\u001b[0m\n"
          ],
          "errorDetails": {
            "actions": [
              {
                "action": "open_url",
                "actionText": "Open Examples",
                "url": "/notebooks/snippets/importing_libraries.ipynb"
              }
            ]
          }
        }
      ],
      "source": [
        "from catboost import CatBoostClassifier\n",
        "from sklearn.metrics import f1_score\n",
        "\n",
        "cat = CatBoostClassifier(verbose=0)\n",
        "cat.fit(X_train, y_train)\n",
        "print(\"F1 Score:\", f1_score(y_test, cat.predict(X_test), average='macro'))"
      ]
    },
    {
      "cell_type": "markdown",
      "id": "5c08d084",
      "metadata": {
        "id": "5c08d084"
      },
      "source": [
        "## Q20. Train an XGBoost Regressor and evaluate using Mean Squared Error (MSE)."
      ]
    },
    {
      "cell_type": "code",
      "execution_count": 8,
      "id": "1ef55ad5",
      "metadata": {
        "colab": {
          "base_uri": "https://localhost:8080/"
        },
        "id": "1ef55ad5",
        "outputId": "8c598b49-f917-4dd9-b425-d3f8ed108fd1"
      },
      "outputs": [
        {
          "output_type": "stream",
          "name": "stdout",
          "text": [
            "MSE: 0.04869866371154785\n"
          ]
        }
      ],
      "source": [
        "from xgboost import XGBRegressor\n",
        "from sklearn.metrics import mean_squared_error\n",
        "\n",
        "model = XGBRegressor()\n",
        "model.fit(X_train, y_train)\n",
        "print(\"MSE:\", mean_squared_error(y_test, model.predict(X_test)))"
      ]
    },
    {
      "cell_type": "markdown",
      "id": "7b706059",
      "metadata": {
        "id": "7b706059"
      },
      "source": [
        "## Q21. Train an AdaBoost Classifier and visualize feature importance."
      ]
    },
    {
      "cell_type": "code",
      "execution_count": 9,
      "id": "9ff18239",
      "metadata": {
        "colab": {
          "base_uri": "https://localhost:8080/",
          "height": 452
        },
        "id": "9ff18239",
        "outputId": "0bb47431-9367-4093-ea90-79ccc4ce3438"
      },
      "outputs": [
        {
          "output_type": "display_data",
          "data": {
            "text/plain": [
              "<Figure size 640x480 with 1 Axes>"
            ],
            "image/png": "[encoded data removed]"
          },
          "metadata": {}
        }
      ],
      "source": [
        "import matplotlib.pyplot as plt\n",
        "import numpy as np\n",
        "\n",
        "model = AdaBoostClassifier()\n",
        "model.fit(X_train, y_train)\n",
        "importances = model.feature_importances_\n",
        "plt.bar(range(len(importances)), importances)\n",
        "plt.title(\"Feature Importances (AdaBoost)\")\n",
        "plt.show()"
      ]
    },
    {
      "cell_type": "markdown",
      "id": "4b0a18c7",
      "metadata": {
        "id": "4b0a18c7"
      },
      "source": [
        "## Q22. Train a Gradient Boosting Regressor and plot learning curves."
      ]
    },
    {
      "cell_type": "code",
      "execution_count": 10,
      "id": "4dda68a3",
      "metadata": {
        "colab": {
          "base_uri": "https://localhost:8080/",
          "height": 452
        },
        "id": "4dda68a3",
        "outputId": "4bb380ab-d736-41a9-b561-0212c15e040d"
      },
      "outputs": [
        {
          "output_type": "display_data",
          "data": {
            "text/plain": [
              "<Figure size 640x480 with 1 Axes>"
            ],
            "image/png": "[encoded data removed]"
          },
          "metadata": {}
        }
      ],
      "source": [
        "import matplotlib.pyplot as plt\n",
        "from sklearn.model_selection import learning_curve\n",
        "import numpy as np\n",
        "\n",
        "gbr = GradientBoostingRegressor()\n",
        "train_sizes, train_scores, test_scores = learning_curve(gbr, X, y, cv=5)\n",
        "plt.plot(train_sizes, np.mean(train_scores, axis=1), label='Train')\n",
        "plt.plot(train_sizes, np.mean(test_scores, axis=1), label='Test')\n",
        "plt.legend()\n",
        "plt.title(\"Learning Curve\")\n",
        "plt.show()"
      ]
    },
    {
      "cell_type": "markdown",
      "id": "1cc68284",
      "metadata": {
        "id": "1cc68284"
      },
      "source": [
        "## Q23. Train an XGBoost Classifier and visualize feature importance."
      ]
    },
    {
      "cell_type": "code",
      "execution_count": 11,
      "id": "185163f0",
      "metadata": {
        "colab": {
          "base_uri": "https://localhost:8080/",
          "height": 541
        },
        "id": "185163f0",
        "outputId": "365a4940-f55f-4413-d598-d5c74749150d"
      },
      "outputs": [
        {
          "output_type": "stream",
          "name": "stderr",
          "text": [
            "/usr/local/lib/python3.11/dist-packages/xgboost/core.py:158: UserWarning: [05:29:14] WARNING: /workspace/src/learner.cc:740: \n",
            "Parameters: { \"use_label_encoder\" } are not used.\n",
            "\n",
            "  warnings.warn(smsg, UserWarning)\n"
          ]
        },
        {
          "output_type": "display_data",
          "data": {
            "text/plain": [
              "<Figure size 640x480 with 1 Axes>"
            ],
            "image/png": "[encoded data removed]"
          },
          "metadata": {}
        }
      ],
      "source": [
        "model = XGBClassifier(use_label_encoder=False, eval_metric='mlogloss')\n",
        "model.fit(X_train, y_train)\n",
        "import matplotlib.pyplot as plt\n",
        "from xgboost import plot_importance\n",
        "plot_importance(model)\n",
        "plt.show()"
      ]
    },
    {
      "cell_type": "markdown",
      "id": "c6d0783d",
      "metadata": {
        "id": "c6d0783d"
      },
      "source": [
        "## Q24. Train a CatBoost Classifier and plot the confusion matrix."
      ]
    },
    {
      "cell_type": "code",
      "execution_count": 19,
      "id": "1772925f",
      "metadata": {
        "colab": {
          "base_uri": "https://localhost:8080/",
          "height": 383
        },
        "id": "1772925f",
        "outputId": "3caff306-fead-4a3f-aba2-ca5330930031"
      },
      "outputs": [
        {
          "output_type": "error",
          "ename": "ModuleNotFoundError",
          "evalue": "No module named 'catboost'",
          "traceback": [
            "\u001b[0;31m---------------------------------------------------------------------------\u001b[0m",
            "\u001b[0;31mModuleNotFoundError\u001b[0m                       Traceback (most recent call last)",
            "\u001b[0;32m/tmp/ipython-input-19-1284856497.py\u001b[0m in \u001b[0;36m<cell line: 0>\u001b[0;34m()\u001b[0m\n\u001b[1;32m      2\u001b[0m \u001b[0;32mfrom\u001b[0m \u001b[0msklearn\u001b[0m\u001b[0;34m.\u001b[0m\u001b[0mmodel_selection\u001b[0m \u001b[0;32mimport\u001b[0m \u001b[0mtrain_test_split\u001b[0m\u001b[0;34m\u001b[0m\u001b[0;34m\u001b[0m\u001b[0m\n\u001b[1;32m      3\u001b[0m \u001b[0;32mfrom\u001b[0m \u001b[0msklearn\u001b[0m\u001b[0;34m.\u001b[0m\u001b[0mmetrics\u001b[0m \u001b[0;32mimport\u001b[0m \u001b[0mconfusion_matrix\u001b[0m\u001b[0;34m,\u001b[0m \u001b[0mConfusionMatrixDisplay\u001b[0m\u001b[0;34m\u001b[0m\u001b[0;34m\u001b[0m\u001b[0m\n\u001b[0;32m----> 4\u001b[0;31m \u001b[0;32mfrom\u001b[0m \u001b[0mcatboost\u001b[0m \u001b[0;32mimport\u001b[0m \u001b[0mCatBoostClassifier\u001b[0m\u001b[0;34m\u001b[0m\u001b[0;34m\u001b[0m\u001b[0m\n\u001b[0m\u001b[1;32m      5\u001b[0m \u001b[0;34m\u001b[0m\u001b[0m\n\u001b[1;32m      6\u001b[0m \u001b[0;31m# Load dataset\u001b[0m\u001b[0;34m\u001b[0m\u001b[0;34m\u001b[0m\u001b[0m\n",
            "\u001b[0;31mModuleNotFoundError\u001b[0m: No module named 'catboost'",
            "",
            "\u001b[0;31m---------------------------------------------------------------------------\u001b[0;32m\nNOTE: If your import is failing due to a missing package, you can\nmanually install dependencies using either !pip or !apt.\n\nTo view examples of installing some common dependencies, click the\n\"Open Examples\" button below.\n\u001b[0;31m---------------------------------------------------------------------------\u001b[0m\n"
          ],
          "errorDetails": {
            "actions": [
              {
                "action": "open_url",
                "actionText": "Open Examples",
                "url": "/notebooks/snippets/importing_libraries.ipynb"
              }
            ]
          }
        }
      ],
      "source": [
        "from sklearn.datasets import load_breast_cancer\n",
        "from sklearn.model_selection import train_test_split\n",
        "from sklearn.metrics import confusion_matrix, ConfusionMatrixDisplay\n",
        "from catboost import CatBoostClassifier\n",
        "\n",
        "# Load dataset\n",
        "data = load_breast_cancer()\n",
        "X, y = data.data, data.target\n",
        "\n",
        "# Split data\n",
        "X_train, X_test, y_train, y_test = train_test_split(X, y, test_size=0.2, random_state=42)\n",
        "\n",
        "# Train CatBoost Classifier\n",
        "model = CatBoostClassifier(verbose=0)\n",
        "model.fit(X_train, y_train)\n",
        "\n",
        "# Predict\n",
        "y_pred = model.predict(X_test)\n",
        "\n",
        "# Plot confusion matrix\n",
        "cm = confusion_matrix(y_test, y_pred)\n",
        "disp = ConfusionMatrixDisplay(confusion_matrix=cm)\n",
        "disp.plot()\n"
      ]
    },
    {
      "cell_type": "markdown",
      "id": "675c66be",
      "metadata": {
        "id": "675c66be"
      },
      "source": [
        "## Q25. Train an AdaBoost Classifier with different numbers of estimators and compare accuracy."
      ]
    },
    {
      "cell_type": "code",
      "execution_count": 13,
      "id": "7e573f3e",
      "metadata": {
        "colab": {
          "base_uri": "https://localhost:8080/"
        },
        "id": "7e573f3e",
        "outputId": "468d90cb-cd36-4e74-a99b-5d969009296f"
      },
      "outputs": [
        {
          "output_type": "stream",
          "name": "stdout",
          "text": [
            "10 Estimators Accuracy: 0.9649122807017544\n",
            "50 Estimators Accuracy: 0.9649122807017544\n",
            "100 Estimators Accuracy: 0.9736842105263158\n"
          ]
        }
      ],
      "source": [
        "for n in [10, 50, 100]:\n",
        "    model = AdaBoostClassifier(n_estimators=n)\n",
        "    model.fit(X_train, y_train)\n",
        "    print(f\"{n} Estimators Accuracy:\", model.score(X_test, y_test))"
      ]
    },
    {
      "cell_type": "markdown",
      "id": "aa41ebec",
      "metadata": {
        "id": "aa41ebec"
      },
      "source": [
        "## Q26. Train a Gradient Boosting Classifier and visualize the ROC curve."
      ]
    },
    {
      "cell_type": "code",
      "execution_count": 14,
      "id": "915d292b",
      "metadata": {
        "colab": {
          "base_uri": "https://localhost:8080/",
          "height": 472
        },
        "id": "915d292b",
        "outputId": "47de3cd1-b17b-4138-fe5a-03a7e931ca30"
      },
      "outputs": [
        {
          "output_type": "display_data",
          "data": {
            "text/plain": [
              "<Figure size 640x480 with 1 Axes>"
            ],
            "image/png": "[encoded data removed]"
          },
          "metadata": {}
        }
      ],
      "source": [
        "from sklearn.metrics import roc_curve, auc\n",
        "\n",
        "gbc = GradientBoostingClassifier()\n",
        "gbc.fit(X_train, y_train)\n",
        "y_scores = gbc.predict_proba(X_test)[:, 1]\n",
        "fpr, tpr, _ = roc_curve(y_test, y_scores)\n",
        "plt.plot(fpr, tpr, label=f\"AUC = {auc(fpr, tpr):.2f}\")\n",
        "plt.xlabel(\"FPR\")\n",
        "plt.ylabel(\"TPR\")\n",
        "plt.title(\"ROC Curve\")\n",
        "plt.legend()\n",
        "plt.show()"
      ]
    },
    {
      "cell_type": "markdown",
      "id": "d1c73685",
      "metadata": {
        "id": "d1c73685"
      },
      "source": [
        "## Q27. Train an XGBoost Regressor and tune the learning rate using GridSearchCV."
      ]
    },
    {
      "cell_type": "code",
      "execution_count": 15,
      "id": "9f45ea53",
      "metadata": {
        "colab": {
          "base_uri": "https://localhost:8080/"
        },
        "id": "9f45ea53",
        "outputId": "8ab0d2b0-18a9-4b10-be31-701b20a79e83"
      },
      "outputs": [
        {
          "output_type": "stream",
          "name": "stdout",
          "text": [
            "Best Params: {'learning_rate': 0.1}\n"
          ]
        }
      ],
      "source": [
        "from sklearn.model_selection import GridSearchCV\n",
        "\n",
        "params = {'learning_rate': [0.01, 0.1, 0.2]}\n",
        "grid = GridSearchCV(XGBRegressor(), param_grid=params, cv=3)\n",
        "grid.fit(X_train, y_train)\n",
        "print(\"Best Params:\", grid.best_params_)"
      ]
    },
    {
      "cell_type": "markdown",
      "id": "e7fdea84",
      "metadata": {
        "id": "e7fdea84"
      },
      "source": [
        "## Q28. Train a CatBoost Classifier on an imbalanced dataset and compare performance with class weighting."
      ]
    },
    {
      "cell_type": "code",
      "execution_count": 20,
      "id": "e7fd949c",
      "metadata": {
        "colab": {
          "base_uri": "https://localhost:8080/",
          "height": 383
        },
        "id": "e7fd949c",
        "outputId": "fafb5bac-6f85-4da8-8b69-a773198fdce8"
      },
      "outputs": [
        {
          "output_type": "error",
          "ename": "ModuleNotFoundError",
          "evalue": "No module named 'catboost'",
          "traceback": [
            "\u001b[0;31m---------------------------------------------------------------------------\u001b[0m",
            "\u001b[0;31mModuleNotFoundError\u001b[0m                       Traceback (most recent call last)",
            "\u001b[0;32m/tmp/ipython-input-20-341716090.py\u001b[0m in \u001b[0;36m<cell line: 0>\u001b[0;34m()\u001b[0m\n\u001b[1;32m      2\u001b[0m \u001b[0;32mfrom\u001b[0m \u001b[0msklearn\u001b[0m\u001b[0;34m.\u001b[0m\u001b[0mmodel_selection\u001b[0m \u001b[0;32mimport\u001b[0m \u001b[0mtrain_test_split\u001b[0m\u001b[0;34m\u001b[0m\u001b[0;34m\u001b[0m\u001b[0m\n\u001b[1;32m      3\u001b[0m \u001b[0;32mfrom\u001b[0m \u001b[0msklearn\u001b[0m\u001b[0;34m.\u001b[0m\u001b[0mmetrics\u001b[0m \u001b[0;32mimport\u001b[0m \u001b[0mclassification_report\u001b[0m\u001b[0;34m\u001b[0m\u001b[0;34m\u001b[0m\u001b[0m\n\u001b[0;32m----> 4\u001b[0;31m \u001b[0;32mfrom\u001b[0m \u001b[0mcatboost\u001b[0m \u001b[0;32mimport\u001b[0m \u001b[0mCatBoostClassifier\u001b[0m\u001b[0;34m\u001b[0m\u001b[0;34m\u001b[0m\u001b[0m\n\u001b[0m\u001b[1;32m      5\u001b[0m \u001b[0;34m\u001b[0m\u001b[0m\n\u001b[1;32m      6\u001b[0m \u001b[0;31m# Create imbalanced dataset\u001b[0m\u001b[0;34m\u001b[0m\u001b[0;34m\u001b[0m\u001b[0m\n",
            "\u001b[0;31mModuleNotFoundError\u001b[0m: No module named 'catboost'",
            "",
            "\u001b[0;31m---------------------------------------------------------------------------\u001b[0;32m\nNOTE: If your import is failing due to a missing package, you can\nmanually install dependencies using either !pip or !apt.\n\nTo view examples of installing some common dependencies, click the\n\"Open Examples\" button below.\n\u001b[0;31m---------------------------------------------------------------------------\u001b[0m\n"
          ],
          "errorDetails": {
            "actions": [
              {
                "action": "open_url",
                "actionText": "Open Examples",
                "url": "/notebooks/snippets/importing_libraries.ipynb"
              }
            ]
          }
        }
      ],
      "source": [
        "from sklearn.datasets import make_classification\n",
        "from sklearn.model_selection import train_test_split\n",
        "from sklearn.metrics import classification_report\n",
        "from catboost import CatBoostClassifier\n",
        "\n",
        "# Create imbalanced dataset\n",
        "X, y = make_classification(n_samples=1000, n_features=20, n_informative=15,\n",
        "                           n_redundant=5, weights=[0.9, 0.1], random_state=42)\n",
        "\n",
        "# Split data\n",
        "X_train, X_test, y_train, y_test = train_test_split(X, y, test_size=0.2, random_state=42)\n",
        "\n",
        "# Train CatBoost without class weighting\n",
        "model_no_weight = CatBoostClassifier(verbose=0)\n",
        "model_no_weight.fit(X_train, y_train)\n",
        "preds_no_weight = model_no_weight.predict(X_test)\n",
        "print(\"Without Class Weighting:\\n\", classification_report(y_test, preds_no_weight))\n",
        "\n",
        "# Train CatBoost with class weighting\n",
        "class_weights = {0: 1, 1: 10}\n",
        "model_with_weight = CatBoostClassifier(class_weights=class_weights, verbose=0)\n",
        "model_with_weight.fit(X_train, y_train)\n",
        "preds_with_weight = model_with_weight.predict(X_test)\n",
        "print(\"With Class Weighting:\\n\", classification_report(y_test, preds_with_weight))\n"
      ]
    },
    {
      "cell_type": "markdown",
      "id": "85d27fc0",
      "metadata": {
        "id": "85d27fc0"
      },
      "source": [
        "## Q29. Train an AdaBoost Classifier and analyze the effect of different learning rates."
      ]
    },
    {
      "cell_type": "code",
      "execution_count": 17,
      "id": "c29cde1e",
      "metadata": {
        "colab": {
          "base_uri": "https://localhost:8080/"
        },
        "id": "c29cde1e",
        "outputId": "ed339442-e752-45a4-e0d2-fd1468b49242"
      },
      "outputs": [
        {
          "output_type": "stream",
          "name": "stdout",
          "text": [
            "Learning Rate 0.01: Accuracy = 0.9385964912280702\n",
            "Learning Rate 0.1: Accuracy = 0.956140350877193\n",
            "Learning Rate 1: Accuracy = 0.9649122807017544\n"
          ]
        }
      ],
      "source": [
        "for lr in [0.01, 0.1, 1]:\n",
        "    model = AdaBoostClassifier(learning_rate=lr)\n",
        "    model.fit(X_train, y_train)\n",
        "    print(f\"Learning Rate {lr}: Accuracy = {model.score(X_test, y_test)}\")"
      ]
    },
    {
      "cell_type": "markdown",
      "id": "1f513ca4",
      "metadata": {
        "id": "1f513ca4"
      },
      "source": [
        "## Q30. Train an XGBoost Classifier for multi-class classification and evaluate using log-loss."
      ]
    },
    {
      "cell_type": "code",
      "execution_count": 18,
      "id": "4548c3b2",
      "metadata": {
        "colab": {
          "base_uri": "https://localhost:8080/"
        },
        "id": "4548c3b2",
        "outputId": "e1735ab9-0f97-43dd-edd9-c6348a99b87c"
      },
      "outputs": [
        {
          "output_type": "stream",
          "name": "stderr",
          "text": [
            "/usr/local/lib/python3.11/dist-packages/xgboost/core.py:158: UserWarning: [05:29:39] WARNING: /workspace/src/learner.cc:740: \n",
            "Parameters: { \"use_label_encoder\" } are not used.\n",
            "\n",
            "  warnings.warn(smsg, UserWarning)\n"
          ]
        },
        {
          "output_type": "stream",
          "name": "stdout",
          "text": [
            "Log Loss: 0.1104848434352405\n"
          ]
        }
      ],
      "source": [
        "from sklearn.datasets import load_digits\n",
        "from sklearn.metrics import log_loss\n",
        "\n",
        "X, y = load_digits(return_X_y=True)\n",
        "X_train, X_test, y_train, y_test = train_test_split(X, y, test_size=0.3)\n",
        "xgb = XGBClassifier(use_label_encoder=False, eval_metric='mlogloss')\n",
        "xgb.fit(X_train, y_train)\n",
        "y_pred = xgb.predict_proba(X_test)\n",
        "print(\"Log Loss:\", log_loss(y_test, y_pred))"
      ]
    }
  ],
  "metadata": {
    "colab": {
      "provenance": [],
      "include_colab_link": true
    },
    "language_info": {
      "name": "python"
    },
    "kernelspec": {
      "name": "python3",
      "display_name": "Python 3"
    }
  },
  "nbformat": 4,
  "nbformat_minor": 5
}