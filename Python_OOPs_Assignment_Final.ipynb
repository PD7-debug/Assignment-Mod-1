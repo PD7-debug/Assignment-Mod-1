{
  "cells": [
    {
      "cell_type": "markdown",
      "metadata": {
        "id": "view-in-github",
        "colab_type": "text"
      },
      "source": [
        "<a href=\"https://colab.research.google.com/github/PD7-debug/Assignment-Mod-1/blob/main/Python_OOPs_Assignment_Final.ipynb\" target=\"_parent\"><img src=\"https://colab.research.google.com/assets/colab-badge.svg\" alt=\"Open In Colab\"/></a>"
      ]
    },
    {
      "cell_type": "markdown",
      "id": "1ca2b34d",
      "metadata": {
        "id": "1ca2b34d"
      },
      "source": [
        "###1.What is Object-Oriented Programming (OOP)?\n",
        "Object-Oriented Programming (OOP) is a programming paradigm based on the concept of 'objects', which can contain data in the form of fields (attributes) and code in the form of procedures (methods). OOP promotes code reuse, modularity, and abstraction. Key principles include encapsulation, inheritance, polymorphism, and abstraction."
      ]
    },
    {
      "cell_type": "markdown",
      "id": "21272024",
      "metadata": {
        "id": "21272024"
      },
      "source": [
        "### 2.What is a class in OOP?\n",
        "A class is a blueprint for creating objects. It defines a set of attributes and methods that the created objects will have."
      ]
    },
    {
      "cell_type": "markdown",
      "id": "b1fce12a",
      "metadata": {
        "id": "b1fce12a"
      },
      "source": [
        "###3. What is an object in OOP?\n",
        "An object is an instance of a class. It contains actual values and functions defined in the class."
      ]
    },
    {
      "cell_type": "markdown",
      "id": "6f76bdcb",
      "metadata": {
        "id": "6f76bdcb"
      },
      "source": [
        "###4.`What` is the difference between abstraction and encapsulation?\n",
        "\n",
        "Abstraction hides the internal implementation and shows only the relevant details, while encapsulation is about wrapping the data and code together and restricting direct access to some of the object’s components."
      ]
    },
    {
      "cell_type": "markdown",
      "id": "8d94dfe2",
      "metadata": {
        "id": "8d94dfe2"
      },
      "source": [
        "### 5.What are dunder methods in Python?\n",
        "Dunder methods (double underscore), like __init__, __str__, and __repr__, are special methods with double underscores before and after their names. They allow customization of class behavior."
      ]
    },
    {
      "cell_type": "markdown",
      "id": "69543c69",
      "metadata": {
        "id": "69543c69"
      },
      "source": [
        "### 6.Explain the concept of inheritance in OOP\n",
        "Inheritance allows one class (child) to inherit attributes and methods from another class (parent). It promotes code reusability."
      ]
    },
    {
      "cell_type": "markdown",
      "id": "fa131a55",
      "metadata": {
        "id": "fa131a55"
      },
      "source": [
        "###7.What is polymorphism in OOP?\n",
        "Polymorphism allows methods to do different things based on the object it is acting upon. In Python, this is achieved via method overriding and duck typing."
      ]
    },
    {
      "cell_type": "markdown",
      "id": "e1d3a627",
      "metadata": {
        "id": "e1d3a627"
      },
      "source": [
        "### 8.How is encapsulation achieved in Python?\n",
        "Encapsulation is achieved by using private attributes (prefixing with an underscore) and providing getter/setter methods."
      ]
    },
    {
      "cell_type": "markdown",
      "id": "2c2a06d0",
      "metadata": {
        "id": "2c2a06d0"
      },
      "source": [
        "###9. What is a constructor in Python?\n",
        "A constructor is a special method called __init__ that is automatically called when an object is created."
      ]
    },
    {
      "cell_type": "markdown",
      "id": "12c73fb5",
      "metadata": {
        "id": "12c73fb5"
      },
      "source": [
        "### 10.What are class and static methods in Python?\n",
        "Class methods use the @classmethod decorator and take `cls` as a parameter. Static methods use the @staticmethod decorator and do not take self or cls."
      ]
    },
    {
      "cell_type": "markdown",
      "id": "dc03ac4d",
      "metadata": {
        "id": "dc03ac4d"
      },
      "source": [
        "###11 What is method overloading in Python?\n",
        "Python does not support traditional method overloading. However, default arguments or *args/**kwargs can be used to achieve similar behavior."
      ]
    },
    {
      "cell_type": "markdown",
      "id": "9f84e90b",
      "metadata": {
        "id": "9f84e90b"
      },
      "source": [
        "###12. What is method overriding in OOP?\n",
        "Method overriding allows a subclass to provide a specific implementation of a method that is already defined in its parent class."
      ]
    },
    {
      "cell_type": "markdown",
      "id": "dce29462",
      "metadata": {
        "id": "dce29462"
      },
      "source": [
        "###13. What is a property decorator in Python?\n",
        "The @property decorator is used to create getter methods that can be accessed like attributes."
      ]
    },
    {
      "cell_type": "markdown",
      "id": "09e906d4",
      "metadata": {
        "id": "09e906d4"
      },
      "source": [
        "### 14.Why is polymorphism important in OOP?\n",
        "Polymorphism enables flexibility and reusability by allowing the same interface to represent different underlying data types."
      ]
    },
    {
      "cell_type": "markdown",
      "id": "04ac1474",
      "metadata": {
        "id": "04ac1474"
      },
      "source": [
        "###15. What is an abstract class in Python?\n",
        "An abstract class is a class that cannot be instantiated. It can define abstract methods that must be implemented by derived classes."
      ]
    },
    {
      "cell_type": "markdown",
      "id": "454fb645",
      "metadata": {
        "id": "454fb645"
      },
      "source": [
        "### 16.What are the advantages of OOP?\n",
        "Modularity, reusability, scalability, and easier maintenance."
      ]
    },
    {
      "cell_type": "markdown",
      "id": "a059d810",
      "metadata": {
        "id": "a059d810"
      },
      "source": [
        "### 17.What is the difference between a class variable and an instance variable?\n",
        "Class variables are shared across all instances, while instance variables are unique to each object."
      ]
    },
    {
      "cell_type": "markdown",
      "id": "fd41de41",
      "metadata": {
        "id": "fd41de41"
      },
      "source": [
        "### 18.What is multiple inheritance in Python?\n",
        "Multiple inheritance means a class can inherit from more than one class."
      ]
    },
    {
      "cell_type": "markdown",
      "id": "92a28fc8",
      "metadata": {
        "id": "92a28fc8"
      },
      "source": [
        "19.**Explain** the purpose of '__str__' and '__repr__' methods in Python\n"
      ]
    },
    {
      "cell_type": "markdown",
      "source": [
        "__str__ returns a user-friendly string representation, whereas __repr__ returns an unambiguous representation used for debugging."
      ],
      "metadata": {
        "id": "Om0LmofrQyf4"
      },
      "id": "Om0LmofrQyf4"
    },
    {
      "cell_type": "markdown",
      "id": "93be0d5d",
      "metadata": {
        "id": "93be0d5d"
      },
      "source": [
        "### 20.What is the significance of the ‘super()’ function in Python?\n",
        "super() is used to call a method from the parent class."
      ]
    },
    {
      "cell_type": "markdown",
      "id": "17cf25be",
      "metadata": {
        "id": "17cf25be"
      },
      "source": [
        "### 21. What is the significance of the __del__ method in Python?\n",
        "The __del__ method is a destructor called when an object is about to be destroyed."
      ]
    },
    {
      "cell_type": "markdown",
      "id": "c200729b",
      "metadata": {
        "id": "c200729b"
      },
      "source": [
        "### 22.What is the difference between @staticmethod and @classmethod in Python?\n",
        "@staticmethod does not take self or cls. @classmethod takes cls and can modify the class state."
      ]
    },
    {
      "cell_type": "markdown",
      "id": "081b60ab",
      "metadata": {
        "id": "081b60ab"
      },
      "source": [
        "### 23.How does polymorphism work in Python with inheritance?\n",
        "Subclasses can override methods of the parent class. When calling the method on an object, the version defined in the object's class is executed."
      ]
    },
    {
      "cell_type": "markdown",
      "id": "dfcceea6",
      "metadata": {
        "id": "dfcceea6"
      },
      "source": [
        "### 24.What is method chaining in Python OOP?\n",
        "Method chaining is calling multiple methods on the same object in a single line (e.g., obj.method1().method2())."
      ]
    },
    {
      "cell_type": "markdown",
      "id": "bd29acd4",
      "metadata": {
        "id": "bd29acd4"
      },
      "source": [
        "### 25.What is the purpose of the __call__ method in Python?\n",
        "__call__ makes an instance behave like a function."
      ]
    },
    {
      "cell_type": "markdown",
      "source": [
        "Practical Question **bold text**"
      ],
      "metadata": {
        "id": "z6WovRv0RqV6"
      },
      "id": "z6WovRv0RqV6"
    },
    {
      "cell_type": "markdown",
      "id": "b04c9713",
      "metadata": {
        "id": "b04c9713"
      },
      "source": [
        "### Q1. Create a parent class Animal with a method speak() that prints a generic message. Create a child class Dog that overrides the speak() method to print 'Bark!'."
      ]
    },
    {
      "cell_type": "code",
      "execution_count": 5,
      "id": "1adedfb4",
      "metadata": {
        "colab": {
          "base_uri": "https://localhost:8080/"
        },
        "id": "1adedfb4",
        "outputId": "f1e672cd-351b-43f5-d171-2e87bd10c453"
      },
      "outputs": [
        {
          "output_type": "stream",
          "name": "stdout",
          "text": [
            "Animal speaks\n",
            "Bark!\n"
          ]
        }
      ],
      "source": [
        "class Animal:\n",
        "    def speak(self):\n",
        "        print(\"Animal speaks\")\n",
        "\n",
        "class Dog(Animal):\n",
        "    def speak(self):\n",
        "        print(\"Bark!\")\n",
        "\n",
        "# Example\n",
        "a = Animal()\n",
        "a.speak()\n",
        "\n",
        "d = Dog()\n",
        "d.speak()"
      ]
    },
    {
      "cell_type": "markdown",
      "id": "f0db7a7c",
      "metadata": {
        "id": "f0db7a7c"
      },
      "source": [
        "### Q2. Write a program to create an abstract class Shape with a method area(). Derive classes Circle and Rectangle from it and implement the area() method in both."
      ]
    },
    {
      "cell_type": "code",
      "execution_count": 4,
      "id": "d0f36ed7",
      "metadata": {
        "colab": {
          "base_uri": "https://localhost:8080/"
        },
        "id": "d0f36ed7",
        "outputId": "c3537fa2-96c3-4b7b-cefd-77711f60e6cc"
      },
      "outputs": [
        {
          "output_type": "stream",
          "name": "stdout",
          "text": [
            "Circle area: 78.53981633974483\n",
            "Rectangle area: 24\n"
          ]
        }
      ],
      "source": [
        "from abc import ABC, abstractmethod\n",
        "import math\n",
        "\n",
        "class Shape(ABC):\n",
        "    @abstractmethod\n",
        "    def area(self):\n",
        "        pass\n",
        "\n",
        "class Circle(Shape):\n",
        "    def __init__(self, radius):\n",
        "        self.radius = radius\n",
        "\n",
        "    def area(self):\n",
        "        return math.pi * self.radius ** 2\n",
        "\n",
        "class Rectangle(Shape):\n",
        "    def __init__(self, width, height):\n",
        "        self.width = width\n",
        "        self.height = height\n",
        "\n",
        "    def area(self):\n",
        "        return self.width * self.height\n",
        "\n",
        "# Example\n",
        "c = Circle(5)\n",
        "print(\"Circle area:\", c.area())\n",
        "\n",
        "r = Rectangle(4, 6)\n",
        "print(\"Rectangle area:\", r.area())"
      ]
    },
    {
      "cell_type": "markdown",
      "id": "47952b36",
      "metadata": {
        "id": "47952b36"
      },
      "source": [
        "### Q3. Implement a multi-level inheritance scenario where a class Vehicle has an attribute type. Derive a class Car and further derive a class ElectricCar that adds a battery attribute."
      ]
    },
    {
      "cell_type": "code",
      "execution_count": 3,
      "id": "0f00a085",
      "metadata": {
        "colab": {
          "base_uri": "https://localhost:8080/"
        },
        "id": "0f00a085",
        "outputId": "f07549a1-b572-4ff8-9070-a1f37c93ca96"
      },
      "outputs": [
        {
          "output_type": "stream",
          "name": "stdout",
          "text": [
            "Electric Tesla 100 kWh\n"
          ]
        }
      ],
      "source": [
        "class Vehicle:\n",
        "    def __init__(self, type):\n",
        "        self.type = type\n",
        "\n",
        "class Car(Vehicle):\n",
        "    def __init__(self, type, brand):\n",
        "        super().__init__(type)\n",
        "        self.brand = brand\n",
        "\n",
        "class ElectricCar(Car):\n",
        "    def __init__(self, type, brand, battery):\n",
        "        super().__init__(type, brand)\n",
        "        self.battery = battery\n",
        "\n",
        "# Example\n",
        "ecar = ElectricCar(\"Electric\", \"Tesla\", \"100 kWh\")\n",
        "print(ecar.type, ecar.brand, ecar.battery)"
      ]
    },
    {
      "cell_type": "markdown",
      "id": "5e4dcdb5",
      "metadata": {
        "id": "5e4dcdb5"
      },
      "source": [
        "### Q4. Write a program to demonstrate encapsulation by creating a class BankAccount with private attributes balance and methods to deposit, withdraw, and check balance."
      ]
    },
    {
      "cell_type": "code",
      "execution_count": 6,
      "id": "92403116",
      "metadata": {
        "colab": {
          "base_uri": "https://localhost:8080/"
        },
        "id": "92403116",
        "outputId": "21dc0b8f-aef9-4fd2-e182-31a571f95dc1"
      },
      "outputs": [
        {
          "output_type": "stream",
          "name": "stdout",
          "text": [
            "Balance: 700\n"
          ]
        }
      ],
      "source": [
        "class BankAccount:\n",
        "    def __init__(self):\n",
        "        self.__balance = 0\n",
        "\n",
        "    def deposit(self, amount):\n",
        "        if amount > 0:\n",
        "            self.__balance += amount\n",
        "\n",
        "    def withdraw(self, amount):\n",
        "        if 0 < amount <= self.__balance:\n",
        "            self.__balance -= amount\n",
        "\n",
        "    def get_balance(self):\n",
        "        return self.__balance\n",
        "\n",
        "# Example\n",
        "account = BankAccount()\n",
        "account.deposit(1000)\n",
        "account.withdraw(300)\n",
        "print(\"Balance:\", account.get_balance())"
      ]
    },
    {
      "cell_type": "markdown",
      "id": "fd69b27f",
      "metadata": {
        "id": "fd69b27f"
      },
      "source": [
        "### Q5. Demonstrate runtime polymorphism using a method play() in a base class Instrument. Derive classes Guitar and Piano that implement their own version of play()."
      ]
    },
    {
      "cell_type": "code",
      "execution_count": 7,
      "id": "81ca9bfc",
      "metadata": {
        "colab": {
          "base_uri": "https://localhost:8080/"
        },
        "id": "81ca9bfc",
        "outputId": "b9bf182f-1ff2-40d4-db60-df3db2f1932d"
      },
      "outputs": [
        {
          "output_type": "stream",
          "name": "stdout",
          "text": [
            "Strumming guitar\n",
            "Playing piano\n"
          ]
        }
      ],
      "source": [
        "class Instrument:\n",
        "    def play(self):\n",
        "        print(\"Playing instrument\")\n",
        "\n",
        "class Guitar(Instrument):\n",
        "    def play(self):\n",
        "        print(\"Strumming guitar\")\n",
        "\n",
        "class Piano(Instrument):\n",
        "    def play(self):\n",
        "        print(\"Playing piano\")\n",
        "\n",
        "# Example\n",
        "instruments = [Guitar(), Piano()]\n",
        "for instr in instruments:\n",
        "    instr.play()"
      ]
    },
    {
      "cell_type": "markdown",
      "id": "5891abc7",
      "metadata": {
        "id": "5891abc7"
      },
      "source": [
        "### Q6. Create a class MathOperations with a class method add_numbers() to add two numbers and a static method subtract_numbers() to subtract two numbers."
      ]
    },
    {
      "cell_type": "code",
      "execution_count": 8,
      "id": "4a63b8a6",
      "metadata": {
        "colab": {
          "base_uri": "https://localhost:8080/"
        },
        "id": "4a63b8a6",
        "outputId": "16d8260d-c50b-430d-edab-dd094a98d4f0"
      },
      "outputs": [
        {
          "output_type": "stream",
          "name": "stdout",
          "text": [
            "Addition: 8\n",
            "Subtraction: 2\n"
          ]
        }
      ],
      "source": [
        "class MathOperations:\n",
        "    @classmethod\n",
        "    def add_numbers(cls, a, b):\n",
        "        return a + b\n",
        "\n",
        "    @staticmethod\n",
        "    def subtract_numbers(a, b):\n",
        "        return a - b\n",
        "\n",
        "# Example\n",
        "print(\"Addition:\", MathOperations.add_numbers(5, 3))\n",
        "print(\"Subtraction:\", MathOperations.subtract_numbers(5, 3))"
      ]
    },
    {
      "cell_type": "markdown",
      "id": "9150a8f2",
      "metadata": {
        "id": "9150a8f2"
      },
      "source": [
        "### Q7. Implement a class Person with a class method to count the total number of persons created."
      ]
    },
    {
      "cell_type": "code",
      "execution_count": 9,
      "id": "a51a17e0",
      "metadata": {
        "colab": {
          "base_uri": "https://localhost:8080/"
        },
        "id": "a51a17e0",
        "outputId": "7ae0b99e-19c8-40d8-fa46-52f469440e4d"
      },
      "outputs": [
        {
          "output_type": "stream",
          "name": "stdout",
          "text": [
            "Total persons: 2\n"
          ]
        }
      ],
      "source": [
        "class Person:\n",
        "    count = 0\n",
        "\n",
        "    def __init__(self, name):\n",
        "        self.name = name\n",
        "        Person.count += 1\n",
        "\n",
        "    @classmethod\n",
        "    def get_count(cls):\n",
        "        return cls.count\n",
        "\n",
        "# Example\n",
        "p1 = Person(\"Alice\")\n",
        "p2 = Person(\"Bob\")\n",
        "print(\"Total persons:\", Person.get_count())"
      ]
    },
    {
      "cell_type": "markdown",
      "id": "e79133cb",
      "metadata": {
        "id": "e79133cb"
      },
      "source": [
        "### Q9. Write a class Fraction with attributes numerator and denominator. Override the str method to display the fraction as 'numerator/denominator'."
      ]
    },
    {
      "cell_type": "code",
      "execution_count": 10,
      "id": "07b06d78",
      "metadata": {
        "colab": {
          "base_uri": "https://localhost:8080/"
        },
        "id": "07b06d78",
        "outputId": "fbf973b8-8a4a-42be-c360-95938e1a5e75"
      },
      "outputs": [
        {
          "output_type": "stream",
          "name": "stdout",
          "text": [
            "3/4\n"
          ]
        }
      ],
      "source": [
        "class Fraction:\n",
        "    def __init__(self, numerator, denominator):\n",
        "        self.numerator = numerator\n",
        "        self.denominator = denominator\n",
        "\n",
        "    def __str__(self):\n",
        "        return f\"{self.numerator}/{self.denominator}\"\n",
        "\n",
        "# Example\n",
        "f = Fraction(3, 4)\n",
        "print(f)"
      ]
    },
    {
      "cell_type": "markdown",
      "id": "49f3af9a",
      "metadata": {
        "id": "49f3af9a"
      },
      "source": [
        "### Q10. Demonstrate operator overloading by creating a class Vector and overriding the add method to add two vectors."
      ]
    },
    {
      "cell_type": "code",
      "execution_count": 11,
      "id": "c09442d6",
      "metadata": {
        "colab": {
          "base_uri": "https://localhost:8080/"
        },
        "id": "c09442d6",
        "outputId": "b916b562-bd2b-4b88-9e9b-6b558bd046b7"
      },
      "outputs": [
        {
          "output_type": "stream",
          "name": "stdout",
          "text": [
            "(4, 6)\n"
          ]
        }
      ],
      "source": [
        "class Vector:\n",
        "    def __init__(self, x, y):\n",
        "        self.x = x\n",
        "        self.y = y\n",
        "\n",
        "    def __add__(self, other):\n",
        "        return Vector(self.x + other.x, self.y + other.y)\n",
        "\n",
        "    def __str__(self):\n",
        "        return f\"({self.x}, {self.y})\"\n",
        "\n",
        "# Example\n",
        "v1 = Vector(1, 2)\n",
        "v2 = Vector(3, 4)\n",
        "v3 = v1 + v2\n",
        "print(v3)"
      ]
    },
    {
      "cell_type": "markdown",
      "id": "e9c71e22",
      "metadata": {
        "id": "e9c71e22"
      },
      "source": [
        "### Q11. Create a class Person with attributes name and age. Add a method greet() that prints 'Hello, my name is {name} and I am {age} years old.'"
      ]
    },
    {
      "cell_type": "code",
      "execution_count": 12,
      "id": "b2ac5f5f",
      "metadata": {
        "colab": {
          "base_uri": "https://localhost:8080/"
        },
        "id": "b2ac5f5f",
        "outputId": "994bc04a-c5c7-4ef0-9a95-2870c77207e9"
      },
      "outputs": [
        {
          "output_type": "stream",
          "name": "stdout",
          "text": [
            "Hello, my name is Alice and I am 30 years old.\n"
          ]
        }
      ],
      "source": [
        "class Person:\n",
        "    def __init__(self, name, age):\n",
        "        self.name = name\n",
        "        self.age = age\n",
        "\n",
        "    def greet(self):\n",
        "        print(f\"Hello, my name is {self.name} and I am {self.age} years old.\")\n",
        "\n",
        "# Example\n",
        "p = Person(\"Alice\", 30)\n",
        "p.greet()"
      ]
    },
    {
      "cell_type": "markdown",
      "id": "2595407e",
      "metadata": {
        "id": "2595407e"
      },
      "source": [
        "### Q12. Implement a class Student with attributes name and grades. Create a method average_grade() to compute the average of the grades."
      ]
    },
    {
      "cell_type": "code",
      "execution_count": 13,
      "id": "09ab6e96",
      "metadata": {
        "colab": {
          "base_uri": "https://localhost:8080/"
        },
        "id": "09ab6e96",
        "outputId": "9025be47-db42-4719-d12e-2f9e53a2e65a"
      },
      "outputs": [
        {
          "output_type": "stream",
          "name": "stdout",
          "text": [
            "Average grade: 84.33333333333333\n"
          ]
        }
      ],
      "source": [
        "class Student:\n",
        "    def __init__(self, name, grades):\n",
        "        self.name = name\n",
        "        self.grades = grades\n",
        "\n",
        "    def average_grade(self):\n",
        "        return sum(self.grades) / len(self.grades)\n",
        "\n",
        "# Example\n",
        "s = Student(\"Bob\", [85, 90, 78])\n",
        "print(\"Average grade:\", s.average_grade())"
      ]
    },
    {
      "cell_type": "markdown",
      "id": "b1111890",
      "metadata": {
        "id": "b1111890"
      },
      "source": [
        "### Q13. Create a class Rectangle with methods set_dimensions() to set the dimensions and area() to calculate the area."
      ]
    },
    {
      "cell_type": "code",
      "execution_count": 14,
      "id": "6e08afbb",
      "metadata": {
        "colab": {
          "base_uri": "https://localhost:8080/"
        },
        "id": "6e08afbb",
        "outputId": "43bd2e51-0b53-4f79-fc38-6c848d37d32c"
      },
      "outputs": [
        {
          "output_type": "stream",
          "name": "stdout",
          "text": [
            "Area: 20\n"
          ]
        }
      ],
      "source": [
        "class Rectangle:\n",
        "    def set_dimensions(self, width, height):\n",
        "        self.width = width\n",
        "        self.height = height\n",
        "\n",
        "    def area(self):\n",
        "        return self.width * self.height\n",
        "\n",
        "# Example\n",
        "rect = Rectangle()\n",
        "rect.set_dimensions(4, 5)\n",
        "print(\"Area:\", rect.area())"
      ]
    },
    {
      "cell_type": "markdown",
      "id": "bafde311",
      "metadata": {
        "id": "bafde311"
      },
      "source": [
        "### Q14. Create a class Employee with a method calculate_salary() that computes the salary based on hours worked and hourly rate. Create a derived class Manager that adds a bonus to the salary."
      ]
    },
    {
      "cell_type": "code",
      "execution_count": 15,
      "id": "b906f0db",
      "metadata": {
        "colab": {
          "base_uri": "https://localhost:8080/"
        },
        "id": "b906f0db",
        "outputId": "9a8ec7ae-c94a-4c3f-87c8-4265290f062f"
      },
      "outputs": [
        {
          "output_type": "stream",
          "name": "stdout",
          "text": [
            "Employee Salary: 800\n",
            "Manager Salary: 1300\n"
          ]
        }
      ],
      "source": [
        "class Employee:\n",
        "    def __init__(self, hours, rate):\n",
        "        self.hours = hours\n",
        "        self.rate = rate\n",
        "\n",
        "    def calculate_salary(self):\n",
        "        return self.hours * self.rate\n",
        "\n",
        "class Manager(Employee):\n",
        "    def __init__(self, hours, rate, bonus):\n",
        "        super().__init__(hours, rate)\n",
        "        self.bonus = bonus\n",
        "\n",
        "    def calculate_salary(self):\n",
        "        return super().calculate_salary() + self.bonus\n",
        "\n",
        "# Example\n",
        "e = Employee(40, 20)\n",
        "m = Manager(40, 20, 500)\n",
        "print(\"Employee Salary:\", e.calculate_salary())\n",
        "print(\"Manager Salary:\", m.calculate_salary())"
      ]
    },
    {
      "cell_type": "markdown",
      "id": "0155f067",
      "metadata": {
        "id": "0155f067"
      },
      "source": [
        "### Q15. Create a class Product with attributes name, price, and quantity. Implement a method total_price() that calculates the total price of the product."
      ]
    },
    {
      "cell_type": "code",
      "execution_count": 17,
      "id": "ea0dfe10",
      "metadata": {
        "colab": {
          "base_uri": "https://localhost:8080/"
        },
        "id": "ea0dfe10",
        "outputId": "d75d0d10-ecea-4973-d5c1-652210e03309"
      },
      "outputs": [
        {
          "output_type": "stream",
          "name": "stdout",
          "text": [
            "Total Price: 50\n"
          ]
        }
      ],
      "source": [
        "class Product:\n",
        "    def __init__(self, name, price, quantity):\n",
        "        self.name = name\n",
        "        self.price = price\n",
        "        self.quantity = quantity\n",
        "\n",
        "    def total_price(self):\n",
        "        return self.price * self.quantity\n",
        "\n",
        "# Example\n",
        "p = Product(\"Pen\", 10, 5)\n",
        "print(\"Total Price:\", p.total_price())"
      ]
    },
    {
      "cell_type": "markdown",
      "id": "c3c2938c",
      "metadata": {
        "id": "c3c2938c"
      },
      "source": [
        "### Q16. Create a class Animal with an abstract method sound(). Create two derived classes Cow and Sheep that implement the sound() method."
      ]
    },
    {
      "cell_type": "code",
      "execution_count": 18,
      "id": "2ce74c59",
      "metadata": {
        "colab": {
          "base_uri": "https://localhost:8080/"
        },
        "id": "2ce74c59",
        "outputId": "a9a0fa66-903b-4ffd-cfbc-0d5132f8a7fa"
      },
      "outputs": [
        {
          "output_type": "stream",
          "name": "stdout",
          "text": [
            "Cow sound: Moo\n",
            "Sheep sound: Baa\n"
          ]
        }
      ],
      "source": [
        "from abc import ABC, abstractmethod\n",
        "\n",
        "class Animal(ABC):\n",
        "    @abstractmethod\n",
        "    def sound(self):\n",
        "        pass\n",
        "\n",
        "class Cow(Animal):\n",
        "    def sound(self):\n",
        "        return \"Moo\"\n",
        "\n",
        "class Sheep(Animal):\n",
        "    def sound(self):\n",
        "        return \"Baa\"\n",
        "\n",
        "# Example\n",
        "c = Cow()\n",
        "s = Sheep()\n",
        "print(\"Cow sound:\", c.sound())\n",
        "print(\"Sheep sound:\", s.sound())"
      ]
    },
    {
      "cell_type": "markdown",
      "id": "1cc8bab7",
      "metadata": {
        "id": "1cc8bab7"
      },
      "source": [
        "### Q17. Create a class Book with attributes title, author, and year_published. Add a method get_book_info() that returns a formatted string with the book's details."
      ]
    },
    {
      "cell_type": "code",
      "execution_count": 19,
      "id": "f64b5a7b",
      "metadata": {
        "colab": {
          "base_uri": "https://localhost:8080/"
        },
        "id": "f64b5a7b",
        "outputId": "379f178b-00b5-446d-ae47-3f2f5db67706"
      },
      "outputs": [
        {
          "output_type": "stream",
          "name": "stdout",
          "text": [
            "1984 by George Orwell, published in 1949\n"
          ]
        }
      ],
      "source": [
        "class Book:\n",
        "    def __init__(self, title, author, year_published):\n",
        "        self.title = title\n",
        "        self.author = author\n",
        "        self.year_published = year_published\n",
        "\n",
        "    def get_book_info(self):\n",
        "        return f\"{self.title} by {self.author}, published in {self.year_published}\"\n",
        "\n",
        "# Example\n",
        "b = Book(\"1984\", \"George Orwell\", 1949)\n",
        "print(b.get_book_info())"
      ]
    },
    {
      "cell_type": "markdown",
      "id": "68f22e05",
      "metadata": {
        "id": "68f22e05"
      },
      "source": [
        "### Q18. Create a class House with attributes address and price. Create a derived class Mansion that adds an attribute number_of_rooms."
      ]
    },
    {
      "cell_type": "code",
      "execution_count": 20,
      "id": "010ab9a7",
      "metadata": {
        "colab": {
          "base_uri": "https://localhost:8080/"
        },
        "id": "010ab9a7",
        "outputId": "212f1773-96cf-4b5b-de59-efbae96dc484"
      },
      "outputs": [
        {
          "output_type": "stream",
          "name": "stdout",
          "text": [
            "123 Luxury St 2000000 10\n"
          ]
        }
      ],
      "source": [
        "class House:\n",
        "    def __init__(self, address, price):\n",
        "        self.address = address\n",
        "        self.price = price\n",
        "\n",
        "class Mansion(House):\n",
        "    def __init__(self, address, price, number_of_rooms):\n",
        "        super().__init__(address, price)\n",
        "        self.number_of_rooms = number_of_rooms\n",
        "\n",
        "# Example\n",
        "m = Mansion(\"123 Luxury St\", 2000000, 10)\n",
        "print(m.address, m.price, m.number_of_rooms)"
      ]
    }
  ],
  "metadata": {
    "colab": {
      "provenance": [],
      "include_colab_link": true
    },
    "language_info": {
      "name": "python"
    },
    "kernelspec": {
      "name": "python3",
      "display_name": "Python 3"
    }
  },
  "nbformat": 4,
  "nbformat_minor": 5
}